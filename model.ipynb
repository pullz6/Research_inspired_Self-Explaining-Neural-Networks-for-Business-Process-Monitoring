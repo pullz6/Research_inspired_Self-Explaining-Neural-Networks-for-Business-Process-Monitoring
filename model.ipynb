{
  "cells": [
    {
      "cell_type": "markdown",
      "metadata": {
        "id": "view-in-github",
        "colab_type": "text"
      },
      "source": [
        "<a href=\"https://colab.research.google.com/github/pullz6/Research_inspired_Self-Explaining-Neural-Networks-for-Business-Process-Monitoring/blob/main/model.ipynb\" target=\"_parent\"><img src=\"https://colab.research.google.com/assets/colab-badge.svg\" alt=\"Open In Colab\"/></a>"
      ]
    },
    {
      "cell_type": "markdown",
      "metadata": {
        "id": "wYatBYQZwpuq"
      },
      "source": [
        "Importing libraries"
      ]
    },
    {
      "cell_type": "code",
      "execution_count": 1,
      "metadata": {
        "id": "zo8mgsYJXgsd",
        "colab": {
          "base_uri": "https://localhost:8080/"
        },
        "outputId": "bc6771ef-faa1-4248-e3bd-cc5aa20797e4"
      },
      "outputs": [
        {
          "output_type": "stream",
          "name": "stdout",
          "text": [
            "\u001b[2K   \u001b[90m━━━━━━━━━━━━━━━━━━━━━━━━━━━━━━━━━━━━━━━━\u001b[0m \u001b[32m29.0/29.0 MB\u001b[0m \u001b[31m86.3 MB/s\u001b[0m eta \u001b[36m0:00:00\u001b[0m\n",
            "\u001b[2K   \u001b[90m━━━━━━━━━━━━━━━━━━━━━━━━━━━━━━━━━━━━━━━━\u001b[0m \u001b[32m6.3/6.3 MB\u001b[0m \u001b[31m129.9 MB/s\u001b[0m eta \u001b[36m0:00:00\u001b[0m\n",
            "\u001b[2K   \u001b[90m━━━━━━━━━━━━━━━━━━━━━━━━━━━━━━━━━━━━━━━━\u001b[0m \u001b[32m231.9/231.9 kB\u001b[0m \u001b[31m22.4 MB/s\u001b[0m eta \u001b[36m0:00:00\u001b[0m\n",
            "\u001b[2K   \u001b[90m━━━━━━━━━━━━━━━━━━━━━━━━━━━━━━━━━━━━━━━━\u001b[0m \u001b[32m147.8/147.8 kB\u001b[0m \u001b[31m16.2 MB/s\u001b[0m eta \u001b[36m0:00:00\u001b[0m\n",
            "\u001b[2K   \u001b[90m━━━━━━━━━━━━━━━━━━━━━━━━━━━━━━━━━━━━━━━━\u001b[0m \u001b[32m114.9/114.9 kB\u001b[0m \u001b[31m11.8 MB/s\u001b[0m eta \u001b[36m0:00:00\u001b[0m\n",
            "\u001b[2K   \u001b[90m━━━━━━━━━━━━━━━━━━━━━━━━━━━━━━━━━━━━━━━━\u001b[0m \u001b[32m85.0/85.0 kB\u001b[0m \u001b[31m7.9 MB/s\u001b[0m eta \u001b[36m0:00:00\u001b[0m\n",
            "\u001b[2K   \u001b[90m━━━━━━━━━━━━━━━━━━━━━━━━━━━━━━━━━━━━━━━━\u001b[0m \u001b[32m700.2/700.2 kB\u001b[0m \u001b[31m56.9 MB/s\u001b[0m eta \u001b[36m0:00:00\u001b[0m\n",
            "\u001b[2K   \u001b[90m━━━━━━━━━━━━━━━━━━━━━━━━━━━━━━━━━━━━━━━━\u001b[0m \u001b[32m95.2/95.2 kB\u001b[0m \u001b[31m9.7 MB/s\u001b[0m eta \u001b[36m0:00:00\u001b[0m\n",
            "\u001b[2K   \u001b[90m━━━━━━━━━━━━━━━━━━━━━━━━━━━━━━━━━━━━━━━━\u001b[0m \u001b[32m203.4/203.4 kB\u001b[0m \u001b[31m18.4 MB/s\u001b[0m eta \u001b[36m0:00:00\u001b[0m\n",
            "\u001b[2K   \u001b[90m━━━━━━━━━━━━━━━━━━━━━━━━━━━━━━━━━━━━━━━━\u001b[0m \u001b[32m62.5/62.5 kB\u001b[0m \u001b[31m6.1 MB/s\u001b[0m eta \u001b[36m0:00:00\u001b[0m\n",
            "\u001b[2K   \u001b[90m━━━━━━━━━━━━━━━━━━━━━━━━━━━━━━━━━━━━━━━━\u001b[0m \u001b[32m72.0/72.0 kB\u001b[0m \u001b[31m7.9 MB/s\u001b[0m eta \u001b[36m0:00:00\u001b[0m\n",
            "\u001b[?25h"
          ]
        }
      ],
      "source": [
        "!pip install mlflow -q"
      ]
    },
    {
      "cell_type": "code",
      "execution_count": 2,
      "metadata": {
        "id": "gYSLfnztXku_"
      },
      "outputs": [],
      "source": [
        "!pip install pyngrok -q"
      ]
    },
    {
      "cell_type": "code",
      "execution_count": 3,
      "metadata": {
        "id": "-B8PcWK2oa7m"
      },
      "outputs": [],
      "source": [
        "#Importing libraries\n",
        "import mlflow\n",
        "from mlflow.data.pandas_dataset import PandasDataset\n",
        "import subprocess\n",
        "from pyngrok import ngrok, conf\n",
        "import getpass\n",
        "\n",
        "\n",
        "import pandas as pd\n",
        "import numpy as np\n",
        "from matplotlib import pyplot as plt\n",
        "import datetime\n",
        "from sklearn.preprocessing import MinMaxScaler"
      ]
    },
    {
      "cell_type": "code",
      "execution_count": 4,
      "metadata": {
        "id": "3-WHHdazbSHo"
      },
      "outputs": [],
      "source": [
        "get_ipython().system_raw(\"mlflow ui --port 5000 &\")"
      ]
    },
    {
      "cell_type": "code",
      "execution_count": 5,
      "metadata": {
        "id": "9mazIEtabU-W"
      },
      "outputs": [],
      "source": [
        "ngrok.kill()"
      ]
    },
    {
      "cell_type": "code",
      "execution_count": 6,
      "metadata": {
        "colab": {
          "base_uri": "https://localhost:8080/"
        },
        "id": "7NMne2jwbWCB",
        "outputId": "e78f8aea-ce7c-4857-c751-0d63671dbee8"
      },
      "outputs": [
        {
          "output_type": "stream",
          "name": "stdout",
          "text": []
        }
      ],
      "source": [
        "NGROK_AUTH_TOKEN = \"your code\"\n",
        "ngrok.set_auth_token(NGROK_AUTH_TOKEN)"
      ]
    },
    {
      "cell_type": "code",
      "execution_count": 7,
      "metadata": {
        "colab": {
          "base_uri": "https://localhost:8080/"
        },
        "id": "XSsxg22dbXob",
        "outputId": "296ae064-0623-4a14-e0ff-45a94e05a863"
      },
      "outputs": [
        {
          "output_type": "stream",
          "name": "stdout",
          "text": [
            "MLflow Tracking UI: https://3170-34-125-107-118.ngrok-free.app\n"
          ]
        }
      ],
      "source": [
        "ngrok_tunnel = ngrok.connect(addr=\"5000\", proto=\"http\", bind_tls=True)\n",
        "print(\"MLflow Tracking UI:\", ngrok_tunnel.public_url)"
      ]
    },
    {
      "cell_type": "code",
      "execution_count": 8,
      "metadata": {
        "id": "CV_9Vyi1g5LM"
      },
      "outputs": [],
      "source": [
        "df = pd.read_csv(\"Helpdesk.csv\")"
      ]
    },
    {
      "cell_type": "code",
      "execution_count": 9,
      "metadata": {
        "colab": {
          "base_uri": "https://localhost:8080/",
          "height": 348
        },
        "id": "AOrW9j5FQrAV",
        "outputId": "5c067ef0-14b3-4867-fd30-2565da218f52"
      },
      "outputs": [
        {
          "output_type": "execute_result",
          "data": {
            "text/plain": [
              "            concept:name lifecycle:transition org:resource  \\\n",
              "0     Assign seriousness             complete      Value 2   \n",
              "1  Take in charge ticket             complete      Value 2   \n",
              "2         Resolve ticket             complete      Value 2   \n",
              "3                 Closed             complete      Value 5   \n",
              "4                 Closed             complete      Value 5   \n",
              "\n",
              "              time:timestamp               Activity Resource  \\\n",
              "0  2010-01-13 08:40:25+02:00     Assign seriousness  Value 2   \n",
              "1  2010-01-29 08:52:27+02:00  Take in charge ticket  Value 2   \n",
              "2  2010-01-29 08:52:34+02:00         Resolve ticket  Value 2   \n",
              "3  2010-02-13 08:52:48+02:00                 Closed  Value 5   \n",
              "4  2010-02-13 08:52:48+02:00                 Closed  Value 5   \n",
              "\n",
              "  case:concept:name case:variant  case:variant-index    case:creator  \n",
              "0          Case3608   Variant 33                  33  Fluxicon Disco  \n",
              "1          Case3608   Variant 33                  33  Fluxicon Disco  \n",
              "2          Case3608   Variant 33                  33  Fluxicon Disco  \n",
              "3          Case3608   Variant 33                  33  Fluxicon Disco  \n",
              "4          Case3608   Variant 33                  33  Fluxicon Disco  "
            ],
            "text/html": [
              "\n",
              "  <div id=\"df-f0892618-9a5e-4bd6-8767-f77feec0a307\" class=\"colab-df-container\">\n",
              "    <div>\n",
              "<style scoped>\n",
              "    .dataframe tbody tr th:only-of-type {\n",
              "        vertical-align: middle;\n",
              "    }\n",
              "\n",
              "    .dataframe tbody tr th {\n",
              "        vertical-align: top;\n",
              "    }\n",
              "\n",
              "    .dataframe thead th {\n",
              "        text-align: right;\n",
              "    }\n",
              "</style>\n",
              "<table border=\"1\" class=\"dataframe\">\n",
              "  <thead>\n",
              "    <tr style=\"text-align: right;\">\n",
              "      <th></th>\n",
              "      <th>concept:name</th>\n",
              "      <th>lifecycle:transition</th>\n",
              "      <th>org:resource</th>\n",
              "      <th>time:timestamp</th>\n",
              "      <th>Activity</th>\n",
              "      <th>Resource</th>\n",
              "      <th>case:concept:name</th>\n",
              "      <th>case:variant</th>\n",
              "      <th>case:variant-index</th>\n",
              "      <th>case:creator</th>\n",
              "    </tr>\n",
              "  </thead>\n",
              "  <tbody>\n",
              "    <tr>\n",
              "      <th>0</th>\n",
              "      <td>Assign seriousness</td>\n",
              "      <td>complete</td>\n",
              "      <td>Value 2</td>\n",
              "      <td>2010-01-13 08:40:25+02:00</td>\n",
              "      <td>Assign seriousness</td>\n",
              "      <td>Value 2</td>\n",
              "      <td>Case3608</td>\n",
              "      <td>Variant 33</td>\n",
              "      <td>33</td>\n",
              "      <td>Fluxicon Disco</td>\n",
              "    </tr>\n",
              "    <tr>\n",
              "      <th>1</th>\n",
              "      <td>Take in charge ticket</td>\n",
              "      <td>complete</td>\n",
              "      <td>Value 2</td>\n",
              "      <td>2010-01-29 08:52:27+02:00</td>\n",
              "      <td>Take in charge ticket</td>\n",
              "      <td>Value 2</td>\n",
              "      <td>Case3608</td>\n",
              "      <td>Variant 33</td>\n",
              "      <td>33</td>\n",
              "      <td>Fluxicon Disco</td>\n",
              "    </tr>\n",
              "    <tr>\n",
              "      <th>2</th>\n",
              "      <td>Resolve ticket</td>\n",
              "      <td>complete</td>\n",
              "      <td>Value 2</td>\n",
              "      <td>2010-01-29 08:52:34+02:00</td>\n",
              "      <td>Resolve ticket</td>\n",
              "      <td>Value 2</td>\n",
              "      <td>Case3608</td>\n",
              "      <td>Variant 33</td>\n",
              "      <td>33</td>\n",
              "      <td>Fluxicon Disco</td>\n",
              "    </tr>\n",
              "    <tr>\n",
              "      <th>3</th>\n",
              "      <td>Closed</td>\n",
              "      <td>complete</td>\n",
              "      <td>Value 5</td>\n",
              "      <td>2010-02-13 08:52:48+02:00</td>\n",
              "      <td>Closed</td>\n",
              "      <td>Value 5</td>\n",
              "      <td>Case3608</td>\n",
              "      <td>Variant 33</td>\n",
              "      <td>33</td>\n",
              "      <td>Fluxicon Disco</td>\n",
              "    </tr>\n",
              "    <tr>\n",
              "      <th>4</th>\n",
              "      <td>Closed</td>\n",
              "      <td>complete</td>\n",
              "      <td>Value 5</td>\n",
              "      <td>2010-02-13 08:52:48+02:00</td>\n",
              "      <td>Closed</td>\n",
              "      <td>Value 5</td>\n",
              "      <td>Case3608</td>\n",
              "      <td>Variant 33</td>\n",
              "      <td>33</td>\n",
              "      <td>Fluxicon Disco</td>\n",
              "    </tr>\n",
              "  </tbody>\n",
              "</table>\n",
              "</div>\n",
              "    <div class=\"colab-df-buttons\">\n",
              "\n",
              "  <div class=\"colab-df-container\">\n",
              "    <button class=\"colab-df-convert\" onclick=\"convertToInteractive('df-f0892618-9a5e-4bd6-8767-f77feec0a307')\"\n",
              "            title=\"Convert this dataframe to an interactive table.\"\n",
              "            style=\"display:none;\">\n",
              "\n",
              "  <svg xmlns=\"http://www.w3.org/2000/svg\" height=\"24px\" viewBox=\"0 -960 960 960\">\n",
              "    <path d=\"M120-120v-720h720v720H120Zm60-500h600v-160H180v160Zm220 220h160v-160H400v160Zm0 220h160v-160H400v160ZM180-400h160v-160H180v160Zm440 0h160v-160H620v160ZM180-180h160v-160H180v160Zm440 0h160v-160H620v160Z\"/>\n",
              "  </svg>\n",
              "    </button>\n",
              "\n",
              "  <style>\n",
              "    .colab-df-container {\n",
              "      display:flex;\n",
              "      gap: 12px;\n",
              "    }\n",
              "\n",
              "    .colab-df-convert {\n",
              "      background-color: #E8F0FE;\n",
              "      border: none;\n",
              "      border-radius: 50%;\n",
              "      cursor: pointer;\n",
              "      display: none;\n",
              "      fill: #1967D2;\n",
              "      height: 32px;\n",
              "      padding: 0 0 0 0;\n",
              "      width: 32px;\n",
              "    }\n",
              "\n",
              "    .colab-df-convert:hover {\n",
              "      background-color: #E2EBFA;\n",
              "      box-shadow: 0px 1px 2px rgba(60, 64, 67, 0.3), 0px 1px 3px 1px rgba(60, 64, 67, 0.15);\n",
              "      fill: #174EA6;\n",
              "    }\n",
              "\n",
              "    .colab-df-buttons div {\n",
              "      margin-bottom: 4px;\n",
              "    }\n",
              "\n",
              "    [theme=dark] .colab-df-convert {\n",
              "      background-color: #3B4455;\n",
              "      fill: #D2E3FC;\n",
              "    }\n",
              "\n",
              "    [theme=dark] .colab-df-convert:hover {\n",
              "      background-color: #434B5C;\n",
              "      box-shadow: 0px 1px 3px 1px rgba(0, 0, 0, 0.15);\n",
              "      filter: drop-shadow(0px 1px 2px rgba(0, 0, 0, 0.3));\n",
              "      fill: #FFFFFF;\n",
              "    }\n",
              "  </style>\n",
              "\n",
              "    <script>\n",
              "      const buttonEl =\n",
              "        document.querySelector('#df-f0892618-9a5e-4bd6-8767-f77feec0a307 button.colab-df-convert');\n",
              "      buttonEl.style.display =\n",
              "        google.colab.kernel.accessAllowed ? 'block' : 'none';\n",
              "\n",
              "      async function convertToInteractive(key) {\n",
              "        const element = document.querySelector('#df-f0892618-9a5e-4bd6-8767-f77feec0a307');\n",
              "        const dataTable =\n",
              "          await google.colab.kernel.invokeFunction('convertToInteractive',\n",
              "                                                    [key], {});\n",
              "        if (!dataTable) return;\n",
              "\n",
              "        const docLinkHtml = 'Like what you see? Visit the ' +\n",
              "          '<a target=\"_blank\" href=https://colab.research.google.com/notebooks/data_table.ipynb>data table notebook</a>'\n",
              "          + ' to learn more about interactive tables.';\n",
              "        element.innerHTML = '';\n",
              "        dataTable['output_type'] = 'display_data';\n",
              "        await google.colab.output.renderOutput(dataTable, element);\n",
              "        const docLink = document.createElement('div');\n",
              "        docLink.innerHTML = docLinkHtml;\n",
              "        element.appendChild(docLink);\n",
              "      }\n",
              "    </script>\n",
              "  </div>\n",
              "\n",
              "\n",
              "    <div id=\"df-6f57786c-6d9c-4c09-ba4a-03f715103a38\">\n",
              "      <button class=\"colab-df-quickchart\" onclick=\"quickchart('df-6f57786c-6d9c-4c09-ba4a-03f715103a38')\"\n",
              "                title=\"Suggest charts\"\n",
              "                style=\"display:none;\">\n",
              "\n",
              "<svg xmlns=\"http://www.w3.org/2000/svg\" height=\"24px\"viewBox=\"0 0 24 24\"\n",
              "     width=\"24px\">\n",
              "    <g>\n",
              "        <path d=\"M19 3H5c-1.1 0-2 .9-2 2v14c0 1.1.9 2 2 2h14c1.1 0 2-.9 2-2V5c0-1.1-.9-2-2-2zM9 17H7v-7h2v7zm4 0h-2V7h2v10zm4 0h-2v-4h2v4z\"/>\n",
              "    </g>\n",
              "</svg>\n",
              "      </button>\n",
              "\n",
              "<style>\n",
              "  .colab-df-quickchart {\n",
              "      --bg-color: #E8F0FE;\n",
              "      --fill-color: #1967D2;\n",
              "      --hover-bg-color: #E2EBFA;\n",
              "      --hover-fill-color: #174EA6;\n",
              "      --disabled-fill-color: #AAA;\n",
              "      --disabled-bg-color: #DDD;\n",
              "  }\n",
              "\n",
              "  [theme=dark] .colab-df-quickchart {\n",
              "      --bg-color: #3B4455;\n",
              "      --fill-color: #D2E3FC;\n",
              "      --hover-bg-color: #434B5C;\n",
              "      --hover-fill-color: #FFFFFF;\n",
              "      --disabled-bg-color: #3B4455;\n",
              "      --disabled-fill-color: #666;\n",
              "  }\n",
              "\n",
              "  .colab-df-quickchart {\n",
              "    background-color: var(--bg-color);\n",
              "    border: none;\n",
              "    border-radius: 50%;\n",
              "    cursor: pointer;\n",
              "    display: none;\n",
              "    fill: var(--fill-color);\n",
              "    height: 32px;\n",
              "    padding: 0;\n",
              "    width: 32px;\n",
              "  }\n",
              "\n",
              "  .colab-df-quickchart:hover {\n",
              "    background-color: var(--hover-bg-color);\n",
              "    box-shadow: 0 1px 2px rgba(60, 64, 67, 0.3), 0 1px 3px 1px rgba(60, 64, 67, 0.15);\n",
              "    fill: var(--button-hover-fill-color);\n",
              "  }\n",
              "\n",
              "  .colab-df-quickchart-complete:disabled,\n",
              "  .colab-df-quickchart-complete:disabled:hover {\n",
              "    background-color: var(--disabled-bg-color);\n",
              "    fill: var(--disabled-fill-color);\n",
              "    box-shadow: none;\n",
              "  }\n",
              "\n",
              "  .colab-df-spinner {\n",
              "    border: 2px solid var(--fill-color);\n",
              "    border-color: transparent;\n",
              "    border-bottom-color: var(--fill-color);\n",
              "    animation:\n",
              "      spin 1s steps(1) infinite;\n",
              "  }\n",
              "\n",
              "  @keyframes spin {\n",
              "    0% {\n",
              "      border-color: transparent;\n",
              "      border-bottom-color: var(--fill-color);\n",
              "      border-left-color: var(--fill-color);\n",
              "    }\n",
              "    20% {\n",
              "      border-color: transparent;\n",
              "      border-left-color: var(--fill-color);\n",
              "      border-top-color: var(--fill-color);\n",
              "    }\n",
              "    30% {\n",
              "      border-color: transparent;\n",
              "      border-left-color: var(--fill-color);\n",
              "      border-top-color: var(--fill-color);\n",
              "      border-right-color: var(--fill-color);\n",
              "    }\n",
              "    40% {\n",
              "      border-color: transparent;\n",
              "      border-right-color: var(--fill-color);\n",
              "      border-top-color: var(--fill-color);\n",
              "    }\n",
              "    60% {\n",
              "      border-color: transparent;\n",
              "      border-right-color: var(--fill-color);\n",
              "    }\n",
              "    80% {\n",
              "      border-color: transparent;\n",
              "      border-right-color: var(--fill-color);\n",
              "      border-bottom-color: var(--fill-color);\n",
              "    }\n",
              "    90% {\n",
              "      border-color: transparent;\n",
              "      border-bottom-color: var(--fill-color);\n",
              "    }\n",
              "  }\n",
              "</style>\n",
              "\n",
              "      <script>\n",
              "        async function quickchart(key) {\n",
              "          const quickchartButtonEl =\n",
              "            document.querySelector('#' + key + ' button');\n",
              "          quickchartButtonEl.disabled = true;  // To prevent multiple clicks.\n",
              "          quickchartButtonEl.classList.add('colab-df-spinner');\n",
              "          try {\n",
              "            const charts = await google.colab.kernel.invokeFunction(\n",
              "                'suggestCharts', [key], {});\n",
              "          } catch (error) {\n",
              "            console.error('Error during call to suggestCharts:', error);\n",
              "          }\n",
              "          quickchartButtonEl.classList.remove('colab-df-spinner');\n",
              "          quickchartButtonEl.classList.add('colab-df-quickchart-complete');\n",
              "        }\n",
              "        (() => {\n",
              "          let quickchartButtonEl =\n",
              "            document.querySelector('#df-6f57786c-6d9c-4c09-ba4a-03f715103a38 button');\n",
              "          quickchartButtonEl.style.display =\n",
              "            google.colab.kernel.accessAllowed ? 'block' : 'none';\n",
              "        })();\n",
              "      </script>\n",
              "    </div>\n",
              "\n",
              "    </div>\n",
              "  </div>\n"
            ],
            "application/vnd.google.colaboratory.intrinsic+json": {
              "type": "dataframe",
              "variable_name": "df",
              "summary": "{\n  \"name\": \"df\",\n  \"rows\": 21348,\n  \"fields\": [\n    {\n      \"column\": \"concept:name\",\n      \"properties\": {\n        \"dtype\": \"category\",\n        \"num_unique_values\": 14,\n        \"samples\": [\n          \"INVALID\",\n          \"Resolve SW anomaly\",\n          \"Assign seriousness\"\n        ],\n        \"semantic_type\": \"\",\n        \"description\": \"\"\n      }\n    },\n    {\n      \"column\": \"lifecycle:transition\",\n      \"properties\": {\n        \"dtype\": \"category\",\n        \"num_unique_values\": 1,\n        \"samples\": [\n          \"complete\"\n        ],\n        \"semantic_type\": \"\",\n        \"description\": \"\"\n      }\n    },\n    {\n      \"column\": \"org:resource\",\n      \"properties\": {\n        \"dtype\": \"category\",\n        \"num_unique_values\": 22,\n        \"samples\": [\n          \"Value 2\"\n        ],\n        \"semantic_type\": \"\",\n        \"description\": \"\"\n      }\n    },\n    {\n      \"column\": \"time:timestamp\",\n      \"properties\": {\n        \"dtype\": \"object\",\n        \"num_unique_values\": 21157,\n        \"samples\": [\n          \"2012-03-05 13:29:12+02:00\"\n        ],\n        \"semantic_type\": \"\",\n        \"description\": \"\"\n      }\n    },\n    {\n      \"column\": \"Activity\",\n      \"properties\": {\n        \"dtype\": \"category\",\n        \"num_unique_values\": 14,\n        \"samples\": [\n          \"INVALID\"\n        ],\n        \"semantic_type\": \"\",\n        \"description\": \"\"\n      }\n    },\n    {\n      \"column\": \"Resource\",\n      \"properties\": {\n        \"dtype\": \"category\",\n        \"num_unique_values\": 22,\n        \"samples\": [\n          \"Value 2\"\n        ],\n        \"semantic_type\": \"\",\n        \"description\": \"\"\n      }\n    },\n    {\n      \"column\": \"case:concept:name\",\n      \"properties\": {\n        \"dtype\": \"category\",\n        \"num_unique_values\": 4580,\n        \"samples\": [\n          \"Case3315\"\n        ],\n        \"semantic_type\": \"\",\n        \"description\": \"\"\n      }\n    },\n    {\n      \"column\": \"case:variant\",\n      \"properties\": {\n        \"dtype\": \"category\",\n        \"num_unique_values\": 226,\n        \"samples\": [\n          \"Variant 19\"\n        ],\n        \"semantic_type\": \"\",\n        \"description\": \"\"\n      }\n    },\n    {\n      \"column\": \"case:variant-index\",\n      \"properties\": {\n        \"dtype\": \"number\",\n        \"std\": 36,\n        \"min\": 1,\n        \"max\": 226,\n        \"num_unique_values\": 226,\n        \"samples\": [\n          19\n        ],\n        \"semantic_type\": \"\",\n        \"description\": \"\"\n      }\n    },\n    {\n      \"column\": \"case:creator\",\n      \"properties\": {\n        \"dtype\": \"category\",\n        \"num_unique_values\": 1,\n        \"samples\": [\n          \"Fluxicon Disco\"\n        ],\n        \"semantic_type\": \"\",\n        \"description\": \"\"\n      }\n    }\n  ]\n}"
            }
          },
          "metadata": {},
          "execution_count": 9
        }
      ],
      "source": [
        "df.head()"
      ]
    },
    {
      "cell_type": "code",
      "execution_count": 10,
      "metadata": {
        "colab": {
          "base_uri": "https://localhost:8080/"
        },
        "id": "0-Uz6zUfSdJs",
        "outputId": "e8549945-ac04-46e2-883c-a21433caac56"
      },
      "outputs": [
        {
          "output_type": "stream",
          "name": "stdout",
          "text": [
            "<class 'pandas.core.frame.DataFrame'>\n",
            "RangeIndex: 21348 entries, 0 to 21347\n",
            "Data columns (total 10 columns):\n",
            " #   Column                Non-Null Count  Dtype \n",
            "---  ------                --------------  ----- \n",
            " 0   concept:name          21348 non-null  object\n",
            " 1   lifecycle:transition  21348 non-null  object\n",
            " 2   org:resource          21348 non-null  object\n",
            " 3   time:timestamp        21348 non-null  object\n",
            " 4   Activity              21348 non-null  object\n",
            " 5   Resource              21348 non-null  object\n",
            " 6   case:concept:name     21348 non-null  object\n",
            " 7   case:variant          21348 non-null  object\n",
            " 8   case:variant-index    21348 non-null  int64 \n",
            " 9   case:creator          21348 non-null  object\n",
            "dtypes: int64(1), object(9)\n",
            "memory usage: 1.6+ MB\n"
          ]
        }
      ],
      "source": [
        "df.info()"
      ]
    },
    {
      "cell_type": "code",
      "execution_count": 11,
      "metadata": {
        "id": "JbkK2HkF4Hib"
      },
      "outputs": [],
      "source": [
        "df.drop_duplicates(inplace=True)"
      ]
    },
    {
      "cell_type": "code",
      "execution_count": 12,
      "metadata": {
        "id": "WnxoA0ReU1ZO"
      },
      "outputs": [],
      "source": [
        "df['case:variant-index'] = df['case:variant-index'].apply(lambda x: int(x))"
      ]
    },
    {
      "cell_type": "code",
      "execution_count": 13,
      "metadata": {
        "id": "zYGuNFjAU-VK"
      },
      "outputs": [],
      "source": [
        "df['Resource'] = df['Resource'].str.strip().str[-1]"
      ]
    },
    {
      "cell_type": "code",
      "execution_count": 14,
      "metadata": {
        "id": "f2m0RgpQVQmo"
      },
      "outputs": [],
      "source": [
        "df['Resource'] = df['Resource'].apply(lambda x: int(x))"
      ]
    },
    {
      "cell_type": "code",
      "execution_count": 15,
      "metadata": {
        "id": "4JFawb9qj5Zg"
      },
      "outputs": [],
      "source": [
        "df['time:timestamp'] = pd.to_datetime(df['time:timestamp'], utc=True)"
      ]
    },
    {
      "cell_type": "code",
      "execution_count": 16,
      "metadata": {
        "colab": {
          "base_uri": "https://localhost:8080/"
        },
        "id": "OwabUt9gwJkN",
        "outputId": "ae07c3ed-3374-43ef-8c2b-0a7e79bea13b"
      },
      "outputs": [
        {
          "output_type": "stream",
          "name": "stdout",
          "text": [
            "<class 'pandas.core.frame.DataFrame'>\n",
            "Index: 21221 entries, 0 to 21347\n",
            "Data columns (total 10 columns):\n",
            " #   Column                Non-Null Count  Dtype              \n",
            "---  ------                --------------  -----              \n",
            " 0   concept:name          21221 non-null  object             \n",
            " 1   lifecycle:transition  21221 non-null  object             \n",
            " 2   org:resource          21221 non-null  object             \n",
            " 3   time:timestamp        21221 non-null  datetime64[ns, UTC]\n",
            " 4   Activity              21221 non-null  object             \n",
            " 5   Resource              21221 non-null  int64              \n",
            " 6   case:concept:name     21221 non-null  object             \n",
            " 7   case:variant          21221 non-null  object             \n",
            " 8   case:variant-index    21221 non-null  int64              \n",
            " 9   case:creator          21221 non-null  object             \n",
            "dtypes: datetime64[ns, UTC](1), int64(2), object(7)\n",
            "memory usage: 1.8+ MB\n"
          ]
        }
      ],
      "source": [
        "df.info()"
      ]
    },
    {
      "cell_type": "code",
      "execution_count": 17,
      "metadata": {
        "colab": {
          "base_uri": "https://localhost:8080/"
        },
        "id": "Zm55sepqmRgb",
        "outputId": "2dd1be3d-c38b-4dd3-9bf2-1f8e769aadfd"
      },
      "outputs": [
        {
          "output_type": "stream",
          "name": "stderr",
          "text": [
            "<ipython-input-17-16d55716170b>:6: FutureWarning: 'S' is deprecated and will be removed in a future version, please use 's' instead.\n",
            "  ).dt.floor('S')\n"
          ]
        }
      ],
      "source": [
        "df['new_date'] = df['time:timestamp'].dt.date\n",
        "df['new_date'] = pd.to_datetime(df['new_date'], utc=True)\n",
        "df['new_time'] = pd.to_datetime(\n",
        "    df['time:timestamp'].dt.time.astype(str),  # Convert time to string\n",
        "    format='%H:%M:%S'  # Parse as pure time\n",
        ").dt.floor('S')"
      ]
    },
    {
      "cell_type": "code",
      "execution_count": 18,
      "metadata": {
        "id": "VUrCL5Rw1FMU"
      },
      "outputs": [],
      "source": [
        "min_timestamps = df.groupby('case:concept:name')['time:timestamp'].transform('min')"
      ]
    },
    {
      "cell_type": "code",
      "execution_count": 19,
      "metadata": {
        "id": "AuF-HQZ_1wJF"
      },
      "outputs": [],
      "source": [
        "df['time_lapsed'] = df['time:timestamp'] - min_timestamps"
      ]
    },
    {
      "cell_type": "code",
      "execution_count": 20,
      "metadata": {
        "id": "YrZ9ecVTuMz3"
      },
      "outputs": [],
      "source": [
        "df['time_lapsed'] = pd.to_timedelta(df['time_lapsed'])"
      ]
    },
    {
      "cell_type": "code",
      "execution_count": 21,
      "metadata": {
        "id": "oqMg5dBtvf4J"
      },
      "outputs": [],
      "source": [
        "df['time_lapsed'] = df['time_lapsed'].dt.total_seconds()"
      ]
    },
    {
      "cell_type": "code",
      "execution_count": 22,
      "metadata": {
        "id": "lHGFvfTCSpvo"
      },
      "outputs": [],
      "source": [
        "max_len = len(df['concept:name'].unique())"
      ]
    },
    {
      "cell_type": "code",
      "execution_count": 23,
      "metadata": {
        "id": "Z2psnS59vJmd"
      },
      "outputs": [],
      "source": [
        "#Checking if we can concept:name and activity is the same as well as the org:resource and the resource, so that we can delete this feild.\n",
        "df['Checker_1'] = (df['concept:name'] == df['Activity'])\n",
        "df['Checker_2'] = (df['org:resource'] == df['Resource'])"
      ]
    },
    {
      "cell_type": "code",
      "execution_count": 24,
      "metadata": {
        "colab": {
          "base_uri": "https://localhost:8080/"
        },
        "id": "TGBxcA7gvasP",
        "outputId": "844c1ada-9f45-4bb7-a3e6-782a329eb8cc"
      },
      "outputs": [
        {
          "output_type": "execute_result",
          "data": {
            "text/plain": [
              "array([False])"
            ]
          },
          "metadata": {},
          "execution_count": 24
        }
      ],
      "source": [
        "#Let's see if it all the same, if True.\n",
        "df['Checker_2'].unique()"
      ]
    },
    {
      "cell_type": "code",
      "execution_count": 25,
      "metadata": {
        "id": "zV9knXrMvzBh"
      },
      "outputs": [],
      "source": [
        "#Lets drop it since it is the same\n",
        "df.drop(['concept:name','org:resource','Checker_1','Checker_2','case:creator','lifecycle:transition','case:variant'],axis=1, inplace=True)"
      ]
    },
    {
      "cell_type": "code",
      "execution_count": 26,
      "metadata": {
        "id": "13H7KSE_0aCp"
      },
      "outputs": [],
      "source": [
        "#Lets create a stage number for each activity stage of the help desk, this will help us easily identify where the case is in terms of the process\n",
        "\n",
        "#This is also to immulate the label encoder\n",
        "#First create a dataframe with stage numbers and the stage names\n",
        "stage = pd.DataFrame()\n",
        "stage['Stage_no'] = [1,2,3,4,5,6,7,7.1,7.2,8,9,9.1,9.2,10]\n",
        "stage['Activity'] = ['Insert ticket','Assign seriousness','Take in charge ticket','Wait','Require upgrade','Schedule intervention','Resolve ticket','Create SW anomaly','Resolve SW anomaly','VERIFIED','RESOLVED','INVALID', 'DUPLICATE','Closed']"
      ]
    },
    {
      "cell_type": "code",
      "execution_count": 27,
      "metadata": {
        "id": "GvJlYuK_1bFG"
      },
      "outputs": [],
      "source": [
        "df=pd.merge(df,stage,on='Activity', how='left')"
      ]
    },
    {
      "cell_type": "code",
      "execution_count": 28,
      "metadata": {
        "colab": {
          "base_uri": "https://localhost:8080/",
          "height": 417
        },
        "id": "grdJOf-kwBg4",
        "outputId": "c77055a7-571c-4c17-9735-823431847a52"
      },
      "outputs": [
        {
          "output_type": "execute_result",
          "data": {
            "text/plain": [
              "             time:timestamp               Activity  Resource  \\\n",
              "0 2010-01-13 06:40:25+00:00     Assign seriousness         2   \n",
              "1 2010-01-29 06:52:27+00:00  Take in charge ticket         2   \n",
              "2 2010-01-29 06:52:34+00:00         Resolve ticket         2   \n",
              "3 2010-02-13 06:52:48+00:00                 Closed         5   \n",
              "4 2010-01-13 10:26:04+00:00     Assign seriousness         2   \n",
              "\n",
              "  case:concept:name  case:variant-index                  new_date  \\\n",
              "0          Case3608                  33 2010-01-13 00:00:00+00:00   \n",
              "1          Case3608                  33 2010-01-29 00:00:00+00:00   \n",
              "2          Case3608                  33 2010-01-29 00:00:00+00:00   \n",
              "3          Case3608                  33 2010-02-13 00:00:00+00:00   \n",
              "4          Case2748                   1 2010-01-13 00:00:00+00:00   \n",
              "\n",
              "             new_time  time_lapsed  Stage_no  \n",
              "0 1900-01-01 06:40:25          0.0       2.0  \n",
              "1 1900-01-01 06:52:27    1383122.0       3.0  \n",
              "2 1900-01-01 06:52:34    1383129.0       7.0  \n",
              "3 1900-01-01 06:52:48    2679143.0      10.0  \n",
              "4 1900-01-01 10:26:04          0.0       2.0  "
            ],
            "text/html": [
              "\n",
              "  <div id=\"df-86b1b271-b83b-4980-b1ce-9047220fc176\" class=\"colab-df-container\">\n",
              "    <div>\n",
              "<style scoped>\n",
              "    .dataframe tbody tr th:only-of-type {\n",
              "        vertical-align: middle;\n",
              "    }\n",
              "\n",
              "    .dataframe tbody tr th {\n",
              "        vertical-align: top;\n",
              "    }\n",
              "\n",
              "    .dataframe thead th {\n",
              "        text-align: right;\n",
              "    }\n",
              "</style>\n",
              "<table border=\"1\" class=\"dataframe\">\n",
              "  <thead>\n",
              "    <tr style=\"text-align: right;\">\n",
              "      <th></th>\n",
              "      <th>time:timestamp</th>\n",
              "      <th>Activity</th>\n",
              "      <th>Resource</th>\n",
              "      <th>case:concept:name</th>\n",
              "      <th>case:variant-index</th>\n",
              "      <th>new_date</th>\n",
              "      <th>new_time</th>\n",
              "      <th>time_lapsed</th>\n",
              "      <th>Stage_no</th>\n",
              "    </tr>\n",
              "  </thead>\n",
              "  <tbody>\n",
              "    <tr>\n",
              "      <th>0</th>\n",
              "      <td>2010-01-13 06:40:25+00:00</td>\n",
              "      <td>Assign seriousness</td>\n",
              "      <td>2</td>\n",
              "      <td>Case3608</td>\n",
              "      <td>33</td>\n",
              "      <td>2010-01-13 00:00:00+00:00</td>\n",
              "      <td>1900-01-01 06:40:25</td>\n",
              "      <td>0.0</td>\n",
              "      <td>2.0</td>\n",
              "    </tr>\n",
              "    <tr>\n",
              "      <th>1</th>\n",
              "      <td>2010-01-29 06:52:27+00:00</td>\n",
              "      <td>Take in charge ticket</td>\n",
              "      <td>2</td>\n",
              "      <td>Case3608</td>\n",
              "      <td>33</td>\n",
              "      <td>2010-01-29 00:00:00+00:00</td>\n",
              "      <td>1900-01-01 06:52:27</td>\n",
              "      <td>1383122.0</td>\n",
              "      <td>3.0</td>\n",
              "    </tr>\n",
              "    <tr>\n",
              "      <th>2</th>\n",
              "      <td>2010-01-29 06:52:34+00:00</td>\n",
              "      <td>Resolve ticket</td>\n",
              "      <td>2</td>\n",
              "      <td>Case3608</td>\n",
              "      <td>33</td>\n",
              "      <td>2010-01-29 00:00:00+00:00</td>\n",
              "      <td>1900-01-01 06:52:34</td>\n",
              "      <td>1383129.0</td>\n",
              "      <td>7.0</td>\n",
              "    </tr>\n",
              "    <tr>\n",
              "      <th>3</th>\n",
              "      <td>2010-02-13 06:52:48+00:00</td>\n",
              "      <td>Closed</td>\n",
              "      <td>5</td>\n",
              "      <td>Case3608</td>\n",
              "      <td>33</td>\n",
              "      <td>2010-02-13 00:00:00+00:00</td>\n",
              "      <td>1900-01-01 06:52:48</td>\n",
              "      <td>2679143.0</td>\n",
              "      <td>10.0</td>\n",
              "    </tr>\n",
              "    <tr>\n",
              "      <th>4</th>\n",
              "      <td>2010-01-13 10:26:04+00:00</td>\n",
              "      <td>Assign seriousness</td>\n",
              "      <td>2</td>\n",
              "      <td>Case2748</td>\n",
              "      <td>1</td>\n",
              "      <td>2010-01-13 00:00:00+00:00</td>\n",
              "      <td>1900-01-01 10:26:04</td>\n",
              "      <td>0.0</td>\n",
              "      <td>2.0</td>\n",
              "    </tr>\n",
              "  </tbody>\n",
              "</table>\n",
              "</div>\n",
              "    <div class=\"colab-df-buttons\">\n",
              "\n",
              "  <div class=\"colab-df-container\">\n",
              "    <button class=\"colab-df-convert\" onclick=\"convertToInteractive('df-86b1b271-b83b-4980-b1ce-9047220fc176')\"\n",
              "            title=\"Convert this dataframe to an interactive table.\"\n",
              "            style=\"display:none;\">\n",
              "\n",
              "  <svg xmlns=\"http://www.w3.org/2000/svg\" height=\"24px\" viewBox=\"0 -960 960 960\">\n",
              "    <path d=\"M120-120v-720h720v720H120Zm60-500h600v-160H180v160Zm220 220h160v-160H400v160Zm0 220h160v-160H400v160ZM180-400h160v-160H180v160Zm440 0h160v-160H620v160ZM180-180h160v-160H180v160Zm440 0h160v-160H620v160Z\"/>\n",
              "  </svg>\n",
              "    </button>\n",
              "\n",
              "  <style>\n",
              "    .colab-df-container {\n",
              "      display:flex;\n",
              "      gap: 12px;\n",
              "    }\n",
              "\n",
              "    .colab-df-convert {\n",
              "      background-color: #E8F0FE;\n",
              "      border: none;\n",
              "      border-radius: 50%;\n",
              "      cursor: pointer;\n",
              "      display: none;\n",
              "      fill: #1967D2;\n",
              "      height: 32px;\n",
              "      padding: 0 0 0 0;\n",
              "      width: 32px;\n",
              "    }\n",
              "\n",
              "    .colab-df-convert:hover {\n",
              "      background-color: #E2EBFA;\n",
              "      box-shadow: 0px 1px 2px rgba(60, 64, 67, 0.3), 0px 1px 3px 1px rgba(60, 64, 67, 0.15);\n",
              "      fill: #174EA6;\n",
              "    }\n",
              "\n",
              "    .colab-df-buttons div {\n",
              "      margin-bottom: 4px;\n",
              "    }\n",
              "\n",
              "    [theme=dark] .colab-df-convert {\n",
              "      background-color: #3B4455;\n",
              "      fill: #D2E3FC;\n",
              "    }\n",
              "\n",
              "    [theme=dark] .colab-df-convert:hover {\n",
              "      background-color: #434B5C;\n",
              "      box-shadow: 0px 1px 3px 1px rgba(0, 0, 0, 0.15);\n",
              "      filter: drop-shadow(0px 1px 2px rgba(0, 0, 0, 0.3));\n",
              "      fill: #FFFFFF;\n",
              "    }\n",
              "  </style>\n",
              "\n",
              "    <script>\n",
              "      const buttonEl =\n",
              "        document.querySelector('#df-86b1b271-b83b-4980-b1ce-9047220fc176 button.colab-df-convert');\n",
              "      buttonEl.style.display =\n",
              "        google.colab.kernel.accessAllowed ? 'block' : 'none';\n",
              "\n",
              "      async function convertToInteractive(key) {\n",
              "        const element = document.querySelector('#df-86b1b271-b83b-4980-b1ce-9047220fc176');\n",
              "        const dataTable =\n",
              "          await google.colab.kernel.invokeFunction('convertToInteractive',\n",
              "                                                    [key], {});\n",
              "        if (!dataTable) return;\n",
              "\n",
              "        const docLinkHtml = 'Like what you see? Visit the ' +\n",
              "          '<a target=\"_blank\" href=https://colab.research.google.com/notebooks/data_table.ipynb>data table notebook</a>'\n",
              "          + ' to learn more about interactive tables.';\n",
              "        element.innerHTML = '';\n",
              "        dataTable['output_type'] = 'display_data';\n",
              "        await google.colab.output.renderOutput(dataTable, element);\n",
              "        const docLink = document.createElement('div');\n",
              "        docLink.innerHTML = docLinkHtml;\n",
              "        element.appendChild(docLink);\n",
              "      }\n",
              "    </script>\n",
              "  </div>\n",
              "\n",
              "\n",
              "    <div id=\"df-db0de317-8fae-49dd-84de-36806ad64e79\">\n",
              "      <button class=\"colab-df-quickchart\" onclick=\"quickchart('df-db0de317-8fae-49dd-84de-36806ad64e79')\"\n",
              "                title=\"Suggest charts\"\n",
              "                style=\"display:none;\">\n",
              "\n",
              "<svg xmlns=\"http://www.w3.org/2000/svg\" height=\"24px\"viewBox=\"0 0 24 24\"\n",
              "     width=\"24px\">\n",
              "    <g>\n",
              "        <path d=\"M19 3H5c-1.1 0-2 .9-2 2v14c0 1.1.9 2 2 2h14c1.1 0 2-.9 2-2V5c0-1.1-.9-2-2-2zM9 17H7v-7h2v7zm4 0h-2V7h2v10zm4 0h-2v-4h2v4z\"/>\n",
              "    </g>\n",
              "</svg>\n",
              "      </button>\n",
              "\n",
              "<style>\n",
              "  .colab-df-quickchart {\n",
              "      --bg-color: #E8F0FE;\n",
              "      --fill-color: #1967D2;\n",
              "      --hover-bg-color: #E2EBFA;\n",
              "      --hover-fill-color: #174EA6;\n",
              "      --disabled-fill-color: #AAA;\n",
              "      --disabled-bg-color: #DDD;\n",
              "  }\n",
              "\n",
              "  [theme=dark] .colab-df-quickchart {\n",
              "      --bg-color: #3B4455;\n",
              "      --fill-color: #D2E3FC;\n",
              "      --hover-bg-color: #434B5C;\n",
              "      --hover-fill-color: #FFFFFF;\n",
              "      --disabled-bg-color: #3B4455;\n",
              "      --disabled-fill-color: #666;\n",
              "  }\n",
              "\n",
              "  .colab-df-quickchart {\n",
              "    background-color: var(--bg-color);\n",
              "    border: none;\n",
              "    border-radius: 50%;\n",
              "    cursor: pointer;\n",
              "    display: none;\n",
              "    fill: var(--fill-color);\n",
              "    height: 32px;\n",
              "    padding: 0;\n",
              "    width: 32px;\n",
              "  }\n",
              "\n",
              "  .colab-df-quickchart:hover {\n",
              "    background-color: var(--hover-bg-color);\n",
              "    box-shadow: 0 1px 2px rgba(60, 64, 67, 0.3), 0 1px 3px 1px rgba(60, 64, 67, 0.15);\n",
              "    fill: var(--button-hover-fill-color);\n",
              "  }\n",
              "\n",
              "  .colab-df-quickchart-complete:disabled,\n",
              "  .colab-df-quickchart-complete:disabled:hover {\n",
              "    background-color: var(--disabled-bg-color);\n",
              "    fill: var(--disabled-fill-color);\n",
              "    box-shadow: none;\n",
              "  }\n",
              "\n",
              "  .colab-df-spinner {\n",
              "    border: 2px solid var(--fill-color);\n",
              "    border-color: transparent;\n",
              "    border-bottom-color: var(--fill-color);\n",
              "    animation:\n",
              "      spin 1s steps(1) infinite;\n",
              "  }\n",
              "\n",
              "  @keyframes spin {\n",
              "    0% {\n",
              "      border-color: transparent;\n",
              "      border-bottom-color: var(--fill-color);\n",
              "      border-left-color: var(--fill-color);\n",
              "    }\n",
              "    20% {\n",
              "      border-color: transparent;\n",
              "      border-left-color: var(--fill-color);\n",
              "      border-top-color: var(--fill-color);\n",
              "    }\n",
              "    30% {\n",
              "      border-color: transparent;\n",
              "      border-left-color: var(--fill-color);\n",
              "      border-top-color: var(--fill-color);\n",
              "      border-right-color: var(--fill-color);\n",
              "    }\n",
              "    40% {\n",
              "      border-color: transparent;\n",
              "      border-right-color: var(--fill-color);\n",
              "      border-top-color: var(--fill-color);\n",
              "    }\n",
              "    60% {\n",
              "      border-color: transparent;\n",
              "      border-right-color: var(--fill-color);\n",
              "    }\n",
              "    80% {\n",
              "      border-color: transparent;\n",
              "      border-right-color: var(--fill-color);\n",
              "      border-bottom-color: var(--fill-color);\n",
              "    }\n",
              "    90% {\n",
              "      border-color: transparent;\n",
              "      border-bottom-color: var(--fill-color);\n",
              "    }\n",
              "  }\n",
              "</style>\n",
              "\n",
              "      <script>\n",
              "        async function quickchart(key) {\n",
              "          const quickchartButtonEl =\n",
              "            document.querySelector('#' + key + ' button');\n",
              "          quickchartButtonEl.disabled = true;  // To prevent multiple clicks.\n",
              "          quickchartButtonEl.classList.add('colab-df-spinner');\n",
              "          try {\n",
              "            const charts = await google.colab.kernel.invokeFunction(\n",
              "                'suggestCharts', [key], {});\n",
              "          } catch (error) {\n",
              "            console.error('Error during call to suggestCharts:', error);\n",
              "          }\n",
              "          quickchartButtonEl.classList.remove('colab-df-spinner');\n",
              "          quickchartButtonEl.classList.add('colab-df-quickchart-complete');\n",
              "        }\n",
              "        (() => {\n",
              "          let quickchartButtonEl =\n",
              "            document.querySelector('#df-db0de317-8fae-49dd-84de-36806ad64e79 button');\n",
              "          quickchartButtonEl.style.display =\n",
              "            google.colab.kernel.accessAllowed ? 'block' : 'none';\n",
              "        })();\n",
              "      </script>\n",
              "    </div>\n",
              "\n",
              "    </div>\n",
              "  </div>\n"
            ],
            "application/vnd.google.colaboratory.intrinsic+json": {
              "type": "dataframe",
              "variable_name": "df",
              "summary": "{\n  \"name\": \"df\",\n  \"rows\": 21221,\n  \"fields\": [\n    {\n      \"column\": \"time:timestamp\",\n      \"properties\": {\n        \"dtype\": \"date\",\n        \"min\": \"2010-01-13 06:40:25+00:00\",\n        \"max\": \"2014-01-03 11:20:58+00:00\",\n        \"num_unique_values\": 21157,\n        \"samples\": [\n          \"2012-03-05 11:29:12+00:00\",\n          \"2012-02-13 09:32:49+00:00\",\n          \"2011-05-03 06:17:47+00:00\"\n        ],\n        \"semantic_type\": \"\",\n        \"description\": \"\"\n      }\n    },\n    {\n      \"column\": \"Activity\",\n      \"properties\": {\n        \"dtype\": \"category\",\n        \"num_unique_values\": 14,\n        \"samples\": [\n          \"INVALID\",\n          \"Resolve SW anomaly\",\n          \"Assign seriousness\"\n        ],\n        \"semantic_type\": \"\",\n        \"description\": \"\"\n      }\n    },\n    {\n      \"column\": \"Resource\",\n      \"properties\": {\n        \"dtype\": \"number\",\n        \"std\": 2,\n        \"min\": 0,\n        \"max\": 9,\n        \"num_unique_values\": 10,\n        \"samples\": [\n          8,\n          5,\n          7\n        ],\n        \"semantic_type\": \"\",\n        \"description\": \"\"\n      }\n    },\n    {\n      \"column\": \"case:concept:name\",\n      \"properties\": {\n        \"dtype\": \"category\",\n        \"num_unique_values\": 4580,\n        \"samples\": [\n          \"Case3315\",\n          \"Case2176\",\n          \"Case1968\"\n        ],\n        \"semantic_type\": \"\",\n        \"description\": \"\"\n      }\n    },\n    {\n      \"column\": \"case:variant-index\",\n      \"properties\": {\n        \"dtype\": \"number\",\n        \"std\": 35,\n        \"min\": 1,\n        \"max\": 226,\n        \"num_unique_values\": 226,\n        \"samples\": [\n          19,\n          211,\n          44\n        ],\n        \"semantic_type\": \"\",\n        \"description\": \"\"\n      }\n    },\n    {\n      \"column\": \"new_date\",\n      \"properties\": {\n        \"dtype\": \"date\",\n        \"min\": \"2010-01-13 00:00:00+00:00\",\n        \"max\": \"2014-01-03 00:00:00+00:00\",\n        \"num_unique_values\": 1305,\n        \"samples\": [\n          \"2013-07-29 00:00:00+00:00\",\n          \"2011-07-30 00:00:00+00:00\",\n          \"2012-07-09 00:00:00+00:00\"\n        ],\n        \"semantic_type\": \"\",\n        \"description\": \"\"\n      }\n    },\n    {\n      \"column\": \"new_time\",\n      \"properties\": {\n        \"dtype\": \"date\",\n        \"min\": \"1900-01-01 00:02:25\",\n        \"max\": \"1900-01-01 18:57:12\",\n        \"num_unique_values\": 15710,\n        \"samples\": [\n          \"1900-01-01 06:12:15\",\n          \"1900-01-01 07:48:14\",\n          \"1900-01-01 13:43:16\"\n        ],\n        \"semantic_type\": \"\",\n        \"description\": \"\"\n      }\n    },\n    {\n      \"column\": \"time_lapsed\",\n      \"properties\": {\n        \"dtype\": \"number\",\n        \"std\": 1483251.4162954101,\n        \"min\": 0.0,\n        \"max\": 5183565.0,\n        \"num_unique_values\": 14707,\n        \"samples\": [\n          686331.0,\n          604213.0,\n          3739167.0\n        ],\n        \"semantic_type\": \"\",\n        \"description\": \"\"\n      }\n    },\n    {\n      \"column\": \"Stage_no\",\n      \"properties\": {\n        \"dtype\": \"number\",\n        \"std\": 3.072519871207139,\n        \"min\": 1.0,\n        \"max\": 10.0,\n        \"num_unique_values\": 14,\n        \"samples\": [\n          9.1,\n          7.2,\n          2.0\n        ],\n        \"semantic_type\": \"\",\n        \"description\": \"\"\n      }\n    }\n  ]\n}"
            }
          },
          "metadata": {},
          "execution_count": 28
        }
      ],
      "source": [
        "df.head()"
      ]
    },
    {
      "cell_type": "code",
      "execution_count": 29,
      "metadata": {
        "colab": {
          "base_uri": "https://localhost:8080/"
        },
        "id": "eDXZPFuk8nDm",
        "outputId": "6d24ff19-c639-444c-8433-3c7efc7380a9"
      },
      "outputs": [
        {
          "output_type": "stream",
          "name": "stdout",
          "text": [
            "<class 'pandas.core.frame.DataFrame'>\n",
            "RangeIndex: 21221 entries, 0 to 21220\n",
            "Data columns (total 9 columns):\n",
            " #   Column              Non-Null Count  Dtype              \n",
            "---  ------              --------------  -----              \n",
            " 0   time:timestamp      21221 non-null  datetime64[ns, UTC]\n",
            " 1   Activity            21221 non-null  object             \n",
            " 2   Resource            21221 non-null  int64              \n",
            " 3   case:concept:name   21221 non-null  object             \n",
            " 4   case:variant-index  21221 non-null  int64              \n",
            " 5   new_date            21221 non-null  datetime64[ns, UTC]\n",
            " 6   new_time            21221 non-null  datetime64[ns]     \n",
            " 7   time_lapsed         21221 non-null  float64            \n",
            " 8   Stage_no            21221 non-null  float64            \n",
            "dtypes: datetime64[ns, UTC](2), datetime64[ns](1), float64(2), int64(2), object(2)\n",
            "memory usage: 1.5+ MB\n"
          ]
        }
      ],
      "source": [
        "df.info()"
      ]
    },
    {
      "cell_type": "code",
      "execution_count": 30,
      "metadata": {
        "colab": {
          "base_uri": "https://localhost:8080/",
          "height": 417
        },
        "id": "R32E1HArzCnc",
        "outputId": "dbd21dfd-16e7-48df-93b8-1717096f50a7"
      },
      "outputs": [
        {
          "output_type": "execute_result",
          "data": {
            "text/plain": [
              "             time:timestamp               Activity  Resource  \\\n",
              "0 2010-01-13 06:40:25+00:00     Assign seriousness         2   \n",
              "1 2010-01-29 06:52:27+00:00  Take in charge ticket         2   \n",
              "2 2010-01-29 06:52:34+00:00         Resolve ticket         2   \n",
              "3 2010-02-13 06:52:48+00:00                 Closed         5   \n",
              "4 2010-01-13 10:26:04+00:00     Assign seriousness         2   \n",
              "\n",
              "  case:concept:name  case:variant-index                  new_date  \\\n",
              "0          Case3608                  33 2010-01-13 00:00:00+00:00   \n",
              "1          Case3608                  33 2010-01-29 00:00:00+00:00   \n",
              "2          Case3608                  33 2010-01-29 00:00:00+00:00   \n",
              "3          Case3608                  33 2010-02-13 00:00:00+00:00   \n",
              "4          Case2748                   1 2010-01-13 00:00:00+00:00   \n",
              "\n",
              "             new_time  time_lapsed  Stage_no  \n",
              "0 1900-01-01 06:40:25          0.0       2.0  \n",
              "1 1900-01-01 06:52:27    1383122.0       3.0  \n",
              "2 1900-01-01 06:52:34    1383129.0       7.0  \n",
              "3 1900-01-01 06:52:48    2679143.0      10.0  \n",
              "4 1900-01-01 10:26:04          0.0       2.0  "
            ],
            "text/html": [
              "\n",
              "  <div id=\"df-fb855675-f806-4cb3-8f41-5189c8ce901a\" class=\"colab-df-container\">\n",
              "    <div>\n",
              "<style scoped>\n",
              "    .dataframe tbody tr th:only-of-type {\n",
              "        vertical-align: middle;\n",
              "    }\n",
              "\n",
              "    .dataframe tbody tr th {\n",
              "        vertical-align: top;\n",
              "    }\n",
              "\n",
              "    .dataframe thead th {\n",
              "        text-align: right;\n",
              "    }\n",
              "</style>\n",
              "<table border=\"1\" class=\"dataframe\">\n",
              "  <thead>\n",
              "    <tr style=\"text-align: right;\">\n",
              "      <th></th>\n",
              "      <th>time:timestamp</th>\n",
              "      <th>Activity</th>\n",
              "      <th>Resource</th>\n",
              "      <th>case:concept:name</th>\n",
              "      <th>case:variant-index</th>\n",
              "      <th>new_date</th>\n",
              "      <th>new_time</th>\n",
              "      <th>time_lapsed</th>\n",
              "      <th>Stage_no</th>\n",
              "    </tr>\n",
              "  </thead>\n",
              "  <tbody>\n",
              "    <tr>\n",
              "      <th>0</th>\n",
              "      <td>2010-01-13 06:40:25+00:00</td>\n",
              "      <td>Assign seriousness</td>\n",
              "      <td>2</td>\n",
              "      <td>Case3608</td>\n",
              "      <td>33</td>\n",
              "      <td>2010-01-13 00:00:00+00:00</td>\n",
              "      <td>1900-01-01 06:40:25</td>\n",
              "      <td>0.0</td>\n",
              "      <td>2.0</td>\n",
              "    </tr>\n",
              "    <tr>\n",
              "      <th>1</th>\n",
              "      <td>2010-01-29 06:52:27+00:00</td>\n",
              "      <td>Take in charge ticket</td>\n",
              "      <td>2</td>\n",
              "      <td>Case3608</td>\n",
              "      <td>33</td>\n",
              "      <td>2010-01-29 00:00:00+00:00</td>\n",
              "      <td>1900-01-01 06:52:27</td>\n",
              "      <td>1383122.0</td>\n",
              "      <td>3.0</td>\n",
              "    </tr>\n",
              "    <tr>\n",
              "      <th>2</th>\n",
              "      <td>2010-01-29 06:52:34+00:00</td>\n",
              "      <td>Resolve ticket</td>\n",
              "      <td>2</td>\n",
              "      <td>Case3608</td>\n",
              "      <td>33</td>\n",
              "      <td>2010-01-29 00:00:00+00:00</td>\n",
              "      <td>1900-01-01 06:52:34</td>\n",
              "      <td>1383129.0</td>\n",
              "      <td>7.0</td>\n",
              "    </tr>\n",
              "    <tr>\n",
              "      <th>3</th>\n",
              "      <td>2010-02-13 06:52:48+00:00</td>\n",
              "      <td>Closed</td>\n",
              "      <td>5</td>\n",
              "      <td>Case3608</td>\n",
              "      <td>33</td>\n",
              "      <td>2010-02-13 00:00:00+00:00</td>\n",
              "      <td>1900-01-01 06:52:48</td>\n",
              "      <td>2679143.0</td>\n",
              "      <td>10.0</td>\n",
              "    </tr>\n",
              "    <tr>\n",
              "      <th>4</th>\n",
              "      <td>2010-01-13 10:26:04+00:00</td>\n",
              "      <td>Assign seriousness</td>\n",
              "      <td>2</td>\n",
              "      <td>Case2748</td>\n",
              "      <td>1</td>\n",
              "      <td>2010-01-13 00:00:00+00:00</td>\n",
              "      <td>1900-01-01 10:26:04</td>\n",
              "      <td>0.0</td>\n",
              "      <td>2.0</td>\n",
              "    </tr>\n",
              "  </tbody>\n",
              "</table>\n",
              "</div>\n",
              "    <div class=\"colab-df-buttons\">\n",
              "\n",
              "  <div class=\"colab-df-container\">\n",
              "    <button class=\"colab-df-convert\" onclick=\"convertToInteractive('df-fb855675-f806-4cb3-8f41-5189c8ce901a')\"\n",
              "            title=\"Convert this dataframe to an interactive table.\"\n",
              "            style=\"display:none;\">\n",
              "\n",
              "  <svg xmlns=\"http://www.w3.org/2000/svg\" height=\"24px\" viewBox=\"0 -960 960 960\">\n",
              "    <path d=\"M120-120v-720h720v720H120Zm60-500h600v-160H180v160Zm220 220h160v-160H400v160Zm0 220h160v-160H400v160ZM180-400h160v-160H180v160Zm440 0h160v-160H620v160ZM180-180h160v-160H180v160Zm440 0h160v-160H620v160Z\"/>\n",
              "  </svg>\n",
              "    </button>\n",
              "\n",
              "  <style>\n",
              "    .colab-df-container {\n",
              "      display:flex;\n",
              "      gap: 12px;\n",
              "    }\n",
              "\n",
              "    .colab-df-convert {\n",
              "      background-color: #E8F0FE;\n",
              "      border: none;\n",
              "      border-radius: 50%;\n",
              "      cursor: pointer;\n",
              "      display: none;\n",
              "      fill: #1967D2;\n",
              "      height: 32px;\n",
              "      padding: 0 0 0 0;\n",
              "      width: 32px;\n",
              "    }\n",
              "\n",
              "    .colab-df-convert:hover {\n",
              "      background-color: #E2EBFA;\n",
              "      box-shadow: 0px 1px 2px rgba(60, 64, 67, 0.3), 0px 1px 3px 1px rgba(60, 64, 67, 0.15);\n",
              "      fill: #174EA6;\n",
              "    }\n",
              "\n",
              "    .colab-df-buttons div {\n",
              "      margin-bottom: 4px;\n",
              "    }\n",
              "\n",
              "    [theme=dark] .colab-df-convert {\n",
              "      background-color: #3B4455;\n",
              "      fill: #D2E3FC;\n",
              "    }\n",
              "\n",
              "    [theme=dark] .colab-df-convert:hover {\n",
              "      background-color: #434B5C;\n",
              "      box-shadow: 0px 1px 3px 1px rgba(0, 0, 0, 0.15);\n",
              "      filter: drop-shadow(0px 1px 2px rgba(0, 0, 0, 0.3));\n",
              "      fill: #FFFFFF;\n",
              "    }\n",
              "  </style>\n",
              "\n",
              "    <script>\n",
              "      const buttonEl =\n",
              "        document.querySelector('#df-fb855675-f806-4cb3-8f41-5189c8ce901a button.colab-df-convert');\n",
              "      buttonEl.style.display =\n",
              "        google.colab.kernel.accessAllowed ? 'block' : 'none';\n",
              "\n",
              "      async function convertToInteractive(key) {\n",
              "        const element = document.querySelector('#df-fb855675-f806-4cb3-8f41-5189c8ce901a');\n",
              "        const dataTable =\n",
              "          await google.colab.kernel.invokeFunction('convertToInteractive',\n",
              "                                                    [key], {});\n",
              "        if (!dataTable) return;\n",
              "\n",
              "        const docLinkHtml = 'Like what you see? Visit the ' +\n",
              "          '<a target=\"_blank\" href=https://colab.research.google.com/notebooks/data_table.ipynb>data table notebook</a>'\n",
              "          + ' to learn more about interactive tables.';\n",
              "        element.innerHTML = '';\n",
              "        dataTable['output_type'] = 'display_data';\n",
              "        await google.colab.output.renderOutput(dataTable, element);\n",
              "        const docLink = document.createElement('div');\n",
              "        docLink.innerHTML = docLinkHtml;\n",
              "        element.appendChild(docLink);\n",
              "      }\n",
              "    </script>\n",
              "  </div>\n",
              "\n",
              "\n",
              "    <div id=\"df-b930cab2-4ec7-4e5c-921d-0a39c3476d50\">\n",
              "      <button class=\"colab-df-quickchart\" onclick=\"quickchart('df-b930cab2-4ec7-4e5c-921d-0a39c3476d50')\"\n",
              "                title=\"Suggest charts\"\n",
              "                style=\"display:none;\">\n",
              "\n",
              "<svg xmlns=\"http://www.w3.org/2000/svg\" height=\"24px\"viewBox=\"0 0 24 24\"\n",
              "     width=\"24px\">\n",
              "    <g>\n",
              "        <path d=\"M19 3H5c-1.1 0-2 .9-2 2v14c0 1.1.9 2 2 2h14c1.1 0 2-.9 2-2V5c0-1.1-.9-2-2-2zM9 17H7v-7h2v7zm4 0h-2V7h2v10zm4 0h-2v-4h2v4z\"/>\n",
              "    </g>\n",
              "</svg>\n",
              "      </button>\n",
              "\n",
              "<style>\n",
              "  .colab-df-quickchart {\n",
              "      --bg-color: #E8F0FE;\n",
              "      --fill-color: #1967D2;\n",
              "      --hover-bg-color: #E2EBFA;\n",
              "      --hover-fill-color: #174EA6;\n",
              "      --disabled-fill-color: #AAA;\n",
              "      --disabled-bg-color: #DDD;\n",
              "  }\n",
              "\n",
              "  [theme=dark] .colab-df-quickchart {\n",
              "      --bg-color: #3B4455;\n",
              "      --fill-color: #D2E3FC;\n",
              "      --hover-bg-color: #434B5C;\n",
              "      --hover-fill-color: #FFFFFF;\n",
              "      --disabled-bg-color: #3B4455;\n",
              "      --disabled-fill-color: #666;\n",
              "  }\n",
              "\n",
              "  .colab-df-quickchart {\n",
              "    background-color: var(--bg-color);\n",
              "    border: none;\n",
              "    border-radius: 50%;\n",
              "    cursor: pointer;\n",
              "    display: none;\n",
              "    fill: var(--fill-color);\n",
              "    height: 32px;\n",
              "    padding: 0;\n",
              "    width: 32px;\n",
              "  }\n",
              "\n",
              "  .colab-df-quickchart:hover {\n",
              "    background-color: var(--hover-bg-color);\n",
              "    box-shadow: 0 1px 2px rgba(60, 64, 67, 0.3), 0 1px 3px 1px rgba(60, 64, 67, 0.15);\n",
              "    fill: var(--button-hover-fill-color);\n",
              "  }\n",
              "\n",
              "  .colab-df-quickchart-complete:disabled,\n",
              "  .colab-df-quickchart-complete:disabled:hover {\n",
              "    background-color: var(--disabled-bg-color);\n",
              "    fill: var(--disabled-fill-color);\n",
              "    box-shadow: none;\n",
              "  }\n",
              "\n",
              "  .colab-df-spinner {\n",
              "    border: 2px solid var(--fill-color);\n",
              "    border-color: transparent;\n",
              "    border-bottom-color: var(--fill-color);\n",
              "    animation:\n",
              "      spin 1s steps(1) infinite;\n",
              "  }\n",
              "\n",
              "  @keyframes spin {\n",
              "    0% {\n",
              "      border-color: transparent;\n",
              "      border-bottom-color: var(--fill-color);\n",
              "      border-left-color: var(--fill-color);\n",
              "    }\n",
              "    20% {\n",
              "      border-color: transparent;\n",
              "      border-left-color: var(--fill-color);\n",
              "      border-top-color: var(--fill-color);\n",
              "    }\n",
              "    30% {\n",
              "      border-color: transparent;\n",
              "      border-left-color: var(--fill-color);\n",
              "      border-top-color: var(--fill-color);\n",
              "      border-right-color: var(--fill-color);\n",
              "    }\n",
              "    40% {\n",
              "      border-color: transparent;\n",
              "      border-right-color: var(--fill-color);\n",
              "      border-top-color: var(--fill-color);\n",
              "    }\n",
              "    60% {\n",
              "      border-color: transparent;\n",
              "      border-right-color: var(--fill-color);\n",
              "    }\n",
              "    80% {\n",
              "      border-color: transparent;\n",
              "      border-right-color: var(--fill-color);\n",
              "      border-bottom-color: var(--fill-color);\n",
              "    }\n",
              "    90% {\n",
              "      border-color: transparent;\n",
              "      border-bottom-color: var(--fill-color);\n",
              "    }\n",
              "  }\n",
              "</style>\n",
              "\n",
              "      <script>\n",
              "        async function quickchart(key) {\n",
              "          const quickchartButtonEl =\n",
              "            document.querySelector('#' + key + ' button');\n",
              "          quickchartButtonEl.disabled = true;  // To prevent multiple clicks.\n",
              "          quickchartButtonEl.classList.add('colab-df-spinner');\n",
              "          try {\n",
              "            const charts = await google.colab.kernel.invokeFunction(\n",
              "                'suggestCharts', [key], {});\n",
              "          } catch (error) {\n",
              "            console.error('Error during call to suggestCharts:', error);\n",
              "          }\n",
              "          quickchartButtonEl.classList.remove('colab-df-spinner');\n",
              "          quickchartButtonEl.classList.add('colab-df-quickchart-complete');\n",
              "        }\n",
              "        (() => {\n",
              "          let quickchartButtonEl =\n",
              "            document.querySelector('#df-b930cab2-4ec7-4e5c-921d-0a39c3476d50 button');\n",
              "          quickchartButtonEl.style.display =\n",
              "            google.colab.kernel.accessAllowed ? 'block' : 'none';\n",
              "        })();\n",
              "      </script>\n",
              "    </div>\n",
              "\n",
              "    </div>\n",
              "  </div>\n"
            ],
            "application/vnd.google.colaboratory.intrinsic+json": {
              "type": "dataframe",
              "variable_name": "df",
              "summary": "{\n  \"name\": \"df\",\n  \"rows\": 21221,\n  \"fields\": [\n    {\n      \"column\": \"time:timestamp\",\n      \"properties\": {\n        \"dtype\": \"date\",\n        \"min\": \"2010-01-13 06:40:25+00:00\",\n        \"max\": \"2014-01-03 11:20:58+00:00\",\n        \"num_unique_values\": 21157,\n        \"samples\": [\n          \"2012-03-05 11:29:12+00:00\",\n          \"2012-02-13 09:32:49+00:00\",\n          \"2011-05-03 06:17:47+00:00\"\n        ],\n        \"semantic_type\": \"\",\n        \"description\": \"\"\n      }\n    },\n    {\n      \"column\": \"Activity\",\n      \"properties\": {\n        \"dtype\": \"category\",\n        \"num_unique_values\": 14,\n        \"samples\": [\n          \"INVALID\",\n          \"Resolve SW anomaly\",\n          \"Assign seriousness\"\n        ],\n        \"semantic_type\": \"\",\n        \"description\": \"\"\n      }\n    },\n    {\n      \"column\": \"Resource\",\n      \"properties\": {\n        \"dtype\": \"number\",\n        \"std\": 2,\n        \"min\": 0,\n        \"max\": 9,\n        \"num_unique_values\": 10,\n        \"samples\": [\n          8,\n          5,\n          7\n        ],\n        \"semantic_type\": \"\",\n        \"description\": \"\"\n      }\n    },\n    {\n      \"column\": \"case:concept:name\",\n      \"properties\": {\n        \"dtype\": \"category\",\n        \"num_unique_values\": 4580,\n        \"samples\": [\n          \"Case3315\",\n          \"Case2176\",\n          \"Case1968\"\n        ],\n        \"semantic_type\": \"\",\n        \"description\": \"\"\n      }\n    },\n    {\n      \"column\": \"case:variant-index\",\n      \"properties\": {\n        \"dtype\": \"number\",\n        \"std\": 35,\n        \"min\": 1,\n        \"max\": 226,\n        \"num_unique_values\": 226,\n        \"samples\": [\n          19,\n          211,\n          44\n        ],\n        \"semantic_type\": \"\",\n        \"description\": \"\"\n      }\n    },\n    {\n      \"column\": \"new_date\",\n      \"properties\": {\n        \"dtype\": \"date\",\n        \"min\": \"2010-01-13 00:00:00+00:00\",\n        \"max\": \"2014-01-03 00:00:00+00:00\",\n        \"num_unique_values\": 1305,\n        \"samples\": [\n          \"2013-07-29 00:00:00+00:00\",\n          \"2011-07-30 00:00:00+00:00\",\n          \"2012-07-09 00:00:00+00:00\"\n        ],\n        \"semantic_type\": \"\",\n        \"description\": \"\"\n      }\n    },\n    {\n      \"column\": \"new_time\",\n      \"properties\": {\n        \"dtype\": \"date\",\n        \"min\": \"1900-01-01 00:02:25\",\n        \"max\": \"1900-01-01 18:57:12\",\n        \"num_unique_values\": 15710,\n        \"samples\": [\n          \"1900-01-01 06:12:15\",\n          \"1900-01-01 07:48:14\",\n          \"1900-01-01 13:43:16\"\n        ],\n        \"semantic_type\": \"\",\n        \"description\": \"\"\n      }\n    },\n    {\n      \"column\": \"time_lapsed\",\n      \"properties\": {\n        \"dtype\": \"number\",\n        \"std\": 1483251.4162954101,\n        \"min\": 0.0,\n        \"max\": 5183565.0,\n        \"num_unique_values\": 14707,\n        \"samples\": [\n          686331.0,\n          604213.0,\n          3739167.0\n        ],\n        \"semantic_type\": \"\",\n        \"description\": \"\"\n      }\n    },\n    {\n      \"column\": \"Stage_no\",\n      \"properties\": {\n        \"dtype\": \"number\",\n        \"std\": 3.072519871207139,\n        \"min\": 1.0,\n        \"max\": 10.0,\n        \"num_unique_values\": 14,\n        \"samples\": [\n          9.1,\n          7.2,\n          2.0\n        ],\n        \"semantic_type\": \"\",\n        \"description\": \"\"\n      }\n    }\n  ]\n}"
            }
          },
          "metadata": {},
          "execution_count": 30
        }
      ],
      "source": [
        "df.head()"
      ]
    },
    {
      "cell_type": "markdown",
      "metadata": {
        "id": "SM0dh0HJluEB"
      },
      "source": [
        "One-Hot Encoding"
      ]
    },
    {
      "cell_type": "code",
      "execution_count": 31,
      "metadata": {
        "id": "LTPcvpa_ltoM"
      },
      "outputs": [],
      "source": [
        "from sklearn.preprocessing import OneHotEncoder"
      ]
    },
    {
      "cell_type": "code",
      "execution_count": 32,
      "metadata": {
        "id": "OKc4v4J-0mwj"
      },
      "outputs": [],
      "source": [
        "one_hot_enc = OneHotEncoder(sparse_output=False)"
      ]
    },
    {
      "cell_type": "code",
      "execution_count": 33,
      "metadata": {
        "id": "RKVhjoKDoMp-"
      },
      "outputs": [],
      "source": [
        "arr = one_hot_enc.fit_transform(df[['Stage_no']])"
      ]
    },
    {
      "cell_type": "code",
      "execution_count": 34,
      "metadata": {
        "id": "yZjH6Wnj0FhC"
      },
      "outputs": [],
      "source": [
        "feature_names = one_hot_enc.get_feature_names_out(['Stage_no'])"
      ]
    },
    {
      "cell_type": "code",
      "execution_count": 35,
      "metadata": {
        "id": "snrrpOpV0TiV"
      },
      "outputs": [],
      "source": [
        "df_encoded = pd.DataFrame(arr, columns=feature_names)"
      ]
    },
    {
      "cell_type": "code",
      "execution_count": 36,
      "metadata": {
        "id": "YjFnGYCu0sGH"
      },
      "outputs": [],
      "source": [
        "df.drop('Stage_no', axis=1, inplace=True)"
      ]
    },
    {
      "cell_type": "code",
      "execution_count": 37,
      "metadata": {
        "id": "rWMjyrF40wno"
      },
      "outputs": [],
      "source": [
        "df = pd.concat([df, df_encoded], axis=1)"
      ]
    },
    {
      "cell_type": "code",
      "execution_count": 38,
      "metadata": {
        "colab": {
          "base_uri": "https://localhost:8080/",
          "height": 446
        },
        "id": "KzUIxMIN0yjP",
        "outputId": "032a069b-b12b-48f0-fc00-34146e0abd5d"
      },
      "outputs": [
        {
          "output_type": "execute_result",
          "data": {
            "text/plain": [
              "             time:timestamp               Activity  Resource  \\\n",
              "0 2010-01-13 06:40:25+00:00     Assign seriousness         2   \n",
              "1 2010-01-29 06:52:27+00:00  Take in charge ticket         2   \n",
              "2 2010-01-29 06:52:34+00:00         Resolve ticket         2   \n",
              "3 2010-02-13 06:52:48+00:00                 Closed         5   \n",
              "4 2010-01-13 10:26:04+00:00     Assign seriousness         2   \n",
              "\n",
              "  case:concept:name  case:variant-index                  new_date  \\\n",
              "0          Case3608                  33 2010-01-13 00:00:00+00:00   \n",
              "1          Case3608                  33 2010-01-29 00:00:00+00:00   \n",
              "2          Case3608                  33 2010-01-29 00:00:00+00:00   \n",
              "3          Case3608                  33 2010-02-13 00:00:00+00:00   \n",
              "4          Case2748                   1 2010-01-13 00:00:00+00:00   \n",
              "\n",
              "             new_time  time_lapsed  Stage_no_1.0  Stage_no_2.0  ...  \\\n",
              "0 1900-01-01 06:40:25          0.0           0.0           1.0  ...   \n",
              "1 1900-01-01 06:52:27    1383122.0           0.0           0.0  ...   \n",
              "2 1900-01-01 06:52:34    1383129.0           0.0           0.0  ...   \n",
              "3 1900-01-01 06:52:48    2679143.0           0.0           0.0  ...   \n",
              "4 1900-01-01 10:26:04          0.0           0.0           1.0  ...   \n",
              "\n",
              "   Stage_no_5.0  Stage_no_6.0  Stage_no_7.0  Stage_no_7.1  Stage_no_7.2  \\\n",
              "0           0.0           0.0           0.0           0.0           0.0   \n",
              "1           0.0           0.0           0.0           0.0           0.0   \n",
              "2           0.0           0.0           1.0           0.0           0.0   \n",
              "3           0.0           0.0           0.0           0.0           0.0   \n",
              "4           0.0           0.0           0.0           0.0           0.0   \n",
              "\n",
              "   Stage_no_8.0  Stage_no_9.0  Stage_no_9.1  Stage_no_9.2  Stage_no_10.0  \n",
              "0           0.0           0.0           0.0           0.0            0.0  \n",
              "1           0.0           0.0           0.0           0.0            0.0  \n",
              "2           0.0           0.0           0.0           0.0            0.0  \n",
              "3           0.0           0.0           0.0           0.0            1.0  \n",
              "4           0.0           0.0           0.0           0.0            0.0  \n",
              "\n",
              "[5 rows x 22 columns]"
            ],
            "text/html": [
              "\n",
              "  <div id=\"df-8bc433cc-7432-445b-81bd-5efe7f040fba\" class=\"colab-df-container\">\n",
              "    <div>\n",
              "<style scoped>\n",
              "    .dataframe tbody tr th:only-of-type {\n",
              "        vertical-align: middle;\n",
              "    }\n",
              "\n",
              "    .dataframe tbody tr th {\n",
              "        vertical-align: top;\n",
              "    }\n",
              "\n",
              "    .dataframe thead th {\n",
              "        text-align: right;\n",
              "    }\n",
              "</style>\n",
              "<table border=\"1\" class=\"dataframe\">\n",
              "  <thead>\n",
              "    <tr style=\"text-align: right;\">\n",
              "      <th></th>\n",
              "      <th>time:timestamp</th>\n",
              "      <th>Activity</th>\n",
              "      <th>Resource</th>\n",
              "      <th>case:concept:name</th>\n",
              "      <th>case:variant-index</th>\n",
              "      <th>new_date</th>\n",
              "      <th>new_time</th>\n",
              "      <th>time_lapsed</th>\n",
              "      <th>Stage_no_1.0</th>\n",
              "      <th>Stage_no_2.0</th>\n",
              "      <th>...</th>\n",
              "      <th>Stage_no_5.0</th>\n",
              "      <th>Stage_no_6.0</th>\n",
              "      <th>Stage_no_7.0</th>\n",
              "      <th>Stage_no_7.1</th>\n",
              "      <th>Stage_no_7.2</th>\n",
              "      <th>Stage_no_8.0</th>\n",
              "      <th>Stage_no_9.0</th>\n",
              "      <th>Stage_no_9.1</th>\n",
              "      <th>Stage_no_9.2</th>\n",
              "      <th>Stage_no_10.0</th>\n",
              "    </tr>\n",
              "  </thead>\n",
              "  <tbody>\n",
              "    <tr>\n",
              "      <th>0</th>\n",
              "      <td>2010-01-13 06:40:25+00:00</td>\n",
              "      <td>Assign seriousness</td>\n",
              "      <td>2</td>\n",
              "      <td>Case3608</td>\n",
              "      <td>33</td>\n",
              "      <td>2010-01-13 00:00:00+00:00</td>\n",
              "      <td>1900-01-01 06:40:25</td>\n",
              "      <td>0.0</td>\n",
              "      <td>0.0</td>\n",
              "      <td>1.0</td>\n",
              "      <td>...</td>\n",
              "      <td>0.0</td>\n",
              "      <td>0.0</td>\n",
              "      <td>0.0</td>\n",
              "      <td>0.0</td>\n",
              "      <td>0.0</td>\n",
              "      <td>0.0</td>\n",
              "      <td>0.0</td>\n",
              "      <td>0.0</td>\n",
              "      <td>0.0</td>\n",
              "      <td>0.0</td>\n",
              "    </tr>\n",
              "    <tr>\n",
              "      <th>1</th>\n",
              "      <td>2010-01-29 06:52:27+00:00</td>\n",
              "      <td>Take in charge ticket</td>\n",
              "      <td>2</td>\n",
              "      <td>Case3608</td>\n",
              "      <td>33</td>\n",
              "      <td>2010-01-29 00:00:00+00:00</td>\n",
              "      <td>1900-01-01 06:52:27</td>\n",
              "      <td>1383122.0</td>\n",
              "      <td>0.0</td>\n",
              "      <td>0.0</td>\n",
              "      <td>...</td>\n",
              "      <td>0.0</td>\n",
              "      <td>0.0</td>\n",
              "      <td>0.0</td>\n",
              "      <td>0.0</td>\n",
              "      <td>0.0</td>\n",
              "      <td>0.0</td>\n",
              "      <td>0.0</td>\n",
              "      <td>0.0</td>\n",
              "      <td>0.0</td>\n",
              "      <td>0.0</td>\n",
              "    </tr>\n",
              "    <tr>\n",
              "      <th>2</th>\n",
              "      <td>2010-01-29 06:52:34+00:00</td>\n",
              "      <td>Resolve ticket</td>\n",
              "      <td>2</td>\n",
              "      <td>Case3608</td>\n",
              "      <td>33</td>\n",
              "      <td>2010-01-29 00:00:00+00:00</td>\n",
              "      <td>1900-01-01 06:52:34</td>\n",
              "      <td>1383129.0</td>\n",
              "      <td>0.0</td>\n",
              "      <td>0.0</td>\n",
              "      <td>...</td>\n",
              "      <td>0.0</td>\n",
              "      <td>0.0</td>\n",
              "      <td>1.0</td>\n",
              "      <td>0.0</td>\n",
              "      <td>0.0</td>\n",
              "      <td>0.0</td>\n",
              "      <td>0.0</td>\n",
              "      <td>0.0</td>\n",
              "      <td>0.0</td>\n",
              "      <td>0.0</td>\n",
              "    </tr>\n",
              "    <tr>\n",
              "      <th>3</th>\n",
              "      <td>2010-02-13 06:52:48+00:00</td>\n",
              "      <td>Closed</td>\n",
              "      <td>5</td>\n",
              "      <td>Case3608</td>\n",
              "      <td>33</td>\n",
              "      <td>2010-02-13 00:00:00+00:00</td>\n",
              "      <td>1900-01-01 06:52:48</td>\n",
              "      <td>2679143.0</td>\n",
              "      <td>0.0</td>\n",
              "      <td>0.0</td>\n",
              "      <td>...</td>\n",
              "      <td>0.0</td>\n",
              "      <td>0.0</td>\n",
              "      <td>0.0</td>\n",
              "      <td>0.0</td>\n",
              "      <td>0.0</td>\n",
              "      <td>0.0</td>\n",
              "      <td>0.0</td>\n",
              "      <td>0.0</td>\n",
              "      <td>0.0</td>\n",
              "      <td>1.0</td>\n",
              "    </tr>\n",
              "    <tr>\n",
              "      <th>4</th>\n",
              "      <td>2010-01-13 10:26:04+00:00</td>\n",
              "      <td>Assign seriousness</td>\n",
              "      <td>2</td>\n",
              "      <td>Case2748</td>\n",
              "      <td>1</td>\n",
              "      <td>2010-01-13 00:00:00+00:00</td>\n",
              "      <td>1900-01-01 10:26:04</td>\n",
              "      <td>0.0</td>\n",
              "      <td>0.0</td>\n",
              "      <td>1.0</td>\n",
              "      <td>...</td>\n",
              "      <td>0.0</td>\n",
              "      <td>0.0</td>\n",
              "      <td>0.0</td>\n",
              "      <td>0.0</td>\n",
              "      <td>0.0</td>\n",
              "      <td>0.0</td>\n",
              "      <td>0.0</td>\n",
              "      <td>0.0</td>\n",
              "      <td>0.0</td>\n",
              "      <td>0.0</td>\n",
              "    </tr>\n",
              "  </tbody>\n",
              "</table>\n",
              "<p>5 rows × 22 columns</p>\n",
              "</div>\n",
              "    <div class=\"colab-df-buttons\">\n",
              "\n",
              "  <div class=\"colab-df-container\">\n",
              "    <button class=\"colab-df-convert\" onclick=\"convertToInteractive('df-8bc433cc-7432-445b-81bd-5efe7f040fba')\"\n",
              "            title=\"Convert this dataframe to an interactive table.\"\n",
              "            style=\"display:none;\">\n",
              "\n",
              "  <svg xmlns=\"http://www.w3.org/2000/svg\" height=\"24px\" viewBox=\"0 -960 960 960\">\n",
              "    <path d=\"M120-120v-720h720v720H120Zm60-500h600v-160H180v160Zm220 220h160v-160H400v160Zm0 220h160v-160H400v160ZM180-400h160v-160H180v160Zm440 0h160v-160H620v160ZM180-180h160v-160H180v160Zm440 0h160v-160H620v160Z\"/>\n",
              "  </svg>\n",
              "    </button>\n",
              "\n",
              "  <style>\n",
              "    .colab-df-container {\n",
              "      display:flex;\n",
              "      gap: 12px;\n",
              "    }\n",
              "\n",
              "    .colab-df-convert {\n",
              "      background-color: #E8F0FE;\n",
              "      border: none;\n",
              "      border-radius: 50%;\n",
              "      cursor: pointer;\n",
              "      display: none;\n",
              "      fill: #1967D2;\n",
              "      height: 32px;\n",
              "      padding: 0 0 0 0;\n",
              "      width: 32px;\n",
              "    }\n",
              "\n",
              "    .colab-df-convert:hover {\n",
              "      background-color: #E2EBFA;\n",
              "      box-shadow: 0px 1px 2px rgba(60, 64, 67, 0.3), 0px 1px 3px 1px rgba(60, 64, 67, 0.15);\n",
              "      fill: #174EA6;\n",
              "    }\n",
              "\n",
              "    .colab-df-buttons div {\n",
              "      margin-bottom: 4px;\n",
              "    }\n",
              "\n",
              "    [theme=dark] .colab-df-convert {\n",
              "      background-color: #3B4455;\n",
              "      fill: #D2E3FC;\n",
              "    }\n",
              "\n",
              "    [theme=dark] .colab-df-convert:hover {\n",
              "      background-color: #434B5C;\n",
              "      box-shadow: 0px 1px 3px 1px rgba(0, 0, 0, 0.15);\n",
              "      filter: drop-shadow(0px 1px 2px rgba(0, 0, 0, 0.3));\n",
              "      fill: #FFFFFF;\n",
              "    }\n",
              "  </style>\n",
              "\n",
              "    <script>\n",
              "      const buttonEl =\n",
              "        document.querySelector('#df-8bc433cc-7432-445b-81bd-5efe7f040fba button.colab-df-convert');\n",
              "      buttonEl.style.display =\n",
              "        google.colab.kernel.accessAllowed ? 'block' : 'none';\n",
              "\n",
              "      async function convertToInteractive(key) {\n",
              "        const element = document.querySelector('#df-8bc433cc-7432-445b-81bd-5efe7f040fba');\n",
              "        const dataTable =\n",
              "          await google.colab.kernel.invokeFunction('convertToInteractive',\n",
              "                                                    [key], {});\n",
              "        if (!dataTable) return;\n",
              "\n",
              "        const docLinkHtml = 'Like what you see? Visit the ' +\n",
              "          '<a target=\"_blank\" href=https://colab.research.google.com/notebooks/data_table.ipynb>data table notebook</a>'\n",
              "          + ' to learn more about interactive tables.';\n",
              "        element.innerHTML = '';\n",
              "        dataTable['output_type'] = 'display_data';\n",
              "        await google.colab.output.renderOutput(dataTable, element);\n",
              "        const docLink = document.createElement('div');\n",
              "        docLink.innerHTML = docLinkHtml;\n",
              "        element.appendChild(docLink);\n",
              "      }\n",
              "    </script>\n",
              "  </div>\n",
              "\n",
              "\n",
              "    <div id=\"df-97ff85ef-a42f-4fc1-8c88-377a20f1dec8\">\n",
              "      <button class=\"colab-df-quickchart\" onclick=\"quickchart('df-97ff85ef-a42f-4fc1-8c88-377a20f1dec8')\"\n",
              "                title=\"Suggest charts\"\n",
              "                style=\"display:none;\">\n",
              "\n",
              "<svg xmlns=\"http://www.w3.org/2000/svg\" height=\"24px\"viewBox=\"0 0 24 24\"\n",
              "     width=\"24px\">\n",
              "    <g>\n",
              "        <path d=\"M19 3H5c-1.1 0-2 .9-2 2v14c0 1.1.9 2 2 2h14c1.1 0 2-.9 2-2V5c0-1.1-.9-2-2-2zM9 17H7v-7h2v7zm4 0h-2V7h2v10zm4 0h-2v-4h2v4z\"/>\n",
              "    </g>\n",
              "</svg>\n",
              "      </button>\n",
              "\n",
              "<style>\n",
              "  .colab-df-quickchart {\n",
              "      --bg-color: #E8F0FE;\n",
              "      --fill-color: #1967D2;\n",
              "      --hover-bg-color: #E2EBFA;\n",
              "      --hover-fill-color: #174EA6;\n",
              "      --disabled-fill-color: #AAA;\n",
              "      --disabled-bg-color: #DDD;\n",
              "  }\n",
              "\n",
              "  [theme=dark] .colab-df-quickchart {\n",
              "      --bg-color: #3B4455;\n",
              "      --fill-color: #D2E3FC;\n",
              "      --hover-bg-color: #434B5C;\n",
              "      --hover-fill-color: #FFFFFF;\n",
              "      --disabled-bg-color: #3B4455;\n",
              "      --disabled-fill-color: #666;\n",
              "  }\n",
              "\n",
              "  .colab-df-quickchart {\n",
              "    background-color: var(--bg-color);\n",
              "    border: none;\n",
              "    border-radius: 50%;\n",
              "    cursor: pointer;\n",
              "    display: none;\n",
              "    fill: var(--fill-color);\n",
              "    height: 32px;\n",
              "    padding: 0;\n",
              "    width: 32px;\n",
              "  }\n",
              "\n",
              "  .colab-df-quickchart:hover {\n",
              "    background-color: var(--hover-bg-color);\n",
              "    box-shadow: 0 1px 2px rgba(60, 64, 67, 0.3), 0 1px 3px 1px rgba(60, 64, 67, 0.15);\n",
              "    fill: var(--button-hover-fill-color);\n",
              "  }\n",
              "\n",
              "  .colab-df-quickchart-complete:disabled,\n",
              "  .colab-df-quickchart-complete:disabled:hover {\n",
              "    background-color: var(--disabled-bg-color);\n",
              "    fill: var(--disabled-fill-color);\n",
              "    box-shadow: none;\n",
              "  }\n",
              "\n",
              "  .colab-df-spinner {\n",
              "    border: 2px solid var(--fill-color);\n",
              "    border-color: transparent;\n",
              "    border-bottom-color: var(--fill-color);\n",
              "    animation:\n",
              "      spin 1s steps(1) infinite;\n",
              "  }\n",
              "\n",
              "  @keyframes spin {\n",
              "    0% {\n",
              "      border-color: transparent;\n",
              "      border-bottom-color: var(--fill-color);\n",
              "      border-left-color: var(--fill-color);\n",
              "    }\n",
              "    20% {\n",
              "      border-color: transparent;\n",
              "      border-left-color: var(--fill-color);\n",
              "      border-top-color: var(--fill-color);\n",
              "    }\n",
              "    30% {\n",
              "      border-color: transparent;\n",
              "      border-left-color: var(--fill-color);\n",
              "      border-top-color: var(--fill-color);\n",
              "      border-right-color: var(--fill-color);\n",
              "    }\n",
              "    40% {\n",
              "      border-color: transparent;\n",
              "      border-right-color: var(--fill-color);\n",
              "      border-top-color: var(--fill-color);\n",
              "    }\n",
              "    60% {\n",
              "      border-color: transparent;\n",
              "      border-right-color: var(--fill-color);\n",
              "    }\n",
              "    80% {\n",
              "      border-color: transparent;\n",
              "      border-right-color: var(--fill-color);\n",
              "      border-bottom-color: var(--fill-color);\n",
              "    }\n",
              "    90% {\n",
              "      border-color: transparent;\n",
              "      border-bottom-color: var(--fill-color);\n",
              "    }\n",
              "  }\n",
              "</style>\n",
              "\n",
              "      <script>\n",
              "        async function quickchart(key) {\n",
              "          const quickchartButtonEl =\n",
              "            document.querySelector('#' + key + ' button');\n",
              "          quickchartButtonEl.disabled = true;  // To prevent multiple clicks.\n",
              "          quickchartButtonEl.classList.add('colab-df-spinner');\n",
              "          try {\n",
              "            const charts = await google.colab.kernel.invokeFunction(\n",
              "                'suggestCharts', [key], {});\n",
              "          } catch (error) {\n",
              "            console.error('Error during call to suggestCharts:', error);\n",
              "          }\n",
              "          quickchartButtonEl.classList.remove('colab-df-spinner');\n",
              "          quickchartButtonEl.classList.add('colab-df-quickchart-complete');\n",
              "        }\n",
              "        (() => {\n",
              "          let quickchartButtonEl =\n",
              "            document.querySelector('#df-97ff85ef-a42f-4fc1-8c88-377a20f1dec8 button');\n",
              "          quickchartButtonEl.style.display =\n",
              "            google.colab.kernel.accessAllowed ? 'block' : 'none';\n",
              "        })();\n",
              "      </script>\n",
              "    </div>\n",
              "\n",
              "    </div>\n",
              "  </div>\n"
            ],
            "application/vnd.google.colaboratory.intrinsic+json": {
              "type": "dataframe",
              "variable_name": "df"
            }
          },
          "metadata": {},
          "execution_count": 38
        }
      ],
      "source": [
        "df.head()"
      ]
    },
    {
      "cell_type": "code",
      "execution_count": 39,
      "metadata": {
        "colab": {
          "base_uri": "https://localhost:8080/"
        },
        "id": "LnUHbeD6h9a6",
        "outputId": "17203fdd-0ea8-4a3f-8d2a-d375e3c652a4"
      },
      "outputs": [
        {
          "output_type": "execute_result",
          "data": {
            "text/plain": [
              "Index(['time:timestamp', 'Activity', 'Resource', 'case:concept:name',\n",
              "       'case:variant-index', 'new_date', 'new_time', 'time_lapsed',\n",
              "       'Stage_no_1.0', 'Stage_no_2.0', 'Stage_no_3.0', 'Stage_no_4.0',\n",
              "       'Stage_no_5.0', 'Stage_no_6.0', 'Stage_no_7.0', 'Stage_no_7.1',\n",
              "       'Stage_no_7.2', 'Stage_no_8.0', 'Stage_no_9.0', 'Stage_no_9.1',\n",
              "       'Stage_no_9.2', 'Stage_no_10.0'],\n",
              "      dtype='object')"
            ]
          },
          "metadata": {},
          "execution_count": 39
        }
      ],
      "source": [
        "df.columns"
      ]
    },
    {
      "cell_type": "markdown",
      "metadata": {
        "id": "NkypYs3zac39"
      },
      "source": [
        "Splitting Data"
      ]
    },
    {
      "cell_type": "code",
      "execution_count": 40,
      "metadata": {
        "id": "hn2NZhc3hUqL"
      },
      "outputs": [],
      "source": [
        "from sklearn.model_selection import TimeSeriesSplit\n",
        "from tensorflow.keras.preprocessing.sequence import pad_sequences"
      ]
    },
    {
      "cell_type": "code",
      "execution_count": 52,
      "metadata": {
        "id": "ib1u00MUBw8z"
      },
      "outputs": [],
      "source": [
        "X_sequences = []\n",
        "y_act = []\n",
        "y_time = []"
      ]
    },
    {
      "cell_type": "code",
      "execution_count": 53,
      "metadata": {
        "id": "llAeYFFCwLZL"
      },
      "outputs": [],
      "source": [
        "case_groups = df.groupby('case:concept:name')\n",
        "max_len = 14  # As per your model's expected timesteps\n",
        "num_features = 16  # Must match your feature count"
      ]
    },
    {
      "cell_type": "code",
      "execution_count": 54,
      "metadata": {
        "id": "EB-j30KJiAw0"
      },
      "outputs": [],
      "source": [
        "features_col = ['Stage_no_1.0', 'Stage_no_2.0', 'Stage_no_3.0', 'Stage_no_4.0',\n",
        "       'Stage_no_5.0', 'Stage_no_6.0', 'Stage_no_7.0', 'Stage_no_7.1',\n",
        "       'Stage_no_7.2', 'Stage_no_8.0', 'Stage_no_9.0', 'Stage_no_9.1',\n",
        "       'Stage_no_9.2', 'Stage_no_10.0','Resource','case:variant-index']"
      ]
    },
    {
      "cell_type": "code",
      "execution_count": 55,
      "metadata": {
        "id": "GcTMZj32pvIm"
      },
      "outputs": [],
      "source": [
        "sequence = ['Stage_no_1.0', 'Stage_no_2.0', 'Stage_no_3.0', 'Stage_no_4.0',\n",
        "       'Stage_no_5.0', 'Stage_no_6.0', 'Stage_no_7.0', 'Stage_no_7.1',\n",
        "       'Stage_no_7.2', 'Stage_no_8.0', 'Stage_no_9.0', 'Stage_no_9.1',\n",
        "       'Stage_no_9.2', 'Stage_no_10.0']"
      ]
    },
    {
      "cell_type": "code",
      "execution_count": 56,
      "metadata": {
        "colab": {
          "base_uri": "https://localhost:8080/"
        },
        "id": "VRauNnh00pKx",
        "outputId": "3a522795-40db-48b9-dee2-b94e32351870"
      },
      "outputs": [
        {
          "output_type": "stream",
          "name": "stdout",
          "text": [
            "Group sizes: 21221\n"
          ]
        }
      ],
      "source": [
        "group_sizes = [len(group) for _, group in df.groupby('case:concept:name')]\n",
        "print(\"Group sizes:\", sum(group_sizes))"
      ]
    },
    {
      "cell_type": "code",
      "execution_count": 57,
      "metadata": {
        "colab": {
          "base_uri": "https://localhost:8080/"
        },
        "id": "aBebLCNuWki_",
        "outputId": "0d6a7ff6-b568-4479-f9e2-a27731d3fd1e"
      },
      "outputs": [
        {
          "output_type": "execute_result",
          "data": {
            "text/plain": [
              "4580"
            ]
          },
          "metadata": {},
          "execution_count": 57
        }
      ],
      "source": [
        "len(group_sizes)"
      ]
    },
    {
      "cell_type": "code",
      "source": [
        "from sklearn.preprocessing import MinMaxScaler\n",
        "\n",
        "df['time_lapsed'] = MinMaxScaler().fit_transform(np.array(df['time_lapsed']).reshape(-1,1))"
      ],
      "metadata": {
        "id": "nVgumdWRF-tN"
      },
      "execution_count": 51,
      "outputs": []
    },
    {
      "cell_type": "code",
      "execution_count": 58,
      "metadata": {
        "id": "DU40VXc_mt0R"
      },
      "outputs": [],
      "source": [
        "for _, group in case_groups:\n",
        "    #Lets sort of the values\n",
        "    group = group.sort_values('time:timestamp')\n",
        "\n",
        "    #Lets do normalization\n",
        "    group['time_lapsed'] = group['time_lapsed'].astype('float32')\n",
        "\n",
        "    # Process each row individually\n",
        "    for _, row in group.iterrows():\n",
        "        # Get features for this single row (shape: [16] for 16 features)\n",
        "        features = row[features_col].values\n",
        "\n",
        "        # Reshape to (1, 16) since pad_sequences expects sequences\n",
        "        features = features.reshape(1, -1)\n",
        "\n",
        "        # Pad to (14, 16)\n",
        "        padded = pad_sequences(\n",
        "            [features],  # Note the list wrapping\n",
        "            maxlen=max_len,  # 14\n",
        "            padding='post',\n",
        "            truncating='post',\n",
        "            dtype='float32'\n",
        "        )[0]  # Take the first element to remove extra dimension\n",
        "        X_sequences.append(padded)\n",
        "\n",
        "    #Creating the data for y_act\n",
        "    temp_y_act = group[sequence].to_numpy()\n",
        "    temp_y_act = np.vstack([\n",
        "      temp_y_act[1:,:],  # All rows after first\n",
        "      np.zeros((1, temp_y_act.shape[1]))  # Add zero row at end\n",
        "    ])\n",
        "    y_act.extend(temp_y_act)\n",
        "\n",
        "\n",
        "    #Creating the data for y_time\n",
        "    temp_y_time = group['time_lapsed'].to_numpy()\n",
        "    temp_y_time = np.concatenate([\n",
        "        temp_y_time[1:],  # Elements after first\n",
        "        [0]  # Append zero\n",
        "    ])\n",
        "    y_time.extend(temp_y_time)"
      ]
    },
    {
      "cell_type": "code",
      "execution_count": 59,
      "metadata": {
        "id": "ylQim7NCzSwD"
      },
      "outputs": [],
      "source": [
        "y_act = np.array(y_act)\n",
        "X_sequences = np.array(X_sequences)\n",
        "y_time = np.array(y_time)"
      ]
    },
    {
      "cell_type": "code",
      "execution_count": 60,
      "metadata": {
        "colab": {
          "base_uri": "https://localhost:8080/"
        },
        "id": "iQcJQe2_EuJM",
        "outputId": "b5541a83-06b6-40cd-890f-a67803d0d287"
      },
      "outputs": [
        {
          "output_type": "stream",
          "name": "stdout",
          "text": [
            "Size of X:(21221, 14, 16)\n",
            "Size of y_act:(21221, 14)\n",
            "Size of y_time:(21221,)\n"
          ]
        }
      ],
      "source": [
        "print('Size of X:'+ str(X_sequences.shape))\n",
        "print('Size of y_act:'+ str((y_act).shape))\n",
        "print('Size of y_time:'+ str((y_time).shape))"
      ]
    },
    {
      "cell_type": "code",
      "source": [
        "print('Sample of X:'+ str(X_sequences[0]))\n",
        "print('Sample of y_act:'+ str(y_act[0]))\n",
        "print('Sample of y_time:'+ str(y_time[0]))"
      ],
      "metadata": {
        "colab": {
          "base_uri": "https://localhost:8080/"
        },
        "id": "9-aV8ZdKFDM3",
        "outputId": "2b980ab7-9179-4e23-c91b-06804097b8d9"
      },
      "execution_count": 61,
      "outputs": [
        {
          "output_type": "stream",
          "name": "stdout",
          "text": [
            "Sample of X:[[ 0.  1.  0.  0.  0.  0.  0.  0.  0.  0.  0.  0.  0.  0.  1. 12.]\n",
            " [ 0.  0.  0.  0.  0.  0.  0.  0.  0.  0.  0.  0.  0.  0.  0.  0.]\n",
            " [ 0.  0.  0.  0.  0.  0.  0.  0.  0.  0.  0.  0.  0.  0.  0.  0.]\n",
            " [ 0.  0.  0.  0.  0.  0.  0.  0.  0.  0.  0.  0.  0.  0.  0.  0.]\n",
            " [ 0.  0.  0.  0.  0.  0.  0.  0.  0.  0.  0.  0.  0.  0.  0.  0.]\n",
            " [ 0.  0.  0.  0.  0.  0.  0.  0.  0.  0.  0.  0.  0.  0.  0.  0.]\n",
            " [ 0.  0.  0.  0.  0.  0.  0.  0.  0.  0.  0.  0.  0.  0.  0.  0.]\n",
            " [ 0.  0.  0.  0.  0.  0.  0.  0.  0.  0.  0.  0.  0.  0.  0.  0.]\n",
            " [ 0.  0.  0.  0.  0.  0.  0.  0.  0.  0.  0.  0.  0.  0.  0.  0.]\n",
            " [ 0.  0.  0.  0.  0.  0.  0.  0.  0.  0.  0.  0.  0.  0.  0.  0.]\n",
            " [ 0.  0.  0.  0.  0.  0.  0.  0.  0.  0.  0.  0.  0.  0.  0.  0.]\n",
            " [ 0.  0.  0.  0.  0.  0.  0.  0.  0.  0.  0.  0.  0.  0.  0.  0.]\n",
            " [ 0.  0.  0.  0.  0.  0.  0.  0.  0.  0.  0.  0.  0.  0.  0.  0.]\n",
            " [ 0.  0.  0.  0.  0.  0.  0.  0.  0.  0.  0.  0.  0.  0.  0.  0.]]\n",
            "Sample of y_act:[0. 0. 1. 0. 0. 0. 0. 0. 0. 0. 0. 0. 0. 0.]\n",
            "Sample of y_time:8.488366802339442e-06\n"
          ]
        }
      ]
    },
    {
      "cell_type": "code",
      "execution_count": null,
      "metadata": {
        "id": "BwVzEpx4dWvE"
      },
      "outputs": [],
      "source": [
        "#Logging the dataset into MLFlow\n",
        "dataset_source_url = 'https://github.com/pullz6/Research_inspired_Self-Explaining-Neural-Networks-for-Business-Process-Monitoring/blob/main/Data/Helpdesk.csv'\n",
        "dataset = mlflow.data.from_pandas(\n",
        "    df, source=dataset_source_url, name=\"HelpDesk\", targets=\"Activity\"\n",
        ")"
      ]
    },
    {
      "cell_type": "markdown",
      "metadata": {
        "id": "hqQR0oakscOe"
      },
      "source": [
        "Model building"
      ]
    },
    {
      "cell_type": "code",
      "execution_count": 50,
      "metadata": {
        "colab": {
          "base_uri": "https://localhost:8080/"
        },
        "id": "zcj0SyY2NkzL",
        "outputId": "12017995-291b-4500-80cd-57dde5c23568"
      },
      "outputs": [
        {
          "output_type": "stream",
          "name": "stdout",
          "text": [
            "Requirement already satisfied: keras in /usr/local/lib/python3.11/dist-packages (3.8.0)\n",
            "Requirement already satisfied: absl-py in /usr/local/lib/python3.11/dist-packages (from keras) (1.4.0)\n",
            "Requirement already satisfied: numpy in /usr/local/lib/python3.11/dist-packages (from keras) (2.0.2)\n",
            "Requirement already satisfied: rich in /usr/local/lib/python3.11/dist-packages (from keras) (13.9.4)\n",
            "Requirement already satisfied: namex in /usr/local/lib/python3.11/dist-packages (from keras) (0.0.9)\n",
            "Requirement already satisfied: h5py in /usr/local/lib/python3.11/dist-packages (from keras) (3.13.0)\n",
            "Requirement already satisfied: optree in /usr/local/lib/python3.11/dist-packages (from keras) (0.15.0)\n",
            "Requirement already satisfied: ml-dtypes in /usr/local/lib/python3.11/dist-packages (from keras) (0.4.1)\n",
            "Requirement already satisfied: packaging in /usr/local/lib/python3.11/dist-packages (from keras) (24.2)\n",
            "Requirement already satisfied: typing-extensions>=4.5.0 in /usr/local/lib/python3.11/dist-packages (from optree->keras) (4.13.2)\n",
            "Requirement already satisfied: markdown-it-py>=2.2.0 in /usr/local/lib/python3.11/dist-packages (from rich->keras) (3.0.0)\n",
            "Requirement already satisfied: pygments<3.0.0,>=2.13.0 in /usr/local/lib/python3.11/dist-packages (from rich->keras) (2.19.1)\n",
            "Requirement already satisfied: mdurl~=0.1 in /usr/local/lib/python3.11/dist-packages (from markdown-it-py>=2.2.0->rich->keras) (0.1.2)\n"
          ]
        }
      ],
      "source": [
        "!pip install keras"
      ]
    },
    {
      "cell_type": "code",
      "execution_count": 51,
      "metadata": {
        "id": "WLYkDfucL_HZ"
      },
      "outputs": [],
      "source": [
        "#Creating the model architecture"
      ]
    },
    {
      "cell_type": "code",
      "execution_count": 52,
      "metadata": {
        "id": "nZqFT696MEYz"
      },
      "outputs": [],
      "source": [
        "#Importing the required libriares since the LSTM model will be done with Pytorch\n",
        "import torch\n",
        "import torch.nn as nn\n",
        "import numpy as np\n",
        "import matplotlib.pyplot as plt\n",
        "from keras.models import Sequential, Model\n",
        "from keras.layers import Dense\n",
        "from keras.layers import LSTM, GRU, SimpleRNN\n",
        "from keras.layers import Input\n",
        "from keras.utils import get_file\n",
        "from keras.optimizers import Nadam\n",
        "from keras.callbacks import EarlyStopping, ModelCheckpoint, ReduceLROnPlateau\n",
        "from keras.layers import BatchNormalization\n",
        "from tensorflow.keras.layers import GlobalAveragePooling1D"
      ]
    },
    {
      "cell_type": "code",
      "execution_count": 53,
      "metadata": {
        "id": "QUWB2WRUtD6i"
      },
      "outputs": [],
      "source": [
        "main_input = Input(shape=(max_len, num_features), name='main_input')"
      ]
    },
    {
      "cell_type": "code",
      "execution_count": 54,
      "metadata": {
        "colab": {
          "base_uri": "https://localhost:8080/"
        },
        "id": "KxTkV4qWyDCu",
        "outputId": "f7a1f38f-9d2d-4185-bf73-096e4b64445d"
      },
      "outputs": [
        {
          "output_type": "execute_result",
          "data": {
            "text/plain": [
              "<KerasTensor shape=(None, 14, 16), dtype=float32, sparse=False, name=main_input>"
            ]
          },
          "metadata": {},
          "execution_count": 54
        }
      ],
      "source": [
        "main_input"
      ]
    },
    {
      "cell_type": "code",
      "execution_count": 55,
      "metadata": {
        "id": "amNpY12a0Hq7"
      },
      "outputs": [],
      "source": [
        "#Create the training split"
      ]
    },
    {
      "cell_type": "code",
      "execution_count": 56,
      "metadata": {
        "id": "clGTMHjMnfvx"
      },
      "outputs": [],
      "source": [
        "l1 = LSTM(100, implementation=2, kernel_initializer='glorot_uniform', return_sequences=True, dropout=0.2)(main_input) # the shared layer\n",
        "\n",
        "b1 = BatchNormalization()(l1)\n",
        "\n",
        "l2_1 = LSTM(100, implementation=2, kernel_initializer='glorot_uniform', return_sequences=False, dropout=0.2)(b1) # the layer specialized in activity prediction\n",
        "\n",
        "b2_1 = BatchNormalization()(l2_1)\n",
        "\n",
        "l2_2 = LSTM(100, implementation=2, kernel_initializer='glorot_uniform', return_sequences=False, dropout=0.2)(b1) # the layer specialized in time prediction\n",
        "\n",
        "b2_2 = BatchNormalization()(l2_2)\n",
        "\n",
        "act_output = Dense(14, activation='softmax', kernel_initializer='glorot_uniform', name='act_output')(b2_1)\n",
        "\n",
        "time_output = Dense(1, kernel_initializer='glorot_uniform', name='time_output')(b2_2)\n",
        "\n",
        "#time_output = GlobalAveragePooling1D()(b2_2)  # Reduces (14,64) to (64,)\n",
        "#time_output = Dense(1, kernel_initializer='glorot_uniform', name='time_output')#(time_output)"
      ]
    },
    {
      "cell_type": "code",
      "execution_count": 57,
      "metadata": {
        "id": "sBiYSKgQS95p"
      },
      "outputs": [],
      "source": [
        "learning_rate = 0.002\n",
        "beta_1 = 0.9\n",
        "beta_2 = 0.999\n",
        "epsilon = 1e-08\n",
        "weight_decay = 0.004\n",
        "clipvalue = 3\n",
        "model = Model(inputs=[main_input], outputs=[act_output, time_output])\n",
        "\n",
        "opt = Nadam(learning_rate=learning_rate, beta_1=beta_1, beta_2=beta_2, epsilon=epsilon, weight_decay=weight_decay, clipvalue=clipvalue)\n",
        "\n",
        "model.compile(loss={'act_output':'categorical_crossentropy', 'time_output':'mae'}, optimizer=opt)\n",
        "\n",
        "early_stopping = EarlyStopping(monitor='val_loss', patience=42)\n",
        "\n",
        "lr_reducer = ReduceLROnPlateau(monitor='val_loss', factor=0.5, patience=10, verbose=0, mode='auto', min_delta=0.0001, cooldown=0, min_lr=0)"
      ]
    },
    {
      "cell_type": "markdown",
      "metadata": {
        "id": "BRYnlVzlIJG0"
      },
      "source": [
        "Model Training"
      ]
    },
    {
      "cell_type": "code",
      "execution_count": 58,
      "metadata": {
        "colab": {
          "base_uri": "https://localhost:8080/"
        },
        "id": "UZznyDiRoTCa",
        "outputId": "78811b4a-9925-4c12-e208-480178949fe4"
      },
      "outputs": [
        {
          "metadata": {
            "tags": null
          },
          "name": "stdout",
          "output_type": "stream",
          "text": [
            "Epoch 1/100\n"
          ]
        },
        {
          "metadata": {
            "tags": null
          },
          "name": "stderr",
          "output_type": "stream",
          "text": [
            "/usr/local/lib/python3.11/dist-packages/keras/src/models/functional.py:237: UserWarning: The structure of `inputs` doesn't match the expected structure.\n",
            "Expected: ['main_input']\n",
            "Received: inputs=Tensor(shape=(None, 14, 16))\n",
            "  warnings.warn(msg)\n"
          ]
        },
        {
          "output_type": "stream",
          "name": "stdout",
          "text": [
            "1213/1213 - 50s - 41ms/step - act_output_loss: 0.9762 - loss: 1166844.6250 - time_output_loss: 1166873.3750 - val_act_output_loss: 1.3709 - val_loss: 1167869.8750 - val_time_output_loss: 1170432.3750 - learning_rate: 0.0020\n",
            "Epoch 2/100\n",
            "1213/1213 - 40s - 33ms/step - act_output_loss: 1.1815 - loss: 1165256.8750 - time_output_loss: 1165373.3750 - val_act_output_loss: 1.0505 - val_loss: 1164692.8750 - val_time_output_loss: 1167251.7500 - learning_rate: 0.0020\n",
            "Epoch 3/100\n",
            "1213/1213 - 41s - 34ms/step - act_output_loss: 1.3223 - loss: 1162979.3750 - time_output_loss: 1162710.3750 - val_act_output_loss: 1.2125 - val_loss: 1162371.8750 - val_time_output_loss: 1164930.0000 - learning_rate: 0.0020\n",
            "Epoch 4/100\n",
            "1213/1213 - 39s - 32ms/step - act_output_loss: 1.4049 - loss: 1160194.8750 - time_output_loss: 1160434.1250 - val_act_output_loss: 1.1497 - val_loss: 1158761.2500 - val_time_output_loss: 1161316.8750 - learning_rate: 0.0020\n",
            "Epoch 5/100\n",
            "1213/1213 - 41s - 34ms/step - act_output_loss: 1.5584 - loss: 1157055.1250 - time_output_loss: 1156976.7500 - val_act_output_loss: 1.1671 - val_loss: 1153031.8750 - val_time_output_loss: 1155577.8750 - learning_rate: 0.0020\n",
            "Epoch 6/100\n",
            "1213/1213 - 39s - 32ms/step - act_output_loss: 1.5022 - loss: 1153289.1250 - time_output_loss: 1153037.8750 - val_act_output_loss: 0.9639 - val_loss: 1146930.7500 - val_time_output_loss: 1149471.5000 - learning_rate: 0.0020\n",
            "Epoch 7/100\n",
            "1213/1213 - 39s - 32ms/step - act_output_loss: 1.5743 - loss: 1149208.7500 - time_output_loss: 1149252.1250 - val_act_output_loss: 1.2001 - val_loss: 1148659.2500 - val_time_output_loss: 1151204.8750 - learning_rate: 0.0020\n",
            "Epoch 8/100\n",
            "1213/1213 - 39s - 32ms/step - act_output_loss: 1.6293 - loss: 1144984.2500 - time_output_loss: 1145260.8750 - val_act_output_loss: 1.6478 - val_loss: 1154413.1250 - val_time_output_loss: 1156961.8750 - learning_rate: 0.0020\n",
            "Epoch 9/100\n",
            "1213/1213 - 39s - 32ms/step - act_output_loss: 1.5983 - loss: 1140254.2500 - time_output_loss: 1140167.0000 - val_act_output_loss: 1.0153 - val_loss: 1128716.8750 - val_time_output_loss: 1131239.1250 - learning_rate: 0.0020\n",
            "Epoch 10/100\n",
            "1213/1213 - 42s - 35ms/step - act_output_loss: 1.5906 - loss: 1135081.0000 - time_output_loss: 1134952.5000 - val_act_output_loss: 0.9824 - val_loss: 1117693.3750 - val_time_output_loss: 1120204.3750 - learning_rate: 0.0020\n",
            "Epoch 11/100\n",
            "1213/1213 - 41s - 34ms/step - act_output_loss: 1.5663 - loss: 1129790.2500 - time_output_loss: 1129912.8750 - val_act_output_loss: 1.7108 - val_loss: 1119184.8750 - val_time_output_loss: 1121709.6250 - learning_rate: 0.0020\n",
            "Epoch 12/100\n",
            "1213/1213 - 41s - 34ms/step - act_output_loss: 1.6570 - loss: 1124151.7500 - time_output_loss: 1124022.1250 - val_act_output_loss: 1.6524 - val_loss: 1112435.8750 - val_time_output_loss: 1114957.6250 - learning_rate: 0.0020\n",
            "Epoch 13/100\n",
            "1213/1213 - 40s - 33ms/step - act_output_loss: 1.6905 - loss: 1118090.0000 - time_output_loss: 1118247.3750 - val_act_output_loss: 1.3395 - val_loss: 1120658.1250 - val_time_output_loss: 1123180.2500 - learning_rate: 0.0020\n",
            "Epoch 14/100\n",
            "1213/1213 - 41s - 33ms/step - act_output_loss: 1.8598 - loss: 1113218.8750 - time_output_loss: 1112943.3750 - val_act_output_loss: 1.1045 - val_loss: 1099587.6250 - val_time_output_loss: 1102103.0000 - learning_rate: 0.0020\n",
            "Epoch 15/100\n",
            "1213/1213 - 42s - 35ms/step - act_output_loss: 1.7191 - loss: 1106304.2500 - time_output_loss: 1106282.1250 - val_act_output_loss: 1.0250 - val_loss: 1090371.2500 - val_time_output_loss: 1092888.3750 - learning_rate: 0.0020\n",
            "Epoch 16/100\n",
            "1213/1213 - 40s - 33ms/step - act_output_loss: 1.8978 - loss: 1100277.3750 - time_output_loss: 1100313.6250 - val_act_output_loss: 0.9971 - val_loss: 1077444.8750 - val_time_output_loss: 1079939.6250 - learning_rate: 0.0020\n",
            "Epoch 17/100\n",
            "1213/1213 - 40s - 33ms/step - act_output_loss: 1.8979 - loss: 1093746.1250 - time_output_loss: 1093712.6250 - val_act_output_loss: 1.0965 - val_loss: 1072130.3750 - val_time_output_loss: 1074631.3750 - learning_rate: 0.0020\n",
            "Epoch 18/100\n",
            "1213/1213 - 39s - 33ms/step - act_output_loss: 1.9602 - loss: 1087507.0000 - time_output_loss: 1087480.8750 - val_act_output_loss: 0.8920 - val_loss: 1079700.1250 - val_time_output_loss: 1082191.2500 - learning_rate: 0.0020\n",
            "Epoch 19/100\n",
            "1213/1213 - 39s - 32ms/step - act_output_loss: 1.9908 - loss: 1080965.2500 - time_output_loss: 1081415.5000 - val_act_output_loss: 0.9706 - val_loss: 1044267.2500 - val_time_output_loss: 1046719.5625 - learning_rate: 0.0020\n",
            "Epoch 20/100\n",
            "1213/1213 - 40s - 33ms/step - act_output_loss: 1.9271 - loss: 1073452.1250 - time_output_loss: 1073445.1250 - val_act_output_loss: 1.1492 - val_loss: 1044477.8125 - val_time_output_loss: 1046948.5000 - learning_rate: 0.0020\n",
            "Epoch 21/100\n",
            "1213/1213 - 40s - 33ms/step - act_output_loss: 1.8969 - loss: 1065915.6250 - time_output_loss: 1066238.8750 - val_act_output_loss: 1.6282 - val_loss: 1039162.4375 - val_time_output_loss: 1041605.8750 - learning_rate: 0.0020\n",
            "Epoch 22/100\n",
            "1213/1213 - 39s - 32ms/step - act_output_loss: 1.9114 - loss: 1059273.1250 - time_output_loss: 1059489.0000 - val_act_output_loss: 1.1214 - val_loss: 1032872.1250 - val_time_output_loss: 1035342.4375 - learning_rate: 0.0020\n",
            "Epoch 23/100\n",
            "1213/1213 - 41s - 34ms/step - act_output_loss: 2.0949 - loss: 1053186.2500 - time_output_loss: 1053111.3750 - val_act_output_loss: 1.2285 - val_loss: 1013870.2500 - val_time_output_loss: 1016326.7500 - learning_rate: 0.0020\n",
            "Epoch 24/100\n",
            "1213/1213 - 41s - 34ms/step - act_output_loss: 1.9433 - loss: 1044362.3750 - time_output_loss: 1044459.5000 - val_act_output_loss: 0.9890 - val_loss: 1012699.5625 - val_time_output_loss: 1015120.5000 - learning_rate: 0.0020\n",
            "Epoch 25/100\n",
            "1213/1213 - 41s - 33ms/step - act_output_loss: 1.8725 - loss: 1038418.0625 - time_output_loss: 1038466.1250 - val_act_output_loss: 1.0188 - val_loss: 1009157.6875 - val_time_output_loss: 1011602.1250 - learning_rate: 0.0020\n",
            "Epoch 26/100\n",
            "1213/1213 - 41s - 34ms/step - act_output_loss: 2.0660 - loss: 1032474.0625 - time_output_loss: 1032324.8750 - val_act_output_loss: 1.3693 - val_loss: 980905.7500 - val_time_output_loss: 983253.5625 - learning_rate: 0.0020\n",
            "Epoch 27/100\n",
            "1213/1213 - 39s - 32ms/step - act_output_loss: 2.1262 - loss: 1023815.1875 - time_output_loss: 1024160.8125 - val_act_output_loss: 2.0843 - val_loss: 976041.0625 - val_time_output_loss: 978333.8750 - learning_rate: 0.0020\n",
            "Epoch 28/100\n",
            "1213/1213 - 41s - 34ms/step - act_output_loss: 1.9116 - loss: 1017617.3750 - time_output_loss: 1017338.4375 - val_act_output_loss: 1.1189 - val_loss: 959567.6875 - val_time_output_loss: 961951.5000 - learning_rate: 0.0020\n",
            "Epoch 29/100\n",
            "1213/1213 - 40s - 33ms/step - act_output_loss: 1.8589 - loss: 1011317.0000 - time_output_loss: 1011369.0625 - val_act_output_loss: 1.2042 - val_loss: 951819.6250 - val_time_output_loss: 954173.5000 - learning_rate: 0.0020\n",
            "Epoch 30/100\n",
            "1213/1213 - 41s - 34ms/step - act_output_loss: 1.8717 - loss: 1005270.2500 - time_output_loss: 1005322.1250 - val_act_output_loss: 1.4810 - val_loss: 968969.3750 - val_time_output_loss: 971357.0625 - learning_rate: 0.0020\n",
            "Epoch 31/100\n",
            "1213/1213 - 40s - 33ms/step - act_output_loss: 1.9345 - loss: 998053.1875 - time_output_loss: 997889.5625 - val_act_output_loss: 1.2592 - val_loss: 948775.8750 - val_time_output_loss: 951145.8125 - learning_rate: 0.0020\n",
            "Epoch 32/100\n",
            "1213/1213 - 41s - 34ms/step - act_output_loss: 1.9255 - loss: 989513.6250 - time_output_loss: 989495.6875 - val_act_output_loss: 1.1487 - val_loss: 926098.5000 - val_time_output_loss: 928466.1875 - learning_rate: 0.0020\n",
            "Epoch 33/100\n",
            "1213/1213 - 39s - 33ms/step - act_output_loss: 2.1259 - loss: 984653.0000 - time_output_loss: 984560.1875 - val_act_output_loss: 2.3542 - val_loss: 924505.3125 - val_time_output_loss: 926849.5000 - learning_rate: 0.0020\n",
            "Epoch 34/100\n",
            "1213/1213 - 41s - 34ms/step - act_output_loss: 1.9247 - loss: 974024.0000 - time_output_loss: 973939.0000 - val_act_output_loss: 1.0887 - val_loss: 897668.1250 - val_time_output_loss: 899958.3125 - learning_rate: 0.0020\n",
            "Epoch 35/100\n",
            "1213/1213 - 41s - 34ms/step - act_output_loss: 1.9314 - loss: 970930.5625 - time_output_loss: 970834.9375 - val_act_output_loss: 1.7629 - val_loss: 929656.8125 - val_time_output_loss: 931969.5625 - learning_rate: 0.0020\n",
            "Epoch 36/100\n",
            "1213/1213 - 40s - 33ms/step - act_output_loss: 1.8317 - loss: 961582.4375 - time_output_loss: 961558.8125 - val_act_output_loss: 1.2854 - val_loss: 877166.6875 - val_time_output_loss: 879402.6875 - learning_rate: 0.0020\n",
            "Epoch 37/100\n",
            "1213/1213 - 42s - 35ms/step - act_output_loss: 1.9687 - loss: 956404.5625 - time_output_loss: 956608.6875 - val_act_output_loss: 1.5801 - val_loss: 886490.0000 - val_time_output_loss: 888774.4375 - learning_rate: 0.0020\n",
            "Epoch 38/100\n",
            "1213/1213 - 39s - 32ms/step - act_output_loss: 1.9986 - loss: 948551.6875 - time_output_loss: 948699.1875 - val_act_output_loss: 1.3570 - val_loss: 874415.3750 - val_time_output_loss: 876673.7500 - learning_rate: 0.0020\n",
            "Epoch 39/100\n",
            "1213/1213 - 40s - 33ms/step - act_output_loss: 2.0282 - loss: 942694.0625 - time_output_loss: 942707.6250 - val_act_output_loss: 1.3867 - val_loss: 850456.9375 - val_time_output_loss: 852702.7500 - learning_rate: 0.0020\n",
            "Epoch 40/100\n",
            "1213/1213 - 41s - 34ms/step - act_output_loss: 2.0408 - loss: 938441.9375 - time_output_loss: 938224.3750 - val_act_output_loss: 1.2448 - val_loss: 883619.5000 - val_time_output_loss: 885872.1250 - learning_rate: 0.0020\n",
            "Epoch 41/100\n",
            "1213/1213 - 41s - 33ms/step - act_output_loss: 2.1316 - loss: 928384.7500 - time_output_loss: 928167.5625 - val_act_output_loss: 1.3634 - val_loss: 812342.0625 - val_time_output_loss: 814526.1250 - learning_rate: 0.0020\n",
            "Epoch 42/100\n",
            "1213/1213 - 40s - 33ms/step - act_output_loss: 2.1156 - loss: 924507.8125 - time_output_loss: 924423.5000 - val_act_output_loss: 1.6825 - val_loss: 888097.3125 - val_time_output_loss: 890326.1875 - learning_rate: 0.0020\n",
            "Epoch 43/100\n",
            "1213/1213 - 42s - 34ms/step - act_output_loss: 2.1605 - loss: 916538.1250 - time_output_loss: 916779.8125 - val_act_output_loss: 1.8439 - val_loss: 815347.8750 - val_time_output_loss: 817489.5000 - learning_rate: 0.0020\n",
            "Epoch 44/100\n",
            "1213/1213 - 39s - 32ms/step - act_output_loss: 2.0240 - loss: 910928.9375 - time_output_loss: 910746.5625 - val_act_output_loss: 1.3068 - val_loss: 804358.8125 - val_time_output_loss: 806495.8750 - learning_rate: 0.0020\n",
            "Epoch 45/100\n",
            "1213/1213 - 42s - 34ms/step - act_output_loss: 2.1116 - loss: 902548.0000 - time_output_loss: 902709.5000 - val_act_output_loss: 2.0986 - val_loss: 801363.3750 - val_time_output_loss: 803587.5625 - learning_rate: 0.0020\n",
            "Epoch 46/100\n",
            "1213/1213 - 40s - 33ms/step - act_output_loss: 2.1035 - loss: 898082.6875 - time_output_loss: 898012.0000 - val_act_output_loss: 1.2664 - val_loss: 798799.6250 - val_time_output_loss: 800967.7500 - learning_rate: 0.0020\n",
            "Epoch 47/100\n",
            "1213/1213 - 40s - 33ms/step - act_output_loss: 2.0037 - loss: 888553.4375 - time_output_loss: 888401.6875 - val_act_output_loss: 1.7369 - val_loss: 775989.0000 - val_time_output_loss: 778076.8125 - learning_rate: 0.0020\n",
            "Epoch 48/100\n",
            "1213/1213 - 41s - 34ms/step - act_output_loss: 2.2185 - loss: 882717.0625 - time_output_loss: 882554.5625 - val_act_output_loss: 1.3994 - val_loss: 795333.8750 - val_time_output_loss: 797404.6875 - learning_rate: 0.0020\n",
            "Epoch 49/100\n",
            "1213/1213 - 39s - 32ms/step - act_output_loss: 2.0594 - loss: 876719.8125 - time_output_loss: 876591.0000 - val_act_output_loss: 1.3728 - val_loss: 779538.9375 - val_time_output_loss: 781645.3750 - learning_rate: 0.0020\n",
            "Epoch 50/100\n",
            "1213/1213 - 42s - 34ms/step - act_output_loss: 2.2159 - loss: 874338.0625 - time_output_loss: 874282.0625 - val_act_output_loss: 1.1528 - val_loss: 771181.8125 - val_time_output_loss: 773235.1875 - learning_rate: 0.0020\n",
            "Epoch 51/100\n",
            "1213/1213 - 40s - 33ms/step - act_output_loss: 2.2073 - loss: 868700.3750 - time_output_loss: 868547.3750 - val_act_output_loss: 1.2186 - val_loss: 721145.3125 - val_time_output_loss: 723173.9375 - learning_rate: 0.0020\n",
            "Epoch 52/100\n",
            "1213/1213 - 40s - 33ms/step - act_output_loss: 2.1400 - loss: 860381.5000 - time_output_loss: 860201.6250 - val_act_output_loss: 1.4434 - val_loss: 732830.1250 - val_time_output_loss: 734949.5000 - learning_rate: 0.0020\n",
            "Epoch 53/100\n",
            "1213/1213 - 40s - 33ms/step - act_output_loss: 2.2460 - loss: 852075.1250 - time_output_loss: 852119.1875 - val_act_output_loss: 1.7902 - val_loss: 713391.0000 - val_time_output_loss: 715448.3125 - learning_rate: 0.0020\n",
            "Epoch 54/100\n",
            "1213/1213 - 40s - 33ms/step - act_output_loss: 2.1889 - loss: 852728.3125 - time_output_loss: 852751.1875 - val_act_output_loss: 2.1287 - val_loss: 727004.1250 - val_time_output_loss: 729023.5000 - learning_rate: 0.0020\n",
            "Epoch 55/100\n",
            "1213/1213 - 42s - 34ms/step - act_output_loss: 2.2982 - loss: 845452.0000 - time_output_loss: 845386.6875 - val_act_output_loss: 2.1351 - val_loss: 735588.5000 - val_time_output_loss: 737641.0625 - learning_rate: 0.0020\n",
            "Epoch 56/100\n",
            "1213/1213 - 41s - 33ms/step - act_output_loss: 2.3254 - loss: 839973.7500 - time_output_loss: 839851.7500 - val_act_output_loss: 1.3533 - val_loss: 711535.0000 - val_time_output_loss: 713522.8750 - learning_rate: 0.0020\n",
            "Epoch 57/100\n",
            "1213/1213 - 41s - 33ms/step - act_output_loss: 2.5185 - loss: 835880.5000 - time_output_loss: 835954.9375 - val_act_output_loss: 1.3238 - val_loss: 696826.5625 - val_time_output_loss: 698850.0000 - learning_rate: 0.0020\n",
            "Epoch 58/100\n",
            "1213/1213 - 40s - 33ms/step - act_output_loss: 2.2823 - loss: 825949.9375 - time_output_loss: 825903.0000 - val_act_output_loss: 1.3421 - val_loss: 708977.5000 - val_time_output_loss: 710976.3750 - learning_rate: 0.0020\n",
            "Epoch 59/100\n",
            "1213/1213 - 42s - 34ms/step - act_output_loss: 2.5255 - loss: 823794.3750 - time_output_loss: 823651.2500 - val_act_output_loss: 1.5579 - val_loss: 699714.2500 - val_time_output_loss: 701674.2500 - learning_rate: 0.0020\n",
            "Epoch 60/100\n",
            "1213/1213 - 40s - 33ms/step - act_output_loss: 2.6947 - loss: 819895.2500 - time_output_loss: 820237.2500 - val_act_output_loss: 1.6869 - val_loss: 678804.9375 - val_time_output_loss: 680783.5000 - learning_rate: 0.0020\n",
            "Epoch 61/100\n",
            "1213/1213 - 41s - 34ms/step - act_output_loss: 2.5435 - loss: 814446.5625 - time_output_loss: 814635.1875 - val_act_output_loss: 1.8654 - val_loss: 674783.2500 - val_time_output_loss: 676762.6875 - learning_rate: 0.0020\n",
            "Epoch 62/100\n",
            "1213/1213 - 40s - 33ms/step - act_output_loss: 2.4977 - loss: 808101.7500 - time_output_loss: 807950.2500 - val_act_output_loss: 1.6820 - val_loss: 652572.1250 - val_time_output_loss: 654466.8125 - learning_rate: 0.0020\n",
            "Epoch 63/100\n",
            "1213/1213 - 40s - 33ms/step - act_output_loss: 2.4715 - loss: 797373.5625 - time_output_loss: 797301.3750 - val_act_output_loss: 2.1394 - val_loss: 651285.7500 - val_time_output_loss: 653245.3750 - learning_rate: 0.0020\n",
            "Epoch 64/100\n",
            "1213/1213 - 40s - 33ms/step - act_output_loss: 2.6071 - loss: 798954.0000 - time_output_loss: 799025.5625 - val_act_output_loss: 2.5454 - val_loss: 657626.9375 - val_time_output_loss: 659450.1875 - learning_rate: 0.0020\n",
            "Epoch 65/100\n",
            "1213/1213 - 42s - 35ms/step - act_output_loss: 2.5497 - loss: 797319.6250 - time_output_loss: 797541.2500 - val_act_output_loss: 1.9300 - val_loss: 629295.1250 - val_time_output_loss: 631132.5000 - learning_rate: 0.0020\n",
            "Epoch 66/100\n",
            "1213/1213 - 43s - 36ms/step - act_output_loss: 2.3874 - loss: 789356.1875 - time_output_loss: 789252.9375 - val_act_output_loss: 3.4724 - val_loss: 635996.2500 - val_time_output_loss: 637806.1875 - learning_rate: 0.0020\n",
            "Epoch 67/100\n",
            "1213/1213 - 79s - 65ms/step - act_output_loss: 2.7175 - loss: 786681.6250 - time_output_loss: 786779.3750 - val_act_output_loss: 2.2393 - val_loss: 626644.5000 - val_time_output_loss: 628454.9375 - learning_rate: 0.0020\n",
            "Epoch 68/100\n",
            "1213/1213 - 41s - 34ms/step - act_output_loss: 2.7674 - loss: 784274.1875 - time_output_loss: 784303.2500 - val_act_output_loss: 2.2585 - val_loss: 629742.9375 - val_time_output_loss: 631641.0625 - learning_rate: 0.0020\n",
            "Epoch 69/100\n",
            "1213/1213 - 40s - 33ms/step - act_output_loss: 2.5884 - loss: 779123.7500 - time_output_loss: 779313.4375 - val_act_output_loss: 1.9206 - val_loss: 622735.6875 - val_time_output_loss: 624635.3125 - learning_rate: 0.0020\n",
            "Epoch 70/100\n",
            "1213/1213 - 41s - 34ms/step - act_output_loss: 3.2070 - loss: 771619.0625 - time_output_loss: 771589.5000 - val_act_output_loss: 1.4490 - val_loss: 626343.9375 - val_time_output_loss: 628125.2500 - learning_rate: 0.0020\n",
            "Epoch 71/100\n",
            "1213/1213 - 41s - 34ms/step - act_output_loss: 2.7561 - loss: 769306.0625 - time_output_loss: 769215.0000 - val_act_output_loss: 3.7904 - val_loss: 612795.1250 - val_time_output_loss: 614491.8750 - learning_rate: 0.0020\n",
            "Epoch 72/100\n",
            "1213/1213 - 42s - 34ms/step - act_output_loss: 2.9934 - loss: 776484.5625 - time_output_loss: 776427.1875 - val_act_output_loss: 2.1491 - val_loss: 595511.2500 - val_time_output_loss: 597335.0625 - learning_rate: 0.0020\n",
            "Epoch 73/100\n",
            "1213/1213 - 81s - 67ms/step - act_output_loss: 2.9600 - loss: 757581.5625 - time_output_loss: 757437.1250 - val_act_output_loss: 2.0427 - val_loss: 615278.1875 - val_time_output_loss: 617150.8125 - learning_rate: 0.0020\n",
            "Epoch 74/100\n",
            "1213/1213 - 42s - 34ms/step - act_output_loss: 2.7050 - loss: 759431.7500 - time_output_loss: 759336.4375 - val_act_output_loss: 2.6152 - val_loss: 594309.9375 - val_time_output_loss: 596102.0000 - learning_rate: 0.0020\n",
            "Epoch 75/100\n",
            "1213/1213 - 81s - 67ms/step - act_output_loss: 2.9565 - loss: 767705.8125 - time_output_loss: 767654.5000 - val_act_output_loss: 2.1524 - val_loss: 577260.3125 - val_time_output_loss: 579070.0000 - learning_rate: 0.0020\n",
            "Epoch 76/100\n",
            "1213/1213 - 41s - 33ms/step - act_output_loss: 2.9254 - loss: 760282.1875 - time_output_loss: 760501.3125 - val_act_output_loss: 3.1274 - val_loss: 579974.1250 - val_time_output_loss: 581748.4375 - learning_rate: 0.0020\n",
            "Epoch 77/100\n",
            "1213/1213 - 40s - 33ms/step - act_output_loss: 3.5686 - loss: 751512.9375 - time_output_loss: 751540.6250 - val_act_output_loss: 2.1040 - val_loss: 564577.6875 - val_time_output_loss: 566302.0625 - learning_rate: 0.0020\n",
            "Epoch 78/100\n",
            "1213/1213 - 40s - 33ms/step - act_output_loss: 3.6002 - loss: 749062.5000 - time_output_loss: 749079.5625 - val_act_output_loss: 4.6039 - val_loss: 579032.1250 - val_time_output_loss: 580779.7500 - learning_rate: 0.0020\n",
            "Epoch 79/100\n",
            "1213/1213 - 43s - 36ms/step - act_output_loss: 3.1155 - loss: 749305.8125 - time_output_loss: 749306.5625 - val_act_output_loss: 1.7143 - val_loss: 537484.0625 - val_time_output_loss: 539185.5625 - learning_rate: 0.0020\n",
            "Epoch 80/100\n",
            "1213/1213 - 79s - 66ms/step - act_output_loss: 3.4337 - loss: 751227.8125 - time_output_loss: 751202.0625 - val_act_output_loss: 1.5847 - val_loss: 556506.2500 - val_time_output_loss: 558253.1875 - learning_rate: 0.0020\n",
            "Epoch 81/100\n",
            "1213/1213 - 41s - 34ms/step - act_output_loss: 3.3154 - loss: 743938.8125 - time_output_loss: 743956.6875 - val_act_output_loss: 3.0160 - val_loss: 557197.6250 - val_time_output_loss: 559030.0000 - learning_rate: 0.0020\n",
            "Epoch 82/100\n",
            "1213/1213 - 42s - 34ms/step - act_output_loss: 3.9195 - loss: 741262.6875 - time_output_loss: 741379.1250 - val_act_output_loss: 4.8621 - val_loss: 564907.1875 - val_time_output_loss: 566735.7500 - learning_rate: 0.0020\n",
            "Epoch 83/100\n",
            "1213/1213 - 80s - 66ms/step - act_output_loss: 3.2324 - loss: 740251.8125 - time_output_loss: 740270.6250 - val_act_output_loss: 2.0038 - val_loss: 567645.0000 - val_time_output_loss: 569351.6875 - learning_rate: 0.0020\n",
            "Epoch 84/100\n",
            "1213/1213 - 42s - 35ms/step - act_output_loss: 3.6038 - loss: 738304.3750 - time_output_loss: 738411.3125 - val_act_output_loss: 2.7290 - val_loss: 557445.8750 - val_time_output_loss: 559227.6250 - learning_rate: 0.0020\n",
            "Epoch 85/100\n",
            "1213/1213 - 39s - 32ms/step - act_output_loss: 3.7137 - loss: 736396.0625 - time_output_loss: 736268.3750 - val_act_output_loss: 3.7828 - val_loss: 561906.8750 - val_time_output_loss: 563657.6875 - learning_rate: 0.0020\n",
            "Epoch 86/100\n",
            "1213/1213 - 42s - 34ms/step - act_output_loss: 4.0833 - loss: 738938.6250 - time_output_loss: 738797.5000 - val_act_output_loss: 3.0062 - val_loss: 533706.5625 - val_time_output_loss: 535339.9375 - learning_rate: 0.0020\n",
            "Epoch 87/100\n",
            "1213/1213 - 41s - 34ms/step - act_output_loss: 5.3002 - loss: 734026.0000 - time_output_loss: 734211.5625 - val_act_output_loss: 3.4430 - val_loss: 546545.1250 - val_time_output_loss: 548317.1875 - learning_rate: 0.0020\n",
            "Epoch 88/100\n",
            "1213/1213 - 40s - 33ms/step - act_output_loss: 4.8939 - loss: 728820.5625 - time_output_loss: 728744.8125 - val_act_output_loss: 5.2240 - val_loss: 569530.7500 - val_time_output_loss: 571292.8125 - learning_rate: 0.0020\n",
            "Epoch 89/100\n",
            "1213/1213 - 41s - 34ms/step - act_output_loss: 5.9281 - loss: 731813.1875 - time_output_loss: 731641.9375 - val_act_output_loss: 2.6041 - val_loss: 527244.6250 - val_time_output_loss: 528944.8750 - learning_rate: 0.0020\n",
            "Epoch 90/100\n",
            "1213/1213 - 41s - 34ms/step - act_output_loss: 5.1130 - loss: 728852.8750 - time_output_loss: 728862.3125 - val_act_output_loss: 2.3746 - val_loss: 532868.7500 - val_time_output_loss: 534585.5625 - learning_rate: 0.0020\n",
            "Epoch 91/100\n",
            "1213/1213 - 41s - 34ms/step - act_output_loss: 4.5729 - loss: 731820.0625 - time_output_loss: 731835.6250 - val_act_output_loss: 3.1258 - val_loss: 548061.9375 - val_time_output_loss: 549760.2500 - learning_rate: 0.0020\n",
            "Epoch 92/100\n",
            "1213/1213 - 40s - 33ms/step - act_output_loss: 5.3588 - loss: 726041.8125 - time_output_loss: 725926.1875 - val_act_output_loss: 3.9015 - val_loss: 555383.9375 - val_time_output_loss: 557157.2500 - learning_rate: 0.0020\n",
            "Epoch 93/100\n",
            "1213/1213 - 40s - 33ms/step - act_output_loss: 5.1653 - loss: 728381.4375 - time_output_loss: 728239.5625 - val_act_output_loss: 4.1879 - val_loss: 539464.9375 - val_time_output_loss: 541164.0000 - learning_rate: 0.0020\n",
            "Epoch 94/100\n",
            "1213/1213 - 40s - 33ms/step - act_output_loss: 5.1619 - loss: 724309.6250 - time_output_loss: 724311.0000 - val_act_output_loss: 2.3828 - val_loss: 540402.6250 - val_time_output_loss: 542160.5000 - learning_rate: 0.0020\n",
            "Epoch 95/100\n",
            "1213/1213 - 42s - 34ms/step - act_output_loss: 5.8469 - loss: 733367.0625 - time_output_loss: 733232.7500 - val_act_output_loss: 3.8250 - val_loss: 527779.3125 - val_time_output_loss: 529339.1250 - learning_rate: 0.0020\n",
            "Epoch 96/100\n",
            "1213/1213 - 40s - 33ms/step - act_output_loss: 6.4987 - loss: 728567.4375 - time_output_loss: 728919.5625 - val_act_output_loss: 4.0259 - val_loss: 525287.7500 - val_time_output_loss: 526953.6250 - learning_rate: 0.0020\n",
            "Epoch 97/100\n",
            "1213/1213 - 41s - 33ms/step - act_output_loss: 7.9291 - loss: 726974.4375 - time_output_loss: 726949.0000 - val_act_output_loss: 3.5807 - val_loss: 533465.4375 - val_time_output_loss: 535131.8125 - learning_rate: 0.0020\n",
            "Epoch 98/100\n",
            "1213/1213 - 40s - 33ms/step - act_output_loss: 6.6224 - loss: 726532.0625 - time_output_loss: 727042.7500 - val_act_output_loss: 3.5003 - val_loss: 561953.7500 - val_time_output_loss: 563721.5000 - learning_rate: 0.0020\n",
            "Epoch 99/100\n",
            "1213/1213 - 43s - 36ms/step - act_output_loss: 5.5592 - loss: 724472.5000 - time_output_loss: 725099.3125 - val_act_output_loss: 8.5216 - val_loss: 540951.4375 - val_time_output_loss: 542684.5000 - learning_rate: 0.0020\n",
            "Epoch 100/100\n",
            "1213/1213 - 41s - 34ms/step - act_output_loss: 7.5577 - loss: 723834.4375 - time_output_loss: 723716.9375 - val_act_output_loss: 5.6424 - val_loss: 529371.0000 - val_time_output_loss: 531103.5000 - learning_rate: 0.0020\n"
          ]
        },
        {
          "output_type": "execute_result",
          "data": {
            "text/plain": [
              "<keras.src.callbacks.history.History at 0x7927c4464ad0>"
            ]
          },
          "metadata": {},
          "execution_count": 58
        }
      ],
      "source": [
        "model.fit(X_sequences, {'act_output':y_act, 'time_output':y_time}, validation_split=0.2, verbose=2, callbacks=[early_stopping, lr_reducer], batch_size=max_len, epochs=100)"
      ]
    },
    {
      "cell_type": "code",
      "execution_count": 64,
      "metadata": {
        "id": "J-43WGjCZ4X-",
        "colab": {
          "base_uri": "https://localhost:8080/",
          "height": 525
        },
        "outputId": "c3000459-9a07-41fd-d842-c17951c4bc41"
      },
      "outputs": [
        {
          "output_type": "stream",
          "name": "stdout",
          "text": [
            "\u001b[1m664/664\u001b[0m \u001b[32m━━━━━━━━━━━━━━━━━━━━\u001b[0m\u001b[37m\u001b[0m \u001b[1m7s\u001b[0m 11ms/step\n",
            "\u001b[1m664/664\u001b[0m \u001b[32m━━━━━━━━━━━━━━━━━━━━\u001b[0m\u001b[37m\u001b[0m \u001b[1m10s\u001b[0m 13ms/step\n"
          ]
        },
        {
          "output_type": "error",
          "ename": "MlflowException",
          "evalue": "When an mlflow-artifacts URI was supplied, the tracking URI must be a valid http or https URI, but it was currently set to file:///content/mlruns. Perhaps you forgot to set the tracking URI to the running MLflow server. To set the tracking URI, use either of the following methods:\n1. Set the MLFLOW_TRACKING_URI environment variable to the desired tracking URI. `export MLFLOW_TRACKING_URI=http://localhost:5000`\n2. Set the tracking URI programmatically by calling `mlflow.set_tracking_uri`. `mlflow.set_tracking_uri('http://localhost:5000')`",
          "traceback": [
            "\u001b[0;31m---------------------------------------------------------------------------\u001b[0m",
            "\u001b[0;31mMlflowException\u001b[0m                           Traceback (most recent call last)",
            "\u001b[0;32m<ipython-input-64-d3340f36a435>\u001b[0m in \u001b[0;36m<cell line: 0>\u001b[0;34m()\u001b[0m\n\u001b[1;32m      1\u001b[0m \u001b[0;32mwith\u001b[0m \u001b[0mmlflow\u001b[0m\u001b[0;34m.\u001b[0m\u001b[0mstart_run\u001b[0m\u001b[0;34m(\u001b[0m\u001b[0mrun_name\u001b[0m\u001b[0;34m=\u001b[0m\u001b[0;34m\"Activity Prediction Model\"\u001b[0m\u001b[0;34m)\u001b[0m\u001b[0;34m:\u001b[0m\u001b[0;34m\u001b[0m\u001b[0;34m\u001b[0m\u001b[0m\n\u001b[0;32m----> 2\u001b[0;31m   model_info = mlflow.sklearn.log_model(\n\u001b[0m\u001b[1;32m      3\u001b[0m           \u001b[0msk_model\u001b[0m\u001b[0;34m=\u001b[0m\u001b[0mmodel\u001b[0m\u001b[0;34m,\u001b[0m\u001b[0;34m\u001b[0m\u001b[0;34m\u001b[0m\u001b[0m\n\u001b[1;32m      4\u001b[0m           \u001b[0martifact_path\u001b[0m\u001b[0;34m=\u001b[0m\u001b[0;34m\"Prediction Model\"\u001b[0m\u001b[0;34m,\u001b[0m\u001b[0;34m\u001b[0m\u001b[0;34m\u001b[0m\u001b[0m\n\u001b[1;32m      5\u001b[0m           \u001b[0minput_example\u001b[0m\u001b[0;34m=\u001b[0m\u001b[0mX_sequences\u001b[0m\u001b[0;34m,\u001b[0m\u001b[0;34m\u001b[0m\u001b[0;34m\u001b[0m\u001b[0m\n",
            "\u001b[0;32m/usr/local/lib/python3.11/dist-packages/mlflow/sklearn/__init__.py\u001b[0m in \u001b[0;36mlog_model\u001b[0;34m(sk_model, artifact_path, conda_env, code_paths, serialization_format, registered_model_name, signature, input_example, await_registration_for, pip_requirements, extra_pip_requirements, pyfunc_predict_fn, metadata)\u001b[0m\n\u001b[1;32m    411\u001b[0m \u001b[0;34m\u001b[0m\u001b[0m\n\u001b[1;32m    412\u001b[0m     \"\"\"\n\u001b[0;32m--> 413\u001b[0;31m     return Model.log(\n\u001b[0m\u001b[1;32m    414\u001b[0m         \u001b[0martifact_path\u001b[0m\u001b[0;34m=\u001b[0m\u001b[0martifact_path\u001b[0m\u001b[0;34m,\u001b[0m\u001b[0;34m\u001b[0m\u001b[0;34m\u001b[0m\u001b[0m\n\u001b[1;32m    415\u001b[0m         \u001b[0mflavor\u001b[0m\u001b[0;34m=\u001b[0m\u001b[0mmlflow\u001b[0m\u001b[0;34m.\u001b[0m\u001b[0msklearn\u001b[0m\u001b[0;34m,\u001b[0m\u001b[0;34m\u001b[0m\u001b[0;34m\u001b[0m\u001b[0m\n",
            "\u001b[0;32m/usr/local/lib/python3.11/dist-packages/mlflow/models/model.py\u001b[0m in \u001b[0;36mlog\u001b[0;34m(cls, artifact_path, flavor, registered_model_name, await_registration_for, metadata, run_id, resources, auth_policy, prompts, **kwargs)\u001b[0m\n\u001b[1;32m    919\u001b[0m                     \u001b[0mclient\u001b[0m\u001b[0;34m.\u001b[0m\u001b[0mlog_prompt\u001b[0m\u001b[0;34m(\u001b[0m\u001b[0mrun_id\u001b[0m\u001b[0;34m,\u001b[0m \u001b[0mprompt\u001b[0m\u001b[0;34m)\u001b[0m\u001b[0;34m\u001b[0m\u001b[0;34m\u001b[0m\u001b[0m\n\u001b[1;32m    920\u001b[0m \u001b[0;34m\u001b[0m\u001b[0m\n\u001b[0;32m--> 921\u001b[0;31m             \u001b[0mmlflow\u001b[0m\u001b[0;34m.\u001b[0m\u001b[0mtracking\u001b[0m\u001b[0;34m.\u001b[0m\u001b[0mfluent\u001b[0m\u001b[0;34m.\u001b[0m\u001b[0mlog_artifacts\u001b[0m\u001b[0;34m(\u001b[0m\u001b[0mlocal_path\u001b[0m\u001b[0;34m,\u001b[0m \u001b[0mmlflow_model\u001b[0m\u001b[0;34m.\u001b[0m\u001b[0martifact_path\u001b[0m\u001b[0;34m,\u001b[0m \u001b[0mrun_id\u001b[0m\u001b[0;34m)\u001b[0m\u001b[0;34m\u001b[0m\u001b[0;34m\u001b[0m\u001b[0m\n\u001b[0m\u001b[1;32m    922\u001b[0m \u001b[0;34m\u001b[0m\u001b[0m\n\u001b[1;32m    923\u001b[0m             \u001b[0;31m# if the model_config kwarg is passed in, then log the model config as an params\u001b[0m\u001b[0;34m\u001b[0m\u001b[0;34m\u001b[0m\u001b[0m\n",
            "\u001b[0;32m/usr/local/lib/python3.11/dist-packages/mlflow/tracking/fluent.py\u001b[0m in \u001b[0;36mlog_artifacts\u001b[0;34m(local_dir, artifact_path, run_id)\u001b[0m\n\u001b[1;32m   1217\u001b[0m     \"\"\"\n\u001b[1;32m   1218\u001b[0m     \u001b[0mrun_id\u001b[0m \u001b[0;34m=\u001b[0m \u001b[0mrun_id\u001b[0m \u001b[0;32mor\u001b[0m \u001b[0m_get_or_start_run\u001b[0m\u001b[0;34m(\u001b[0m\u001b[0;34m)\u001b[0m\u001b[0;34m.\u001b[0m\u001b[0minfo\u001b[0m\u001b[0;34m.\u001b[0m\u001b[0mrun_id\u001b[0m\u001b[0;34m\u001b[0m\u001b[0;34m\u001b[0m\u001b[0m\n\u001b[0;32m-> 1219\u001b[0;31m     \u001b[0mMlflowClient\u001b[0m\u001b[0;34m(\u001b[0m\u001b[0;34m)\u001b[0m\u001b[0;34m.\u001b[0m\u001b[0mlog_artifacts\u001b[0m\u001b[0;34m(\u001b[0m\u001b[0mrun_id\u001b[0m\u001b[0;34m,\u001b[0m \u001b[0mlocal_dir\u001b[0m\u001b[0;34m,\u001b[0m \u001b[0martifact_path\u001b[0m\u001b[0;34m)\u001b[0m\u001b[0;34m\u001b[0m\u001b[0;34m\u001b[0m\u001b[0m\n\u001b[0m\u001b[1;32m   1220\u001b[0m \u001b[0;34m\u001b[0m\u001b[0m\n\u001b[1;32m   1221\u001b[0m \u001b[0;34m\u001b[0m\u001b[0m\n",
            "\u001b[0;32m/usr/local/lib/python3.11/dist-packages/mlflow/tracking/client.py\u001b[0m in \u001b[0;36mlog_artifacts\u001b[0;34m(self, run_id, local_dir, artifact_path)\u001b[0m\n\u001b[1;32m   2426\u001b[0m \u001b[0;34m\u001b[0m\u001b[0m\n\u001b[1;32m   2427\u001b[0m         \"\"\"\n\u001b[0;32m-> 2428\u001b[0;31m         \u001b[0mself\u001b[0m\u001b[0;34m.\u001b[0m\u001b[0m_tracking_client\u001b[0m\u001b[0;34m.\u001b[0m\u001b[0mlog_artifacts\u001b[0m\u001b[0;34m(\u001b[0m\u001b[0mrun_id\u001b[0m\u001b[0;34m,\u001b[0m \u001b[0mlocal_dir\u001b[0m\u001b[0;34m,\u001b[0m \u001b[0martifact_path\u001b[0m\u001b[0;34m)\u001b[0m\u001b[0;34m\u001b[0m\u001b[0;34m\u001b[0m\u001b[0m\n\u001b[0m\u001b[1;32m   2429\u001b[0m \u001b[0;34m\u001b[0m\u001b[0m\n\u001b[1;32m   2430\u001b[0m     \u001b[0;34m@\u001b[0m\u001b[0mcontextlib\u001b[0m\u001b[0;34m.\u001b[0m\u001b[0mcontextmanager\u001b[0m\u001b[0;34m\u001b[0m\u001b[0;34m\u001b[0m\u001b[0m\n",
            "\u001b[0;32m/usr/local/lib/python3.11/dist-packages/mlflow/tracking/_tracking_service/client.py\u001b[0m in \u001b[0;36mlog_artifacts\u001b[0;34m(self, run_id, local_dir, artifact_path)\u001b[0m\n\u001b[1;32m    962\u001b[0m \u001b[0;34m\u001b[0m\u001b[0m\n\u001b[1;32m    963\u001b[0m         \"\"\"\n\u001b[0;32m--> 964\u001b[0;31m         \u001b[0mself\u001b[0m\u001b[0;34m.\u001b[0m\u001b[0m_get_artifact_repo\u001b[0m\u001b[0;34m(\u001b[0m\u001b[0mrun_id\u001b[0m\u001b[0;34m)\u001b[0m\u001b[0;34m.\u001b[0m\u001b[0mlog_artifacts\u001b[0m\u001b[0;34m(\u001b[0m\u001b[0mlocal_dir\u001b[0m\u001b[0;34m,\u001b[0m \u001b[0martifact_path\u001b[0m\u001b[0;34m)\u001b[0m\u001b[0;34m\u001b[0m\u001b[0;34m\u001b[0m\u001b[0m\n\u001b[0m\u001b[1;32m    965\u001b[0m \u001b[0;34m\u001b[0m\u001b[0m\n\u001b[1;32m    966\u001b[0m     \u001b[0;32mdef\u001b[0m \u001b[0mlist_artifacts\u001b[0m\u001b[0;34m(\u001b[0m\u001b[0mself\u001b[0m\u001b[0;34m,\u001b[0m \u001b[0mrun_id\u001b[0m\u001b[0;34m,\u001b[0m \u001b[0mpath\u001b[0m\u001b[0;34m=\u001b[0m\u001b[0;32mNone\u001b[0m\u001b[0;34m)\u001b[0m\u001b[0;34m:\u001b[0m\u001b[0;34m\u001b[0m\u001b[0;34m\u001b[0m\u001b[0m\n",
            "\u001b[0;32m/usr/local/lib/python3.11/dist-packages/mlflow/tracking/_tracking_service/client.py\u001b[0m in \u001b[0;36m_get_artifact_repo\u001b[0;34m(self, run_id)\u001b[0m\n\u001b[1;32m    904\u001b[0m                 \u001b[0mrun\u001b[0m\u001b[0;34m.\u001b[0m\u001b[0minfo\u001b[0m\u001b[0;34m.\u001b[0m\u001b[0martifact_uri\u001b[0m\u001b[0;34m,\u001b[0m \u001b[0mself\u001b[0m\u001b[0;34m.\u001b[0m\u001b[0mtracking_uri\u001b[0m\u001b[0;34m\u001b[0m\u001b[0;34m\u001b[0m\u001b[0m\n\u001b[1;32m    905\u001b[0m             )\n\u001b[0;32m--> 906\u001b[0;31m             \u001b[0martifact_repo\u001b[0m \u001b[0;34m=\u001b[0m \u001b[0mget_artifact_repository\u001b[0m\u001b[0;34m(\u001b[0m\u001b[0martifact_uri\u001b[0m\u001b[0;34m)\u001b[0m\u001b[0;34m\u001b[0m\u001b[0;34m\u001b[0m\u001b[0m\n\u001b[0m\u001b[1;32m    907\u001b[0m             \u001b[0;31m# Cache the artifact repo to avoid a future network call, removing the oldest\u001b[0m\u001b[0;34m\u001b[0m\u001b[0;34m\u001b[0m\u001b[0m\n\u001b[1;32m    908\u001b[0m             \u001b[0;31m# entry in the cache if there are too many elements\u001b[0m\u001b[0;34m\u001b[0m\u001b[0;34m\u001b[0m\u001b[0m\n",
            "\u001b[0;32m/usr/local/lib/python3.11/dist-packages/mlflow/store/artifact/artifact_repository_registry.py\u001b[0m in \u001b[0;36mget_artifact_repository\u001b[0;34m(artifact_uri)\u001b[0m\n\u001b[1;32m    131\u001b[0m         \u001b[0mrequirements\u001b[0m\u001b[0;34m.\u001b[0m\u001b[0;34m\u001b[0m\u001b[0;34m\u001b[0m\u001b[0m\n\u001b[1;32m    132\u001b[0m     \"\"\"\n\u001b[0;32m--> 133\u001b[0;31m     \u001b[0;32mreturn\u001b[0m \u001b[0m_artifact_repository_registry\u001b[0m\u001b[0;34m.\u001b[0m\u001b[0mget_artifact_repository\u001b[0m\u001b[0;34m(\u001b[0m\u001b[0martifact_uri\u001b[0m\u001b[0;34m)\u001b[0m\u001b[0;34m\u001b[0m\u001b[0;34m\u001b[0m\u001b[0m\n\u001b[0m\u001b[1;32m    134\u001b[0m \u001b[0;34m\u001b[0m\u001b[0m\n\u001b[1;32m    135\u001b[0m \u001b[0;34m\u001b[0m\u001b[0m\n",
            "\u001b[0;32m/usr/local/lib/python3.11/dist-packages/mlflow/store/artifact/artifact_repository_registry.py\u001b[0m in \u001b[0;36mget_artifact_repository\u001b[0;34m(self, artifact_uri)\u001b[0m\n\u001b[1;32m     75\u001b[0m                 \u001b[0;34mf\"Currently registered schemes are: {list(self._registry.keys())}\"\u001b[0m\u001b[0;34m\u001b[0m\u001b[0;34m\u001b[0m\u001b[0m\n\u001b[1;32m     76\u001b[0m             )\n\u001b[0;32m---> 77\u001b[0;31m         \u001b[0;32mreturn\u001b[0m \u001b[0mrepository\u001b[0m\u001b[0;34m(\u001b[0m\u001b[0martifact_uri\u001b[0m\u001b[0;34m)\u001b[0m\u001b[0;34m\u001b[0m\u001b[0;34m\u001b[0m\u001b[0m\n\u001b[0m\u001b[1;32m     78\u001b[0m \u001b[0;34m\u001b[0m\u001b[0m\n\u001b[1;32m     79\u001b[0m     \u001b[0;32mdef\u001b[0m \u001b[0mget_registered_artifact_repositories\u001b[0m\u001b[0;34m(\u001b[0m\u001b[0mself\u001b[0m\u001b[0;34m)\u001b[0m\u001b[0;34m:\u001b[0m\u001b[0;34m\u001b[0m\u001b[0;34m\u001b[0m\u001b[0m\n",
            "\u001b[0;32m/usr/local/lib/python3.11/dist-packages/mlflow/store/artifact/mlflow_artifacts_repo.py\u001b[0m in \u001b[0;36m__init__\u001b[0;34m(self, artifact_uri)\u001b[0m\n\u001b[1;32m     49\u001b[0m \u001b[0;34m\u001b[0m\u001b[0m\n\u001b[1;32m     50\u001b[0m     \u001b[0;32mdef\u001b[0m \u001b[0m__init__\u001b[0m\u001b[0;34m(\u001b[0m\u001b[0mself\u001b[0m\u001b[0;34m,\u001b[0m \u001b[0martifact_uri\u001b[0m\u001b[0;34m)\u001b[0m\u001b[0;34m:\u001b[0m\u001b[0;34m\u001b[0m\u001b[0;34m\u001b[0m\u001b[0m\n\u001b[0;32m---> 51\u001b[0;31m         \u001b[0msuper\u001b[0m\u001b[0;34m(\u001b[0m\u001b[0;34m)\u001b[0m\u001b[0;34m.\u001b[0m\u001b[0m__init__\u001b[0m\u001b[0;34m(\u001b[0m\u001b[0mself\u001b[0m\u001b[0;34m.\u001b[0m\u001b[0mresolve_uri\u001b[0m\u001b[0;34m(\u001b[0m\u001b[0martifact_uri\u001b[0m\u001b[0;34m,\u001b[0m \u001b[0mget_tracking_uri\u001b[0m\u001b[0;34m(\u001b[0m\u001b[0;34m)\u001b[0m\u001b[0;34m)\u001b[0m\u001b[0;34m)\u001b[0m\u001b[0;34m\u001b[0m\u001b[0;34m\u001b[0m\u001b[0m\n\u001b[0m\u001b[1;32m     52\u001b[0m \u001b[0;34m\u001b[0m\u001b[0m\n\u001b[1;32m     53\u001b[0m     \u001b[0;34m@\u001b[0m\u001b[0mclassmethod\u001b[0m\u001b[0;34m\u001b[0m\u001b[0;34m\u001b[0m\u001b[0m\n",
            "\u001b[0;32m/usr/local/lib/python3.11/dist-packages/mlflow/store/artifact/mlflow_artifacts_repo.py\u001b[0m in \u001b[0;36mresolve_uri\u001b[0;34m(cls, artifact_uri, tracking_uri)\u001b[0m\n\u001b[1;32m     63\u001b[0m \u001b[0;34m\u001b[0m\u001b[0m\n\u001b[1;32m     64\u001b[0m         \u001b[0;31m# Check that tracking uri is http or https\u001b[0m\u001b[0;34m\u001b[0m\u001b[0;34m\u001b[0m\u001b[0m\n\u001b[0;32m---> 65\u001b[0;31m         \u001b[0m_validate_uri_scheme\u001b[0m\u001b[0;34m(\u001b[0m\u001b[0mtrack_parse\u001b[0m\u001b[0;34m)\u001b[0m\u001b[0;34m\u001b[0m\u001b[0;34m\u001b[0m\u001b[0m\n\u001b[0m\u001b[1;32m     66\u001b[0m \u001b[0;34m\u001b[0m\u001b[0m\n\u001b[1;32m     67\u001b[0m         \u001b[0;32mif\u001b[0m \u001b[0muri_parse\u001b[0m\u001b[0;34m.\u001b[0m\u001b[0mpath\u001b[0m \u001b[0;34m==\u001b[0m \u001b[0;34m\"/\"\u001b[0m\u001b[0;34m:\u001b[0m  \u001b[0;31m# root directory; build simple path\u001b[0m\u001b[0;34m\u001b[0m\u001b[0;34m\u001b[0m\u001b[0m\n",
            "\u001b[0;32m/usr/local/lib/python3.11/dist-packages/mlflow/store/artifact/mlflow_artifacts_repo.py\u001b[0m in \u001b[0;36m_validate_uri_scheme\u001b[0;34m(parsed_uri)\u001b[0m\n\u001b[1;32m     33\u001b[0m     \u001b[0mallowable_schemes\u001b[0m \u001b[0;34m=\u001b[0m \u001b[0;34m{\u001b[0m\u001b[0;34m\"http\"\u001b[0m\u001b[0;34m,\u001b[0m \u001b[0;34m\"https\"\u001b[0m\u001b[0;34m}\u001b[0m\u001b[0;34m\u001b[0m\u001b[0;34m\u001b[0m\u001b[0m\n\u001b[1;32m     34\u001b[0m     \u001b[0;32mif\u001b[0m \u001b[0mparsed_uri\u001b[0m\u001b[0;34m.\u001b[0m\u001b[0mscheme\u001b[0m \u001b[0;32mnot\u001b[0m \u001b[0;32min\u001b[0m \u001b[0mallowable_schemes\u001b[0m\u001b[0;34m:\u001b[0m\u001b[0;34m\u001b[0m\u001b[0;34m\u001b[0m\u001b[0m\n\u001b[0;32m---> 35\u001b[0;31m         raise MlflowException(\n\u001b[0m\u001b[1;32m     36\u001b[0m             \u001b[0;34m\"When an mlflow-artifacts URI was supplied, the tracking URI must be a valid \"\u001b[0m\u001b[0;34m\u001b[0m\u001b[0;34m\u001b[0m\u001b[0m\n\u001b[1;32m     37\u001b[0m             \u001b[0;34mf\"http or https URI, but it was currently set to {parsed_uri.geturl()}. \"\u001b[0m\u001b[0;34m\u001b[0m\u001b[0;34m\u001b[0m\u001b[0m\n",
            "\u001b[0;31mMlflowException\u001b[0m: When an mlflow-artifacts URI was supplied, the tracking URI must be a valid http or https URI, but it was currently set to file:///content/mlruns. Perhaps you forgot to set the tracking URI to the running MLflow server. To set the tracking URI, use either of the following methods:\n1. Set the MLFLOW_TRACKING_URI environment variable to the desired tracking URI. `export MLFLOW_TRACKING_URI=http://localhost:5000`\n2. Set the tracking URI programmatically by calling `mlflow.set_tracking_uri`. `mlflow.set_tracking_uri('http://localhost:5000')`"
          ]
        }
      ],
      "source": [
        "with mlflow.start_run(run_name=\"Activity Prediction Model\"):\n",
        "  model_info = mlflow.sklearn.log_model(\n",
        "          sk_model=model,\n",
        "          artifact_path=\"Prediction Model\",\n",
        "          input_example=X_sequences,\n",
        "          registered_model_name=\"Prediction-Model\",\n",
        "      )"
      ]
    }
  ],
  "metadata": {
    "colab": {
      "provenance": [],
      "authorship_tag": "ABX9TyNcr+O34s0febl46oLLZypk",
      "include_colab_link": true
    },
    "kernelspec": {
      "display_name": "Python 3",
      "name": "python3"
    },
    "language_info": {
      "name": "python"
    }
  },
  "nbformat": 4,
  "nbformat_minor": 0
}