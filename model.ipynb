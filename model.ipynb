{
  "cells": [
    {
      "cell_type": "markdown",
      "metadata": {
        "id": "view-in-github",
        "colab_type": "text"
      },
      "source": [
        "<a href=\"https://colab.research.google.com/github/pullz6/Research_inspired_Self-Explaining-Neural-Networks-for-Business-Process-Monitoring/blob/main/model.ipynb\" target=\"_parent\"><img src=\"https://colab.research.google.com/assets/colab-badge.svg\" alt=\"Open In Colab\"/></a>"
      ]
    },
    {
      "cell_type": "markdown",
      "metadata": {
        "id": "wYatBYQZwpuq"
      },
      "source": [
        "Importing libraries"
      ]
    },
    {
      "cell_type": "code",
      "execution_count": 55,
      "metadata": {
        "id": "zo8mgsYJXgsd"
      },
      "outputs": [],
      "source": [
        "!pip install mlflow -q"
      ]
    },
    {
      "cell_type": "code",
      "execution_count": 56,
      "metadata": {
        "id": "gYSLfnztXku_"
      },
      "outputs": [],
      "source": [
        "!pip install pyngrok -q"
      ]
    },
    {
      "cell_type": "code",
      "source": [
        "!pip install --upgrade mlflow>=2.3.0"
      ],
      "metadata": {
        "id": "ttjfTI43-v1B"
      },
      "execution_count": 57,
      "outputs": []
    },
    {
      "cell_type": "code",
      "execution_count": 58,
      "metadata": {
        "id": "-B8PcWK2oa7m"
      },
      "outputs": [],
      "source": [
        "#Importing libraries\n",
        "import mlflow\n",
        "from mlflow.data.pandas_dataset import PandasDataset\n",
        "import subprocess\n",
        "from pyngrok import ngrok, conf\n",
        "import getpass\n",
        "\n",
        "\n",
        "import pandas as pd\n",
        "import numpy as np\n",
        "from matplotlib import pyplot as plt\n",
        "import seaborn as sns\n",
        "import datetime\n",
        "from sklearn.preprocessing import MinMaxScaler\n",
        "from scipy import stats"
      ]
    },
    {
      "cell_type": "code",
      "source": [
        "print(mlflow.__version__)"
      ],
      "metadata": {
        "id": "GDHhHTUP-wKS",
        "colab": {
          "base_uri": "https://localhost:8080/"
        },
        "outputId": "4fdb0825-1de2-4e94-f0e4-a714c5be88c2"
      },
      "execution_count": 59,
      "outputs": [
        {
          "output_type": "stream",
          "name": "stdout",
          "text": [
            "2.22.0\n"
          ]
        }
      ]
    },
    {
      "cell_type": "code",
      "source": [
        "def set_mlflow():\n",
        "  get_ipython().system_raw(\"mlflow ui --port 5000 &\")\n",
        "  ngrok.kill()\n",
        "  NGROK_AUTH_TOKEN = \"2slIw2XdGuFjpkotlKi9OYKkNxH_5dr7FtkWh4qMxea6sUoat\"\n",
        "  ngrok.set_auth_token(NGROK_AUTH_TOKEN)\n",
        "  ngrok_tunnel = ngrok.connect(addr=\"5000\", proto=\"http\", bind_tls=True)\n",
        "  print(\"MLflow Tracking UI:\", ngrok_tunnel.public_url)\n",
        "  return ngrok_tunnel.public_url"
      ],
      "metadata": {
        "id": "R623drNt3Qhk"
      },
      "execution_count": 60,
      "outputs": []
    },
    {
      "cell_type": "code",
      "execution_count": 61,
      "metadata": {
        "id": "eFXJTLWEjgyG",
        "colab": {
          "base_uri": "https://localhost:8080/"
        },
        "outputId": "dd6b4d59-de30-4cf2-dc48-2f0580fbe43d"
      },
      "outputs": [
        {
          "output_type": "stream",
          "name": "stdout",
          "text": [
            "MLflow Tracking UI: https://56a8-35-184-158-114.ngrok-free.app\n"
          ]
        }
      ],
      "source": [
        "uri = set_mlflow()\n",
        "mlflow.set_tracking_uri(uri=uri)"
      ]
    },
    {
      "cell_type": "code",
      "execution_count": 63,
      "metadata": {
        "colab": {
          "base_uri": "https://localhost:8080/"
        },
        "id": "bK_odHaBpY4t",
        "outputId": "c6dd814b-353b-4a6b-e007-ef4454523ccf"
      },
      "outputs": [
        {
          "output_type": "execute_result",
          "data": {
            "text/plain": [
              "<Experiment: artifact_location='mlflow-artifacts:/704826602000200303', creation_time=1748875797459, experiment_id='704826602000200303', last_update_time=1748875797459, lifecycle_stage='active', name='Prediction Activity - LSTM', tags={}>"
            ]
          },
          "metadata": {},
          "execution_count": 63
        }
      ],
      "source": [
        "mlflow.set_experiment(\"Prediction Activity - LSTM\")"
      ]
    },
    {
      "cell_type": "code",
      "execution_count": 64,
      "metadata": {
        "id": "CV_9Vyi1g5LM"
      },
      "outputs": [],
      "source": [
        "df = pd.read_csv(\"Helpdesk.csv\")"
      ]
    },
    {
      "cell_type": "code",
      "source": [
        "def prepare_data(df):\n",
        "  #Simple data prep\n",
        "  df.drop_duplicates(inplace=True)\n",
        "  df['case:variant-index'] = df['case:variant-index'].apply(lambda x: int(x))\n",
        "  df['Resource'] = df['Resource'].str.strip().str[-1]\n",
        "  df['Resource'] = df['Resource'].apply(lambda x: int(x))\n",
        "  df['time:timestamp'] = pd.to_datetime(df['time:timestamp'], utc=True)\n",
        "\n",
        "  #Creating a new column for date and formatting the date type\n",
        "  df['new_date'] = df['time:timestamp'].dt.date\n",
        "  df['new_date'] = pd.to_datetime(df['new_date'], utc=True)\n",
        "  df['new_time'] = pd.to_datetime(df['time:timestamp'].dt.time.astype(str), format='%H:%M:%S').dt.floor('S')\n",
        "\n",
        "  #Creating a new column for the time a case started per each entry\n",
        "  min_timestamps = df.groupby('case:concept:name')['time:timestamp'].transform('min')\n",
        "  df['time_lapsed'] = df['time:timestamp'] - min_timestamps\n",
        "  df['time_lapsed'] = pd.to_timedelta(df['time_lapsed'])\n",
        "  df['time_lapsed'] = df['time_lapsed'].dt.total_seconds()\n",
        "\n",
        "  max_len = len(df['concept:name'].unique())\n",
        "\n",
        "  #Lets drop uneccessary columns\n",
        "  df.drop(['concept:name','org:resource','case:creator','lifecycle:transition','case:variant'],axis=1, inplace=True)\n",
        "\n",
        "  #Lets create a stage number for each activity stage of the help desk, this will help us easily identify where the case is in terms of the process\n",
        "  stage = pd.DataFrame()\n",
        "  stage['Stage_no'] = [1,2,3,4,5,6,7,7.1,7.2,8,9,9.1,9.2,10]\n",
        "  stage['Activity'] = ['Insert ticket','Assign seriousness','Take in charge ticket','Wait','Require upgrade','Schedule intervention','Resolve ticket','Create SW anomaly','Resolve SW anomaly','VERIFIED','RESOLVED','INVALID', 'DUPLICATE','Closed']\n",
        "\n",
        "  df=pd.merge(df,stage,on='Activity', how='left')\n",
        "\n",
        "  return max_len, df"
      ],
      "metadata": {
        "id": "a5umZScs4ebw"
      },
      "execution_count": 65,
      "outputs": []
    },
    {
      "cell_type": "code",
      "source": [
        "max_len, df = prepare_data(df)"
      ],
      "metadata": {
        "colab": {
          "base_uri": "https://localhost:8080/"
        },
        "id": "tk0BZIOi5Y_-",
        "outputId": "2ec77f53-5fc4-4085-ceb8-d3670933defc"
      },
      "execution_count": 66,
      "outputs": [
        {
          "output_type": "stream",
          "name": "stderr",
          "text": [
            "<ipython-input-65-e86bb61dc76d>:12: FutureWarning: 'S' is deprecated and will be removed in a future version, please use 's' instead.\n",
            "  df['new_time'] = pd.to_datetime(df['time:timestamp'].dt.time.astype(str), format='%H:%M:%S').dt.floor('S')\n"
          ]
        }
      ]
    },
    {
      "cell_type": "code",
      "execution_count": 67,
      "metadata": {
        "colab": {
          "base_uri": "https://localhost:8080/"
        },
        "id": "OSBPapb69ILg",
        "outputId": "1ad0d17d-4ea8-4d69-f409-c4feb1ad3b6e"
      },
      "outputs": [
        {
          "output_type": "execute_result",
          "data": {
            "text/plain": [
              "14"
            ]
          },
          "metadata": {},
          "execution_count": 67
        }
      ],
      "source": [
        "max_len"
      ]
    },
    {
      "cell_type": "code",
      "execution_count": 68,
      "metadata": {
        "colab": {
          "base_uri": "https://localhost:8080/",
          "height": 206
        },
        "id": "grdJOf-kwBg4",
        "outputId": "25a4e2fc-7360-408b-bb3c-f874d6a0aa85"
      },
      "outputs": [
        {
          "output_type": "execute_result",
          "data": {
            "text/plain": [
              "             time:timestamp               Activity  Resource  \\\n",
              "0 2010-01-13 06:40:25+00:00     Assign seriousness         2   \n",
              "1 2010-01-29 06:52:27+00:00  Take in charge ticket         2   \n",
              "2 2010-01-29 06:52:34+00:00         Resolve ticket         2   \n",
              "3 2010-02-13 06:52:48+00:00                 Closed         5   \n",
              "4 2010-01-13 10:26:04+00:00     Assign seriousness         2   \n",
              "\n",
              "  case:concept:name  case:variant-index                  new_date  \\\n",
              "0          Case3608                  33 2010-01-13 00:00:00+00:00   \n",
              "1          Case3608                  33 2010-01-29 00:00:00+00:00   \n",
              "2          Case3608                  33 2010-01-29 00:00:00+00:00   \n",
              "3          Case3608                  33 2010-02-13 00:00:00+00:00   \n",
              "4          Case2748                   1 2010-01-13 00:00:00+00:00   \n",
              "\n",
              "             new_time  time_lapsed  Stage_no  \n",
              "0 1900-01-01 06:40:25          0.0       2.0  \n",
              "1 1900-01-01 06:52:27    1383122.0       3.0  \n",
              "2 1900-01-01 06:52:34    1383129.0       7.0  \n",
              "3 1900-01-01 06:52:48    2679143.0      10.0  \n",
              "4 1900-01-01 10:26:04          0.0       2.0  "
            ],
            "text/html": [
              "\n",
              "  <div id=\"df-941ea1cf-767f-4b63-9ca5-d7f848919d12\" class=\"colab-df-container\">\n",
              "    <div>\n",
              "<style scoped>\n",
              "    .dataframe tbody tr th:only-of-type {\n",
              "        vertical-align: middle;\n",
              "    }\n",
              "\n",
              "    .dataframe tbody tr th {\n",
              "        vertical-align: top;\n",
              "    }\n",
              "\n",
              "    .dataframe thead th {\n",
              "        text-align: right;\n",
              "    }\n",
              "</style>\n",
              "<table border=\"1\" class=\"dataframe\">\n",
              "  <thead>\n",
              "    <tr style=\"text-align: right;\">\n",
              "      <th></th>\n",
              "      <th>time:timestamp</th>\n",
              "      <th>Activity</th>\n",
              "      <th>Resource</th>\n",
              "      <th>case:concept:name</th>\n",
              "      <th>case:variant-index</th>\n",
              "      <th>new_date</th>\n",
              "      <th>new_time</th>\n",
              "      <th>time_lapsed</th>\n",
              "      <th>Stage_no</th>\n",
              "    </tr>\n",
              "  </thead>\n",
              "  <tbody>\n",
              "    <tr>\n",
              "      <th>0</th>\n",
              "      <td>2010-01-13 06:40:25+00:00</td>\n",
              "      <td>Assign seriousness</td>\n",
              "      <td>2</td>\n",
              "      <td>Case3608</td>\n",
              "      <td>33</td>\n",
              "      <td>2010-01-13 00:00:00+00:00</td>\n",
              "      <td>1900-01-01 06:40:25</td>\n",
              "      <td>0.0</td>\n",
              "      <td>2.0</td>\n",
              "    </tr>\n",
              "    <tr>\n",
              "      <th>1</th>\n",
              "      <td>2010-01-29 06:52:27+00:00</td>\n",
              "      <td>Take in charge ticket</td>\n",
              "      <td>2</td>\n",
              "      <td>Case3608</td>\n",
              "      <td>33</td>\n",
              "      <td>2010-01-29 00:00:00+00:00</td>\n",
              "      <td>1900-01-01 06:52:27</td>\n",
              "      <td>1383122.0</td>\n",
              "      <td>3.0</td>\n",
              "    </tr>\n",
              "    <tr>\n",
              "      <th>2</th>\n",
              "      <td>2010-01-29 06:52:34+00:00</td>\n",
              "      <td>Resolve ticket</td>\n",
              "      <td>2</td>\n",
              "      <td>Case3608</td>\n",
              "      <td>33</td>\n",
              "      <td>2010-01-29 00:00:00+00:00</td>\n",
              "      <td>1900-01-01 06:52:34</td>\n",
              "      <td>1383129.0</td>\n",
              "      <td>7.0</td>\n",
              "    </tr>\n",
              "    <tr>\n",
              "      <th>3</th>\n",
              "      <td>2010-02-13 06:52:48+00:00</td>\n",
              "      <td>Closed</td>\n",
              "      <td>5</td>\n",
              "      <td>Case3608</td>\n",
              "      <td>33</td>\n",
              "      <td>2010-02-13 00:00:00+00:00</td>\n",
              "      <td>1900-01-01 06:52:48</td>\n",
              "      <td>2679143.0</td>\n",
              "      <td>10.0</td>\n",
              "    </tr>\n",
              "    <tr>\n",
              "      <th>4</th>\n",
              "      <td>2010-01-13 10:26:04+00:00</td>\n",
              "      <td>Assign seriousness</td>\n",
              "      <td>2</td>\n",
              "      <td>Case2748</td>\n",
              "      <td>1</td>\n",
              "      <td>2010-01-13 00:00:00+00:00</td>\n",
              "      <td>1900-01-01 10:26:04</td>\n",
              "      <td>0.0</td>\n",
              "      <td>2.0</td>\n",
              "    </tr>\n",
              "  </tbody>\n",
              "</table>\n",
              "</div>\n",
              "    <div class=\"colab-df-buttons\">\n",
              "\n",
              "  <div class=\"colab-df-container\">\n",
              "    <button class=\"colab-df-convert\" onclick=\"convertToInteractive('df-941ea1cf-767f-4b63-9ca5-d7f848919d12')\"\n",
              "            title=\"Convert this dataframe to an interactive table.\"\n",
              "            style=\"display:none;\">\n",
              "\n",
              "  <svg xmlns=\"http://www.w3.org/2000/svg\" height=\"24px\" viewBox=\"0 -960 960 960\">\n",
              "    <path d=\"M120-120v-720h720v720H120Zm60-500h600v-160H180v160Zm220 220h160v-160H400v160Zm0 220h160v-160H400v160ZM180-400h160v-160H180v160Zm440 0h160v-160H620v160ZM180-180h160v-160H180v160Zm440 0h160v-160H620v160Z\"/>\n",
              "  </svg>\n",
              "    </button>\n",
              "\n",
              "  <style>\n",
              "    .colab-df-container {\n",
              "      display:flex;\n",
              "      gap: 12px;\n",
              "    }\n",
              "\n",
              "    .colab-df-convert {\n",
              "      background-color: #E8F0FE;\n",
              "      border: none;\n",
              "      border-radius: 50%;\n",
              "      cursor: pointer;\n",
              "      display: none;\n",
              "      fill: #1967D2;\n",
              "      height: 32px;\n",
              "      padding: 0 0 0 0;\n",
              "      width: 32px;\n",
              "    }\n",
              "\n",
              "    .colab-df-convert:hover {\n",
              "      background-color: #E2EBFA;\n",
              "      box-shadow: 0px 1px 2px rgba(60, 64, 67, 0.3), 0px 1px 3px 1px rgba(60, 64, 67, 0.15);\n",
              "      fill: #174EA6;\n",
              "    }\n",
              "\n",
              "    .colab-df-buttons div {\n",
              "      margin-bottom: 4px;\n",
              "    }\n",
              "\n",
              "    [theme=dark] .colab-df-convert {\n",
              "      background-color: #3B4455;\n",
              "      fill: #D2E3FC;\n",
              "    }\n",
              "\n",
              "    [theme=dark] .colab-df-convert:hover {\n",
              "      background-color: #434B5C;\n",
              "      box-shadow: 0px 1px 3px 1px rgba(0, 0, 0, 0.15);\n",
              "      filter: drop-shadow(0px 1px 2px rgba(0, 0, 0, 0.3));\n",
              "      fill: #FFFFFF;\n",
              "    }\n",
              "  </style>\n",
              "\n",
              "    <script>\n",
              "      const buttonEl =\n",
              "        document.querySelector('#df-941ea1cf-767f-4b63-9ca5-d7f848919d12 button.colab-df-convert');\n",
              "      buttonEl.style.display =\n",
              "        google.colab.kernel.accessAllowed ? 'block' : 'none';\n",
              "\n",
              "      async function convertToInteractive(key) {\n",
              "        const element = document.querySelector('#df-941ea1cf-767f-4b63-9ca5-d7f848919d12');\n",
              "        const dataTable =\n",
              "          await google.colab.kernel.invokeFunction('convertToInteractive',\n",
              "                                                    [key], {});\n",
              "        if (!dataTable) return;\n",
              "\n",
              "        const docLinkHtml = 'Like what you see? Visit the ' +\n",
              "          '<a target=\"_blank\" href=https://colab.research.google.com/notebooks/data_table.ipynb>data table notebook</a>'\n",
              "          + ' to learn more about interactive tables.';\n",
              "        element.innerHTML = '';\n",
              "        dataTable['output_type'] = 'display_data';\n",
              "        await google.colab.output.renderOutput(dataTable, element);\n",
              "        const docLink = document.createElement('div');\n",
              "        docLink.innerHTML = docLinkHtml;\n",
              "        element.appendChild(docLink);\n",
              "      }\n",
              "    </script>\n",
              "  </div>\n",
              "\n",
              "\n",
              "    <div id=\"df-1e76167c-5e3d-4aee-8706-fbe7e90d4c11\">\n",
              "      <button class=\"colab-df-quickchart\" onclick=\"quickchart('df-1e76167c-5e3d-4aee-8706-fbe7e90d4c11')\"\n",
              "                title=\"Suggest charts\"\n",
              "                style=\"display:none;\">\n",
              "\n",
              "<svg xmlns=\"http://www.w3.org/2000/svg\" height=\"24px\"viewBox=\"0 0 24 24\"\n",
              "     width=\"24px\">\n",
              "    <g>\n",
              "        <path d=\"M19 3H5c-1.1 0-2 .9-2 2v14c0 1.1.9 2 2 2h14c1.1 0 2-.9 2-2V5c0-1.1-.9-2-2-2zM9 17H7v-7h2v7zm4 0h-2V7h2v10zm4 0h-2v-4h2v4z\"/>\n",
              "    </g>\n",
              "</svg>\n",
              "      </button>\n",
              "\n",
              "<style>\n",
              "  .colab-df-quickchart {\n",
              "      --bg-color: #E8F0FE;\n",
              "      --fill-color: #1967D2;\n",
              "      --hover-bg-color: #E2EBFA;\n",
              "      --hover-fill-color: #174EA6;\n",
              "      --disabled-fill-color: #AAA;\n",
              "      --disabled-bg-color: #DDD;\n",
              "  }\n",
              "\n",
              "  [theme=dark] .colab-df-quickchart {\n",
              "      --bg-color: #3B4455;\n",
              "      --fill-color: #D2E3FC;\n",
              "      --hover-bg-color: #434B5C;\n",
              "      --hover-fill-color: #FFFFFF;\n",
              "      --disabled-bg-color: #3B4455;\n",
              "      --disabled-fill-color: #666;\n",
              "  }\n",
              "\n",
              "  .colab-df-quickchart {\n",
              "    background-color: var(--bg-color);\n",
              "    border: none;\n",
              "    border-radius: 50%;\n",
              "    cursor: pointer;\n",
              "    display: none;\n",
              "    fill: var(--fill-color);\n",
              "    height: 32px;\n",
              "    padding: 0;\n",
              "    width: 32px;\n",
              "  }\n",
              "\n",
              "  .colab-df-quickchart:hover {\n",
              "    background-color: var(--hover-bg-color);\n",
              "    box-shadow: 0 1px 2px rgba(60, 64, 67, 0.3), 0 1px 3px 1px rgba(60, 64, 67, 0.15);\n",
              "    fill: var(--button-hover-fill-color);\n",
              "  }\n",
              "\n",
              "  .colab-df-quickchart-complete:disabled,\n",
              "  .colab-df-quickchart-complete:disabled:hover {\n",
              "    background-color: var(--disabled-bg-color);\n",
              "    fill: var(--disabled-fill-color);\n",
              "    box-shadow: none;\n",
              "  }\n",
              "\n",
              "  .colab-df-spinner {\n",
              "    border: 2px solid var(--fill-color);\n",
              "    border-color: transparent;\n",
              "    border-bottom-color: var(--fill-color);\n",
              "    animation:\n",
              "      spin 1s steps(1) infinite;\n",
              "  }\n",
              "\n",
              "  @keyframes spin {\n",
              "    0% {\n",
              "      border-color: transparent;\n",
              "      border-bottom-color: var(--fill-color);\n",
              "      border-left-color: var(--fill-color);\n",
              "    }\n",
              "    20% {\n",
              "      border-color: transparent;\n",
              "      border-left-color: var(--fill-color);\n",
              "      border-top-color: var(--fill-color);\n",
              "    }\n",
              "    30% {\n",
              "      border-color: transparent;\n",
              "      border-left-color: var(--fill-color);\n",
              "      border-top-color: var(--fill-color);\n",
              "      border-right-color: var(--fill-color);\n",
              "    }\n",
              "    40% {\n",
              "      border-color: transparent;\n",
              "      border-right-color: var(--fill-color);\n",
              "      border-top-color: var(--fill-color);\n",
              "    }\n",
              "    60% {\n",
              "      border-color: transparent;\n",
              "      border-right-color: var(--fill-color);\n",
              "    }\n",
              "    80% {\n",
              "      border-color: transparent;\n",
              "      border-right-color: var(--fill-color);\n",
              "      border-bottom-color: var(--fill-color);\n",
              "    }\n",
              "    90% {\n",
              "      border-color: transparent;\n",
              "      border-bottom-color: var(--fill-color);\n",
              "    }\n",
              "  }\n",
              "</style>\n",
              "\n",
              "      <script>\n",
              "        async function quickchart(key) {\n",
              "          const quickchartButtonEl =\n",
              "            document.querySelector('#' + key + ' button');\n",
              "          quickchartButtonEl.disabled = true;  // To prevent multiple clicks.\n",
              "          quickchartButtonEl.classList.add('colab-df-spinner');\n",
              "          try {\n",
              "            const charts = await google.colab.kernel.invokeFunction(\n",
              "                'suggestCharts', [key], {});\n",
              "          } catch (error) {\n",
              "            console.error('Error during call to suggestCharts:', error);\n",
              "          }\n",
              "          quickchartButtonEl.classList.remove('colab-df-spinner');\n",
              "          quickchartButtonEl.classList.add('colab-df-quickchart-complete');\n",
              "        }\n",
              "        (() => {\n",
              "          let quickchartButtonEl =\n",
              "            document.querySelector('#df-1e76167c-5e3d-4aee-8706-fbe7e90d4c11 button');\n",
              "          quickchartButtonEl.style.display =\n",
              "            google.colab.kernel.accessAllowed ? 'block' : 'none';\n",
              "        })();\n",
              "      </script>\n",
              "    </div>\n",
              "\n",
              "    </div>\n",
              "  </div>\n"
            ],
            "application/vnd.google.colaboratory.intrinsic+json": {
              "type": "dataframe",
              "variable_name": "df",
              "summary": "{\n  \"name\": \"df\",\n  \"rows\": 21221,\n  \"fields\": [\n    {\n      \"column\": \"time:timestamp\",\n      \"properties\": {\n        \"dtype\": \"date\",\n        \"min\": \"2010-01-13 06:40:25+00:00\",\n        \"max\": \"2014-01-03 11:20:58+00:00\",\n        \"num_unique_values\": 21157,\n        \"samples\": [\n          \"2012-03-05 11:29:12+00:00\",\n          \"2012-02-13 09:32:49+00:00\",\n          \"2011-05-03 06:17:47+00:00\"\n        ],\n        \"semantic_type\": \"\",\n        \"description\": \"\"\n      }\n    },\n    {\n      \"column\": \"Activity\",\n      \"properties\": {\n        \"dtype\": \"category\",\n        \"num_unique_values\": 14,\n        \"samples\": [\n          \"INVALID\",\n          \"Resolve SW anomaly\",\n          \"Assign seriousness\"\n        ],\n        \"semantic_type\": \"\",\n        \"description\": \"\"\n      }\n    },\n    {\n      \"column\": \"Resource\",\n      \"properties\": {\n        \"dtype\": \"number\",\n        \"std\": 2,\n        \"min\": 0,\n        \"max\": 9,\n        \"num_unique_values\": 10,\n        \"samples\": [\n          8,\n          5,\n          7\n        ],\n        \"semantic_type\": \"\",\n        \"description\": \"\"\n      }\n    },\n    {\n      \"column\": \"case:concept:name\",\n      \"properties\": {\n        \"dtype\": \"category\",\n        \"num_unique_values\": 4580,\n        \"samples\": [\n          \"Case3315\",\n          \"Case2176\",\n          \"Case1968\"\n        ],\n        \"semantic_type\": \"\",\n        \"description\": \"\"\n      }\n    },\n    {\n      \"column\": \"case:variant-index\",\n      \"properties\": {\n        \"dtype\": \"number\",\n        \"std\": 35,\n        \"min\": 1,\n        \"max\": 226,\n        \"num_unique_values\": 226,\n        \"samples\": [\n          19,\n          211,\n          44\n        ],\n        \"semantic_type\": \"\",\n        \"description\": \"\"\n      }\n    },\n    {\n      \"column\": \"new_date\",\n      \"properties\": {\n        \"dtype\": \"date\",\n        \"min\": \"2010-01-13 00:00:00+00:00\",\n        \"max\": \"2014-01-03 00:00:00+00:00\",\n        \"num_unique_values\": 1305,\n        \"samples\": [\n          \"2013-07-29 00:00:00+00:00\",\n          \"2011-07-30 00:00:00+00:00\",\n          \"2012-07-09 00:00:00+00:00\"\n        ],\n        \"semantic_type\": \"\",\n        \"description\": \"\"\n      }\n    },\n    {\n      \"column\": \"new_time\",\n      \"properties\": {\n        \"dtype\": \"date\",\n        \"min\": \"1900-01-01 00:02:25\",\n        \"max\": \"1900-01-01 18:57:12\",\n        \"num_unique_values\": 15710,\n        \"samples\": [\n          \"1900-01-01 06:12:15\",\n          \"1900-01-01 07:48:14\",\n          \"1900-01-01 13:43:16\"\n        ],\n        \"semantic_type\": \"\",\n        \"description\": \"\"\n      }\n    },\n    {\n      \"column\": \"time_lapsed\",\n      \"properties\": {\n        \"dtype\": \"number\",\n        \"std\": 1483251.4162954101,\n        \"min\": 0.0,\n        \"max\": 5183565.0,\n        \"num_unique_values\": 14707,\n        \"samples\": [\n          686331.0,\n          604213.0,\n          3739167.0\n        ],\n        \"semantic_type\": \"\",\n        \"description\": \"\"\n      }\n    },\n    {\n      \"column\": \"Stage_no\",\n      \"properties\": {\n        \"dtype\": \"number\",\n        \"std\": 3.072519871207139,\n        \"min\": 1.0,\n        \"max\": 10.0,\n        \"num_unique_values\": 14,\n        \"samples\": [\n          9.1,\n          7.2,\n          2.0\n        ],\n        \"semantic_type\": \"\",\n        \"description\": \"\"\n      }\n    }\n  ]\n}"
            }
          },
          "metadata": {},
          "execution_count": 68
        }
      ],
      "source": [
        "df.head()"
      ]
    },
    {
      "cell_type": "code",
      "execution_count": 69,
      "metadata": {
        "colab": {
          "base_uri": "https://localhost:8080/"
        },
        "id": "eDXZPFuk8nDm",
        "outputId": "38cda487-72f3-44e4-e356-ae2b089219fb"
      },
      "outputs": [
        {
          "output_type": "stream",
          "name": "stdout",
          "text": [
            "<class 'pandas.core.frame.DataFrame'>\n",
            "RangeIndex: 21221 entries, 0 to 21220\n",
            "Data columns (total 9 columns):\n",
            " #   Column              Non-Null Count  Dtype              \n",
            "---  ------              --------------  -----              \n",
            " 0   time:timestamp      21221 non-null  datetime64[ns, UTC]\n",
            " 1   Activity            21221 non-null  object             \n",
            " 2   Resource            21221 non-null  int64              \n",
            " 3   case:concept:name   21221 non-null  object             \n",
            " 4   case:variant-index  21221 non-null  int64              \n",
            " 5   new_date            21221 non-null  datetime64[ns, UTC]\n",
            " 6   new_time            21221 non-null  datetime64[ns]     \n",
            " 7   time_lapsed         21221 non-null  float64            \n",
            " 8   Stage_no            21221 non-null  float64            \n",
            "dtypes: datetime64[ns, UTC](2), datetime64[ns](1), float64(2), int64(2), object(2)\n",
            "memory usage: 1.5+ MB\n"
          ]
        }
      ],
      "source": [
        "df.info()"
      ]
    },
    {
      "cell_type": "markdown",
      "metadata": {
        "id": "SM0dh0HJluEB"
      },
      "source": [
        "One-Hot Encoding"
      ]
    },
    {
      "cell_type": "code",
      "execution_count": 70,
      "metadata": {
        "id": "LTPcvpa_ltoM"
      },
      "outputs": [],
      "source": [
        "from sklearn.preprocessing import OneHotEncoder"
      ]
    },
    {
      "cell_type": "code",
      "source": [
        "def one_hot_encode(df, column_name):\n",
        "  one_hot_enc = OneHotEncoder(sparse_output=False)\n",
        "  arr = one_hot_enc.fit_transform(df[[column_name]])\n",
        "  feature_names = one_hot_enc.get_feature_names_out([column_name])\n",
        "  df_encoded = pd.DataFrame(arr, columns=feature_names)\n",
        "  df.drop(column_name, axis=1, inplace=True)\n",
        "  df = pd.concat([df, df_encoded], axis=1)\n",
        "  return df"
      ],
      "metadata": {
        "id": "yDxlJsqp7QtA"
      },
      "execution_count": 71,
      "outputs": []
    },
    {
      "cell_type": "code",
      "source": [
        "df = one_hot_encode(df, 'Stage_no')"
      ],
      "metadata": {
        "id": "VVtEEaff7mvR"
      },
      "execution_count": 72,
      "outputs": []
    },
    {
      "cell_type": "code",
      "execution_count": 73,
      "metadata": {
        "colab": {
          "base_uri": "https://localhost:8080/",
          "height": 446
        },
        "id": "KzUIxMIN0yjP",
        "outputId": "480a33eb-e8ec-418a-e27f-c6eba1dcb045"
      },
      "outputs": [
        {
          "output_type": "execute_result",
          "data": {
            "text/plain": [
              "             time:timestamp               Activity  Resource  \\\n",
              "0 2010-01-13 06:40:25+00:00     Assign seriousness         2   \n",
              "1 2010-01-29 06:52:27+00:00  Take in charge ticket         2   \n",
              "2 2010-01-29 06:52:34+00:00         Resolve ticket         2   \n",
              "3 2010-02-13 06:52:48+00:00                 Closed         5   \n",
              "4 2010-01-13 10:26:04+00:00     Assign seriousness         2   \n",
              "\n",
              "  case:concept:name  case:variant-index                  new_date  \\\n",
              "0          Case3608                  33 2010-01-13 00:00:00+00:00   \n",
              "1          Case3608                  33 2010-01-29 00:00:00+00:00   \n",
              "2          Case3608                  33 2010-01-29 00:00:00+00:00   \n",
              "3          Case3608                  33 2010-02-13 00:00:00+00:00   \n",
              "4          Case2748                   1 2010-01-13 00:00:00+00:00   \n",
              "\n",
              "             new_time  time_lapsed  Stage_no_1.0  Stage_no_2.0  ...  \\\n",
              "0 1900-01-01 06:40:25          0.0           0.0           1.0  ...   \n",
              "1 1900-01-01 06:52:27    1383122.0           0.0           0.0  ...   \n",
              "2 1900-01-01 06:52:34    1383129.0           0.0           0.0  ...   \n",
              "3 1900-01-01 06:52:48    2679143.0           0.0           0.0  ...   \n",
              "4 1900-01-01 10:26:04          0.0           0.0           1.0  ...   \n",
              "\n",
              "   Stage_no_5.0  Stage_no_6.0  Stage_no_7.0  Stage_no_7.1  Stage_no_7.2  \\\n",
              "0           0.0           0.0           0.0           0.0           0.0   \n",
              "1           0.0           0.0           0.0           0.0           0.0   \n",
              "2           0.0           0.0           1.0           0.0           0.0   \n",
              "3           0.0           0.0           0.0           0.0           0.0   \n",
              "4           0.0           0.0           0.0           0.0           0.0   \n",
              "\n",
              "   Stage_no_8.0  Stage_no_9.0  Stage_no_9.1  Stage_no_9.2  Stage_no_10.0  \n",
              "0           0.0           0.0           0.0           0.0            0.0  \n",
              "1           0.0           0.0           0.0           0.0            0.0  \n",
              "2           0.0           0.0           0.0           0.0            0.0  \n",
              "3           0.0           0.0           0.0           0.0            1.0  \n",
              "4           0.0           0.0           0.0           0.0            0.0  \n",
              "\n",
              "[5 rows x 22 columns]"
            ],
            "text/html": [
              "\n",
              "  <div id=\"df-4579dfa3-5838-44de-a4dd-ad35968b3d69\" class=\"colab-df-container\">\n",
              "    <div>\n",
              "<style scoped>\n",
              "    .dataframe tbody tr th:only-of-type {\n",
              "        vertical-align: middle;\n",
              "    }\n",
              "\n",
              "    .dataframe tbody tr th {\n",
              "        vertical-align: top;\n",
              "    }\n",
              "\n",
              "    .dataframe thead th {\n",
              "        text-align: right;\n",
              "    }\n",
              "</style>\n",
              "<table border=\"1\" class=\"dataframe\">\n",
              "  <thead>\n",
              "    <tr style=\"text-align: right;\">\n",
              "      <th></th>\n",
              "      <th>time:timestamp</th>\n",
              "      <th>Activity</th>\n",
              "      <th>Resource</th>\n",
              "      <th>case:concept:name</th>\n",
              "      <th>case:variant-index</th>\n",
              "      <th>new_date</th>\n",
              "      <th>new_time</th>\n",
              "      <th>time_lapsed</th>\n",
              "      <th>Stage_no_1.0</th>\n",
              "      <th>Stage_no_2.0</th>\n",
              "      <th>...</th>\n",
              "      <th>Stage_no_5.0</th>\n",
              "      <th>Stage_no_6.0</th>\n",
              "      <th>Stage_no_7.0</th>\n",
              "      <th>Stage_no_7.1</th>\n",
              "      <th>Stage_no_7.2</th>\n",
              "      <th>Stage_no_8.0</th>\n",
              "      <th>Stage_no_9.0</th>\n",
              "      <th>Stage_no_9.1</th>\n",
              "      <th>Stage_no_9.2</th>\n",
              "      <th>Stage_no_10.0</th>\n",
              "    </tr>\n",
              "  </thead>\n",
              "  <tbody>\n",
              "    <tr>\n",
              "      <th>0</th>\n",
              "      <td>2010-01-13 06:40:25+00:00</td>\n",
              "      <td>Assign seriousness</td>\n",
              "      <td>2</td>\n",
              "      <td>Case3608</td>\n",
              "      <td>33</td>\n",
              "      <td>2010-01-13 00:00:00+00:00</td>\n",
              "      <td>1900-01-01 06:40:25</td>\n",
              "      <td>0.0</td>\n",
              "      <td>0.0</td>\n",
              "      <td>1.0</td>\n",
              "      <td>...</td>\n",
              "      <td>0.0</td>\n",
              "      <td>0.0</td>\n",
              "      <td>0.0</td>\n",
              "      <td>0.0</td>\n",
              "      <td>0.0</td>\n",
              "      <td>0.0</td>\n",
              "      <td>0.0</td>\n",
              "      <td>0.0</td>\n",
              "      <td>0.0</td>\n",
              "      <td>0.0</td>\n",
              "    </tr>\n",
              "    <tr>\n",
              "      <th>1</th>\n",
              "      <td>2010-01-29 06:52:27+00:00</td>\n",
              "      <td>Take in charge ticket</td>\n",
              "      <td>2</td>\n",
              "      <td>Case3608</td>\n",
              "      <td>33</td>\n",
              "      <td>2010-01-29 00:00:00+00:00</td>\n",
              "      <td>1900-01-01 06:52:27</td>\n",
              "      <td>1383122.0</td>\n",
              "      <td>0.0</td>\n",
              "      <td>0.0</td>\n",
              "      <td>...</td>\n",
              "      <td>0.0</td>\n",
              "      <td>0.0</td>\n",
              "      <td>0.0</td>\n",
              "      <td>0.0</td>\n",
              "      <td>0.0</td>\n",
              "      <td>0.0</td>\n",
              "      <td>0.0</td>\n",
              "      <td>0.0</td>\n",
              "      <td>0.0</td>\n",
              "      <td>0.0</td>\n",
              "    </tr>\n",
              "    <tr>\n",
              "      <th>2</th>\n",
              "      <td>2010-01-29 06:52:34+00:00</td>\n",
              "      <td>Resolve ticket</td>\n",
              "      <td>2</td>\n",
              "      <td>Case3608</td>\n",
              "      <td>33</td>\n",
              "      <td>2010-01-29 00:00:00+00:00</td>\n",
              "      <td>1900-01-01 06:52:34</td>\n",
              "      <td>1383129.0</td>\n",
              "      <td>0.0</td>\n",
              "      <td>0.0</td>\n",
              "      <td>...</td>\n",
              "      <td>0.0</td>\n",
              "      <td>0.0</td>\n",
              "      <td>1.0</td>\n",
              "      <td>0.0</td>\n",
              "      <td>0.0</td>\n",
              "      <td>0.0</td>\n",
              "      <td>0.0</td>\n",
              "      <td>0.0</td>\n",
              "      <td>0.0</td>\n",
              "      <td>0.0</td>\n",
              "    </tr>\n",
              "    <tr>\n",
              "      <th>3</th>\n",
              "      <td>2010-02-13 06:52:48+00:00</td>\n",
              "      <td>Closed</td>\n",
              "      <td>5</td>\n",
              "      <td>Case3608</td>\n",
              "      <td>33</td>\n",
              "      <td>2010-02-13 00:00:00+00:00</td>\n",
              "      <td>1900-01-01 06:52:48</td>\n",
              "      <td>2679143.0</td>\n",
              "      <td>0.0</td>\n",
              "      <td>0.0</td>\n",
              "      <td>...</td>\n",
              "      <td>0.0</td>\n",
              "      <td>0.0</td>\n",
              "      <td>0.0</td>\n",
              "      <td>0.0</td>\n",
              "      <td>0.0</td>\n",
              "      <td>0.0</td>\n",
              "      <td>0.0</td>\n",
              "      <td>0.0</td>\n",
              "      <td>0.0</td>\n",
              "      <td>1.0</td>\n",
              "    </tr>\n",
              "    <tr>\n",
              "      <th>4</th>\n",
              "      <td>2010-01-13 10:26:04+00:00</td>\n",
              "      <td>Assign seriousness</td>\n",
              "      <td>2</td>\n",
              "      <td>Case2748</td>\n",
              "      <td>1</td>\n",
              "      <td>2010-01-13 00:00:00+00:00</td>\n",
              "      <td>1900-01-01 10:26:04</td>\n",
              "      <td>0.0</td>\n",
              "      <td>0.0</td>\n",
              "      <td>1.0</td>\n",
              "      <td>...</td>\n",
              "      <td>0.0</td>\n",
              "      <td>0.0</td>\n",
              "      <td>0.0</td>\n",
              "      <td>0.0</td>\n",
              "      <td>0.0</td>\n",
              "      <td>0.0</td>\n",
              "      <td>0.0</td>\n",
              "      <td>0.0</td>\n",
              "      <td>0.0</td>\n",
              "      <td>0.0</td>\n",
              "    </tr>\n",
              "  </tbody>\n",
              "</table>\n",
              "<p>5 rows × 22 columns</p>\n",
              "</div>\n",
              "    <div class=\"colab-df-buttons\">\n",
              "\n",
              "  <div class=\"colab-df-container\">\n",
              "    <button class=\"colab-df-convert\" onclick=\"convertToInteractive('df-4579dfa3-5838-44de-a4dd-ad35968b3d69')\"\n",
              "            title=\"Convert this dataframe to an interactive table.\"\n",
              "            style=\"display:none;\">\n",
              "\n",
              "  <svg xmlns=\"http://www.w3.org/2000/svg\" height=\"24px\" viewBox=\"0 -960 960 960\">\n",
              "    <path d=\"M120-120v-720h720v720H120Zm60-500h600v-160H180v160Zm220 220h160v-160H400v160Zm0 220h160v-160H400v160ZM180-400h160v-160H180v160Zm440 0h160v-160H620v160ZM180-180h160v-160H180v160Zm440 0h160v-160H620v160Z\"/>\n",
              "  </svg>\n",
              "    </button>\n",
              "\n",
              "  <style>\n",
              "    .colab-df-container {\n",
              "      display:flex;\n",
              "      gap: 12px;\n",
              "    }\n",
              "\n",
              "    .colab-df-convert {\n",
              "      background-color: #E8F0FE;\n",
              "      border: none;\n",
              "      border-radius: 50%;\n",
              "      cursor: pointer;\n",
              "      display: none;\n",
              "      fill: #1967D2;\n",
              "      height: 32px;\n",
              "      padding: 0 0 0 0;\n",
              "      width: 32px;\n",
              "    }\n",
              "\n",
              "    .colab-df-convert:hover {\n",
              "      background-color: #E2EBFA;\n",
              "      box-shadow: 0px 1px 2px rgba(60, 64, 67, 0.3), 0px 1px 3px 1px rgba(60, 64, 67, 0.15);\n",
              "      fill: #174EA6;\n",
              "    }\n",
              "\n",
              "    .colab-df-buttons div {\n",
              "      margin-bottom: 4px;\n",
              "    }\n",
              "\n",
              "    [theme=dark] .colab-df-convert {\n",
              "      background-color: #3B4455;\n",
              "      fill: #D2E3FC;\n",
              "    }\n",
              "\n",
              "    [theme=dark] .colab-df-convert:hover {\n",
              "      background-color: #434B5C;\n",
              "      box-shadow: 0px 1px 3px 1px rgba(0, 0, 0, 0.15);\n",
              "      filter: drop-shadow(0px 1px 2px rgba(0, 0, 0, 0.3));\n",
              "      fill: #FFFFFF;\n",
              "    }\n",
              "  </style>\n",
              "\n",
              "    <script>\n",
              "      const buttonEl =\n",
              "        document.querySelector('#df-4579dfa3-5838-44de-a4dd-ad35968b3d69 button.colab-df-convert');\n",
              "      buttonEl.style.display =\n",
              "        google.colab.kernel.accessAllowed ? 'block' : 'none';\n",
              "\n",
              "      async function convertToInteractive(key) {\n",
              "        const element = document.querySelector('#df-4579dfa3-5838-44de-a4dd-ad35968b3d69');\n",
              "        const dataTable =\n",
              "          await google.colab.kernel.invokeFunction('convertToInteractive',\n",
              "                                                    [key], {});\n",
              "        if (!dataTable) return;\n",
              "\n",
              "        const docLinkHtml = 'Like what you see? Visit the ' +\n",
              "          '<a target=\"_blank\" href=https://colab.research.google.com/notebooks/data_table.ipynb>data table notebook</a>'\n",
              "          + ' to learn more about interactive tables.';\n",
              "        element.innerHTML = '';\n",
              "        dataTable['output_type'] = 'display_data';\n",
              "        await google.colab.output.renderOutput(dataTable, element);\n",
              "        const docLink = document.createElement('div');\n",
              "        docLink.innerHTML = docLinkHtml;\n",
              "        element.appendChild(docLink);\n",
              "      }\n",
              "    </script>\n",
              "  </div>\n",
              "\n",
              "\n",
              "    <div id=\"df-e05f557b-5a3d-4be5-b3af-e6fc7a0c6af1\">\n",
              "      <button class=\"colab-df-quickchart\" onclick=\"quickchart('df-e05f557b-5a3d-4be5-b3af-e6fc7a0c6af1')\"\n",
              "                title=\"Suggest charts\"\n",
              "                style=\"display:none;\">\n",
              "\n",
              "<svg xmlns=\"http://www.w3.org/2000/svg\" height=\"24px\"viewBox=\"0 0 24 24\"\n",
              "     width=\"24px\">\n",
              "    <g>\n",
              "        <path d=\"M19 3H5c-1.1 0-2 .9-2 2v14c0 1.1.9 2 2 2h14c1.1 0 2-.9 2-2V5c0-1.1-.9-2-2-2zM9 17H7v-7h2v7zm4 0h-2V7h2v10zm4 0h-2v-4h2v4z\"/>\n",
              "    </g>\n",
              "</svg>\n",
              "      </button>\n",
              "\n",
              "<style>\n",
              "  .colab-df-quickchart {\n",
              "      --bg-color: #E8F0FE;\n",
              "      --fill-color: #1967D2;\n",
              "      --hover-bg-color: #E2EBFA;\n",
              "      --hover-fill-color: #174EA6;\n",
              "      --disabled-fill-color: #AAA;\n",
              "      --disabled-bg-color: #DDD;\n",
              "  }\n",
              "\n",
              "  [theme=dark] .colab-df-quickchart {\n",
              "      --bg-color: #3B4455;\n",
              "      --fill-color: #D2E3FC;\n",
              "      --hover-bg-color: #434B5C;\n",
              "      --hover-fill-color: #FFFFFF;\n",
              "      --disabled-bg-color: #3B4455;\n",
              "      --disabled-fill-color: #666;\n",
              "  }\n",
              "\n",
              "  .colab-df-quickchart {\n",
              "    background-color: var(--bg-color);\n",
              "    border: none;\n",
              "    border-radius: 50%;\n",
              "    cursor: pointer;\n",
              "    display: none;\n",
              "    fill: var(--fill-color);\n",
              "    height: 32px;\n",
              "    padding: 0;\n",
              "    width: 32px;\n",
              "  }\n",
              "\n",
              "  .colab-df-quickchart:hover {\n",
              "    background-color: var(--hover-bg-color);\n",
              "    box-shadow: 0 1px 2px rgba(60, 64, 67, 0.3), 0 1px 3px 1px rgba(60, 64, 67, 0.15);\n",
              "    fill: var(--button-hover-fill-color);\n",
              "  }\n",
              "\n",
              "  .colab-df-quickchart-complete:disabled,\n",
              "  .colab-df-quickchart-complete:disabled:hover {\n",
              "    background-color: var(--disabled-bg-color);\n",
              "    fill: var(--disabled-fill-color);\n",
              "    box-shadow: none;\n",
              "  }\n",
              "\n",
              "  .colab-df-spinner {\n",
              "    border: 2px solid var(--fill-color);\n",
              "    border-color: transparent;\n",
              "    border-bottom-color: var(--fill-color);\n",
              "    animation:\n",
              "      spin 1s steps(1) infinite;\n",
              "  }\n",
              "\n",
              "  @keyframes spin {\n",
              "    0% {\n",
              "      border-color: transparent;\n",
              "      border-bottom-color: var(--fill-color);\n",
              "      border-left-color: var(--fill-color);\n",
              "    }\n",
              "    20% {\n",
              "      border-color: transparent;\n",
              "      border-left-color: var(--fill-color);\n",
              "      border-top-color: var(--fill-color);\n",
              "    }\n",
              "    30% {\n",
              "      border-color: transparent;\n",
              "      border-left-color: var(--fill-color);\n",
              "      border-top-color: var(--fill-color);\n",
              "      border-right-color: var(--fill-color);\n",
              "    }\n",
              "    40% {\n",
              "      border-color: transparent;\n",
              "      border-right-color: var(--fill-color);\n",
              "      border-top-color: var(--fill-color);\n",
              "    }\n",
              "    60% {\n",
              "      border-color: transparent;\n",
              "      border-right-color: var(--fill-color);\n",
              "    }\n",
              "    80% {\n",
              "      border-color: transparent;\n",
              "      border-right-color: var(--fill-color);\n",
              "      border-bottom-color: var(--fill-color);\n",
              "    }\n",
              "    90% {\n",
              "      border-color: transparent;\n",
              "      border-bottom-color: var(--fill-color);\n",
              "    }\n",
              "  }\n",
              "</style>\n",
              "\n",
              "      <script>\n",
              "        async function quickchart(key) {\n",
              "          const quickchartButtonEl =\n",
              "            document.querySelector('#' + key + ' button');\n",
              "          quickchartButtonEl.disabled = true;  // To prevent multiple clicks.\n",
              "          quickchartButtonEl.classList.add('colab-df-spinner');\n",
              "          try {\n",
              "            const charts = await google.colab.kernel.invokeFunction(\n",
              "                'suggestCharts', [key], {});\n",
              "          } catch (error) {\n",
              "            console.error('Error during call to suggestCharts:', error);\n",
              "          }\n",
              "          quickchartButtonEl.classList.remove('colab-df-spinner');\n",
              "          quickchartButtonEl.classList.add('colab-df-quickchart-complete');\n",
              "        }\n",
              "        (() => {\n",
              "          let quickchartButtonEl =\n",
              "            document.querySelector('#df-e05f557b-5a3d-4be5-b3af-e6fc7a0c6af1 button');\n",
              "          quickchartButtonEl.style.display =\n",
              "            google.colab.kernel.accessAllowed ? 'block' : 'none';\n",
              "        })();\n",
              "      </script>\n",
              "    </div>\n",
              "\n",
              "    </div>\n",
              "  </div>\n"
            ],
            "application/vnd.google.colaboratory.intrinsic+json": {
              "type": "dataframe",
              "variable_name": "df"
            }
          },
          "metadata": {},
          "execution_count": 73
        }
      ],
      "source": [
        "df.head()"
      ]
    },
    {
      "cell_type": "code",
      "execution_count": 74,
      "metadata": {
        "colab": {
          "base_uri": "https://localhost:8080/"
        },
        "id": "LnUHbeD6h9a6",
        "outputId": "fc0604ed-f47f-480e-b98d-0aff56f8d351"
      },
      "outputs": [
        {
          "output_type": "execute_result",
          "data": {
            "text/plain": [
              "Index(['time:timestamp', 'Activity', 'Resource', 'case:concept:name',\n",
              "       'case:variant-index', 'new_date', 'new_time', 'time_lapsed',\n",
              "       'Stage_no_1.0', 'Stage_no_2.0', 'Stage_no_3.0', 'Stage_no_4.0',\n",
              "       'Stage_no_5.0', 'Stage_no_6.0', 'Stage_no_7.0', 'Stage_no_7.1',\n",
              "       'Stage_no_7.2', 'Stage_no_8.0', 'Stage_no_9.0', 'Stage_no_9.1',\n",
              "       'Stage_no_9.2', 'Stage_no_10.0'],\n",
              "      dtype='object')"
            ]
          },
          "metadata": {},
          "execution_count": 74
        }
      ],
      "source": [
        "df.columns"
      ]
    },
    {
      "cell_type": "markdown",
      "metadata": {
        "id": "NkypYs3zac39"
      },
      "source": [
        "Splitting Data"
      ]
    },
    {
      "cell_type": "code",
      "execution_count": 75,
      "metadata": {
        "id": "hn2NZhc3hUqL"
      },
      "outputs": [],
      "source": [
        "from sklearn.model_selection import TimeSeriesSplit\n",
        "from tensorflow.keras.preprocessing.sequence import pad_sequences"
      ]
    },
    {
      "cell_type": "code",
      "execution_count": 76,
      "metadata": {
        "id": "ib1u00MUBw8z"
      },
      "outputs": [],
      "source": [
        "X_sequences = []\n",
        "y_act = []\n",
        "y_time = []"
      ]
    },
    {
      "cell_type": "code",
      "execution_count": 77,
      "metadata": {
        "id": "llAeYFFCwLZL"
      },
      "outputs": [],
      "source": [
        "case_groups = df.groupby('case:concept:name')\n",
        "max_len = 14  # As per your model's expected timesteps\n",
        "num_features = 15  # Must match your feature count"
      ]
    },
    {
      "cell_type": "code",
      "execution_count": 78,
      "metadata": {
        "id": "EB-j30KJiAw0"
      },
      "outputs": [],
      "source": [
        "features_col = ['Stage_no_1.0', 'Stage_no_2.0', 'Stage_no_3.0', 'Stage_no_4.0',\n",
        "       'Stage_no_5.0', 'Stage_no_6.0', 'Stage_no_7.0', 'Stage_no_7.1',\n",
        "       'Stage_no_7.2', 'Stage_no_8.0', 'Stage_no_9.0', 'Stage_no_9.1',\n",
        "       'Stage_no_9.2', 'Stage_no_10.0','Resource']"
      ]
    },
    {
      "cell_type": "code",
      "execution_count": 79,
      "metadata": {
        "id": "GcTMZj32pvIm"
      },
      "outputs": [],
      "source": [
        "sequence = ['Stage_no_1.0', 'Stage_no_2.0', 'Stage_no_3.0', 'Stage_no_4.0',\n",
        "       'Stage_no_5.0', 'Stage_no_6.0', 'Stage_no_7.0', 'Stage_no_7.1',\n",
        "       'Stage_no_7.2', 'Stage_no_8.0', 'Stage_no_9.0', 'Stage_no_9.1',\n",
        "       'Stage_no_9.2', 'Stage_no_10.0']"
      ]
    },
    {
      "cell_type": "code",
      "execution_count": 80,
      "metadata": {
        "colab": {
          "base_uri": "https://localhost:8080/"
        },
        "id": "VRauNnh00pKx",
        "outputId": "ce1dcfc0-4832-4efd-b3b6-a0389157e037"
      },
      "outputs": [
        {
          "output_type": "stream",
          "name": "stdout",
          "text": [
            "Group sizes: 21221\n"
          ]
        }
      ],
      "source": [
        "group_sizes = [len(group) for _, group in df.groupby('case:concept:name')]\n",
        "print(\"Group sizes:\", sum(group_sizes))"
      ]
    },
    {
      "cell_type": "code",
      "execution_count": 81,
      "metadata": {
        "colab": {
          "base_uri": "https://localhost:8080/"
        },
        "id": "aBebLCNuWki_",
        "outputId": "f320c3da-365e-4938-e4fd-dfeb561c2446"
      },
      "outputs": [
        {
          "output_type": "execute_result",
          "data": {
            "text/plain": [
              "4580"
            ]
          },
          "metadata": {},
          "execution_count": 81
        }
      ],
      "source": [
        "len(group_sizes)"
      ]
    },
    {
      "cell_type": "code",
      "execution_count": 82,
      "metadata": {
        "id": "-08Lumd5PLHQ"
      },
      "outputs": [],
      "source": [
        "df['time_lapsed'] = df['time_lapsed'].mask(df['time_lapsed'] == 0, 0.1)"
      ]
    },
    {
      "cell_type": "markdown",
      "metadata": {
        "id": "TGqYyk2GHGSF"
      },
      "source": [
        "Before we apply any normalization, lets check the distribution of the time lapsed.\n",
        "\n",
        "Our model is consisting of LSTM units, they do not perform well with skewness well.\n",
        "\n",
        "We need to address this prior to fitting the data."
      ]
    },
    {
      "cell_type": "code",
      "execution_count": 83,
      "metadata": {
        "colab": {
          "base_uri": "https://localhost:8080/",
          "height": 546
        },
        "id": "ayCF6aTfHMWT",
        "outputId": "293fb9e3-da12-4078-cddf-518ff93472c6"
      },
      "outputs": [
        {
          "output_type": "display_data",
          "data": {
            "text/plain": [
              "<Figure size 640x480 with 0 Axes>"
            ]
          },
          "metadata": {}
        },
        {
          "output_type": "display_data",
          "data": {
            "text/plain": [
              "<Figure size 500x500 with 1 Axes>"
            ],
            "image/png": "[encoded data removed]"
          },
          "metadata": {}
        }
      ],
      "source": [
        "plt.figure()\n",
        "sns.displot(df, x=\"time_lapsed\")\n",
        "plt.title('Distribution of Time Lapsed')\n",
        "plt.show()"
      ]
    },
    {
      "cell_type": "code",
      "execution_count": 84,
      "metadata": {
        "id": "nVgumdWRF-tN"
      },
      "outputs": [],
      "source": [
        "from sklearn.preprocessing import MinMaxScaler\n",
        "\n",
        "#df['time_lapsed'] = MinMaxScaler().fit_transform(np.array(df['time_lapsed']).reshape(-1,1))\n",
        "\n",
        "df['time_lapsed'], fitted_lambda = stats.boxcox(df['time_lapsed'])"
      ]
    },
    {
      "cell_type": "code",
      "execution_count": 85,
      "metadata": {
        "colab": {
          "base_uri": "https://localhost:8080/",
          "height": 546
        },
        "id": "BYrHLc6WPT-w",
        "outputId": "59205e8b-2483-483d-b819-8739a2530d19"
      },
      "outputs": [
        {
          "output_type": "display_data",
          "data": {
            "text/plain": [
              "<Figure size 640x480 with 0 Axes>"
            ]
          },
          "metadata": {}
        },
        {
          "output_type": "display_data",
          "data": {
            "text/plain": [
              "<Figure size 500x500 with 1 Axes>"
            ],
            "image/png": "[encoded data removed]"
          },
          "metadata": {}
        }
      ],
      "source": [
        "plt.figure()\n",
        "sns.displot(df, x=\"time_lapsed\")\n",
        "plt.title('Distribution of Time Lapsed (After Normalisation)')\n",
        "plt.show()"
      ]
    },
    {
      "cell_type": "markdown",
      "metadata": {
        "id": "dtaEjsRCErkx"
      },
      "source": [
        "Now lets see the resource variable."
      ]
    },
    {
      "cell_type": "code",
      "execution_count": 86,
      "metadata": {
        "colab": {
          "base_uri": "https://localhost:8080/",
          "height": 546
        },
        "id": "rikWcocrE2UN",
        "outputId": "3c7fb1be-25c5-4a90-85d1-d48d68e33c1d"
      },
      "outputs": [
        {
          "output_type": "display_data",
          "data": {
            "text/plain": [
              "<Figure size 640x480 with 0 Axes>"
            ]
          },
          "metadata": {}
        },
        {
          "output_type": "display_data",
          "data": {
            "text/plain": [
              "<Figure size 500x500 with 1 Axes>"
            ],
            "image/png": "[encoded data removed]"
          },
          "metadata": {}
        }
      ],
      "source": [
        "plt.figure()\n",
        "sns.displot(df, x=\"Resource\")\n",
        "plt.title('Distribution of Time Lapsed')\n",
        "plt.show()"
      ]
    },
    {
      "cell_type": "markdown",
      "metadata": {
        "id": "Vk5ZPx9qFFUW"
      },
      "source": [
        "Has a distribution similar to a normal distribution, so lets do normal min max scaling."
      ]
    },
    {
      "cell_type": "code",
      "execution_count": 87,
      "metadata": {
        "id": "nPijddbdFLkW"
      },
      "outputs": [],
      "source": [
        "df['Resource'] = (df['Resource'] - df['Resource'].min()) / (df['Resource'].max() - df['Resource'].min())"
      ]
    },
    {
      "cell_type": "markdown",
      "metadata": {
        "id": "B3r67CSDJWdA"
      },
      "source": [
        "Lets creating our training data"
      ]
    },
    {
      "cell_type": "code",
      "execution_count": 88,
      "metadata": {
        "id": "DU40VXc_mt0R"
      },
      "outputs": [],
      "source": [
        "for _, group in case_groups:\n",
        "    #Lets sort of the values\n",
        "    group = group.sort_values('time:timestamp')\n",
        "\n",
        "    #Lets do normalization\n",
        "    group['time_lapsed'] = group['time_lapsed'].astype('float32')\n",
        "\n",
        "    # Process each row individually\n",
        "    for _, row in group.iterrows():\n",
        "        # Get features for this single row (shape: [15] for 15 features)\n",
        "        features = row[features_col].values\n",
        "\n",
        "        # Reshape to (1, 15) since pad_sequences expects sequences\n",
        "        features = features.reshape(1, -1)\n",
        "\n",
        "        # Pad to (14, 15)\n",
        "        padded = pad_sequences(\n",
        "            [features],  # Note the list wrapping\n",
        "            maxlen=max_len,  # 14\n",
        "            padding='post',\n",
        "            truncating='post',\n",
        "            dtype='float32'\n",
        "        )[0]  # Take the first element to remove extra dimension\n",
        "        X_sequences.append(padded)\n",
        "\n",
        "    #Creating the data for y_act\n",
        "    temp_y_act = group[sequence].to_numpy()\n",
        "    temp_y_act = np.vstack([\n",
        "      temp_y_act[1:,:],  # All rows after first\n",
        "      np.zeros((1, temp_y_act.shape[1]))  # Add zero row at end\n",
        "    ])\n",
        "    y_act.extend(temp_y_act)\n",
        "\n",
        "\n",
        "    #Creating the data for y_time\n",
        "    temp_y_time = group['time_lapsed'].to_numpy()\n",
        "    temp_y_time = np.concatenate([\n",
        "        temp_y_time[1:],  # Elements after first\n",
        "        [0]  # Append zero\n",
        "    ])\n",
        "    y_time.extend(temp_y_time)"
      ]
    },
    {
      "cell_type": "code",
      "execution_count": 89,
      "metadata": {
        "id": "ylQim7NCzSwD"
      },
      "outputs": [],
      "source": [
        "y_act = np.array(y_act)\n",
        "X_sequences = np.array(X_sequences)\n",
        "y_time = np.array(y_time)"
      ]
    },
    {
      "cell_type": "code",
      "execution_count": 90,
      "metadata": {
        "colab": {
          "base_uri": "https://localhost:8080/"
        },
        "id": "iQcJQe2_EuJM",
        "outputId": "1a5d3328-6dfc-4e56-90b1-5b7ec7d0a6bd"
      },
      "outputs": [
        {
          "output_type": "stream",
          "name": "stdout",
          "text": [
            "Size of X:(21221, 14, 15)\n",
            "Size of y_act:(21221, 14)\n",
            "Size of y_time:(21221,)\n"
          ]
        }
      ],
      "source": [
        "print('Size of X:'+ str(X_sequences.shape))\n",
        "print('Size of y_act:'+ str((y_act).shape))\n",
        "print('Size of y_time:'+ str((y_time).shape))"
      ]
    },
    {
      "cell_type": "code",
      "execution_count": 91,
      "metadata": {
        "colab": {
          "base_uri": "https://localhost:8080/"
        },
        "id": "9-aV8ZdKFDM3",
        "outputId": "2e65e97e-7a64-4e10-ff8f-afa7c7dd017a"
      },
      "outputs": [
        {
          "output_type": "stream",
          "name": "stdout",
          "text": [
            "Sample of X:[[0.         1.         0.         0.         0.         0.\n",
            "  0.         0.         0.         0.         0.         0.\n",
            "  0.         0.         0.11111111]\n",
            " [0.         0.         0.         0.         0.         0.\n",
            "  0.         0.         0.         0.         0.         0.\n",
            "  0.         0.         0.        ]\n",
            " [0.         0.         0.         0.         0.         0.\n",
            "  0.         0.         0.         0.         0.         0.\n",
            "  0.         0.         0.        ]\n",
            " [0.         0.         0.         0.         0.         0.\n",
            "  0.         0.         0.         0.         0.         0.\n",
            "  0.         0.         0.        ]\n",
            " [0.         0.         0.         0.         0.         0.\n",
            "  0.         0.         0.         0.         0.         0.\n",
            "  0.         0.         0.        ]\n",
            " [0.         0.         0.         0.         0.         0.\n",
            "  0.         0.         0.         0.         0.         0.\n",
            "  0.         0.         0.        ]\n",
            " [0.         0.         0.         0.         0.         0.\n",
            "  0.         0.         0.         0.         0.         0.\n",
            "  0.         0.         0.        ]\n",
            " [0.         0.         0.         0.         0.         0.\n",
            "  0.         0.         0.         0.         0.         0.\n",
            "  0.         0.         0.        ]\n",
            " [0.         0.         0.         0.         0.         0.\n",
            "  0.         0.         0.         0.         0.         0.\n",
            "  0.         0.         0.        ]\n",
            " [0.         0.         0.         0.         0.         0.\n",
            "  0.         0.         0.         0.         0.         0.\n",
            "  0.         0.         0.        ]\n",
            " [0.         0.         0.         0.         0.         0.\n",
            "  0.         0.         0.         0.         0.         0.\n",
            "  0.         0.         0.        ]\n",
            " [0.         0.         0.         0.         0.         0.\n",
            "  0.         0.         0.         0.         0.         0.\n",
            "  0.         0.         0.        ]\n",
            " [0.         0.         0.         0.         0.         0.\n",
            "  0.         0.         0.         0.         0.         0.\n",
            "  0.         0.         0.        ]\n",
            " [0.         0.         0.         0.         0.         0.\n",
            "  0.         0.         0.         0.         0.         0.\n",
            "  0.         0.         0.        ]]\n",
            "Sample of y_act:[0. 0. 1. 0. 0. 0. 0. 0. 0. 0. 0. 0. 0. 0.]\n",
            "Sample of y_time:4.670429229736328\n"
          ]
        }
      ],
      "source": [
        "print('Sample of X:'+ str(X_sequences[0]))\n",
        "print('Sample of y_act:'+ str(y_act[0]))\n",
        "print('Sample of y_time:'+ str(y_time[0]))"
      ]
    },
    {
      "cell_type": "code",
      "execution_count": 92,
      "metadata": {
        "colab": {
          "base_uri": "https://localhost:8080/"
        },
        "id": "BwVzEpx4dWvE",
        "outputId": "f6729e92-4313-4640-bb69-9fa4185b2b1e"
      },
      "outputs": [
        {
          "output_type": "stream",
          "name": "stderr",
          "text": [
            "/usr/local/lib/python3.11/dist-packages/mlflow/data/dataset_source_registry.py:149: UserWarning: Failed to determine whether UCVolumeDatasetSource can resolve source information for 'https://github.com/pullz6/Research_inspired_Self-Explaining-Neural-Networks-for-Business-Process-Monitoring/blob/main/Data/Helpdesk.csv'. Exception: \n",
            "  return _dataset_source_registry.resolve(\n"
          ]
        }
      ],
      "source": [
        "#Logging the dataset into MLFlow\n",
        "dataset_source_url = 'https://github.com/pullz6/Research_inspired_Self-Explaining-Neural-Networks-for-Business-Process-Monitoring/blob/main/Data/Helpdesk.csv'\n",
        "dataset = mlflow.data.from_pandas(\n",
        "    df, source=dataset_source_url, name=\"HelpDesk\", targets=\"Activity\"\n",
        ")"
      ]
    },
    {
      "cell_type": "markdown",
      "metadata": {
        "id": "hqQR0oakscOe"
      },
      "source": [
        "Model building"
      ]
    },
    {
      "cell_type": "code",
      "execution_count": 93,
      "metadata": {
        "colab": {
          "base_uri": "https://localhost:8080/"
        },
        "id": "zcj0SyY2NkzL",
        "outputId": "1e38a17c-765e-436a-d0db-cc0ed186ca00"
      },
      "outputs": [
        {
          "output_type": "stream",
          "name": "stdout",
          "text": [
            "Requirement already satisfied: keras in /usr/local/lib/python3.11/dist-packages (3.8.0)\n",
            "Requirement already satisfied: absl-py in /usr/local/lib/python3.11/dist-packages (from keras) (1.4.0)\n",
            "Requirement already satisfied: numpy in /usr/local/lib/python3.11/dist-packages (from keras) (2.0.2)\n",
            "Requirement already satisfied: rich in /usr/local/lib/python3.11/dist-packages (from keras) (13.9.4)\n",
            "Requirement already satisfied: namex in /usr/local/lib/python3.11/dist-packages (from keras) (0.0.9)\n",
            "Requirement already satisfied: h5py in /usr/local/lib/python3.11/dist-packages (from keras) (3.13.0)\n",
            "Requirement already satisfied: optree in /usr/local/lib/python3.11/dist-packages (from keras) (0.15.0)\n",
            "Requirement already satisfied: ml-dtypes in /usr/local/lib/python3.11/dist-packages (from keras) (0.4.1)\n",
            "Requirement already satisfied: packaging in /usr/local/lib/python3.11/dist-packages (from keras) (24.2)\n",
            "Requirement already satisfied: typing-extensions>=4.5.0 in /usr/local/lib/python3.11/dist-packages (from optree->keras) (4.13.2)\n",
            "Requirement already satisfied: markdown-it-py>=2.2.0 in /usr/local/lib/python3.11/dist-packages (from rich->keras) (3.0.0)\n",
            "Requirement already satisfied: pygments<3.0.0,>=2.13.0 in /usr/local/lib/python3.11/dist-packages (from rich->keras) (2.19.1)\n",
            "Requirement already satisfied: mdurl~=0.1 in /usr/local/lib/python3.11/dist-packages (from markdown-it-py>=2.2.0->rich->keras) (0.1.2)\n"
          ]
        }
      ],
      "source": [
        "!pip install keras"
      ]
    },
    {
      "cell_type": "code",
      "execution_count": 94,
      "metadata": {
        "id": "WLYkDfucL_HZ"
      },
      "outputs": [],
      "source": [
        "#Creating the model architecture"
      ]
    },
    {
      "cell_type": "code",
      "execution_count": 95,
      "metadata": {
        "id": "nZqFT696MEYz"
      },
      "outputs": [],
      "source": [
        "#Importing the required libriares since the LSTM model will be done with Pytorch\n",
        "import torch\n",
        "import torch.nn as nn\n",
        "import numpy as np\n",
        "import matplotlib.pyplot as plt\n",
        "from keras.models import Sequential, Model\n",
        "from keras.layers import Dense\n",
        "from keras.layers import LSTM, GRU, SimpleRNN\n",
        "from keras.layers import Input\n",
        "from keras.utils import get_file\n",
        "from keras.optimizers import Nadam\n",
        "from keras.callbacks import EarlyStopping, ModelCheckpoint, ReduceLROnPlateau\n",
        "from keras.layers import BatchNormalization\n",
        "from tensorflow.keras.layers import GlobalAveragePooling1D\n",
        "\n",
        "from mlflow.types.schema import Schema, TensorSpec\n",
        "from mlflow.models import ModelSignature"
      ]
    },
    {
      "cell_type": "code",
      "execution_count": 96,
      "metadata": {
        "id": "QUWB2WRUtD6i"
      },
      "outputs": [],
      "source": [
        "main_input = Input(shape=(max_len, num_features), name='main_input')"
      ]
    },
    {
      "cell_type": "code",
      "execution_count": 97,
      "metadata": {
        "colab": {
          "base_uri": "https://localhost:8080/"
        },
        "id": "KxTkV4qWyDCu",
        "outputId": "d1de78e6-acde-4f42-ca46-95fcf344c767"
      },
      "outputs": [
        {
          "output_type": "execute_result",
          "data": {
            "text/plain": [
              "<KerasTensor shape=(None, 14, 15), dtype=float32, sparse=False, name=main_input>"
            ]
          },
          "metadata": {},
          "execution_count": 97
        }
      ],
      "source": [
        "main_input"
      ]
    },
    {
      "cell_type": "code",
      "execution_count": 98,
      "metadata": {
        "id": "oOglHR5Edgw4"
      },
      "outputs": [],
      "source": [
        "#start auto-logging and run\n",
        "mlflow.tensorflow.autolog()\n",
        "run = mlflow.start_run(\n",
        ")"
      ]
    },
    {
      "cell_type": "code",
      "execution_count": 99,
      "metadata": {
        "id": "amNpY12a0Hq7"
      },
      "outputs": [],
      "source": [
        "#Create the training split"
      ]
    },
    {
      "cell_type": "code",
      "execution_count": 100,
      "metadata": {
        "id": "clGTMHjMnfvx"
      },
      "outputs": [],
      "source": [
        "l1 = LSTM(100, implementation=2, kernel_initializer='glorot_uniform', return_sequences=True, dropout=0.2)(main_input) # the shared layer\n",
        "\n",
        "b1 = BatchNormalization()(l1)\n",
        "\n",
        "l2_1 = LSTM(100, implementation=2, kernel_initializer='glorot_uniform', return_sequences=False, dropout=0.2)(b1) # the layer specialized in activity prediction\n",
        "\n",
        "b2_1 = BatchNormalization()(l2_1)\n",
        "\n",
        "l2_2 = LSTM(100, implementation=2, kernel_initializer='glorot_uniform', return_sequences=False, dropout=0.2)(b1) # the layer specialized in time prediction\n",
        "\n",
        "b2_2 = BatchNormalization()(l2_2)\n",
        "\n",
        "act_output = Dense(14, activation='softmax', kernel_initializer='glorot_uniform', name='act_output')(b2_1)\n",
        "\n",
        "time_output = Dense(1, kernel_initializer='glorot_uniform', name='time_output')(b2_2)\n",
        "\n",
        "#time_output = GlobalAveragePooling1D()(b2_2)  # Reduces (14,64) to (64,)\n",
        "#time_output = Dense(1, kernel_initializer='glorot_uniform', name='time_output')#(time_output)"
      ]
    },
    {
      "cell_type": "code",
      "execution_count": 101,
      "metadata": {
        "id": "sBiYSKgQS95p"
      },
      "outputs": [],
      "source": [
        "learning_rate = 0.002\n",
        "beta_1 = 0.9\n",
        "beta_2 = 0.999\n",
        "epsilon = 1e-08\n",
        "weight_decay = 0.004\n",
        "clipvalue = 3\n",
        "model = Model(inputs=[main_input], outputs=[act_output, time_output])\n",
        "\n",
        "opt = Nadam(learning_rate=learning_rate, beta_1=beta_1, beta_2=beta_2, epsilon=epsilon, weight_decay=weight_decay, clipvalue=clipvalue)\n",
        "\n",
        "model.compile(loss={'act_output':'categorical_crossentropy', 'time_output':'mae'}, optimizer=opt)\n",
        "\n",
        "early_stopping = EarlyStopping(monitor='val_loss', patience=42)\n",
        "\n",
        "lr_reducer = ReduceLROnPlateau(monitor='val_loss', factor=0.5, patience=10, verbose=0, mode='auto', min_delta=0.0001, cooldown=0, min_lr=0)"
      ]
    },
    {
      "cell_type": "code",
      "source": [
        "#Setting the input and output schema\n",
        "input_schema = Schema([TensorSpec(np.dtype('float32'),(-1,14,15),'input_features')])\n",
        "\n",
        "output_schema = Schema([TensorSpec(np.dtype('float32'),(-1,14),'output_activity'),TensorSpec(np.dtype('float32'),(-1,1),'output_time')])\n",
        "\n",
        "model_signature = ModelSignature(inputs=input_schema, outputs=output_schema)"
      ],
      "metadata": {
        "id": "kqossS9me2Cj"
      },
      "execution_count": 102,
      "outputs": []
    },
    {
      "cell_type": "markdown",
      "metadata": {
        "id": "BRYnlVzlIJG0"
      },
      "source": [
        "Model Training"
      ]
    },
    {
      "cell_type": "code",
      "execution_count": 103,
      "metadata": {
        "colab": {
          "base_uri": "https://localhost:8080/",
          "height": 1000
        },
        "id": "UZznyDiRoTCa",
        "outputId": "5a8b520c-6a17-4cc9-dfac-f26d792c46e8"
      },
      "outputs": [
        {
          "output_type": "display_data",
          "data": {
            "text/plain": [],
            "text/html": [
              "<pre style=\"white-space:pre;overflow-x:auto;line-height:normal;font-family:Menlo,'DejaVu Sans Mono',consolas,'Courier New',monospace\"></pre>\n"
            ]
          },
          "metadata": {}
        },
        {
          "output_type": "stream",
          "name": "stdout",
          "text": [
            "Epoch 1/50\n"
          ]
        },
        {
          "output_type": "stream",
          "name": "stderr",
          "text": [
            "/usr/local/lib/python3.11/dist-packages/keras/src/models/functional.py:237: UserWarning: The structure of `inputs` doesn't match the expected structure.\n",
            "Expected: ['main_input']\n",
            "Received: inputs=Tensor(shape=(None, 14, 15))\n",
            "  warnings.warn(msg)\n",
            "WARNING:absl:You are saving your model as an HDF5 file via `model.save()` or `keras.saving.save_model(model)`. This file format is considered legacy. We recommend using instead the native Keras format, e.g. `model.save('my_model.keras')` or `keras.saving.save_model(model, 'my_model.keras')`. \n"
          ]
        },
        {
          "output_type": "stream",
          "name": "stdout",
          "text": [
            "1213/1213 - 54s - 44ms/step - act_output_loss: 0.9419 - loss: 9.8798 - time_output_loss: 8.9364 - val_act_output_loss: 1.4532 - val_loss: 6.2524 - val_time_output_loss: 4.7953\n",
            "Epoch 2/50\n",
            "1213/1213 - 84s - 69ms/step - act_output_loss: 1.1979 - loss: 8.4719 - time_output_loss: 7.2743 - val_act_output_loss: 1.1990 - val_loss: 6.9350 - val_time_output_loss: 5.7274\n",
            "Epoch 3/50\n"
          ]
        },
        {
          "output_type": "stream",
          "name": "stderr",
          "text": [
            "WARNING:absl:You are saving your model as an HDF5 file via `model.save()` or `keras.saving.save_model(model)`. This file format is considered legacy. We recommend using instead the native Keras format, e.g. `model.save('my_model.keras')` or `keras.saving.save_model(model, 'my_model.keras')`. \n"
          ]
        },
        {
          "output_type": "stream",
          "name": "stdout",
          "text": [
            "1213/1213 - 83s - 69ms/step - act_output_loss: 1.3909 - loss: 8.5539 - time_output_loss: 7.1628 - val_act_output_loss: 1.1575 - val_loss: 6.1819 - val_time_output_loss: 5.0177\n",
            "Epoch 4/50\n"
          ]
        },
        {
          "output_type": "stream",
          "name": "stderr",
          "text": [
            "WARNING:absl:You are saving your model as an HDF5 file via `model.save()` or `keras.saving.save_model(model)`. This file format is considered legacy. We recommend using instead the native Keras format, e.g. `model.save('my_model.keras')` or `keras.saving.save_model(model, 'my_model.keras')`. \n"
          ]
        },
        {
          "output_type": "stream",
          "name": "stdout",
          "text": [
            "1213/1213 - 98s - 81ms/step - act_output_loss: 1.4793 - loss: 8.5362 - time_output_loss: 7.0569 - val_act_output_loss: 1.1507 - val_loss: 6.1125 - val_time_output_loss: 4.9569\n",
            "Epoch 5/50\n",
            "1213/1213 - 67s - 56ms/step - act_output_loss: 1.6431 - loss: 8.7571 - time_output_loss: 7.1146 - val_act_output_loss: 1.3347 - val_loss: 6.2406 - val_time_output_loss: 4.9016\n",
            "Epoch 6/50\n"
          ]
        },
        {
          "output_type": "stream",
          "name": "stderr",
          "text": [
            "WARNING:absl:You are saving your model as an HDF5 file via `model.save()` or `keras.saving.save_model(model)`. This file format is considered legacy. We recommend using instead the native Keras format, e.g. `model.save('my_model.keras')` or `keras.saving.save_model(model, 'my_model.keras')`. \n"
          ]
        },
        {
          "output_type": "stream",
          "name": "stdout",
          "text": [
            "1213/1213 - 83s - 68ms/step - act_output_loss: 1.6370 - loss: 8.8502 - time_output_loss: 7.2127 - val_act_output_loss: 1.1470 - val_loss: 6.0153 - val_time_output_loss: 4.8615\n",
            "Epoch 7/50\n",
            "1213/1213 - 79s - 65ms/step - act_output_loss: 1.6871 - loss: 8.7326 - time_output_loss: 7.0453 - val_act_output_loss: 1.1948 - val_loss: 6.5900 - val_time_output_loss: 5.3926\n",
            "Epoch 8/50\n"
          ]
        },
        {
          "output_type": "stream",
          "name": "stderr",
          "text": [
            "WARNING:absl:You are saving your model as an HDF5 file via `model.save()` or `keras.saving.save_model(model)`. This file format is considered legacy. We recommend using instead the native Keras format, e.g. `model.save('my_model.keras')` or `keras.saving.save_model(model, 'my_model.keras')`. \n"
          ]
        },
        {
          "output_type": "stream",
          "name": "stdout",
          "text": [
            "1213/1213 - 79s - 65ms/step - act_output_loss: 1.8404 - loss: 8.9177 - time_output_loss: 7.0757 - val_act_output_loss: 1.1508 - val_loss: 5.9948 - val_time_output_loss: 4.8379\n",
            "Epoch 9/50\n"
          ]
        },
        {
          "output_type": "stream",
          "name": "stderr",
          "text": [
            "WARNING:absl:You are saving your model as an HDF5 file via `model.save()` or `keras.saving.save_model(model)`. This file format is considered legacy. We recommend using instead the native Keras format, e.g. `model.save('my_model.keras')` or `keras.saving.save_model(model, 'my_model.keras')`. \n"
          ]
        },
        {
          "output_type": "stream",
          "name": "stdout",
          "text": [
            "1213/1213 - 81s - 67ms/step - act_output_loss: 1.7935 - loss: 8.9779 - time_output_loss: 7.1871 - val_act_output_loss: 1.1651 - val_loss: 5.8118 - val_time_output_loss: 4.6425\n",
            "Epoch 10/50\n",
            "1213/1213 - 40s - 33ms/step - act_output_loss: 1.7374 - loss: 8.8656 - time_output_loss: 7.1272 - val_act_output_loss: 1.2062 - val_loss: 6.3037 - val_time_output_loss: 5.0941\n",
            "Epoch 11/50\n",
            "1213/1213 - 41s - 33ms/step - act_output_loss: 1.8230 - loss: 8.8549 - time_output_loss: 7.0333 - val_act_output_loss: 1.2141 - val_loss: 6.4188 - val_time_output_loss: 5.2004\n",
            "Epoch 12/50\n",
            "1213/1213 - 41s - 34ms/step - act_output_loss: 1.7412 - loss: 8.8372 - time_output_loss: 7.0993 - val_act_output_loss: 1.2070 - val_loss: 6.5231 - val_time_output_loss: 5.3124\n",
            "Epoch 13/50\n",
            "1213/1213 - 41s - 34ms/step - act_output_loss: 1.6536 - loss: 8.6910 - time_output_loss: 7.0374 - val_act_output_loss: 1.2160 - val_loss: 6.4470 - val_time_output_loss: 5.2251\n",
            "Epoch 14/50\n",
            "1213/1213 - 42s - 35ms/step - act_output_loss: 1.8449 - loss: 8.8551 - time_output_loss: 7.0115 - val_act_output_loss: 1.1871 - val_loss: 7.3162 - val_time_output_loss: 6.1283\n",
            "Epoch 15/50\n",
            "1213/1213 - 80s - 66ms/step - act_output_loss: 1.7882 - loss: 8.7029 - time_output_loss: 6.9146 - val_act_output_loss: 1.2568 - val_loss: 6.4710 - val_time_output_loss: 5.2071\n",
            "Epoch 16/50\n",
            "1213/1213 - 39s - 33ms/step - act_output_loss: 1.6435 - loss: 8.4865 - time_output_loss: 6.8440 - val_act_output_loss: 1.2741 - val_loss: 6.2012 - val_time_output_loss: 4.9249\n",
            "Epoch 17/50\n",
            "1213/1213 - 42s - 34ms/step - act_output_loss: 1.6638 - loss: 8.5985 - time_output_loss: 6.9341 - val_act_output_loss: 1.2821 - val_loss: 8.4473 - val_time_output_loss: 7.1678\n",
            "Epoch 18/50\n",
            "1213/1213 - 40s - 33ms/step - act_output_loss: 1.8297 - loss: 8.7401 - time_output_loss: 6.9098 - val_act_output_loss: 3.8218 - val_loss: 9.3397 - val_time_output_loss: 5.5093\n",
            "Epoch 19/50\n",
            "1213/1213 - 41s - 34ms/step - act_output_loss: 1.6793 - loss: 8.5807 - time_output_loss: 6.9044 - val_act_output_loss: 1.2899 - val_loss: 6.4787 - val_time_output_loss: 5.1848\n",
            "Epoch 20/50\n",
            "1213/1213 - 39s - 32ms/step - act_output_loss: 1.7815 - loss: 8.5738 - time_output_loss: 6.7912 - val_act_output_loss: 1.3483 - val_loss: 6.6328 - val_time_output_loss: 5.2829\n",
            "Epoch 21/50\n",
            "1213/1213 - 39s - 32ms/step - act_output_loss: 2.1392 - loss: 9.0176 - time_output_loss: 6.8789 - val_act_output_loss: 1.3838 - val_loss: 6.3187 - val_time_output_loss: 4.9311\n",
            "Epoch 22/50\n",
            "1213/1213 - 39s - 33ms/step - act_output_loss: 2.0077 - loss: 8.9977 - time_output_loss: 6.9903 - val_act_output_loss: 1.5932 - val_loss: 7.7375 - val_time_output_loss: 6.1445\n",
            "Epoch 23/50\n",
            "1213/1213 - 40s - 33ms/step - act_output_loss: 1.5773 - loss: 8.3295 - time_output_loss: 6.7541 - val_act_output_loss: 1.3806 - val_loss: 6.5970 - val_time_output_loss: 5.2130\n",
            "Epoch 24/50\n",
            "1213/1213 - 41s - 34ms/step - act_output_loss: 1.7427 - loss: 8.7069 - time_output_loss: 6.9647 - val_act_output_loss: 1.2996 - val_loss: 6.1496 - val_time_output_loss: 4.8448\n",
            "Epoch 25/50\n",
            "1213/1213 - 41s - 34ms/step - act_output_loss: 1.5890 - loss: 8.3663 - time_output_loss: 6.7779 - val_act_output_loss: 1.6663 - val_loss: 8.4011 - val_time_output_loss: 6.7440\n",
            "Epoch 26/50\n",
            "1213/1213 - 43s - 35ms/step - act_output_loss: 1.5428 - loss: 8.2511 - time_output_loss: 6.7091 - val_act_output_loss: 1.3310 - val_loss: 12.7486 - val_time_output_loss: 11.4223\n",
            "Epoch 27/50\n",
            "1213/1213 - 44s - 37ms/step - act_output_loss: 1.6851 - loss: 8.5271 - time_output_loss: 6.8432 - val_act_output_loss: 1.3903 - val_loss: 6.7403 - val_time_output_loss: 5.3447\n",
            "Epoch 28/50\n",
            "1213/1213 - 78s - 64ms/step - act_output_loss: 1.7385 - loss: 8.5804 - time_output_loss: 6.8434 - val_act_output_loss: 1.6856 - val_loss: 7.0156 - val_time_output_loss: 5.3284\n",
            "Epoch 29/50\n",
            "1213/1213 - 42s - 35ms/step - act_output_loss: 1.6544 - loss: 8.3842 - time_output_loss: 6.7305 - val_act_output_loss: 1.8141 - val_loss: 6.9108 - val_time_output_loss: 5.0917\n",
            "Epoch 30/50\n",
            "1213/1213 - 80s - 66ms/step - act_output_loss: 1.7947 - loss: 8.5996 - time_output_loss: 6.8048 - val_act_output_loss: 1.6202 - val_loss: 6.4629 - val_time_output_loss: 4.8366\n",
            "Epoch 31/50\n",
            "1213/1213 - 39s - 32ms/step - act_output_loss: 1.7388 - loss: 8.5898 - time_output_loss: 6.8508 - val_act_output_loss: 1.9360 - val_loss: 6.8918 - val_time_output_loss: 4.9461\n",
            "Epoch 32/50\n",
            "1213/1213 - 42s - 34ms/step - act_output_loss: 1.8104 - loss: 8.6444 - time_output_loss: 6.8330 - val_act_output_loss: 3.2431 - val_loss: 8.5906 - val_time_output_loss: 5.3375\n",
            "Epoch 33/50\n",
            "1213/1213 - 40s - 33ms/step - act_output_loss: 1.7911 - loss: 8.6165 - time_output_loss: 6.8249 - val_act_output_loss: 1.7071 - val_loss: 6.5088 - val_time_output_loss: 4.7950\n",
            "Epoch 34/50\n",
            "1213/1213 - 41s - 34ms/step - act_output_loss: 1.7849 - loss: 8.5346 - time_output_loss: 6.7500 - val_act_output_loss: 1.7080 - val_loss: 6.7348 - val_time_output_loss: 5.0189\n",
            "Epoch 35/50\n",
            "1213/1213 - 42s - 34ms/step - act_output_loss: 1.8754 - loss: 8.7361 - time_output_loss: 6.8611 - val_act_output_loss: 2.1479 - val_loss: 7.3899 - val_time_output_loss: 5.2370\n",
            "Epoch 36/50\n",
            "1213/1213 - 42s - 34ms/step - act_output_loss: 2.0303 - loss: 9.0232 - time_output_loss: 6.9912 - val_act_output_loss: 1.6166 - val_loss: 6.4504 - val_time_output_loss: 4.8288\n",
            "Epoch 37/50\n",
            "1213/1213 - 81s - 66ms/step - act_output_loss: 1.9503 - loss: 8.7626 - time_output_loss: 6.8118 - val_act_output_loss: 2.1955 - val_loss: 12.0856 - val_time_output_loss: 9.8995\n",
            "Epoch 38/50\n",
            "1213/1213 - 40s - 33ms/step - act_output_loss: 2.0914 - loss: 9.1043 - time_output_loss: 7.0119 - val_act_output_loss: 2.4702 - val_loss: 8.0851 - val_time_output_loss: 5.6065\n",
            "Epoch 39/50\n",
            "1213/1213 - 42s - 34ms/step - act_output_loss: 2.0726 - loss: 8.9300 - time_output_loss: 6.8562 - val_act_output_loss: 1.5313 - val_loss: 6.5600 - val_time_output_loss: 5.0242\n",
            "Epoch 40/50\n",
            "1213/1213 - 42s - 34ms/step - act_output_loss: 1.8918 - loss: 8.7996 - time_output_loss: 6.9067 - val_act_output_loss: 1.4335 - val_loss: 6.5854 - val_time_output_loss: 5.1482\n",
            "Epoch 41/50\n",
            "1213/1213 - 80s - 66ms/step - act_output_loss: 1.9436 - loss: 8.7367 - time_output_loss: 6.7931 - val_act_output_loss: 1.3865 - val_loss: 6.1474 - val_time_output_loss: 4.7564\n",
            "Epoch 42/50\n",
            "1213/1213 - 40s - 33ms/step - act_output_loss: 1.9387 - loss: 8.7072 - time_output_loss: 6.7682 - val_act_output_loss: 1.8389 - val_loss: 12.1375 - val_time_output_loss: 10.3040\n",
            "Epoch 43/50\n",
            "1213/1213 - 43s - 36ms/step - act_output_loss: 2.0089 - loss: 8.9668 - time_output_loss: 6.9559 - val_act_output_loss: 1.4458 - val_loss: 6.2401 - val_time_output_loss: 4.7902\n",
            "Epoch 44/50\n",
            "1213/1213 - 41s - 34ms/step - act_output_loss: 1.9649 - loss: 8.6797 - time_output_loss: 6.7146 - val_act_output_loss: 1.9275 - val_loss: 10.1823 - val_time_output_loss: 8.2540\n",
            "Epoch 45/50\n",
            "1213/1213 - 41s - 34ms/step - act_output_loss: 2.0217 - loss: 8.8933 - time_output_loss: 6.8721 - val_act_output_loss: 1.9421 - val_loss: 11.8156 - val_time_output_loss: 9.8756\n",
            "Epoch 46/50\n",
            "1213/1213 - 40s - 33ms/step - act_output_loss: 2.2447 - loss: 9.2077 - time_output_loss: 6.9632 - val_act_output_loss: 1.9793 - val_loss: 7.4574 - val_time_output_loss: 5.4761\n",
            "Epoch 47/50\n",
            "1213/1213 - 41s - 34ms/step - act_output_loss: 2.1528 - loss: 9.0342 - time_output_loss: 6.8811 - val_act_output_loss: 1.4809 - val_loss: 6.3106 - val_time_output_loss: 4.8229\n",
            "Epoch 48/50\n",
            "1213/1213 - 40s - 33ms/step - act_output_loss: 2.1310 - loss: 8.9252 - time_output_loss: 6.7936 - val_act_output_loss: 1.5258 - val_loss: 7.3309 - val_time_output_loss: 5.8040\n",
            "Epoch 49/50\n",
            "1213/1213 - 40s - 33ms/step - act_output_loss: 2.2507 - loss: 8.9454 - time_output_loss: 6.6977 - val_act_output_loss: 1.7558 - val_loss: 9.3358 - val_time_output_loss: 7.5790\n",
            "Epoch 50/50\n",
            "1213/1213 - 47s - 38ms/step - act_output_loss: 2.2351 - loss: 8.9796 - time_output_loss: 6.7452 - val_act_output_loss: 3.3255 - val_loss: 10.8272 - val_time_output_loss: 7.4995\n"
          ]
        },
        {
          "output_type": "stream",
          "name": "stderr",
          "text": [
            "2025/06/02 15:40:14 WARNING mlflow.utils.autologging_utils: MLflow autologging encountered a warning: \"/usr/local/lib/python3.11/dist-packages/keras/src/models/functional.py:237: UserWarning: The structure of `inputs` doesn't match the expected structure.\n",
            "Expected: ['main_input']\n",
            "Received: inputs=Tensor(shape=(5, 14, 15))\"\n"
          ]
        },
        {
          "output_type": "stream",
          "name": "stdout",
          "text": [
            "\u001b[1m1/1\u001b[0m \u001b[32m━━━━━━━━━━━━━━━━━━━━\u001b[0m\u001b[37m\u001b[0m \u001b[1m1s\u001b[0m 1s/step\n"
          ]
        },
        {
          "output_type": "execute_result",
          "data": {
            "text/plain": [
              "<keras.src.callbacks.history.History at 0x7c71f66de6d0>"
            ]
          },
          "metadata": {},
          "execution_count": 103
        }
      ],
      "source": [
        "model.fit(\n",
        "    X_sequences,\n",
        "    {'act_output': y_act, 'time_output': y_time},\n",
        "    validation_split=0.2,\n",
        "    verbose=2,\n",
        "    batch_size=max_len,\n",
        "    epochs=50\n",
        ")"
      ]
    },
    {
      "cell_type": "code",
      "execution_count": 104,
      "metadata": {
        "colab": {
          "base_uri": "https://localhost:8080/"
        },
        "id": "J-43WGjCZ4X-",
        "outputId": "8598ba69-9b7b-4373-c861-b54cbf629c98"
      },
      "outputs": [
        {
          "output_type": "stream",
          "name": "stderr",
          "text": [
            "Successfully registered model 'Prediction-Model'.\n",
            "2025/06/02 15:40:52 INFO mlflow.store.model_registry.abstract_store: Waiting up to 300 seconds for model version to finish creation. Model name: Prediction-Model, version 1\n",
            "Created version '1' of model 'Prediction-Model'.\n"
          ]
        }
      ],
      "source": [
        "model_info = mlflow.keras.log_model(\n",
        "    model=model,\n",
        "    artifact_path=\"Prediction Model\",\n",
        "    registered_model_name=\"Prediction-Model\",\n",
        "    signature=model_signature\n",
        ")"
      ]
    },
    {
      "cell_type": "code",
      "source": [
        "mlflow.log_params(\n",
        "                params={\n",
        "                    \"learning_rate\": learning_rate,\n",
        "                    \"beta_1 \": beta_1 ,\n",
        "                    \"beta_2\": beta_2,\n",
        "                    \"epsilon\": epsilon,\n",
        "                    \"weight_decay\": weight_decay,\n",
        "                    \"clipvalue\": clipvalue\n",
        "                }\n",
        "            )"
      ],
      "metadata": {
        "id": "TiJwMuFij5FE"
      },
      "execution_count": 105,
      "outputs": []
    }
  ],
  "metadata": {
    "colab": {
      "provenance": [],
      "authorship_tag": "ABX9TyMINw8Ki/ik8sXyMpVYgtIL",
      "include_colab_link": true
    },
    "kernelspec": {
      "display_name": "Python 3",
      "name": "python3"
    },
    "language_info": {
      "name": "python"
    }
  },
  "nbformat": 4,
  "nbformat_minor": 0
}