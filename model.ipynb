{
  "nbformat": 4,
  "nbformat_minor": 0,
  "metadata": {
    "colab": {
      "provenance": [],
      "authorship_tag": "ABX9TyP8FXsdcmojlZF51JdzhfBT",
      "include_colab_link": true
    },
    "kernelspec": {
      "name": "python3",
      "display_name": "Python 3"
    },
    "language_info": {
      "name": "python"
    }
  },
  "cells": [
    {
      "cell_type": "markdown",
      "metadata": {
        "id": "view-in-github",
        "colab_type": "text"
      },
      "source": [
        "<a href=\"https://colab.research.google.com/github/pullz6/Research_inspired_Self-Explaining-Neural-Networks-for-Business-Process-Monitoring/blob/main/model.ipynb\" target=\"_parent\"><img src=\"https://colab.research.google.com/assets/colab-badge.svg\" alt=\"Open In Colab\"/></a>"
      ]
    },
    {
      "cell_type": "code",
      "source": [
        "!pip install graphviz"
      ],
      "metadata": {
        "colab": {
          "base_uri": "https://localhost:8080/"
        },
        "id": "RP9TeIwDRjFO",
        "outputId": "08026d73-abaa-449c-b8be-c69c8a3de897"
      },
      "execution_count": 15,
      "outputs": [
        {
          "output_type": "stream",
          "name": "stdout",
          "text": [
            "Requirement already satisfied: graphviz in /usr/local/lib/python3.11/dist-packages (0.20.3)\n"
          ]
        }
      ]
    },
    {
      "cell_type": "code",
      "execution_count": 16,
      "metadata": {
        "id": "-B8PcWK2oa7m"
      },
      "outputs": [],
      "source": [
        "#Importing libraries\n",
        "import pandas as pd\n",
        "import numpy as np\n",
        "import pm4py\n",
        "from graphviz import Digraph"
      ]
    },
    {
      "cell_type": "code",
      "source": [
        "df = pd.read_csv(\"Helpdesk.csv\")"
      ],
      "metadata": {
        "id": "CV_9Vyi1g5LM"
      },
      "execution_count": 8,
      "outputs": []
    },
    {
      "cell_type": "code",
      "source": [
        "df.head()"
      ],
      "metadata": {
        "colab": {
          "base_uri": "https://localhost:8080/",
          "height": 348
        },
        "id": "AOrW9j5FQrAV",
        "outputId": "99dc5489-908b-4cd8-f049-09f3a1f521c7"
      },
      "execution_count": 9,
      "outputs": [
        {
          "output_type": "execute_result",
          "data": {
            "text/plain": [
              "            concept:name lifecycle:transition org:resource  \\\n",
              "0     Assign seriousness             complete      Value 2   \n",
              "1  Take in charge ticket             complete      Value 2   \n",
              "2         Resolve ticket             complete      Value 2   \n",
              "3                 Closed             complete      Value 5   \n",
              "4                 Closed             complete      Value 5   \n",
              "\n",
              "              time:timestamp               Activity Resource  \\\n",
              "0  2010-01-13 08:40:25+02:00     Assign seriousness  Value 2   \n",
              "1  2010-01-29 08:52:27+02:00  Take in charge ticket  Value 2   \n",
              "2  2010-01-29 08:52:34+02:00         Resolve ticket  Value 2   \n",
              "3  2010-02-13 08:52:48+02:00                 Closed  Value 5   \n",
              "4  2010-02-13 08:52:48+02:00                 Closed  Value 5   \n",
              "\n",
              "  case:concept:name case:variant  case:variant-index    case:creator  \n",
              "0          Case3608   Variant 33                  33  Fluxicon Disco  \n",
              "1          Case3608   Variant 33                  33  Fluxicon Disco  \n",
              "2          Case3608   Variant 33                  33  Fluxicon Disco  \n",
              "3          Case3608   Variant 33                  33  Fluxicon Disco  \n",
              "4          Case3608   Variant 33                  33  Fluxicon Disco  "
            ],
            "text/html": [
              "<div>\n",
              "<style scoped>\n",
              "    .dataframe tbody tr th:only-of-type {\n",
              "        vertical-align: middle;\n",
              "    }\n",
              "\n",
              "    .dataframe tbody tr th {\n",
              "        vertical-align: top;\n",
              "    }\n",
              "\n",
              "    .dataframe thead th {\n",
              "        text-align: right;\n",
              "    }\n",
              "</style>\n",
              "<table border=\"1\" class=\"dataframe\">\n",
              "  <thead>\n",
              "    <tr style=\"text-align: right;\">\n",
              "      <th></th>\n",
              "      <th>concept:name</th>\n",
              "      <th>lifecycle:transition</th>\n",
              "      <th>org:resource</th>\n",
              "      <th>time:timestamp</th>\n",
              "      <th>Activity</th>\n",
              "      <th>Resource</th>\n",
              "      <th>case:concept:name</th>\n",
              "      <th>case:variant</th>\n",
              "      <th>case:variant-index</th>\n",
              "      <th>case:creator</th>\n",
              "    </tr>\n",
              "  </thead>\n",
              "  <tbody>\n",
              "    <tr>\n",
              "      <th>0</th>\n",
              "      <td>Assign seriousness</td>\n",
              "      <td>complete</td>\n",
              "      <td>Value 2</td>\n",
              "      <td>2010-01-13 08:40:25+02:00</td>\n",
              "      <td>Assign seriousness</td>\n",
              "      <td>Value 2</td>\n",
              "      <td>Case3608</td>\n",
              "      <td>Variant 33</td>\n",
              "      <td>33</td>\n",
              "      <td>Fluxicon Disco</td>\n",
              "    </tr>\n",
              "    <tr>\n",
              "      <th>1</th>\n",
              "      <td>Take in charge ticket</td>\n",
              "      <td>complete</td>\n",
              "      <td>Value 2</td>\n",
              "      <td>2010-01-29 08:52:27+02:00</td>\n",
              "      <td>Take in charge ticket</td>\n",
              "      <td>Value 2</td>\n",
              "      <td>Case3608</td>\n",
              "      <td>Variant 33</td>\n",
              "      <td>33</td>\n",
              "      <td>Fluxicon Disco</td>\n",
              "    </tr>\n",
              "    <tr>\n",
              "      <th>2</th>\n",
              "      <td>Resolve ticket</td>\n",
              "      <td>complete</td>\n",
              "      <td>Value 2</td>\n",
              "      <td>2010-01-29 08:52:34+02:00</td>\n",
              "      <td>Resolve ticket</td>\n",
              "      <td>Value 2</td>\n",
              "      <td>Case3608</td>\n",
              "      <td>Variant 33</td>\n",
              "      <td>33</td>\n",
              "      <td>Fluxicon Disco</td>\n",
              "    </tr>\n",
              "    <tr>\n",
              "      <th>3</th>\n",
              "      <td>Closed</td>\n",
              "      <td>complete</td>\n",
              "      <td>Value 5</td>\n",
              "      <td>2010-02-13 08:52:48+02:00</td>\n",
              "      <td>Closed</td>\n",
              "      <td>Value 5</td>\n",
              "      <td>Case3608</td>\n",
              "      <td>Variant 33</td>\n",
              "      <td>33</td>\n",
              "      <td>Fluxicon Disco</td>\n",
              "    </tr>\n",
              "    <tr>\n",
              "      <th>4</th>\n",
              "      <td>Closed</td>\n",
              "      <td>complete</td>\n",
              "      <td>Value 5</td>\n",
              "      <td>2010-02-13 08:52:48+02:00</td>\n",
              "      <td>Closed</td>\n",
              "      <td>Value 5</td>\n",
              "      <td>Case3608</td>\n",
              "      <td>Variant 33</td>\n",
              "      <td>33</td>\n",
              "      <td>Fluxicon Disco</td>\n",
              "    </tr>\n",
              "  </tbody>\n",
              "</table>\n",
              "</div>"
            ]
          },
          "metadata": {},
          "execution_count": 9
        }
      ]
    }
  ]
}