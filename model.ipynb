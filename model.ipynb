{
  "cells": [
    {
      "cell_type": "markdown",
      "metadata": {
        "id": "view-in-github",
        "colab_type": "text"
      },
      "source": [
        "<a href=\"https://colab.research.google.com/github/pullz6/Research_inspired_Self-Explaining-Neural-Networks-for-Business-Process-Monitoring/blob/main/model.ipynb\" target=\"_parent\"><img src=\"https://colab.research.google.com/assets/colab-badge.svg\" alt=\"Open In Colab\"/></a>"
      ]
    },
    {
      "cell_type": "markdown",
      "metadata": {
        "id": "wYatBYQZwpuq"
      },
      "source": [
        "Importing libraries"
      ]
    },
    {
      "cell_type": "code",
      "execution_count": 177,
      "metadata": {
        "id": "zo8mgsYJXgsd"
      },
      "outputs": [],
      "source": [
        "!pip install mlflow -q"
      ]
    },
    {
      "cell_type": "code",
      "execution_count": 178,
      "metadata": {
        "id": "gYSLfnztXku_"
      },
      "outputs": [],
      "source": [
        "!pip install pyngrok -q"
      ]
    },
    {
      "cell_type": "code",
      "execution_count": 179,
      "metadata": {
        "id": "-B8PcWK2oa7m"
      },
      "outputs": [],
      "source": [
        "#Importing libraries\n",
        "import mlflow\n",
        "from mlflow.data.pandas_dataset import PandasDataset\n",
        "import subprocess\n",
        "from pyngrok import ngrok, conf\n",
        "import getpass\n",
        "\n",
        "\n",
        "import pandas as pd\n",
        "import numpy as np\n",
        "from matplotlib import pyplot as plt\n",
        "import seaborn as sns\n",
        "import datetime\n",
        "from sklearn.preprocessing import MinMaxScaler\n",
        "from scipy import stats"
      ]
    },
    {
      "cell_type": "code",
      "execution_count": 180,
      "metadata": {
        "id": "3-WHHdazbSHo"
      },
      "outputs": [],
      "source": [
        "get_ipython().system_raw(\"mlflow ui --port 5000 &\")"
      ]
    },
    {
      "cell_type": "code",
      "execution_count": 181,
      "metadata": {
        "id": "9mazIEtabU-W"
      },
      "outputs": [],
      "source": [
        "ngrok.kill()"
      ]
    },
    {
      "cell_type": "code",
      "execution_count": 182,
      "metadata": {
        "id": "7NMne2jwbWCB"
      },
      "outputs": [],
      "source": [
        "NGROK_AUTH_TOKEN = \"your code\"\n",
        "ngrok.set_auth_token(NGROK_AUTH_TOKEN)"
      ]
    },
    {
      "cell_type": "code",
      "execution_count": 68,
      "metadata": {
        "colab": {
          "base_uri": "https://localhost:8080/"
        },
        "id": "XSsxg22dbXob",
        "outputId": "46322305-2fed-4859-8ec5-9f5d1be0e182"
      },
      "outputs": [
        {
          "output_type": "stream",
          "name": "stdout",
          "text": [
            "MLflow Tracking UI: https://5558-35-229-179-7.ngrok-free.app\n"
          ]
        }
      ],
      "source": [
        "ngrok_tunnel = ngrok.connect(addr=\"5000\", proto=\"http\", bind_tls=True)\n",
        "print(\"MLflow Tracking UI:\", ngrok_tunnel.public_url)"
      ]
    },
    {
      "cell_type": "code",
      "execution_count": 117,
      "metadata": {
        "id": "CV_9Vyi1g5LM"
      },
      "outputs": [],
      "source": [
        "df = pd.read_csv(\"Helpdesk.csv\")"
      ]
    },
    {
      "cell_type": "code",
      "execution_count": 118,
      "metadata": {
        "colab": {
          "base_uri": "https://localhost:8080/",
          "height": 206
        },
        "id": "AOrW9j5FQrAV",
        "outputId": "63de6252-4e02-405b-d537-ba204ea502cd"
      },
      "outputs": [
        {
          "output_type": "execute_result",
          "data": {
            "text/plain": [
              "            concept:name lifecycle:transition org:resource  \\\n",
              "0     Assign seriousness             complete      Value 2   \n",
              "1  Take in charge ticket             complete      Value 2   \n",
              "2         Resolve ticket             complete      Value 2   \n",
              "3                 Closed             complete      Value 5   \n",
              "4                 Closed             complete      Value 5   \n",
              "\n",
              "              time:timestamp               Activity Resource  \\\n",
              "0  2010-01-13 08:40:25+02:00     Assign seriousness  Value 2   \n",
              "1  2010-01-29 08:52:27+02:00  Take in charge ticket  Value 2   \n",
              "2  2010-01-29 08:52:34+02:00         Resolve ticket  Value 2   \n",
              "3  2010-02-13 08:52:48+02:00                 Closed  Value 5   \n",
              "4  2010-02-13 08:52:48+02:00                 Closed  Value 5   \n",
              "\n",
              "  case:concept:name case:variant  case:variant-index    case:creator  \n",
              "0          Case3608   Variant 33                  33  Fluxicon Disco  \n",
              "1          Case3608   Variant 33                  33  Fluxicon Disco  \n",
              "2          Case3608   Variant 33                  33  Fluxicon Disco  \n",
              "3          Case3608   Variant 33                  33  Fluxicon Disco  \n",
              "4          Case3608   Variant 33                  33  Fluxicon Disco  "
            ],
            "text/html": [
              "\n",
              "  <div id=\"df-dc615355-a797-4da3-801a-108407565197\" class=\"colab-df-container\">\n",
              "    <div>\n",
              "<style scoped>\n",
              "    .dataframe tbody tr th:only-of-type {\n",
              "        vertical-align: middle;\n",
              "    }\n",
              "\n",
              "    .dataframe tbody tr th {\n",
              "        vertical-align: top;\n",
              "    }\n",
              "\n",
              "    .dataframe thead th {\n",
              "        text-align: right;\n",
              "    }\n",
              "</style>\n",
              "<table border=\"1\" class=\"dataframe\">\n",
              "  <thead>\n",
              "    <tr style=\"text-align: right;\">\n",
              "      <th></th>\n",
              "      <th>concept:name</th>\n",
              "      <th>lifecycle:transition</th>\n",
              "      <th>org:resource</th>\n",
              "      <th>time:timestamp</th>\n",
              "      <th>Activity</th>\n",
              "      <th>Resource</th>\n",
              "      <th>case:concept:name</th>\n",
              "      <th>case:variant</th>\n",
              "      <th>case:variant-index</th>\n",
              "      <th>case:creator</th>\n",
              "    </tr>\n",
              "  </thead>\n",
              "  <tbody>\n",
              "    <tr>\n",
              "      <th>0</th>\n",
              "      <td>Assign seriousness</td>\n",
              "      <td>complete</td>\n",
              "      <td>Value 2</td>\n",
              "      <td>2010-01-13 08:40:25+02:00</td>\n",
              "      <td>Assign seriousness</td>\n",
              "      <td>Value 2</td>\n",
              "      <td>Case3608</td>\n",
              "      <td>Variant 33</td>\n",
              "      <td>33</td>\n",
              "      <td>Fluxicon Disco</td>\n",
              "    </tr>\n",
              "    <tr>\n",
              "      <th>1</th>\n",
              "      <td>Take in charge ticket</td>\n",
              "      <td>complete</td>\n",
              "      <td>Value 2</td>\n",
              "      <td>2010-01-29 08:52:27+02:00</td>\n",
              "      <td>Take in charge ticket</td>\n",
              "      <td>Value 2</td>\n",
              "      <td>Case3608</td>\n",
              "      <td>Variant 33</td>\n",
              "      <td>33</td>\n",
              "      <td>Fluxicon Disco</td>\n",
              "    </tr>\n",
              "    <tr>\n",
              "      <th>2</th>\n",
              "      <td>Resolve ticket</td>\n",
              "      <td>complete</td>\n",
              "      <td>Value 2</td>\n",
              "      <td>2010-01-29 08:52:34+02:00</td>\n",
              "      <td>Resolve ticket</td>\n",
              "      <td>Value 2</td>\n",
              "      <td>Case3608</td>\n",
              "      <td>Variant 33</td>\n",
              "      <td>33</td>\n",
              "      <td>Fluxicon Disco</td>\n",
              "    </tr>\n",
              "    <tr>\n",
              "      <th>3</th>\n",
              "      <td>Closed</td>\n",
              "      <td>complete</td>\n",
              "      <td>Value 5</td>\n",
              "      <td>2010-02-13 08:52:48+02:00</td>\n",
              "      <td>Closed</td>\n",
              "      <td>Value 5</td>\n",
              "      <td>Case3608</td>\n",
              "      <td>Variant 33</td>\n",
              "      <td>33</td>\n",
              "      <td>Fluxicon Disco</td>\n",
              "    </tr>\n",
              "    <tr>\n",
              "      <th>4</th>\n",
              "      <td>Closed</td>\n",
              "      <td>complete</td>\n",
              "      <td>Value 5</td>\n",
              "      <td>2010-02-13 08:52:48+02:00</td>\n",
              "      <td>Closed</td>\n",
              "      <td>Value 5</td>\n",
              "      <td>Case3608</td>\n",
              "      <td>Variant 33</td>\n",
              "      <td>33</td>\n",
              "      <td>Fluxicon Disco</td>\n",
              "    </tr>\n",
              "  </tbody>\n",
              "</table>\n",
              "</div>\n",
              "    <div class=\"colab-df-buttons\">\n",
              "\n",
              "  <div class=\"colab-df-container\">\n",
              "    <button class=\"colab-df-convert\" onclick=\"convertToInteractive('df-dc615355-a797-4da3-801a-108407565197')\"\n",
              "            title=\"Convert this dataframe to an interactive table.\"\n",
              "            style=\"display:none;\">\n",
              "\n",
              "  <svg xmlns=\"http://www.w3.org/2000/svg\" height=\"24px\" viewBox=\"0 -960 960 960\">\n",
              "    <path d=\"M120-120v-720h720v720H120Zm60-500h600v-160H180v160Zm220 220h160v-160H400v160Zm0 220h160v-160H400v160ZM180-400h160v-160H180v160Zm440 0h160v-160H620v160ZM180-180h160v-160H180v160Zm440 0h160v-160H620v160Z\"/>\n",
              "  </svg>\n",
              "    </button>\n",
              "\n",
              "  <style>\n",
              "    .colab-df-container {\n",
              "      display:flex;\n",
              "      gap: 12px;\n",
              "    }\n",
              "\n",
              "    .colab-df-convert {\n",
              "      background-color: #E8F0FE;\n",
              "      border: none;\n",
              "      border-radius: 50%;\n",
              "      cursor: pointer;\n",
              "      display: none;\n",
              "      fill: #1967D2;\n",
              "      height: 32px;\n",
              "      padding: 0 0 0 0;\n",
              "      width: 32px;\n",
              "    }\n",
              "\n",
              "    .colab-df-convert:hover {\n",
              "      background-color: #E2EBFA;\n",
              "      box-shadow: 0px 1px 2px rgba(60, 64, 67, 0.3), 0px 1px 3px 1px rgba(60, 64, 67, 0.15);\n",
              "      fill: #174EA6;\n",
              "    }\n",
              "\n",
              "    .colab-df-buttons div {\n",
              "      margin-bottom: 4px;\n",
              "    }\n",
              "\n",
              "    [theme=dark] .colab-df-convert {\n",
              "      background-color: #3B4455;\n",
              "      fill: #D2E3FC;\n",
              "    }\n",
              "\n",
              "    [theme=dark] .colab-df-convert:hover {\n",
              "      background-color: #434B5C;\n",
              "      box-shadow: 0px 1px 3px 1px rgba(0, 0, 0, 0.15);\n",
              "      filter: drop-shadow(0px 1px 2px rgba(0, 0, 0, 0.3));\n",
              "      fill: #FFFFFF;\n",
              "    }\n",
              "  </style>\n",
              "\n",
              "    <script>\n",
              "      const buttonEl =\n",
              "        document.querySelector('#df-dc615355-a797-4da3-801a-108407565197 button.colab-df-convert');\n",
              "      buttonEl.style.display =\n",
              "        google.colab.kernel.accessAllowed ? 'block' : 'none';\n",
              "\n",
              "      async function convertToInteractive(key) {\n",
              "        const element = document.querySelector('#df-dc615355-a797-4da3-801a-108407565197');\n",
              "        const dataTable =\n",
              "          await google.colab.kernel.invokeFunction('convertToInteractive',\n",
              "                                                    [key], {});\n",
              "        if (!dataTable) return;\n",
              "\n",
              "        const docLinkHtml = 'Like what you see? Visit the ' +\n",
              "          '<a target=\"_blank\" href=https://colab.research.google.com/notebooks/data_table.ipynb>data table notebook</a>'\n",
              "          + ' to learn more about interactive tables.';\n",
              "        element.innerHTML = '';\n",
              "        dataTable['output_type'] = 'display_data';\n",
              "        await google.colab.output.renderOutput(dataTable, element);\n",
              "        const docLink = document.createElement('div');\n",
              "        docLink.innerHTML = docLinkHtml;\n",
              "        element.appendChild(docLink);\n",
              "      }\n",
              "    </script>\n",
              "  </div>\n",
              "\n",
              "\n",
              "    <div id=\"df-28fe6805-6dbc-49a5-af66-eefe30f53aa8\">\n",
              "      <button class=\"colab-df-quickchart\" onclick=\"quickchart('df-28fe6805-6dbc-49a5-af66-eefe30f53aa8')\"\n",
              "                title=\"Suggest charts\"\n",
              "                style=\"display:none;\">\n",
              "\n",
              "<svg xmlns=\"http://www.w3.org/2000/svg\" height=\"24px\"viewBox=\"0 0 24 24\"\n",
              "     width=\"24px\">\n",
              "    <g>\n",
              "        <path d=\"M19 3H5c-1.1 0-2 .9-2 2v14c0 1.1.9 2 2 2h14c1.1 0 2-.9 2-2V5c0-1.1-.9-2-2-2zM9 17H7v-7h2v7zm4 0h-2V7h2v10zm4 0h-2v-4h2v4z\"/>\n",
              "    </g>\n",
              "</svg>\n",
              "      </button>\n",
              "\n",
              "<style>\n",
              "  .colab-df-quickchart {\n",
              "      --bg-color: #E8F0FE;\n",
              "      --fill-color: #1967D2;\n",
              "      --hover-bg-color: #E2EBFA;\n",
              "      --hover-fill-color: #174EA6;\n",
              "      --disabled-fill-color: #AAA;\n",
              "      --disabled-bg-color: #DDD;\n",
              "  }\n",
              "\n",
              "  [theme=dark] .colab-df-quickchart {\n",
              "      --bg-color: #3B4455;\n",
              "      --fill-color: #D2E3FC;\n",
              "      --hover-bg-color: #434B5C;\n",
              "      --hover-fill-color: #FFFFFF;\n",
              "      --disabled-bg-color: #3B4455;\n",
              "      --disabled-fill-color: #666;\n",
              "  }\n",
              "\n",
              "  .colab-df-quickchart {\n",
              "    background-color: var(--bg-color);\n",
              "    border: none;\n",
              "    border-radius: 50%;\n",
              "    cursor: pointer;\n",
              "    display: none;\n",
              "    fill: var(--fill-color);\n",
              "    height: 32px;\n",
              "    padding: 0;\n",
              "    width: 32px;\n",
              "  }\n",
              "\n",
              "  .colab-df-quickchart:hover {\n",
              "    background-color: var(--hover-bg-color);\n",
              "    box-shadow: 0 1px 2px rgba(60, 64, 67, 0.3), 0 1px 3px 1px rgba(60, 64, 67, 0.15);\n",
              "    fill: var(--button-hover-fill-color);\n",
              "  }\n",
              "\n",
              "  .colab-df-quickchart-complete:disabled,\n",
              "  .colab-df-quickchart-complete:disabled:hover {\n",
              "    background-color: var(--disabled-bg-color);\n",
              "    fill: var(--disabled-fill-color);\n",
              "    box-shadow: none;\n",
              "  }\n",
              "\n",
              "  .colab-df-spinner {\n",
              "    border: 2px solid var(--fill-color);\n",
              "    border-color: transparent;\n",
              "    border-bottom-color: var(--fill-color);\n",
              "    animation:\n",
              "      spin 1s steps(1) infinite;\n",
              "  }\n",
              "\n",
              "  @keyframes spin {\n",
              "    0% {\n",
              "      border-color: transparent;\n",
              "      border-bottom-color: var(--fill-color);\n",
              "      border-left-color: var(--fill-color);\n",
              "    }\n",
              "    20% {\n",
              "      border-color: transparent;\n",
              "      border-left-color: var(--fill-color);\n",
              "      border-top-color: var(--fill-color);\n",
              "    }\n",
              "    30% {\n",
              "      border-color: transparent;\n",
              "      border-left-color: var(--fill-color);\n",
              "      border-top-color: var(--fill-color);\n",
              "      border-right-color: var(--fill-color);\n",
              "    }\n",
              "    40% {\n",
              "      border-color: transparent;\n",
              "      border-right-color: var(--fill-color);\n",
              "      border-top-color: var(--fill-color);\n",
              "    }\n",
              "    60% {\n",
              "      border-color: transparent;\n",
              "      border-right-color: var(--fill-color);\n",
              "    }\n",
              "    80% {\n",
              "      border-color: transparent;\n",
              "      border-right-color: var(--fill-color);\n",
              "      border-bottom-color: var(--fill-color);\n",
              "    }\n",
              "    90% {\n",
              "      border-color: transparent;\n",
              "      border-bottom-color: var(--fill-color);\n",
              "    }\n",
              "  }\n",
              "</style>\n",
              "\n",
              "      <script>\n",
              "        async function quickchart(key) {\n",
              "          const quickchartButtonEl =\n",
              "            document.querySelector('#' + key + ' button');\n",
              "          quickchartButtonEl.disabled = true;  // To prevent multiple clicks.\n",
              "          quickchartButtonEl.classList.add('colab-df-spinner');\n",
              "          try {\n",
              "            const charts = await google.colab.kernel.invokeFunction(\n",
              "                'suggestCharts', [key], {});\n",
              "          } catch (error) {\n",
              "            console.error('Error during call to suggestCharts:', error);\n",
              "          }\n",
              "          quickchartButtonEl.classList.remove('colab-df-spinner');\n",
              "          quickchartButtonEl.classList.add('colab-df-quickchart-complete');\n",
              "        }\n",
              "        (() => {\n",
              "          let quickchartButtonEl =\n",
              "            document.querySelector('#df-28fe6805-6dbc-49a5-af66-eefe30f53aa8 button');\n",
              "          quickchartButtonEl.style.display =\n",
              "            google.colab.kernel.accessAllowed ? 'block' : 'none';\n",
              "        })();\n",
              "      </script>\n",
              "    </div>\n",
              "\n",
              "    </div>\n",
              "  </div>\n"
            ],
            "application/vnd.google.colaboratory.intrinsic+json": {
              "type": "dataframe",
              "variable_name": "df",
              "summary": "{\n  \"name\": \"df\",\n  \"rows\": 21348,\n  \"fields\": [\n    {\n      \"column\": \"concept:name\",\n      \"properties\": {\n        \"dtype\": \"category\",\n        \"num_unique_values\": 14,\n        \"samples\": [\n          \"INVALID\",\n          \"Resolve SW anomaly\",\n          \"Assign seriousness\"\n        ],\n        \"semantic_type\": \"\",\n        \"description\": \"\"\n      }\n    },\n    {\n      \"column\": \"lifecycle:transition\",\n      \"properties\": {\n        \"dtype\": \"category\",\n        \"num_unique_values\": 1,\n        \"samples\": [\n          \"complete\"\n        ],\n        \"semantic_type\": \"\",\n        \"description\": \"\"\n      }\n    },\n    {\n      \"column\": \"org:resource\",\n      \"properties\": {\n        \"dtype\": \"category\",\n        \"num_unique_values\": 22,\n        \"samples\": [\n          \"Value 2\"\n        ],\n        \"semantic_type\": \"\",\n        \"description\": \"\"\n      }\n    },\n    {\n      \"column\": \"time:timestamp\",\n      \"properties\": {\n        \"dtype\": \"object\",\n        \"num_unique_values\": 21157,\n        \"samples\": [\n          \"2012-03-05 13:29:12+02:00\"\n        ],\n        \"semantic_type\": \"\",\n        \"description\": \"\"\n      }\n    },\n    {\n      \"column\": \"Activity\",\n      \"properties\": {\n        \"dtype\": \"category\",\n        \"num_unique_values\": 14,\n        \"samples\": [\n          \"INVALID\"\n        ],\n        \"semantic_type\": \"\",\n        \"description\": \"\"\n      }\n    },\n    {\n      \"column\": \"Resource\",\n      \"properties\": {\n        \"dtype\": \"category\",\n        \"num_unique_values\": 22,\n        \"samples\": [\n          \"Value 2\"\n        ],\n        \"semantic_type\": \"\",\n        \"description\": \"\"\n      }\n    },\n    {\n      \"column\": \"case:concept:name\",\n      \"properties\": {\n        \"dtype\": \"category\",\n        \"num_unique_values\": 4580,\n        \"samples\": [\n          \"Case3315\"\n        ],\n        \"semantic_type\": \"\",\n        \"description\": \"\"\n      }\n    },\n    {\n      \"column\": \"case:variant\",\n      \"properties\": {\n        \"dtype\": \"category\",\n        \"num_unique_values\": 226,\n        \"samples\": [\n          \"Variant 19\"\n        ],\n        \"semantic_type\": \"\",\n        \"description\": \"\"\n      }\n    },\n    {\n      \"column\": \"case:variant-index\",\n      \"properties\": {\n        \"dtype\": \"number\",\n        \"std\": 36,\n        \"min\": 1,\n        \"max\": 226,\n        \"num_unique_values\": 226,\n        \"samples\": [\n          19\n        ],\n        \"semantic_type\": \"\",\n        \"description\": \"\"\n      }\n    },\n    {\n      \"column\": \"case:creator\",\n      \"properties\": {\n        \"dtype\": \"category\",\n        \"num_unique_values\": 1,\n        \"samples\": [\n          \"Fluxicon Disco\"\n        ],\n        \"semantic_type\": \"\",\n        \"description\": \"\"\n      }\n    }\n  ]\n}"
            }
          },
          "metadata": {},
          "execution_count": 118
        }
      ],
      "source": [
        "df.head()"
      ]
    },
    {
      "cell_type": "code",
      "execution_count": 119,
      "metadata": {
        "colab": {
          "base_uri": "https://localhost:8080/"
        },
        "id": "0-Uz6zUfSdJs",
        "outputId": "c4b8fd62-c69a-47f5-fecf-878ec918c135"
      },
      "outputs": [
        {
          "output_type": "stream",
          "name": "stdout",
          "text": [
            "<class 'pandas.core.frame.DataFrame'>\n",
            "RangeIndex: 21348 entries, 0 to 21347\n",
            "Data columns (total 10 columns):\n",
            " #   Column                Non-Null Count  Dtype \n",
            "---  ------                --------------  ----- \n",
            " 0   concept:name          21348 non-null  object\n",
            " 1   lifecycle:transition  21348 non-null  object\n",
            " 2   org:resource          21348 non-null  object\n",
            " 3   time:timestamp        21348 non-null  object\n",
            " 4   Activity              21348 non-null  object\n",
            " 5   Resource              21348 non-null  object\n",
            " 6   case:concept:name     21348 non-null  object\n",
            " 7   case:variant          21348 non-null  object\n",
            " 8   case:variant-index    21348 non-null  int64 \n",
            " 9   case:creator          21348 non-null  object\n",
            "dtypes: int64(1), object(9)\n",
            "memory usage: 1.6+ MB\n"
          ]
        }
      ],
      "source": [
        "df.info()"
      ]
    },
    {
      "cell_type": "code",
      "execution_count": 120,
      "metadata": {
        "id": "JbkK2HkF4Hib"
      },
      "outputs": [],
      "source": [
        "df.drop_duplicates(inplace=True)"
      ]
    },
    {
      "cell_type": "code",
      "execution_count": 121,
      "metadata": {
        "id": "WnxoA0ReU1ZO"
      },
      "outputs": [],
      "source": [
        "df['case:variant-index'] = df['case:variant-index'].apply(lambda x: int(x))"
      ]
    },
    {
      "cell_type": "code",
      "execution_count": 122,
      "metadata": {
        "id": "zYGuNFjAU-VK"
      },
      "outputs": [],
      "source": [
        "df['Resource'] = df['Resource'].str.strip().str[-1]"
      ]
    },
    {
      "cell_type": "code",
      "execution_count": 123,
      "metadata": {
        "id": "f2m0RgpQVQmo"
      },
      "outputs": [],
      "source": [
        "df['Resource'] = df['Resource'].apply(lambda x: int(x))"
      ]
    },
    {
      "cell_type": "code",
      "execution_count": 124,
      "metadata": {
        "id": "4JFawb9qj5Zg"
      },
      "outputs": [],
      "source": [
        "df['time:timestamp'] = pd.to_datetime(df['time:timestamp'], utc=True)"
      ]
    },
    {
      "cell_type": "code",
      "execution_count": 125,
      "metadata": {
        "colab": {
          "base_uri": "https://localhost:8080/"
        },
        "id": "OwabUt9gwJkN",
        "outputId": "0d567cee-2974-4c82-e3f5-b3d3fd2744f9"
      },
      "outputs": [
        {
          "output_type": "stream",
          "name": "stdout",
          "text": [
            "<class 'pandas.core.frame.DataFrame'>\n",
            "Index: 21221 entries, 0 to 21347\n",
            "Data columns (total 10 columns):\n",
            " #   Column                Non-Null Count  Dtype              \n",
            "---  ------                --------------  -----              \n",
            " 0   concept:name          21221 non-null  object             \n",
            " 1   lifecycle:transition  21221 non-null  object             \n",
            " 2   org:resource          21221 non-null  object             \n",
            " 3   time:timestamp        21221 non-null  datetime64[ns, UTC]\n",
            " 4   Activity              21221 non-null  object             \n",
            " 5   Resource              21221 non-null  int64              \n",
            " 6   case:concept:name     21221 non-null  object             \n",
            " 7   case:variant          21221 non-null  object             \n",
            " 8   case:variant-index    21221 non-null  int64              \n",
            " 9   case:creator          21221 non-null  object             \n",
            "dtypes: datetime64[ns, UTC](1), int64(2), object(7)\n",
            "memory usage: 1.8+ MB\n"
          ]
        }
      ],
      "source": [
        "df.info()"
      ]
    },
    {
      "cell_type": "code",
      "execution_count": 126,
      "metadata": {
        "colab": {
          "base_uri": "https://localhost:8080/"
        },
        "id": "Zm55sepqmRgb",
        "outputId": "b306e0b4-6bb0-4033-ec23-0dec94f66977"
      },
      "outputs": [
        {
          "output_type": "stream",
          "name": "stderr",
          "text": [
            "<ipython-input-126-16d55716170b>:6: FutureWarning: 'S' is deprecated and will be removed in a future version, please use 's' instead.\n",
            "  ).dt.floor('S')\n"
          ]
        }
      ],
      "source": [
        "df['new_date'] = df['time:timestamp'].dt.date\n",
        "df['new_date'] = pd.to_datetime(df['new_date'], utc=True)\n",
        "df['new_time'] = pd.to_datetime(\n",
        "    df['time:timestamp'].dt.time.astype(str),  # Convert time to string\n",
        "    format='%H:%M:%S'  # Parse as pure time\n",
        ").dt.floor('S')"
      ]
    },
    {
      "cell_type": "code",
      "execution_count": 127,
      "metadata": {
        "id": "VUrCL5Rw1FMU"
      },
      "outputs": [],
      "source": [
        "min_timestamps = df.groupby('case:concept:name')['time:timestamp'].transform('min')"
      ]
    },
    {
      "cell_type": "code",
      "execution_count": 128,
      "metadata": {
        "id": "AuF-HQZ_1wJF"
      },
      "outputs": [],
      "source": [
        "df['time_lapsed'] = df['time:timestamp'] - min_timestamps"
      ]
    },
    {
      "cell_type": "code",
      "execution_count": 129,
      "metadata": {
        "id": "YrZ9ecVTuMz3"
      },
      "outputs": [],
      "source": [
        "df['time_lapsed'] = pd.to_timedelta(df['time_lapsed'])"
      ]
    },
    {
      "cell_type": "code",
      "execution_count": 130,
      "metadata": {
        "id": "oqMg5dBtvf4J"
      },
      "outputs": [],
      "source": [
        "df['time_lapsed'] = df['time_lapsed'].dt.total_seconds()"
      ]
    },
    {
      "cell_type": "code",
      "execution_count": 131,
      "metadata": {
        "id": "lHGFvfTCSpvo"
      },
      "outputs": [],
      "source": [
        "max_len = len(df['concept:name'].unique())"
      ]
    },
    {
      "cell_type": "code",
      "execution_count": 132,
      "metadata": {
        "id": "Z2psnS59vJmd"
      },
      "outputs": [],
      "source": [
        "#Checking if we can concept:name and activity is the same as well as the org:resource and the resource, so that we can delete this feild.\n",
        "df['Checker_1'] = (df['concept:name'] == df['Activity'])\n",
        "df['Checker_2'] = (df['org:resource'] == df['Resource'])"
      ]
    },
    {
      "cell_type": "code",
      "execution_count": 133,
      "metadata": {
        "colab": {
          "base_uri": "https://localhost:8080/"
        },
        "id": "TGBxcA7gvasP",
        "outputId": "54c8cfca-2f9e-43ae-d3cb-f82d6181db2e"
      },
      "outputs": [
        {
          "output_type": "execute_result",
          "data": {
            "text/plain": [
              "array([False])"
            ]
          },
          "metadata": {},
          "execution_count": 133
        }
      ],
      "source": [
        "#Let's see if it all the same, if True.\n",
        "df['Checker_2'].unique()"
      ]
    },
    {
      "cell_type": "code",
      "execution_count": 134,
      "metadata": {
        "id": "zV9knXrMvzBh"
      },
      "outputs": [],
      "source": [
        "#Lets drop it since it is the same\n",
        "df.drop(['concept:name','org:resource','Checker_1','Checker_2','case:creator','lifecycle:transition','case:variant'],axis=1, inplace=True)"
      ]
    },
    {
      "cell_type": "code",
      "execution_count": 135,
      "metadata": {
        "id": "13H7KSE_0aCp"
      },
      "outputs": [],
      "source": [
        "#Lets create a stage number for each activity stage of the help desk, this will help us easily identify where the case is in terms of the process\n",
        "\n",
        "#This is also to immulate the label encoder\n",
        "#First create a dataframe with stage numbers and the stage names\n",
        "stage = pd.DataFrame()\n",
        "stage['Stage_no'] = [1,2,3,4,5,6,7,7.1,7.2,8,9,9.1,9.2,10]\n",
        "stage['Activity'] = ['Insert ticket','Assign seriousness','Take in charge ticket','Wait','Require upgrade','Schedule intervention','Resolve ticket','Create SW anomaly','Resolve SW anomaly','VERIFIED','RESOLVED','INVALID', 'DUPLICATE','Closed']"
      ]
    },
    {
      "cell_type": "code",
      "execution_count": 136,
      "metadata": {
        "id": "GvJlYuK_1bFG"
      },
      "outputs": [],
      "source": [
        "df=pd.merge(df,stage,on='Activity', how='left')"
      ]
    },
    {
      "cell_type": "code",
      "execution_count": 137,
      "metadata": {
        "colab": {
          "base_uri": "https://localhost:8080/",
          "height": 206
        },
        "id": "grdJOf-kwBg4",
        "outputId": "f682258a-72b8-4781-f4a6-062172740c47"
      },
      "outputs": [
        {
          "output_type": "execute_result",
          "data": {
            "text/plain": [
              "             time:timestamp               Activity  Resource  \\\n",
              "0 2010-01-13 06:40:25+00:00     Assign seriousness         2   \n",
              "1 2010-01-29 06:52:27+00:00  Take in charge ticket         2   \n",
              "2 2010-01-29 06:52:34+00:00         Resolve ticket         2   \n",
              "3 2010-02-13 06:52:48+00:00                 Closed         5   \n",
              "4 2010-01-13 10:26:04+00:00     Assign seriousness         2   \n",
              "\n",
              "  case:concept:name  case:variant-index                  new_date  \\\n",
              "0          Case3608                  33 2010-01-13 00:00:00+00:00   \n",
              "1          Case3608                  33 2010-01-29 00:00:00+00:00   \n",
              "2          Case3608                  33 2010-01-29 00:00:00+00:00   \n",
              "3          Case3608                  33 2010-02-13 00:00:00+00:00   \n",
              "4          Case2748                   1 2010-01-13 00:00:00+00:00   \n",
              "\n",
              "             new_time  time_lapsed  Stage_no  \n",
              "0 1900-01-01 06:40:25          0.0       2.0  \n",
              "1 1900-01-01 06:52:27    1383122.0       3.0  \n",
              "2 1900-01-01 06:52:34    1383129.0       7.0  \n",
              "3 1900-01-01 06:52:48    2679143.0      10.0  \n",
              "4 1900-01-01 10:26:04          0.0       2.0  "
            ],
            "text/html": [
              "\n",
              "  <div id=\"df-6e34c8c3-9c55-419d-a797-52bac97abb36\" class=\"colab-df-container\">\n",
              "    <div>\n",
              "<style scoped>\n",
              "    .dataframe tbody tr th:only-of-type {\n",
              "        vertical-align: middle;\n",
              "    }\n",
              "\n",
              "    .dataframe tbody tr th {\n",
              "        vertical-align: top;\n",
              "    }\n",
              "\n",
              "    .dataframe thead th {\n",
              "        text-align: right;\n",
              "    }\n",
              "</style>\n",
              "<table border=\"1\" class=\"dataframe\">\n",
              "  <thead>\n",
              "    <tr style=\"text-align: right;\">\n",
              "      <th></th>\n",
              "      <th>time:timestamp</th>\n",
              "      <th>Activity</th>\n",
              "      <th>Resource</th>\n",
              "      <th>case:concept:name</th>\n",
              "      <th>case:variant-index</th>\n",
              "      <th>new_date</th>\n",
              "      <th>new_time</th>\n",
              "      <th>time_lapsed</th>\n",
              "      <th>Stage_no</th>\n",
              "    </tr>\n",
              "  </thead>\n",
              "  <tbody>\n",
              "    <tr>\n",
              "      <th>0</th>\n",
              "      <td>2010-01-13 06:40:25+00:00</td>\n",
              "      <td>Assign seriousness</td>\n",
              "      <td>2</td>\n",
              "      <td>Case3608</td>\n",
              "      <td>33</td>\n",
              "      <td>2010-01-13 00:00:00+00:00</td>\n",
              "      <td>1900-01-01 06:40:25</td>\n",
              "      <td>0.0</td>\n",
              "      <td>2.0</td>\n",
              "    </tr>\n",
              "    <tr>\n",
              "      <th>1</th>\n",
              "      <td>2010-01-29 06:52:27+00:00</td>\n",
              "      <td>Take in charge ticket</td>\n",
              "      <td>2</td>\n",
              "      <td>Case3608</td>\n",
              "      <td>33</td>\n",
              "      <td>2010-01-29 00:00:00+00:00</td>\n",
              "      <td>1900-01-01 06:52:27</td>\n",
              "      <td>1383122.0</td>\n",
              "      <td>3.0</td>\n",
              "    </tr>\n",
              "    <tr>\n",
              "      <th>2</th>\n",
              "      <td>2010-01-29 06:52:34+00:00</td>\n",
              "      <td>Resolve ticket</td>\n",
              "      <td>2</td>\n",
              "      <td>Case3608</td>\n",
              "      <td>33</td>\n",
              "      <td>2010-01-29 00:00:00+00:00</td>\n",
              "      <td>1900-01-01 06:52:34</td>\n",
              "      <td>1383129.0</td>\n",
              "      <td>7.0</td>\n",
              "    </tr>\n",
              "    <tr>\n",
              "      <th>3</th>\n",
              "      <td>2010-02-13 06:52:48+00:00</td>\n",
              "      <td>Closed</td>\n",
              "      <td>5</td>\n",
              "      <td>Case3608</td>\n",
              "      <td>33</td>\n",
              "      <td>2010-02-13 00:00:00+00:00</td>\n",
              "      <td>1900-01-01 06:52:48</td>\n",
              "      <td>2679143.0</td>\n",
              "      <td>10.0</td>\n",
              "    </tr>\n",
              "    <tr>\n",
              "      <th>4</th>\n",
              "      <td>2010-01-13 10:26:04+00:00</td>\n",
              "      <td>Assign seriousness</td>\n",
              "      <td>2</td>\n",
              "      <td>Case2748</td>\n",
              "      <td>1</td>\n",
              "      <td>2010-01-13 00:00:00+00:00</td>\n",
              "      <td>1900-01-01 10:26:04</td>\n",
              "      <td>0.0</td>\n",
              "      <td>2.0</td>\n",
              "    </tr>\n",
              "  </tbody>\n",
              "</table>\n",
              "</div>\n",
              "    <div class=\"colab-df-buttons\">\n",
              "\n",
              "  <div class=\"colab-df-container\">\n",
              "    <button class=\"colab-df-convert\" onclick=\"convertToInteractive('df-6e34c8c3-9c55-419d-a797-52bac97abb36')\"\n",
              "            title=\"Convert this dataframe to an interactive table.\"\n",
              "            style=\"display:none;\">\n",
              "\n",
              "  <svg xmlns=\"http://www.w3.org/2000/svg\" height=\"24px\" viewBox=\"0 -960 960 960\">\n",
              "    <path d=\"M120-120v-720h720v720H120Zm60-500h600v-160H180v160Zm220 220h160v-160H400v160Zm0 220h160v-160H400v160ZM180-400h160v-160H180v160Zm440 0h160v-160H620v160ZM180-180h160v-160H180v160Zm440 0h160v-160H620v160Z\"/>\n",
              "  </svg>\n",
              "    </button>\n",
              "\n",
              "  <style>\n",
              "    .colab-df-container {\n",
              "      display:flex;\n",
              "      gap: 12px;\n",
              "    }\n",
              "\n",
              "    .colab-df-convert {\n",
              "      background-color: #E8F0FE;\n",
              "      border: none;\n",
              "      border-radius: 50%;\n",
              "      cursor: pointer;\n",
              "      display: none;\n",
              "      fill: #1967D2;\n",
              "      height: 32px;\n",
              "      padding: 0 0 0 0;\n",
              "      width: 32px;\n",
              "    }\n",
              "\n",
              "    .colab-df-convert:hover {\n",
              "      background-color: #E2EBFA;\n",
              "      box-shadow: 0px 1px 2px rgba(60, 64, 67, 0.3), 0px 1px 3px 1px rgba(60, 64, 67, 0.15);\n",
              "      fill: #174EA6;\n",
              "    }\n",
              "\n",
              "    .colab-df-buttons div {\n",
              "      margin-bottom: 4px;\n",
              "    }\n",
              "\n",
              "    [theme=dark] .colab-df-convert {\n",
              "      background-color: #3B4455;\n",
              "      fill: #D2E3FC;\n",
              "    }\n",
              "\n",
              "    [theme=dark] .colab-df-convert:hover {\n",
              "      background-color: #434B5C;\n",
              "      box-shadow: 0px 1px 3px 1px rgba(0, 0, 0, 0.15);\n",
              "      filter: drop-shadow(0px 1px 2px rgba(0, 0, 0, 0.3));\n",
              "      fill: #FFFFFF;\n",
              "    }\n",
              "  </style>\n",
              "\n",
              "    <script>\n",
              "      const buttonEl =\n",
              "        document.querySelector('#df-6e34c8c3-9c55-419d-a797-52bac97abb36 button.colab-df-convert');\n",
              "      buttonEl.style.display =\n",
              "        google.colab.kernel.accessAllowed ? 'block' : 'none';\n",
              "\n",
              "      async function convertToInteractive(key) {\n",
              "        const element = document.querySelector('#df-6e34c8c3-9c55-419d-a797-52bac97abb36');\n",
              "        const dataTable =\n",
              "          await google.colab.kernel.invokeFunction('convertToInteractive',\n",
              "                                                    [key], {});\n",
              "        if (!dataTable) return;\n",
              "\n",
              "        const docLinkHtml = 'Like what you see? Visit the ' +\n",
              "          '<a target=\"_blank\" href=https://colab.research.google.com/notebooks/data_table.ipynb>data table notebook</a>'\n",
              "          + ' to learn more about interactive tables.';\n",
              "        element.innerHTML = '';\n",
              "        dataTable['output_type'] = 'display_data';\n",
              "        await google.colab.output.renderOutput(dataTable, element);\n",
              "        const docLink = document.createElement('div');\n",
              "        docLink.innerHTML = docLinkHtml;\n",
              "        element.appendChild(docLink);\n",
              "      }\n",
              "    </script>\n",
              "  </div>\n",
              "\n",
              "\n",
              "    <div id=\"df-8864b1be-8f0c-4241-9ecf-8a63acf422d3\">\n",
              "      <button class=\"colab-df-quickchart\" onclick=\"quickchart('df-8864b1be-8f0c-4241-9ecf-8a63acf422d3')\"\n",
              "                title=\"Suggest charts\"\n",
              "                style=\"display:none;\">\n",
              "\n",
              "<svg xmlns=\"http://www.w3.org/2000/svg\" height=\"24px\"viewBox=\"0 0 24 24\"\n",
              "     width=\"24px\">\n",
              "    <g>\n",
              "        <path d=\"M19 3H5c-1.1 0-2 .9-2 2v14c0 1.1.9 2 2 2h14c1.1 0 2-.9 2-2V5c0-1.1-.9-2-2-2zM9 17H7v-7h2v7zm4 0h-2V7h2v10zm4 0h-2v-4h2v4z\"/>\n",
              "    </g>\n",
              "</svg>\n",
              "      </button>\n",
              "\n",
              "<style>\n",
              "  .colab-df-quickchart {\n",
              "      --bg-color: #E8F0FE;\n",
              "      --fill-color: #1967D2;\n",
              "      --hover-bg-color: #E2EBFA;\n",
              "      --hover-fill-color: #174EA6;\n",
              "      --disabled-fill-color: #AAA;\n",
              "      --disabled-bg-color: #DDD;\n",
              "  }\n",
              "\n",
              "  [theme=dark] .colab-df-quickchart {\n",
              "      --bg-color: #3B4455;\n",
              "      --fill-color: #D2E3FC;\n",
              "      --hover-bg-color: #434B5C;\n",
              "      --hover-fill-color: #FFFFFF;\n",
              "      --disabled-bg-color: #3B4455;\n",
              "      --disabled-fill-color: #666;\n",
              "  }\n",
              "\n",
              "  .colab-df-quickchart {\n",
              "    background-color: var(--bg-color);\n",
              "    border: none;\n",
              "    border-radius: 50%;\n",
              "    cursor: pointer;\n",
              "    display: none;\n",
              "    fill: var(--fill-color);\n",
              "    height: 32px;\n",
              "    padding: 0;\n",
              "    width: 32px;\n",
              "  }\n",
              "\n",
              "  .colab-df-quickchart:hover {\n",
              "    background-color: var(--hover-bg-color);\n",
              "    box-shadow: 0 1px 2px rgba(60, 64, 67, 0.3), 0 1px 3px 1px rgba(60, 64, 67, 0.15);\n",
              "    fill: var(--button-hover-fill-color);\n",
              "  }\n",
              "\n",
              "  .colab-df-quickchart-complete:disabled,\n",
              "  .colab-df-quickchart-complete:disabled:hover {\n",
              "    background-color: var(--disabled-bg-color);\n",
              "    fill: var(--disabled-fill-color);\n",
              "    box-shadow: none;\n",
              "  }\n",
              "\n",
              "  .colab-df-spinner {\n",
              "    border: 2px solid var(--fill-color);\n",
              "    border-color: transparent;\n",
              "    border-bottom-color: var(--fill-color);\n",
              "    animation:\n",
              "      spin 1s steps(1) infinite;\n",
              "  }\n",
              "\n",
              "  @keyframes spin {\n",
              "    0% {\n",
              "      border-color: transparent;\n",
              "      border-bottom-color: var(--fill-color);\n",
              "      border-left-color: var(--fill-color);\n",
              "    }\n",
              "    20% {\n",
              "      border-color: transparent;\n",
              "      border-left-color: var(--fill-color);\n",
              "      border-top-color: var(--fill-color);\n",
              "    }\n",
              "    30% {\n",
              "      border-color: transparent;\n",
              "      border-left-color: var(--fill-color);\n",
              "      border-top-color: var(--fill-color);\n",
              "      border-right-color: var(--fill-color);\n",
              "    }\n",
              "    40% {\n",
              "      border-color: transparent;\n",
              "      border-right-color: var(--fill-color);\n",
              "      border-top-color: var(--fill-color);\n",
              "    }\n",
              "    60% {\n",
              "      border-color: transparent;\n",
              "      border-right-color: var(--fill-color);\n",
              "    }\n",
              "    80% {\n",
              "      border-color: transparent;\n",
              "      border-right-color: var(--fill-color);\n",
              "      border-bottom-color: var(--fill-color);\n",
              "    }\n",
              "    90% {\n",
              "      border-color: transparent;\n",
              "      border-bottom-color: var(--fill-color);\n",
              "    }\n",
              "  }\n",
              "</style>\n",
              "\n",
              "      <script>\n",
              "        async function quickchart(key) {\n",
              "          const quickchartButtonEl =\n",
              "            document.querySelector('#' + key + ' button');\n",
              "          quickchartButtonEl.disabled = true;  // To prevent multiple clicks.\n",
              "          quickchartButtonEl.classList.add('colab-df-spinner');\n",
              "          try {\n",
              "            const charts = await google.colab.kernel.invokeFunction(\n",
              "                'suggestCharts', [key], {});\n",
              "          } catch (error) {\n",
              "            console.error('Error during call to suggestCharts:', error);\n",
              "          }\n",
              "          quickchartButtonEl.classList.remove('colab-df-spinner');\n",
              "          quickchartButtonEl.classList.add('colab-df-quickchart-complete');\n",
              "        }\n",
              "        (() => {\n",
              "          let quickchartButtonEl =\n",
              "            document.querySelector('#df-8864b1be-8f0c-4241-9ecf-8a63acf422d3 button');\n",
              "          quickchartButtonEl.style.display =\n",
              "            google.colab.kernel.accessAllowed ? 'block' : 'none';\n",
              "        })();\n",
              "      </script>\n",
              "    </div>\n",
              "\n",
              "    </div>\n",
              "  </div>\n"
            ],
            "application/vnd.google.colaboratory.intrinsic+json": {
              "type": "dataframe",
              "variable_name": "df",
              "summary": "{\n  \"name\": \"df\",\n  \"rows\": 21221,\n  \"fields\": [\n    {\n      \"column\": \"time:timestamp\",\n      \"properties\": {\n        \"dtype\": \"date\",\n        \"min\": \"2010-01-13 06:40:25+00:00\",\n        \"max\": \"2014-01-03 11:20:58+00:00\",\n        \"num_unique_values\": 21157,\n        \"samples\": [\n          \"2012-03-05 11:29:12+00:00\",\n          \"2012-02-13 09:32:49+00:00\",\n          \"2011-05-03 06:17:47+00:00\"\n        ],\n        \"semantic_type\": \"\",\n        \"description\": \"\"\n      }\n    },\n    {\n      \"column\": \"Activity\",\n      \"properties\": {\n        \"dtype\": \"category\",\n        \"num_unique_values\": 14,\n        \"samples\": [\n          \"INVALID\",\n          \"Resolve SW anomaly\",\n          \"Assign seriousness\"\n        ],\n        \"semantic_type\": \"\",\n        \"description\": \"\"\n      }\n    },\n    {\n      \"column\": \"Resource\",\n      \"properties\": {\n        \"dtype\": \"number\",\n        \"std\": 2,\n        \"min\": 0,\n        \"max\": 9,\n        \"num_unique_values\": 10,\n        \"samples\": [\n          8,\n          5,\n          7\n        ],\n        \"semantic_type\": \"\",\n        \"description\": \"\"\n      }\n    },\n    {\n      \"column\": \"case:concept:name\",\n      \"properties\": {\n        \"dtype\": \"category\",\n        \"num_unique_values\": 4580,\n        \"samples\": [\n          \"Case3315\",\n          \"Case2176\",\n          \"Case1968\"\n        ],\n        \"semantic_type\": \"\",\n        \"description\": \"\"\n      }\n    },\n    {\n      \"column\": \"case:variant-index\",\n      \"properties\": {\n        \"dtype\": \"number\",\n        \"std\": 35,\n        \"min\": 1,\n        \"max\": 226,\n        \"num_unique_values\": 226,\n        \"samples\": [\n          19,\n          211,\n          44\n        ],\n        \"semantic_type\": \"\",\n        \"description\": \"\"\n      }\n    },\n    {\n      \"column\": \"new_date\",\n      \"properties\": {\n        \"dtype\": \"date\",\n        \"min\": \"2010-01-13 00:00:00+00:00\",\n        \"max\": \"2014-01-03 00:00:00+00:00\",\n        \"num_unique_values\": 1305,\n        \"samples\": [\n          \"2013-07-29 00:00:00+00:00\",\n          \"2011-07-30 00:00:00+00:00\",\n          \"2012-07-09 00:00:00+00:00\"\n        ],\n        \"semantic_type\": \"\",\n        \"description\": \"\"\n      }\n    },\n    {\n      \"column\": \"new_time\",\n      \"properties\": {\n        \"dtype\": \"date\",\n        \"min\": \"1900-01-01 00:02:25\",\n        \"max\": \"1900-01-01 18:57:12\",\n        \"num_unique_values\": 15710,\n        \"samples\": [\n          \"1900-01-01 06:12:15\",\n          \"1900-01-01 07:48:14\",\n          \"1900-01-01 13:43:16\"\n        ],\n        \"semantic_type\": \"\",\n        \"description\": \"\"\n      }\n    },\n    {\n      \"column\": \"time_lapsed\",\n      \"properties\": {\n        \"dtype\": \"number\",\n        \"std\": 1483251.4162954101,\n        \"min\": 0.0,\n        \"max\": 5183565.0,\n        \"num_unique_values\": 14707,\n        \"samples\": [\n          686331.0,\n          604213.0,\n          3739167.0\n        ],\n        \"semantic_type\": \"\",\n        \"description\": \"\"\n      }\n    },\n    {\n      \"column\": \"Stage_no\",\n      \"properties\": {\n        \"dtype\": \"number\",\n        \"std\": 3.072519871207139,\n        \"min\": 1.0,\n        \"max\": 10.0,\n        \"num_unique_values\": 14,\n        \"samples\": [\n          9.1,\n          7.2,\n          2.0\n        ],\n        \"semantic_type\": \"\",\n        \"description\": \"\"\n      }\n    }\n  ]\n}"
            }
          },
          "metadata": {},
          "execution_count": 137
        }
      ],
      "source": [
        "df.head()"
      ]
    },
    {
      "cell_type": "code",
      "execution_count": 138,
      "metadata": {
        "colab": {
          "base_uri": "https://localhost:8080/"
        },
        "id": "eDXZPFuk8nDm",
        "outputId": "329b0282-0ca4-47a6-b71b-01c7ad193ecf"
      },
      "outputs": [
        {
          "output_type": "stream",
          "name": "stdout",
          "text": [
            "<class 'pandas.core.frame.DataFrame'>\n",
            "RangeIndex: 21221 entries, 0 to 21220\n",
            "Data columns (total 9 columns):\n",
            " #   Column              Non-Null Count  Dtype              \n",
            "---  ------              --------------  -----              \n",
            " 0   time:timestamp      21221 non-null  datetime64[ns, UTC]\n",
            " 1   Activity            21221 non-null  object             \n",
            " 2   Resource            21221 non-null  int64              \n",
            " 3   case:concept:name   21221 non-null  object             \n",
            " 4   case:variant-index  21221 non-null  int64              \n",
            " 5   new_date            21221 non-null  datetime64[ns, UTC]\n",
            " 6   new_time            21221 non-null  datetime64[ns]     \n",
            " 7   time_lapsed         21221 non-null  float64            \n",
            " 8   Stage_no            21221 non-null  float64            \n",
            "dtypes: datetime64[ns, UTC](2), datetime64[ns](1), float64(2), int64(2), object(2)\n",
            "memory usage: 1.5+ MB\n"
          ]
        }
      ],
      "source": [
        "df.info()"
      ]
    },
    {
      "cell_type": "code",
      "execution_count": 139,
      "metadata": {
        "colab": {
          "base_uri": "https://localhost:8080/",
          "height": 206
        },
        "id": "R32E1HArzCnc",
        "outputId": "1e5ef5c9-9438-44ed-a8b7-022d8f8b6265"
      },
      "outputs": [
        {
          "output_type": "execute_result",
          "data": {
            "text/plain": [
              "             time:timestamp               Activity  Resource  \\\n",
              "0 2010-01-13 06:40:25+00:00     Assign seriousness         2   \n",
              "1 2010-01-29 06:52:27+00:00  Take in charge ticket         2   \n",
              "2 2010-01-29 06:52:34+00:00         Resolve ticket         2   \n",
              "3 2010-02-13 06:52:48+00:00                 Closed         5   \n",
              "4 2010-01-13 10:26:04+00:00     Assign seriousness         2   \n",
              "\n",
              "  case:concept:name  case:variant-index                  new_date  \\\n",
              "0          Case3608                  33 2010-01-13 00:00:00+00:00   \n",
              "1          Case3608                  33 2010-01-29 00:00:00+00:00   \n",
              "2          Case3608                  33 2010-01-29 00:00:00+00:00   \n",
              "3          Case3608                  33 2010-02-13 00:00:00+00:00   \n",
              "4          Case2748                   1 2010-01-13 00:00:00+00:00   \n",
              "\n",
              "             new_time  time_lapsed  Stage_no  \n",
              "0 1900-01-01 06:40:25          0.0       2.0  \n",
              "1 1900-01-01 06:52:27    1383122.0       3.0  \n",
              "2 1900-01-01 06:52:34    1383129.0       7.0  \n",
              "3 1900-01-01 06:52:48    2679143.0      10.0  \n",
              "4 1900-01-01 10:26:04          0.0       2.0  "
            ],
            "text/html": [
              "\n",
              "  <div id=\"df-44aae953-3035-4e48-9dd9-5b4c9dc30c1b\" class=\"colab-df-container\">\n",
              "    <div>\n",
              "<style scoped>\n",
              "    .dataframe tbody tr th:only-of-type {\n",
              "        vertical-align: middle;\n",
              "    }\n",
              "\n",
              "    .dataframe tbody tr th {\n",
              "        vertical-align: top;\n",
              "    }\n",
              "\n",
              "    .dataframe thead th {\n",
              "        text-align: right;\n",
              "    }\n",
              "</style>\n",
              "<table border=\"1\" class=\"dataframe\">\n",
              "  <thead>\n",
              "    <tr style=\"text-align: right;\">\n",
              "      <th></th>\n",
              "      <th>time:timestamp</th>\n",
              "      <th>Activity</th>\n",
              "      <th>Resource</th>\n",
              "      <th>case:concept:name</th>\n",
              "      <th>case:variant-index</th>\n",
              "      <th>new_date</th>\n",
              "      <th>new_time</th>\n",
              "      <th>time_lapsed</th>\n",
              "      <th>Stage_no</th>\n",
              "    </tr>\n",
              "  </thead>\n",
              "  <tbody>\n",
              "    <tr>\n",
              "      <th>0</th>\n",
              "      <td>2010-01-13 06:40:25+00:00</td>\n",
              "      <td>Assign seriousness</td>\n",
              "      <td>2</td>\n",
              "      <td>Case3608</td>\n",
              "      <td>33</td>\n",
              "      <td>2010-01-13 00:00:00+00:00</td>\n",
              "      <td>1900-01-01 06:40:25</td>\n",
              "      <td>0.0</td>\n",
              "      <td>2.0</td>\n",
              "    </tr>\n",
              "    <tr>\n",
              "      <th>1</th>\n",
              "      <td>2010-01-29 06:52:27+00:00</td>\n",
              "      <td>Take in charge ticket</td>\n",
              "      <td>2</td>\n",
              "      <td>Case3608</td>\n",
              "      <td>33</td>\n",
              "      <td>2010-01-29 00:00:00+00:00</td>\n",
              "      <td>1900-01-01 06:52:27</td>\n",
              "      <td>1383122.0</td>\n",
              "      <td>3.0</td>\n",
              "    </tr>\n",
              "    <tr>\n",
              "      <th>2</th>\n",
              "      <td>2010-01-29 06:52:34+00:00</td>\n",
              "      <td>Resolve ticket</td>\n",
              "      <td>2</td>\n",
              "      <td>Case3608</td>\n",
              "      <td>33</td>\n",
              "      <td>2010-01-29 00:00:00+00:00</td>\n",
              "      <td>1900-01-01 06:52:34</td>\n",
              "      <td>1383129.0</td>\n",
              "      <td>7.0</td>\n",
              "    </tr>\n",
              "    <tr>\n",
              "      <th>3</th>\n",
              "      <td>2010-02-13 06:52:48+00:00</td>\n",
              "      <td>Closed</td>\n",
              "      <td>5</td>\n",
              "      <td>Case3608</td>\n",
              "      <td>33</td>\n",
              "      <td>2010-02-13 00:00:00+00:00</td>\n",
              "      <td>1900-01-01 06:52:48</td>\n",
              "      <td>2679143.0</td>\n",
              "      <td>10.0</td>\n",
              "    </tr>\n",
              "    <tr>\n",
              "      <th>4</th>\n",
              "      <td>2010-01-13 10:26:04+00:00</td>\n",
              "      <td>Assign seriousness</td>\n",
              "      <td>2</td>\n",
              "      <td>Case2748</td>\n",
              "      <td>1</td>\n",
              "      <td>2010-01-13 00:00:00+00:00</td>\n",
              "      <td>1900-01-01 10:26:04</td>\n",
              "      <td>0.0</td>\n",
              "      <td>2.0</td>\n",
              "    </tr>\n",
              "  </tbody>\n",
              "</table>\n",
              "</div>\n",
              "    <div class=\"colab-df-buttons\">\n",
              "\n",
              "  <div class=\"colab-df-container\">\n",
              "    <button class=\"colab-df-convert\" onclick=\"convertToInteractive('df-44aae953-3035-4e48-9dd9-5b4c9dc30c1b')\"\n",
              "            title=\"Convert this dataframe to an interactive table.\"\n",
              "            style=\"display:none;\">\n",
              "\n",
              "  <svg xmlns=\"http://www.w3.org/2000/svg\" height=\"24px\" viewBox=\"0 -960 960 960\">\n",
              "    <path d=\"M120-120v-720h720v720H120Zm60-500h600v-160H180v160Zm220 220h160v-160H400v160Zm0 220h160v-160H400v160ZM180-400h160v-160H180v160Zm440 0h160v-160H620v160ZM180-180h160v-160H180v160Zm440 0h160v-160H620v160Z\"/>\n",
              "  </svg>\n",
              "    </button>\n",
              "\n",
              "  <style>\n",
              "    .colab-df-container {\n",
              "      display:flex;\n",
              "      gap: 12px;\n",
              "    }\n",
              "\n",
              "    .colab-df-convert {\n",
              "      background-color: #E8F0FE;\n",
              "      border: none;\n",
              "      border-radius: 50%;\n",
              "      cursor: pointer;\n",
              "      display: none;\n",
              "      fill: #1967D2;\n",
              "      height: 32px;\n",
              "      padding: 0 0 0 0;\n",
              "      width: 32px;\n",
              "    }\n",
              "\n",
              "    .colab-df-convert:hover {\n",
              "      background-color: #E2EBFA;\n",
              "      box-shadow: 0px 1px 2px rgba(60, 64, 67, 0.3), 0px 1px 3px 1px rgba(60, 64, 67, 0.15);\n",
              "      fill: #174EA6;\n",
              "    }\n",
              "\n",
              "    .colab-df-buttons div {\n",
              "      margin-bottom: 4px;\n",
              "    }\n",
              "\n",
              "    [theme=dark] .colab-df-convert {\n",
              "      background-color: #3B4455;\n",
              "      fill: #D2E3FC;\n",
              "    }\n",
              "\n",
              "    [theme=dark] .colab-df-convert:hover {\n",
              "      background-color: #434B5C;\n",
              "      box-shadow: 0px 1px 3px 1px rgba(0, 0, 0, 0.15);\n",
              "      filter: drop-shadow(0px 1px 2px rgba(0, 0, 0, 0.3));\n",
              "      fill: #FFFFFF;\n",
              "    }\n",
              "  </style>\n",
              "\n",
              "    <script>\n",
              "      const buttonEl =\n",
              "        document.querySelector('#df-44aae953-3035-4e48-9dd9-5b4c9dc30c1b button.colab-df-convert');\n",
              "      buttonEl.style.display =\n",
              "        google.colab.kernel.accessAllowed ? 'block' : 'none';\n",
              "\n",
              "      async function convertToInteractive(key) {\n",
              "        const element = document.querySelector('#df-44aae953-3035-4e48-9dd9-5b4c9dc30c1b');\n",
              "        const dataTable =\n",
              "          await google.colab.kernel.invokeFunction('convertToInteractive',\n",
              "                                                    [key], {});\n",
              "        if (!dataTable) return;\n",
              "\n",
              "        const docLinkHtml = 'Like what you see? Visit the ' +\n",
              "          '<a target=\"_blank\" href=https://colab.research.google.com/notebooks/data_table.ipynb>data table notebook</a>'\n",
              "          + ' to learn more about interactive tables.';\n",
              "        element.innerHTML = '';\n",
              "        dataTable['output_type'] = 'display_data';\n",
              "        await google.colab.output.renderOutput(dataTable, element);\n",
              "        const docLink = document.createElement('div');\n",
              "        docLink.innerHTML = docLinkHtml;\n",
              "        element.appendChild(docLink);\n",
              "      }\n",
              "    </script>\n",
              "  </div>\n",
              "\n",
              "\n",
              "    <div id=\"df-1e873786-4970-4c5c-9e57-44afda748095\">\n",
              "      <button class=\"colab-df-quickchart\" onclick=\"quickchart('df-1e873786-4970-4c5c-9e57-44afda748095')\"\n",
              "                title=\"Suggest charts\"\n",
              "                style=\"display:none;\">\n",
              "\n",
              "<svg xmlns=\"http://www.w3.org/2000/svg\" height=\"24px\"viewBox=\"0 0 24 24\"\n",
              "     width=\"24px\">\n",
              "    <g>\n",
              "        <path d=\"M19 3H5c-1.1 0-2 .9-2 2v14c0 1.1.9 2 2 2h14c1.1 0 2-.9 2-2V5c0-1.1-.9-2-2-2zM9 17H7v-7h2v7zm4 0h-2V7h2v10zm4 0h-2v-4h2v4z\"/>\n",
              "    </g>\n",
              "</svg>\n",
              "      </button>\n",
              "\n",
              "<style>\n",
              "  .colab-df-quickchart {\n",
              "      --bg-color: #E8F0FE;\n",
              "      --fill-color: #1967D2;\n",
              "      --hover-bg-color: #E2EBFA;\n",
              "      --hover-fill-color: #174EA6;\n",
              "      --disabled-fill-color: #AAA;\n",
              "      --disabled-bg-color: #DDD;\n",
              "  }\n",
              "\n",
              "  [theme=dark] .colab-df-quickchart {\n",
              "      --bg-color: #3B4455;\n",
              "      --fill-color: #D2E3FC;\n",
              "      --hover-bg-color: #434B5C;\n",
              "      --hover-fill-color: #FFFFFF;\n",
              "      --disabled-bg-color: #3B4455;\n",
              "      --disabled-fill-color: #666;\n",
              "  }\n",
              "\n",
              "  .colab-df-quickchart {\n",
              "    background-color: var(--bg-color);\n",
              "    border: none;\n",
              "    border-radius: 50%;\n",
              "    cursor: pointer;\n",
              "    display: none;\n",
              "    fill: var(--fill-color);\n",
              "    height: 32px;\n",
              "    padding: 0;\n",
              "    width: 32px;\n",
              "  }\n",
              "\n",
              "  .colab-df-quickchart:hover {\n",
              "    background-color: var(--hover-bg-color);\n",
              "    box-shadow: 0 1px 2px rgba(60, 64, 67, 0.3), 0 1px 3px 1px rgba(60, 64, 67, 0.15);\n",
              "    fill: var(--button-hover-fill-color);\n",
              "  }\n",
              "\n",
              "  .colab-df-quickchart-complete:disabled,\n",
              "  .colab-df-quickchart-complete:disabled:hover {\n",
              "    background-color: var(--disabled-bg-color);\n",
              "    fill: var(--disabled-fill-color);\n",
              "    box-shadow: none;\n",
              "  }\n",
              "\n",
              "  .colab-df-spinner {\n",
              "    border: 2px solid var(--fill-color);\n",
              "    border-color: transparent;\n",
              "    border-bottom-color: var(--fill-color);\n",
              "    animation:\n",
              "      spin 1s steps(1) infinite;\n",
              "  }\n",
              "\n",
              "  @keyframes spin {\n",
              "    0% {\n",
              "      border-color: transparent;\n",
              "      border-bottom-color: var(--fill-color);\n",
              "      border-left-color: var(--fill-color);\n",
              "    }\n",
              "    20% {\n",
              "      border-color: transparent;\n",
              "      border-left-color: var(--fill-color);\n",
              "      border-top-color: var(--fill-color);\n",
              "    }\n",
              "    30% {\n",
              "      border-color: transparent;\n",
              "      border-left-color: var(--fill-color);\n",
              "      border-top-color: var(--fill-color);\n",
              "      border-right-color: var(--fill-color);\n",
              "    }\n",
              "    40% {\n",
              "      border-color: transparent;\n",
              "      border-right-color: var(--fill-color);\n",
              "      border-top-color: var(--fill-color);\n",
              "    }\n",
              "    60% {\n",
              "      border-color: transparent;\n",
              "      border-right-color: var(--fill-color);\n",
              "    }\n",
              "    80% {\n",
              "      border-color: transparent;\n",
              "      border-right-color: var(--fill-color);\n",
              "      border-bottom-color: var(--fill-color);\n",
              "    }\n",
              "    90% {\n",
              "      border-color: transparent;\n",
              "      border-bottom-color: var(--fill-color);\n",
              "    }\n",
              "  }\n",
              "</style>\n",
              "\n",
              "      <script>\n",
              "        async function quickchart(key) {\n",
              "          const quickchartButtonEl =\n",
              "            document.querySelector('#' + key + ' button');\n",
              "          quickchartButtonEl.disabled = true;  // To prevent multiple clicks.\n",
              "          quickchartButtonEl.classList.add('colab-df-spinner');\n",
              "          try {\n",
              "            const charts = await google.colab.kernel.invokeFunction(\n",
              "                'suggestCharts', [key], {});\n",
              "          } catch (error) {\n",
              "            console.error('Error during call to suggestCharts:', error);\n",
              "          }\n",
              "          quickchartButtonEl.classList.remove('colab-df-spinner');\n",
              "          quickchartButtonEl.classList.add('colab-df-quickchart-complete');\n",
              "        }\n",
              "        (() => {\n",
              "          let quickchartButtonEl =\n",
              "            document.querySelector('#df-1e873786-4970-4c5c-9e57-44afda748095 button');\n",
              "          quickchartButtonEl.style.display =\n",
              "            google.colab.kernel.accessAllowed ? 'block' : 'none';\n",
              "        })();\n",
              "      </script>\n",
              "    </div>\n",
              "\n",
              "    </div>\n",
              "  </div>\n"
            ],
            "application/vnd.google.colaboratory.intrinsic+json": {
              "type": "dataframe",
              "variable_name": "df",
              "summary": "{\n  \"name\": \"df\",\n  \"rows\": 21221,\n  \"fields\": [\n    {\n      \"column\": \"time:timestamp\",\n      \"properties\": {\n        \"dtype\": \"date\",\n        \"min\": \"2010-01-13 06:40:25+00:00\",\n        \"max\": \"2014-01-03 11:20:58+00:00\",\n        \"num_unique_values\": 21157,\n        \"samples\": [\n          \"2012-03-05 11:29:12+00:00\",\n          \"2012-02-13 09:32:49+00:00\",\n          \"2011-05-03 06:17:47+00:00\"\n        ],\n        \"semantic_type\": \"\",\n        \"description\": \"\"\n      }\n    },\n    {\n      \"column\": \"Activity\",\n      \"properties\": {\n        \"dtype\": \"category\",\n        \"num_unique_values\": 14,\n        \"samples\": [\n          \"INVALID\",\n          \"Resolve SW anomaly\",\n          \"Assign seriousness\"\n        ],\n        \"semantic_type\": \"\",\n        \"description\": \"\"\n      }\n    },\n    {\n      \"column\": \"Resource\",\n      \"properties\": {\n        \"dtype\": \"number\",\n        \"std\": 2,\n        \"min\": 0,\n        \"max\": 9,\n        \"num_unique_values\": 10,\n        \"samples\": [\n          8,\n          5,\n          7\n        ],\n        \"semantic_type\": \"\",\n        \"description\": \"\"\n      }\n    },\n    {\n      \"column\": \"case:concept:name\",\n      \"properties\": {\n        \"dtype\": \"category\",\n        \"num_unique_values\": 4580,\n        \"samples\": [\n          \"Case3315\",\n          \"Case2176\",\n          \"Case1968\"\n        ],\n        \"semantic_type\": \"\",\n        \"description\": \"\"\n      }\n    },\n    {\n      \"column\": \"case:variant-index\",\n      \"properties\": {\n        \"dtype\": \"number\",\n        \"std\": 35,\n        \"min\": 1,\n        \"max\": 226,\n        \"num_unique_values\": 226,\n        \"samples\": [\n          19,\n          211,\n          44\n        ],\n        \"semantic_type\": \"\",\n        \"description\": \"\"\n      }\n    },\n    {\n      \"column\": \"new_date\",\n      \"properties\": {\n        \"dtype\": \"date\",\n        \"min\": \"2010-01-13 00:00:00+00:00\",\n        \"max\": \"2014-01-03 00:00:00+00:00\",\n        \"num_unique_values\": 1305,\n        \"samples\": [\n          \"2013-07-29 00:00:00+00:00\",\n          \"2011-07-30 00:00:00+00:00\",\n          \"2012-07-09 00:00:00+00:00\"\n        ],\n        \"semantic_type\": \"\",\n        \"description\": \"\"\n      }\n    },\n    {\n      \"column\": \"new_time\",\n      \"properties\": {\n        \"dtype\": \"date\",\n        \"min\": \"1900-01-01 00:02:25\",\n        \"max\": \"1900-01-01 18:57:12\",\n        \"num_unique_values\": 15710,\n        \"samples\": [\n          \"1900-01-01 06:12:15\",\n          \"1900-01-01 07:48:14\",\n          \"1900-01-01 13:43:16\"\n        ],\n        \"semantic_type\": \"\",\n        \"description\": \"\"\n      }\n    },\n    {\n      \"column\": \"time_lapsed\",\n      \"properties\": {\n        \"dtype\": \"number\",\n        \"std\": 1483251.4162954101,\n        \"min\": 0.0,\n        \"max\": 5183565.0,\n        \"num_unique_values\": 14707,\n        \"samples\": [\n          686331.0,\n          604213.0,\n          3739167.0\n        ],\n        \"semantic_type\": \"\",\n        \"description\": \"\"\n      }\n    },\n    {\n      \"column\": \"Stage_no\",\n      \"properties\": {\n        \"dtype\": \"number\",\n        \"std\": 3.072519871207139,\n        \"min\": 1.0,\n        \"max\": 10.0,\n        \"num_unique_values\": 14,\n        \"samples\": [\n          9.1,\n          7.2,\n          2.0\n        ],\n        \"semantic_type\": \"\",\n        \"description\": \"\"\n      }\n    }\n  ]\n}"
            }
          },
          "metadata": {},
          "execution_count": 139
        }
      ],
      "source": [
        "df.head()"
      ]
    },
    {
      "cell_type": "markdown",
      "metadata": {
        "id": "SM0dh0HJluEB"
      },
      "source": [
        "One-Hot Encoding"
      ]
    },
    {
      "cell_type": "code",
      "execution_count": 140,
      "metadata": {
        "id": "LTPcvpa_ltoM"
      },
      "outputs": [],
      "source": [
        "from sklearn.preprocessing import OneHotEncoder"
      ]
    },
    {
      "cell_type": "code",
      "execution_count": 141,
      "metadata": {
        "id": "OKc4v4J-0mwj"
      },
      "outputs": [],
      "source": [
        "one_hot_enc = OneHotEncoder(sparse_output=False)"
      ]
    },
    {
      "cell_type": "code",
      "execution_count": 142,
      "metadata": {
        "id": "RKVhjoKDoMp-"
      },
      "outputs": [],
      "source": [
        "arr = one_hot_enc.fit_transform(df[['Stage_no']])"
      ]
    },
    {
      "cell_type": "code",
      "execution_count": 143,
      "metadata": {
        "id": "yZjH6Wnj0FhC"
      },
      "outputs": [],
      "source": [
        "feature_names = one_hot_enc.get_feature_names_out(['Stage_no'])"
      ]
    },
    {
      "cell_type": "code",
      "execution_count": 144,
      "metadata": {
        "id": "snrrpOpV0TiV"
      },
      "outputs": [],
      "source": [
        "df_encoded = pd.DataFrame(arr, columns=feature_names)"
      ]
    },
    {
      "cell_type": "code",
      "execution_count": 145,
      "metadata": {
        "id": "YjFnGYCu0sGH"
      },
      "outputs": [],
      "source": [
        "df.drop('Stage_no', axis=1, inplace=True)"
      ]
    },
    {
      "cell_type": "code",
      "execution_count": 146,
      "metadata": {
        "id": "rWMjyrF40wno"
      },
      "outputs": [],
      "source": [
        "df = pd.concat([df, df_encoded], axis=1)"
      ]
    },
    {
      "cell_type": "code",
      "execution_count": 147,
      "metadata": {
        "colab": {
          "base_uri": "https://localhost:8080/",
          "height": 446
        },
        "id": "KzUIxMIN0yjP",
        "outputId": "a55541b7-4c36-434b-dbe7-6ea9c4a72976"
      },
      "outputs": [
        {
          "output_type": "execute_result",
          "data": {
            "text/plain": [
              "             time:timestamp               Activity  Resource  \\\n",
              "0 2010-01-13 06:40:25+00:00     Assign seriousness         2   \n",
              "1 2010-01-29 06:52:27+00:00  Take in charge ticket         2   \n",
              "2 2010-01-29 06:52:34+00:00         Resolve ticket         2   \n",
              "3 2010-02-13 06:52:48+00:00                 Closed         5   \n",
              "4 2010-01-13 10:26:04+00:00     Assign seriousness         2   \n",
              "\n",
              "  case:concept:name  case:variant-index                  new_date  \\\n",
              "0          Case3608                  33 2010-01-13 00:00:00+00:00   \n",
              "1          Case3608                  33 2010-01-29 00:00:00+00:00   \n",
              "2          Case3608                  33 2010-01-29 00:00:00+00:00   \n",
              "3          Case3608                  33 2010-02-13 00:00:00+00:00   \n",
              "4          Case2748                   1 2010-01-13 00:00:00+00:00   \n",
              "\n",
              "             new_time  time_lapsed  Stage_no_1.0  Stage_no_2.0  ...  \\\n",
              "0 1900-01-01 06:40:25          0.0           0.0           1.0  ...   \n",
              "1 1900-01-01 06:52:27    1383122.0           0.0           0.0  ...   \n",
              "2 1900-01-01 06:52:34    1383129.0           0.0           0.0  ...   \n",
              "3 1900-01-01 06:52:48    2679143.0           0.0           0.0  ...   \n",
              "4 1900-01-01 10:26:04          0.0           0.0           1.0  ...   \n",
              "\n",
              "   Stage_no_5.0  Stage_no_6.0  Stage_no_7.0  Stage_no_7.1  Stage_no_7.2  \\\n",
              "0           0.0           0.0           0.0           0.0           0.0   \n",
              "1           0.0           0.0           0.0           0.0           0.0   \n",
              "2           0.0           0.0           1.0           0.0           0.0   \n",
              "3           0.0           0.0           0.0           0.0           0.0   \n",
              "4           0.0           0.0           0.0           0.0           0.0   \n",
              "\n",
              "   Stage_no_8.0  Stage_no_9.0  Stage_no_9.1  Stage_no_9.2  Stage_no_10.0  \n",
              "0           0.0           0.0           0.0           0.0            0.0  \n",
              "1           0.0           0.0           0.0           0.0            0.0  \n",
              "2           0.0           0.0           0.0           0.0            0.0  \n",
              "3           0.0           0.0           0.0           0.0            1.0  \n",
              "4           0.0           0.0           0.0           0.0            0.0  \n",
              "\n",
              "[5 rows x 22 columns]"
            ],
            "text/html": [
              "\n",
              "  <div id=\"df-d5825ef3-20e7-45f7-ad39-5cc76b5de021\" class=\"colab-df-container\">\n",
              "    <div>\n",
              "<style scoped>\n",
              "    .dataframe tbody tr th:only-of-type {\n",
              "        vertical-align: middle;\n",
              "    }\n",
              "\n",
              "    .dataframe tbody tr th {\n",
              "        vertical-align: top;\n",
              "    }\n",
              "\n",
              "    .dataframe thead th {\n",
              "        text-align: right;\n",
              "    }\n",
              "</style>\n",
              "<table border=\"1\" class=\"dataframe\">\n",
              "  <thead>\n",
              "    <tr style=\"text-align: right;\">\n",
              "      <th></th>\n",
              "      <th>time:timestamp</th>\n",
              "      <th>Activity</th>\n",
              "      <th>Resource</th>\n",
              "      <th>case:concept:name</th>\n",
              "      <th>case:variant-index</th>\n",
              "      <th>new_date</th>\n",
              "      <th>new_time</th>\n",
              "      <th>time_lapsed</th>\n",
              "      <th>Stage_no_1.0</th>\n",
              "      <th>Stage_no_2.0</th>\n",
              "      <th>...</th>\n",
              "      <th>Stage_no_5.0</th>\n",
              "      <th>Stage_no_6.0</th>\n",
              "      <th>Stage_no_7.0</th>\n",
              "      <th>Stage_no_7.1</th>\n",
              "      <th>Stage_no_7.2</th>\n",
              "      <th>Stage_no_8.0</th>\n",
              "      <th>Stage_no_9.0</th>\n",
              "      <th>Stage_no_9.1</th>\n",
              "      <th>Stage_no_9.2</th>\n",
              "      <th>Stage_no_10.0</th>\n",
              "    </tr>\n",
              "  </thead>\n",
              "  <tbody>\n",
              "    <tr>\n",
              "      <th>0</th>\n",
              "      <td>2010-01-13 06:40:25+00:00</td>\n",
              "      <td>Assign seriousness</td>\n",
              "      <td>2</td>\n",
              "      <td>Case3608</td>\n",
              "      <td>33</td>\n",
              "      <td>2010-01-13 00:00:00+00:00</td>\n",
              "      <td>1900-01-01 06:40:25</td>\n",
              "      <td>0.0</td>\n",
              "      <td>0.0</td>\n",
              "      <td>1.0</td>\n",
              "      <td>...</td>\n",
              "      <td>0.0</td>\n",
              "      <td>0.0</td>\n",
              "      <td>0.0</td>\n",
              "      <td>0.0</td>\n",
              "      <td>0.0</td>\n",
              "      <td>0.0</td>\n",
              "      <td>0.0</td>\n",
              "      <td>0.0</td>\n",
              "      <td>0.0</td>\n",
              "      <td>0.0</td>\n",
              "    </tr>\n",
              "    <tr>\n",
              "      <th>1</th>\n",
              "      <td>2010-01-29 06:52:27+00:00</td>\n",
              "      <td>Take in charge ticket</td>\n",
              "      <td>2</td>\n",
              "      <td>Case3608</td>\n",
              "      <td>33</td>\n",
              "      <td>2010-01-29 00:00:00+00:00</td>\n",
              "      <td>1900-01-01 06:52:27</td>\n",
              "      <td>1383122.0</td>\n",
              "      <td>0.0</td>\n",
              "      <td>0.0</td>\n",
              "      <td>...</td>\n",
              "      <td>0.0</td>\n",
              "      <td>0.0</td>\n",
              "      <td>0.0</td>\n",
              "      <td>0.0</td>\n",
              "      <td>0.0</td>\n",
              "      <td>0.0</td>\n",
              "      <td>0.0</td>\n",
              "      <td>0.0</td>\n",
              "      <td>0.0</td>\n",
              "      <td>0.0</td>\n",
              "    </tr>\n",
              "    <tr>\n",
              "      <th>2</th>\n",
              "      <td>2010-01-29 06:52:34+00:00</td>\n",
              "      <td>Resolve ticket</td>\n",
              "      <td>2</td>\n",
              "      <td>Case3608</td>\n",
              "      <td>33</td>\n",
              "      <td>2010-01-29 00:00:00+00:00</td>\n",
              "      <td>1900-01-01 06:52:34</td>\n",
              "      <td>1383129.0</td>\n",
              "      <td>0.0</td>\n",
              "      <td>0.0</td>\n",
              "      <td>...</td>\n",
              "      <td>0.0</td>\n",
              "      <td>0.0</td>\n",
              "      <td>1.0</td>\n",
              "      <td>0.0</td>\n",
              "      <td>0.0</td>\n",
              "      <td>0.0</td>\n",
              "      <td>0.0</td>\n",
              "      <td>0.0</td>\n",
              "      <td>0.0</td>\n",
              "      <td>0.0</td>\n",
              "    </tr>\n",
              "    <tr>\n",
              "      <th>3</th>\n",
              "      <td>2010-02-13 06:52:48+00:00</td>\n",
              "      <td>Closed</td>\n",
              "      <td>5</td>\n",
              "      <td>Case3608</td>\n",
              "      <td>33</td>\n",
              "      <td>2010-02-13 00:00:00+00:00</td>\n",
              "      <td>1900-01-01 06:52:48</td>\n",
              "      <td>2679143.0</td>\n",
              "      <td>0.0</td>\n",
              "      <td>0.0</td>\n",
              "      <td>...</td>\n",
              "      <td>0.0</td>\n",
              "      <td>0.0</td>\n",
              "      <td>0.0</td>\n",
              "      <td>0.0</td>\n",
              "      <td>0.0</td>\n",
              "      <td>0.0</td>\n",
              "      <td>0.0</td>\n",
              "      <td>0.0</td>\n",
              "      <td>0.0</td>\n",
              "      <td>1.0</td>\n",
              "    </tr>\n",
              "    <tr>\n",
              "      <th>4</th>\n",
              "      <td>2010-01-13 10:26:04+00:00</td>\n",
              "      <td>Assign seriousness</td>\n",
              "      <td>2</td>\n",
              "      <td>Case2748</td>\n",
              "      <td>1</td>\n",
              "      <td>2010-01-13 00:00:00+00:00</td>\n",
              "      <td>1900-01-01 10:26:04</td>\n",
              "      <td>0.0</td>\n",
              "      <td>0.0</td>\n",
              "      <td>1.0</td>\n",
              "      <td>...</td>\n",
              "      <td>0.0</td>\n",
              "      <td>0.0</td>\n",
              "      <td>0.0</td>\n",
              "      <td>0.0</td>\n",
              "      <td>0.0</td>\n",
              "      <td>0.0</td>\n",
              "      <td>0.0</td>\n",
              "      <td>0.0</td>\n",
              "      <td>0.0</td>\n",
              "      <td>0.0</td>\n",
              "    </tr>\n",
              "  </tbody>\n",
              "</table>\n",
              "<p>5 rows × 22 columns</p>\n",
              "</div>\n",
              "    <div class=\"colab-df-buttons\">\n",
              "\n",
              "  <div class=\"colab-df-container\">\n",
              "    <button class=\"colab-df-convert\" onclick=\"convertToInteractive('df-d5825ef3-20e7-45f7-ad39-5cc76b5de021')\"\n",
              "            title=\"Convert this dataframe to an interactive table.\"\n",
              "            style=\"display:none;\">\n",
              "\n",
              "  <svg xmlns=\"http://www.w3.org/2000/svg\" height=\"24px\" viewBox=\"0 -960 960 960\">\n",
              "    <path d=\"M120-120v-720h720v720H120Zm60-500h600v-160H180v160Zm220 220h160v-160H400v160Zm0 220h160v-160H400v160ZM180-400h160v-160H180v160Zm440 0h160v-160H620v160ZM180-180h160v-160H180v160Zm440 0h160v-160H620v160Z\"/>\n",
              "  </svg>\n",
              "    </button>\n",
              "\n",
              "  <style>\n",
              "    .colab-df-container {\n",
              "      display:flex;\n",
              "      gap: 12px;\n",
              "    }\n",
              "\n",
              "    .colab-df-convert {\n",
              "      background-color: #E8F0FE;\n",
              "      border: none;\n",
              "      border-radius: 50%;\n",
              "      cursor: pointer;\n",
              "      display: none;\n",
              "      fill: #1967D2;\n",
              "      height: 32px;\n",
              "      padding: 0 0 0 0;\n",
              "      width: 32px;\n",
              "    }\n",
              "\n",
              "    .colab-df-convert:hover {\n",
              "      background-color: #E2EBFA;\n",
              "      box-shadow: 0px 1px 2px rgba(60, 64, 67, 0.3), 0px 1px 3px 1px rgba(60, 64, 67, 0.15);\n",
              "      fill: #174EA6;\n",
              "    }\n",
              "\n",
              "    .colab-df-buttons div {\n",
              "      margin-bottom: 4px;\n",
              "    }\n",
              "\n",
              "    [theme=dark] .colab-df-convert {\n",
              "      background-color: #3B4455;\n",
              "      fill: #D2E3FC;\n",
              "    }\n",
              "\n",
              "    [theme=dark] .colab-df-convert:hover {\n",
              "      background-color: #434B5C;\n",
              "      box-shadow: 0px 1px 3px 1px rgba(0, 0, 0, 0.15);\n",
              "      filter: drop-shadow(0px 1px 2px rgba(0, 0, 0, 0.3));\n",
              "      fill: #FFFFFF;\n",
              "    }\n",
              "  </style>\n",
              "\n",
              "    <script>\n",
              "      const buttonEl =\n",
              "        document.querySelector('#df-d5825ef3-20e7-45f7-ad39-5cc76b5de021 button.colab-df-convert');\n",
              "      buttonEl.style.display =\n",
              "        google.colab.kernel.accessAllowed ? 'block' : 'none';\n",
              "\n",
              "      async function convertToInteractive(key) {\n",
              "        const element = document.querySelector('#df-d5825ef3-20e7-45f7-ad39-5cc76b5de021');\n",
              "        const dataTable =\n",
              "          await google.colab.kernel.invokeFunction('convertToInteractive',\n",
              "                                                    [key], {});\n",
              "        if (!dataTable) return;\n",
              "\n",
              "        const docLinkHtml = 'Like what you see? Visit the ' +\n",
              "          '<a target=\"_blank\" href=https://colab.research.google.com/notebooks/data_table.ipynb>data table notebook</a>'\n",
              "          + ' to learn more about interactive tables.';\n",
              "        element.innerHTML = '';\n",
              "        dataTable['output_type'] = 'display_data';\n",
              "        await google.colab.output.renderOutput(dataTable, element);\n",
              "        const docLink = document.createElement('div');\n",
              "        docLink.innerHTML = docLinkHtml;\n",
              "        element.appendChild(docLink);\n",
              "      }\n",
              "    </script>\n",
              "  </div>\n",
              "\n",
              "\n",
              "    <div id=\"df-ed5d87f3-4557-461f-9bc5-9bd61b13bd66\">\n",
              "      <button class=\"colab-df-quickchart\" onclick=\"quickchart('df-ed5d87f3-4557-461f-9bc5-9bd61b13bd66')\"\n",
              "                title=\"Suggest charts\"\n",
              "                style=\"display:none;\">\n",
              "\n",
              "<svg xmlns=\"http://www.w3.org/2000/svg\" height=\"24px\"viewBox=\"0 0 24 24\"\n",
              "     width=\"24px\">\n",
              "    <g>\n",
              "        <path d=\"M19 3H5c-1.1 0-2 .9-2 2v14c0 1.1.9 2 2 2h14c1.1 0 2-.9 2-2V5c0-1.1-.9-2-2-2zM9 17H7v-7h2v7zm4 0h-2V7h2v10zm4 0h-2v-4h2v4z\"/>\n",
              "    </g>\n",
              "</svg>\n",
              "      </button>\n",
              "\n",
              "<style>\n",
              "  .colab-df-quickchart {\n",
              "      --bg-color: #E8F0FE;\n",
              "      --fill-color: #1967D2;\n",
              "      --hover-bg-color: #E2EBFA;\n",
              "      --hover-fill-color: #174EA6;\n",
              "      --disabled-fill-color: #AAA;\n",
              "      --disabled-bg-color: #DDD;\n",
              "  }\n",
              "\n",
              "  [theme=dark] .colab-df-quickchart {\n",
              "      --bg-color: #3B4455;\n",
              "      --fill-color: #D2E3FC;\n",
              "      --hover-bg-color: #434B5C;\n",
              "      --hover-fill-color: #FFFFFF;\n",
              "      --disabled-bg-color: #3B4455;\n",
              "      --disabled-fill-color: #666;\n",
              "  }\n",
              "\n",
              "  .colab-df-quickchart {\n",
              "    background-color: var(--bg-color);\n",
              "    border: none;\n",
              "    border-radius: 50%;\n",
              "    cursor: pointer;\n",
              "    display: none;\n",
              "    fill: var(--fill-color);\n",
              "    height: 32px;\n",
              "    padding: 0;\n",
              "    width: 32px;\n",
              "  }\n",
              "\n",
              "  .colab-df-quickchart:hover {\n",
              "    background-color: var(--hover-bg-color);\n",
              "    box-shadow: 0 1px 2px rgba(60, 64, 67, 0.3), 0 1px 3px 1px rgba(60, 64, 67, 0.15);\n",
              "    fill: var(--button-hover-fill-color);\n",
              "  }\n",
              "\n",
              "  .colab-df-quickchart-complete:disabled,\n",
              "  .colab-df-quickchart-complete:disabled:hover {\n",
              "    background-color: var(--disabled-bg-color);\n",
              "    fill: var(--disabled-fill-color);\n",
              "    box-shadow: none;\n",
              "  }\n",
              "\n",
              "  .colab-df-spinner {\n",
              "    border: 2px solid var(--fill-color);\n",
              "    border-color: transparent;\n",
              "    border-bottom-color: var(--fill-color);\n",
              "    animation:\n",
              "      spin 1s steps(1) infinite;\n",
              "  }\n",
              "\n",
              "  @keyframes spin {\n",
              "    0% {\n",
              "      border-color: transparent;\n",
              "      border-bottom-color: var(--fill-color);\n",
              "      border-left-color: var(--fill-color);\n",
              "    }\n",
              "    20% {\n",
              "      border-color: transparent;\n",
              "      border-left-color: var(--fill-color);\n",
              "      border-top-color: var(--fill-color);\n",
              "    }\n",
              "    30% {\n",
              "      border-color: transparent;\n",
              "      border-left-color: var(--fill-color);\n",
              "      border-top-color: var(--fill-color);\n",
              "      border-right-color: var(--fill-color);\n",
              "    }\n",
              "    40% {\n",
              "      border-color: transparent;\n",
              "      border-right-color: var(--fill-color);\n",
              "      border-top-color: var(--fill-color);\n",
              "    }\n",
              "    60% {\n",
              "      border-color: transparent;\n",
              "      border-right-color: var(--fill-color);\n",
              "    }\n",
              "    80% {\n",
              "      border-color: transparent;\n",
              "      border-right-color: var(--fill-color);\n",
              "      border-bottom-color: var(--fill-color);\n",
              "    }\n",
              "    90% {\n",
              "      border-color: transparent;\n",
              "      border-bottom-color: var(--fill-color);\n",
              "    }\n",
              "  }\n",
              "</style>\n",
              "\n",
              "      <script>\n",
              "        async function quickchart(key) {\n",
              "          const quickchartButtonEl =\n",
              "            document.querySelector('#' + key + ' button');\n",
              "          quickchartButtonEl.disabled = true;  // To prevent multiple clicks.\n",
              "          quickchartButtonEl.classList.add('colab-df-spinner');\n",
              "          try {\n",
              "            const charts = await google.colab.kernel.invokeFunction(\n",
              "                'suggestCharts', [key], {});\n",
              "          } catch (error) {\n",
              "            console.error('Error during call to suggestCharts:', error);\n",
              "          }\n",
              "          quickchartButtonEl.classList.remove('colab-df-spinner');\n",
              "          quickchartButtonEl.classList.add('colab-df-quickchart-complete');\n",
              "        }\n",
              "        (() => {\n",
              "          let quickchartButtonEl =\n",
              "            document.querySelector('#df-ed5d87f3-4557-461f-9bc5-9bd61b13bd66 button');\n",
              "          quickchartButtonEl.style.display =\n",
              "            google.colab.kernel.accessAllowed ? 'block' : 'none';\n",
              "        })();\n",
              "      </script>\n",
              "    </div>\n",
              "\n",
              "    </div>\n",
              "  </div>\n"
            ],
            "application/vnd.google.colaboratory.intrinsic+json": {
              "type": "dataframe",
              "variable_name": "df"
            }
          },
          "metadata": {},
          "execution_count": 147
        }
      ],
      "source": [
        "df.head()"
      ]
    },
    {
      "cell_type": "code",
      "execution_count": 148,
      "metadata": {
        "colab": {
          "base_uri": "https://localhost:8080/"
        },
        "id": "LnUHbeD6h9a6",
        "outputId": "ae4ab0eb-9f85-4925-d5f3-16456ab3e00e"
      },
      "outputs": [
        {
          "output_type": "execute_result",
          "data": {
            "text/plain": [
              "Index(['time:timestamp', 'Activity', 'Resource', 'case:concept:name',\n",
              "       'case:variant-index', 'new_date', 'new_time', 'time_lapsed',\n",
              "       'Stage_no_1.0', 'Stage_no_2.0', 'Stage_no_3.0', 'Stage_no_4.0',\n",
              "       'Stage_no_5.0', 'Stage_no_6.0', 'Stage_no_7.0', 'Stage_no_7.1',\n",
              "       'Stage_no_7.2', 'Stage_no_8.0', 'Stage_no_9.0', 'Stage_no_9.1',\n",
              "       'Stage_no_9.2', 'Stage_no_10.0'],\n",
              "      dtype='object')"
            ]
          },
          "metadata": {},
          "execution_count": 148
        }
      ],
      "source": [
        "df.columns"
      ]
    },
    {
      "cell_type": "markdown",
      "metadata": {
        "id": "NkypYs3zac39"
      },
      "source": [
        "Splitting Data"
      ]
    },
    {
      "cell_type": "code",
      "execution_count": 149,
      "metadata": {
        "id": "hn2NZhc3hUqL"
      },
      "outputs": [],
      "source": [
        "from sklearn.model_selection import TimeSeriesSplit\n",
        "from tensorflow.keras.preprocessing.sequence import pad_sequences"
      ]
    },
    {
      "cell_type": "code",
      "execution_count": 150,
      "metadata": {
        "id": "ib1u00MUBw8z"
      },
      "outputs": [],
      "source": [
        "X_sequences = []\n",
        "y_act = []\n",
        "y_time = []"
      ]
    },
    {
      "cell_type": "code",
      "execution_count": 151,
      "metadata": {
        "id": "llAeYFFCwLZL"
      },
      "outputs": [],
      "source": [
        "case_groups = df.groupby('case:concept:name')\n",
        "max_len = 14  # As per your model's expected timesteps\n",
        "num_features = 15  # Must match your feature count"
      ]
    },
    {
      "cell_type": "code",
      "execution_count": 152,
      "metadata": {
        "id": "EB-j30KJiAw0"
      },
      "outputs": [],
      "source": [
        "features_col = ['Stage_no_1.0', 'Stage_no_2.0', 'Stage_no_3.0', 'Stage_no_4.0',\n",
        "       'Stage_no_5.0', 'Stage_no_6.0', 'Stage_no_7.0', 'Stage_no_7.1',\n",
        "       'Stage_no_7.2', 'Stage_no_8.0', 'Stage_no_9.0', 'Stage_no_9.1',\n",
        "       'Stage_no_9.2', 'Stage_no_10.0','Resource']"
      ]
    },
    {
      "cell_type": "code",
      "execution_count": 153,
      "metadata": {
        "id": "GcTMZj32pvIm"
      },
      "outputs": [],
      "source": [
        "sequence = ['Stage_no_1.0', 'Stage_no_2.0', 'Stage_no_3.0', 'Stage_no_4.0',\n",
        "       'Stage_no_5.0', 'Stage_no_6.0', 'Stage_no_7.0', 'Stage_no_7.1',\n",
        "       'Stage_no_7.2', 'Stage_no_8.0', 'Stage_no_9.0', 'Stage_no_9.1',\n",
        "       'Stage_no_9.2', 'Stage_no_10.0']"
      ]
    },
    {
      "cell_type": "code",
      "execution_count": 154,
      "metadata": {
        "colab": {
          "base_uri": "https://localhost:8080/"
        },
        "id": "VRauNnh00pKx",
        "outputId": "945452c4-1685-42bd-8016-f5276489bdd0"
      },
      "outputs": [
        {
          "output_type": "stream",
          "name": "stdout",
          "text": [
            "Group sizes: 21221\n"
          ]
        }
      ],
      "source": [
        "group_sizes = [len(group) for _, group in df.groupby('case:concept:name')]\n",
        "print(\"Group sizes:\", sum(group_sizes))"
      ]
    },
    {
      "cell_type": "code",
      "execution_count": 155,
      "metadata": {
        "colab": {
          "base_uri": "https://localhost:8080/"
        },
        "id": "aBebLCNuWki_",
        "outputId": "ef63f5b8-3dd7-467c-9be2-22a16f12a7c9"
      },
      "outputs": [
        {
          "output_type": "execute_result",
          "data": {
            "text/plain": [
              "4580"
            ]
          },
          "metadata": {},
          "execution_count": 155
        }
      ],
      "source": [
        "len(group_sizes)"
      ]
    },
    {
      "cell_type": "code",
      "source": [
        "df['time_lapsed'] = df['time_lapsed'].mask(df['time_lapsed'] == 0, 0.1)"
      ],
      "metadata": {
        "id": "-08Lumd5PLHQ"
      },
      "execution_count": 156,
      "outputs": []
    },
    {
      "cell_type": "markdown",
      "source": [
        "Before we apply any normalization, lets check the distribution of the time lapsed.\n",
        "\n",
        "Our model is consisting of LSTM units, they do not perform well with skewness well.\n",
        "\n",
        "We need to address this prior to fitting the data."
      ],
      "metadata": {
        "id": "TGqYyk2GHGSF"
      }
    },
    {
      "cell_type": "code",
      "source": [
        "plt.figure()\n",
        "sns.displot(df, x=\"time_lapsed\")\n",
        "plt.title('Distribution of Time Lapsed')\n",
        "plt.show()"
      ],
      "metadata": {
        "colab": {
          "base_uri": "https://localhost:8080/",
          "height": 546
        },
        "id": "ayCF6aTfHMWT",
        "outputId": "3c01708c-d034-46c3-861e-bb5aa84a523a"
      },
      "execution_count": 157,
      "outputs": [
        {
          "output_type": "display_data",
          "data": {
            "text/plain": [
              "<Figure size 640x480 with 0 Axes>"
            ]
          },
          "metadata": {}
        },
        {
          "output_type": "display_data",
          "data": {
            "text/plain": [
              "<Figure size 500x500 with 1 Axes>"
            ],
            "image/png": "[encoded data removed]"
          },
          "metadata": {}
        }
      ]
    },
    {
      "cell_type": "code",
      "source": [
        "from sklearn.preprocessing import MinMaxScaler\n",
        "\n",
        "#df['time_lapsed'] = MinMaxScaler().fit_transform(np.array(df['time_lapsed']).reshape(-1,1))\n",
        "\n",
        "df['time_lapsed'], fitted_lambda = stats.boxcox(df['time_lapsed'])"
      ],
      "metadata": {
        "id": "nVgumdWRF-tN"
      },
      "execution_count": 158,
      "outputs": []
    },
    {
      "cell_type": "code",
      "source": [
        "plt.figure()\n",
        "sns.displot(df, x=\"time_lapsed\")\n",
        "plt.title('Distribution of Time Lapsed (After Normalisation)')\n",
        "plt.show()"
      ],
      "metadata": {
        "colab": {
          "base_uri": "https://localhost:8080/",
          "height": 546
        },
        "id": "BYrHLc6WPT-w",
        "outputId": "1accaeee-7128-40c5-ee3b-274c17fb053e"
      },
      "execution_count": 159,
      "outputs": [
        {
          "output_type": "display_data",
          "data": {
            "text/plain": [
              "<Figure size 640x480 with 0 Axes>"
            ]
          },
          "metadata": {}
        },
        {
          "output_type": "display_data",
          "data": {
            "text/plain": [
              "<Figure size 500x500 with 1 Axes>"
            ],
            "image/png": "[encoded data removed]"
          },
          "metadata": {}
        }
      ]
    },
    {
      "cell_type": "markdown",
      "source": [
        "Now lets see the resource variable."
      ],
      "metadata": {
        "id": "dtaEjsRCErkx"
      }
    },
    {
      "cell_type": "code",
      "source": [
        "plt.figure()\n",
        "sns.displot(df, x=\"Resource\")\n",
        "plt.title('Distribution of Time Lapsed')\n",
        "plt.show()"
      ],
      "metadata": {
        "colab": {
          "base_uri": "https://localhost:8080/",
          "height": 546
        },
        "id": "rikWcocrE2UN",
        "outputId": "82aef74b-918b-4b30-f2e6-e366ee7e7a08"
      },
      "execution_count": 160,
      "outputs": [
        {
          "output_type": "display_data",
          "data": {
            "text/plain": [
              "<Figure size 640x480 with 0 Axes>"
            ]
          },
          "metadata": {}
        },
        {
          "output_type": "display_data",
          "data": {
            "text/plain": [
              "<Figure size 500x500 with 1 Axes>"
            ],
            "image/png": "[encoded data removed]"
          },
          "metadata": {}
        }
      ]
    },
    {
      "cell_type": "markdown",
      "source": [
        "Has a distribution similar to a normal distribution, so lets do normal min max scaling."
      ],
      "metadata": {
        "id": "Vk5ZPx9qFFUW"
      }
    },
    {
      "cell_type": "code",
      "source": [
        "df['Resource'] = (df['Resource'] - df['Resource'].min()) / (df['Resource'].max() - df['Resource'].min())"
      ],
      "metadata": {
        "id": "nPijddbdFLkW"
      },
      "execution_count": 161,
      "outputs": []
    },
    {
      "cell_type": "markdown",
      "source": [
        "Lets creating our training data"
      ],
      "metadata": {
        "id": "B3r67CSDJWdA"
      }
    },
    {
      "cell_type": "code",
      "execution_count": 163,
      "metadata": {
        "id": "DU40VXc_mt0R"
      },
      "outputs": [],
      "source": [
        "for _, group in case_groups:\n",
        "    #Lets sort of the values\n",
        "    group = group.sort_values('time:timestamp')\n",
        "\n",
        "    #Lets do normalization\n",
        "    group['time_lapsed'] = group['time_lapsed'].astype('float32')\n",
        "\n",
        "    # Process each row individually\n",
        "    for _, row in group.iterrows():\n",
        "        # Get features for this single row (shape: [15] for 15 features)\n",
        "        features = row[features_col].values\n",
        "\n",
        "        # Reshape to (1, 15) since pad_sequences expects sequences\n",
        "        features = features.reshape(1, -1)\n",
        "\n",
        "        # Pad to (14, 15)\n",
        "        padded = pad_sequences(\n",
        "            [features],  # Note the list wrapping\n",
        "            maxlen=max_len,  # 14\n",
        "            padding='post',\n",
        "            truncating='post',\n",
        "            dtype='float32'\n",
        "        )[0]  # Take the first element to remove extra dimension\n",
        "        X_sequences.append(padded)\n",
        "\n",
        "    #Creating the data for y_act\n",
        "    temp_y_act = group[sequence].to_numpy()\n",
        "    temp_y_act = np.vstack([\n",
        "      temp_y_act[1:,:],  # All rows after first\n",
        "      np.zeros((1, temp_y_act.shape[1]))  # Add zero row at end\n",
        "    ])\n",
        "    y_act.extend(temp_y_act)\n",
        "\n",
        "\n",
        "    #Creating the data for y_time\n",
        "    temp_y_time = group['time_lapsed'].to_numpy()\n",
        "    temp_y_time = np.concatenate([\n",
        "        temp_y_time[1:],  # Elements after first\n",
        "        [0]  # Append zero\n",
        "    ])\n",
        "    y_time.extend(temp_y_time)"
      ]
    },
    {
      "cell_type": "code",
      "execution_count": 164,
      "metadata": {
        "id": "ylQim7NCzSwD"
      },
      "outputs": [],
      "source": [
        "y_act = np.array(y_act)\n",
        "X_sequences = np.array(X_sequences)\n",
        "y_time = np.array(y_time)"
      ]
    },
    {
      "cell_type": "code",
      "execution_count": 165,
      "metadata": {
        "colab": {
          "base_uri": "https://localhost:8080/"
        },
        "id": "iQcJQe2_EuJM",
        "outputId": "1b6b48fd-46ac-46c1-b14a-de49a252a3ee"
      },
      "outputs": [
        {
          "output_type": "stream",
          "name": "stdout",
          "text": [
            "Size of X:(21221, 14, 15)\n",
            "Size of y_act:(21221, 14)\n",
            "Size of y_time:(21221,)\n"
          ]
        }
      ],
      "source": [
        "print('Size of X:'+ str(X_sequences.shape))\n",
        "print('Size of y_act:'+ str((y_act).shape))\n",
        "print('Size of y_time:'+ str((y_time).shape))"
      ]
    },
    {
      "cell_type": "code",
      "source": [
        "print('Sample of X:'+ str(X_sequences[0]))\n",
        "print('Sample of y_act:'+ str(y_act[0]))\n",
        "print('Sample of y_time:'+ str(y_time[0]))"
      ],
      "metadata": {
        "colab": {
          "base_uri": "https://localhost:8080/"
        },
        "id": "9-aV8ZdKFDM3",
        "outputId": "fc5105a8-f502-45e2-f262-6064d7825669"
      },
      "execution_count": 166,
      "outputs": [
        {
          "output_type": "stream",
          "name": "stdout",
          "text": [
            "Sample of X:[[0.         1.         0.         0.         0.         0.\n",
            "  0.         0.         0.         0.         0.         0.\n",
            "  0.         0.         0.11111111]\n",
            " [0.         0.         0.         0.         0.         0.\n",
            "  0.         0.         0.         0.         0.         0.\n",
            "  0.         0.         0.        ]\n",
            " [0.         0.         0.         0.         0.         0.\n",
            "  0.         0.         0.         0.         0.         0.\n",
            "  0.         0.         0.        ]\n",
            " [0.         0.         0.         0.         0.         0.\n",
            "  0.         0.         0.         0.         0.         0.\n",
            "  0.         0.         0.        ]\n",
            " [0.         0.         0.         0.         0.         0.\n",
            "  0.         0.         0.         0.         0.         0.\n",
            "  0.         0.         0.        ]\n",
            " [0.         0.         0.         0.         0.         0.\n",
            "  0.         0.         0.         0.         0.         0.\n",
            "  0.         0.         0.        ]\n",
            " [0.         0.         0.         0.         0.         0.\n",
            "  0.         0.         0.         0.         0.         0.\n",
            "  0.         0.         0.        ]\n",
            " [0.         0.         0.         0.         0.         0.\n",
            "  0.         0.         0.         0.         0.         0.\n",
            "  0.         0.         0.        ]\n",
            " [0.         0.         0.         0.         0.         0.\n",
            "  0.         0.         0.         0.         0.         0.\n",
            "  0.         0.         0.        ]\n",
            " [0.         0.         0.         0.         0.         0.\n",
            "  0.         0.         0.         0.         0.         0.\n",
            "  0.         0.         0.        ]\n",
            " [0.         0.         0.         0.         0.         0.\n",
            "  0.         0.         0.         0.         0.         0.\n",
            "  0.         0.         0.        ]\n",
            " [0.         0.         0.         0.         0.         0.\n",
            "  0.         0.         0.         0.         0.         0.\n",
            "  0.         0.         0.        ]\n",
            " [0.         0.         0.         0.         0.         0.\n",
            "  0.         0.         0.         0.         0.         0.\n",
            "  0.         0.         0.        ]\n",
            " [0.         0.         0.         0.         0.         0.\n",
            "  0.         0.         0.         0.         0.         0.\n",
            "  0.         0.         0.        ]]\n",
            "Sample of y_act:[0. 0. 1. 0. 0. 0. 0. 0. 0. 0. 0. 0. 0. 0.]\n",
            "Sample of y_time:4.670429229736328\n"
          ]
        }
      ]
    },
    {
      "cell_type": "code",
      "execution_count": 167,
      "metadata": {
        "id": "BwVzEpx4dWvE",
        "colab": {
          "base_uri": "https://localhost:8080/"
        },
        "outputId": "e35a6929-cfe9-409e-b3e3-e565eeb11b9e"
      },
      "outputs": [
        {
          "output_type": "stream",
          "name": "stderr",
          "text": [
            "/usr/local/lib/python3.11/dist-packages/mlflow/data/dataset_source_registry.py:149: UserWarning: Failed to determine whether UCVolumeDatasetSource can resolve source information for 'https://github.com/pullz6/Research_inspired_Self-Explaining-Neural-Networks-for-Business-Process-Monitoring/blob/main/Data/Helpdesk.csv'. Exception: \n",
            "  return _dataset_source_registry.resolve(\n"
          ]
        }
      ],
      "source": [
        "#Logging the dataset into MLFlow\n",
        "dataset_source_url = 'https://github.com/pullz6/Research_inspired_Self-Explaining-Neural-Networks-for-Business-Process-Monitoring/blob/main/Data/Helpdesk.csv'\n",
        "dataset = mlflow.data.from_pandas(\n",
        "    df, source=dataset_source_url, name=\"HelpDesk\", targets=\"Activity\"\n",
        ")"
      ]
    },
    {
      "cell_type": "markdown",
      "metadata": {
        "id": "hqQR0oakscOe"
      },
      "source": [
        "Model building"
      ]
    },
    {
      "cell_type": "code",
      "execution_count": 168,
      "metadata": {
        "colab": {
          "base_uri": "https://localhost:8080/"
        },
        "id": "zcj0SyY2NkzL",
        "outputId": "25c68d3d-0cdc-4a9a-dad0-db52887393f5"
      },
      "outputs": [
        {
          "output_type": "stream",
          "name": "stdout",
          "text": [
            "Requirement already satisfied: keras in /usr/local/lib/python3.11/dist-packages (3.8.0)\n",
            "Requirement already satisfied: absl-py in /usr/local/lib/python3.11/dist-packages (from keras) (1.4.0)\n",
            "Requirement already satisfied: numpy in /usr/local/lib/python3.11/dist-packages (from keras) (2.0.2)\n",
            "Requirement already satisfied: rich in /usr/local/lib/python3.11/dist-packages (from keras) (13.9.4)\n",
            "Requirement already satisfied: namex in /usr/local/lib/python3.11/dist-packages (from keras) (0.0.9)\n",
            "Requirement already satisfied: h5py in /usr/local/lib/python3.11/dist-packages (from keras) (3.13.0)\n",
            "Requirement already satisfied: optree in /usr/local/lib/python3.11/dist-packages (from keras) (0.15.0)\n",
            "Requirement already satisfied: ml-dtypes in /usr/local/lib/python3.11/dist-packages (from keras) (0.4.1)\n",
            "Requirement already satisfied: packaging in /usr/local/lib/python3.11/dist-packages (from keras) (24.2)\n",
            "Requirement already satisfied: typing-extensions>=4.5.0 in /usr/local/lib/python3.11/dist-packages (from optree->keras) (4.13.2)\n",
            "Requirement already satisfied: markdown-it-py>=2.2.0 in /usr/local/lib/python3.11/dist-packages (from rich->keras) (3.0.0)\n",
            "Requirement already satisfied: pygments<3.0.0,>=2.13.0 in /usr/local/lib/python3.11/dist-packages (from rich->keras) (2.19.1)\n",
            "Requirement already satisfied: mdurl~=0.1 in /usr/local/lib/python3.11/dist-packages (from markdown-it-py>=2.2.0->rich->keras) (0.1.2)\n"
          ]
        }
      ],
      "source": [
        "!pip install keras"
      ]
    },
    {
      "cell_type": "code",
      "execution_count": 169,
      "metadata": {
        "id": "WLYkDfucL_HZ"
      },
      "outputs": [],
      "source": [
        "#Creating the model architecture"
      ]
    },
    {
      "cell_type": "code",
      "execution_count": 170,
      "metadata": {
        "id": "nZqFT696MEYz"
      },
      "outputs": [],
      "source": [
        "#Importing the required libriares since the LSTM model will be done with Pytorch\n",
        "import torch\n",
        "import torch.nn as nn\n",
        "import numpy as np\n",
        "import matplotlib.pyplot as plt\n",
        "from keras.models import Sequential, Model\n",
        "from keras.layers import Dense\n",
        "from keras.layers import LSTM, GRU, SimpleRNN\n",
        "from keras.layers import Input\n",
        "from keras.utils import get_file\n",
        "from keras.optimizers import Nadam\n",
        "from keras.callbacks import EarlyStopping, ModelCheckpoint, ReduceLROnPlateau\n",
        "from keras.layers import BatchNormalization\n",
        "from tensorflow.keras.layers import GlobalAveragePooling1D"
      ]
    },
    {
      "cell_type": "code",
      "execution_count": 171,
      "metadata": {
        "id": "QUWB2WRUtD6i"
      },
      "outputs": [],
      "source": [
        "main_input = Input(shape=(max_len, num_features), name='main_input')"
      ]
    },
    {
      "cell_type": "code",
      "execution_count": 172,
      "metadata": {
        "colab": {
          "base_uri": "https://localhost:8080/"
        },
        "id": "KxTkV4qWyDCu",
        "outputId": "feded68e-4cb7-4f33-8787-3ee9683ed7b1"
      },
      "outputs": [
        {
          "output_type": "execute_result",
          "data": {
            "text/plain": [
              "<KerasTensor shape=(None, 14, 15), dtype=float32, sparse=False, name=main_input>"
            ]
          },
          "metadata": {},
          "execution_count": 172
        }
      ],
      "source": [
        "main_input"
      ]
    },
    {
      "cell_type": "code",
      "execution_count": 173,
      "metadata": {
        "id": "amNpY12a0Hq7"
      },
      "outputs": [],
      "source": [
        "#Create the training split"
      ]
    },
    {
      "cell_type": "code",
      "execution_count": 174,
      "metadata": {
        "id": "clGTMHjMnfvx"
      },
      "outputs": [],
      "source": [
        "l1 = LSTM(100, implementation=2, kernel_initializer='glorot_uniform', return_sequences=True, dropout=0.2)(main_input) # the shared layer\n",
        "\n",
        "b1 = BatchNormalization()(l1)\n",
        "\n",
        "l2_1 = LSTM(100, implementation=2, kernel_initializer='glorot_uniform', return_sequences=False, dropout=0.2)(b1) # the layer specialized in activity prediction\n",
        "\n",
        "b2_1 = BatchNormalization()(l2_1)\n",
        "\n",
        "l2_2 = LSTM(100, implementation=2, kernel_initializer='glorot_uniform', return_sequences=False, dropout=0.2)(b1) # the layer specialized in time prediction\n",
        "\n",
        "b2_2 = BatchNormalization()(l2_2)\n",
        "\n",
        "act_output = Dense(14, activation='softmax', kernel_initializer='glorot_uniform', name='act_output')(b2_1)\n",
        "\n",
        "time_output = Dense(1, kernel_initializer='glorot_uniform', name='time_output')(b2_2)\n",
        "\n",
        "#time_output = GlobalAveragePooling1D()(b2_2)  # Reduces (14,64) to (64,)\n",
        "#time_output = Dense(1, kernel_initializer='glorot_uniform', name='time_output')#(time_output)"
      ]
    },
    {
      "cell_type": "code",
      "execution_count": 175,
      "metadata": {
        "id": "sBiYSKgQS95p"
      },
      "outputs": [],
      "source": [
        "learning_rate = 0.002\n",
        "beta_1 = 0.9\n",
        "beta_2 = 0.999\n",
        "epsilon = 1e-08\n",
        "weight_decay = 0.004\n",
        "clipvalue = 3\n",
        "model = Model(inputs=[main_input], outputs=[act_output, time_output])\n",
        "\n",
        "opt = Nadam(learning_rate=learning_rate, beta_1=beta_1, beta_2=beta_2, epsilon=epsilon, weight_decay=weight_decay, clipvalue=clipvalue)\n",
        "\n",
        "model.compile(loss={'act_output':'categorical_crossentropy', 'time_output':'mae'}, optimizer=opt)\n",
        "\n",
        "early_stopping = EarlyStopping(monitor='val_loss', patience=42)\n",
        "\n",
        "lr_reducer = ReduceLROnPlateau(monitor='val_loss', factor=0.5, patience=10, verbose=0, mode='auto', min_delta=0.0001, cooldown=0, min_lr=0)"
      ]
    },
    {
      "cell_type": "markdown",
      "metadata": {
        "id": "BRYnlVzlIJG0"
      },
      "source": [
        "Model Training"
      ]
    },
    {
      "cell_type": "code",
      "execution_count": 176,
      "metadata": {
        "colab": {
          "base_uri": "https://localhost:8080/"
        },
        "id": "UZznyDiRoTCa",
        "outputId": "8d0e0db0-e2bc-4ce6-ba6b-aba95d7a3efb"
      },
      "outputs": [
        {
          "metadata": {
            "tags": null
          },
          "name": "stdout",
          "output_type": "stream",
          "text": [
            "Epoch 1/100\n"
          ]
        },
        {
          "metadata": {
            "tags": null
          },
          "name": "stderr",
          "output_type": "stream",
          "text": [
            "/usr/local/lib/python3.11/dist-packages/keras/src/models/functional.py:237: UserWarning: The structure of `inputs` doesn't match the expected structure.\n",
            "Expected: ['main_input']\n",
            "Received: inputs=Tensor(shape=(None, 14, 15))\n",
            "  warnings.warn(msg)\n"
          ]
        },
        {
          "output_type": "stream",
          "name": "stdout",
          "text": [
            "1213/1213 - 53s - 43ms/step - act_output_loss: 0.9527 - loss: 9.7194 - time_output_loss: 8.7661 - val_act_output_loss: 1.9629 - val_loss: 6.9042 - val_time_output_loss: 4.9339 - learning_rate: 0.0020\n",
            "Epoch 2/100\n",
            "1213/1213 - 42s - 35ms/step - act_output_loss: 1.1709 - loss: 8.4526 - time_output_loss: 7.2830 - val_act_output_loss: 2.9451 - val_loss: 8.0854 - val_time_output_loss: 5.1387 - learning_rate: 0.0020\n",
            "Epoch 3/100\n",
            "1213/1213 - 40s - 33ms/step - act_output_loss: 1.1723 - loss: 8.2765 - time_output_loss: 7.1038 - val_act_output_loss: 1.1202 - val_loss: 6.3759 - val_time_output_loss: 5.2534 - learning_rate: 0.0020\n",
            "Epoch 4/100\n",
            "1213/1213 - 51s - 42ms/step - act_output_loss: 1.3451 - loss: 8.6076 - time_output_loss: 7.2621 - val_act_output_loss: 1.1562 - val_loss: 6.1454 - val_time_output_loss: 4.9855 - learning_rate: 0.0020\n",
            "Epoch 5/100\n",
            "1213/1213 - 73s - 60ms/step - act_output_loss: 1.5279 - loss: 8.7023 - time_output_loss: 7.1748 - val_act_output_loss: 1.1795 - val_loss: 5.9262 - val_time_output_loss: 4.7416 - learning_rate: 0.0020\n",
            "Epoch 6/100\n",
            "1213/1213 - 42s - 35ms/step - act_output_loss: 1.5913 - loss: 8.7971 - time_output_loss: 7.2049 - val_act_output_loss: 1.7222 - val_loss: 7.0878 - val_time_output_loss: 5.3548 - learning_rate: 0.0020\n",
            "Epoch 7/100\n",
            "1213/1213 - 80s - 66ms/step - act_output_loss: 1.8908 - loss: 9.0372 - time_output_loss: 7.1468 - val_act_output_loss: 1.3391 - val_loss: 6.3052 - val_time_output_loss: 4.9600 - learning_rate: 0.0020\n",
            "Epoch 8/100\n",
            "1213/1213 - 43s - 35ms/step - act_output_loss: 1.6338 - loss: 8.6176 - time_output_loss: 6.9840 - val_act_output_loss: 1.5326 - val_loss: 6.7794 - val_time_output_loss: 5.2467 - learning_rate: 0.0020\n",
            "Epoch 9/100\n",
            "1213/1213 - 80s - 66ms/step - act_output_loss: 1.9600 - loss: 9.0077 - time_output_loss: 7.0468 - val_act_output_loss: 1.4616 - val_loss: 6.4031 - val_time_output_loss: 4.9385 - learning_rate: 0.0020\n",
            "Epoch 10/100\n",
            "1213/1213 - 42s - 34ms/step - act_output_loss: 1.8744 - loss: 8.9623 - time_output_loss: 7.0872 - val_act_output_loss: 1.1943 - val_loss: 5.9360 - val_time_output_loss: 4.7364 - learning_rate: 0.0020\n",
            "Epoch 11/100\n",
            "1213/1213 - 40s - 33ms/step - act_output_loss: 1.7803 - loss: 8.7693 - time_output_loss: 6.9894 - val_act_output_loss: 1.2731 - val_loss: 6.1241 - val_time_output_loss: 4.8437 - learning_rate: 0.0020\n",
            "Epoch 12/100\n",
            "1213/1213 - 40s - 33ms/step - act_output_loss: 1.5773 - loss: 8.3718 - time_output_loss: 6.7947 - val_act_output_loss: 1.2371 - val_loss: 6.0191 - val_time_output_loss: 4.7768 - learning_rate: 0.0020\n",
            "Epoch 13/100\n",
            "1213/1213 - 41s - 34ms/step - act_output_loss: 1.5030 - loss: 8.4344 - time_output_loss: 6.9309 - val_act_output_loss: 1.1973 - val_loss: 7.8714 - val_time_output_loss: 6.6749 - learning_rate: 0.0020\n",
            "Epoch 14/100\n",
            "1213/1213 - 40s - 33ms/step - act_output_loss: 1.4980 - loss: 8.3552 - time_output_loss: 6.8582 - val_act_output_loss: 1.4371 - val_loss: 6.2233 - val_time_output_loss: 4.7810 - learning_rate: 0.0020\n",
            "Epoch 15/100\n",
            "1213/1213 - 41s - 33ms/step - act_output_loss: 1.7650 - loss: 8.7416 - time_output_loss: 6.9784 - val_act_output_loss: 1.3118 - val_loss: 6.0977 - val_time_output_loss: 4.7804 - learning_rate: 0.0020\n",
            "Epoch 16/100\n",
            "1213/1213 - 43s - 36ms/step - act_output_loss: 1.4855 - loss: 8.2101 - time_output_loss: 6.7286 - val_act_output_loss: 1.1884 - val_loss: 7.0996 - val_time_output_loss: 5.9102 - learning_rate: 1.0000e-03\n",
            "Epoch 17/100\n",
            "1213/1213 - 79s - 65ms/step - act_output_loss: 1.7080 - loss: 8.6159 - time_output_loss: 6.9088 - val_act_output_loss: 1.2201 - val_loss: 8.6379 - val_time_output_loss: 7.4179 - learning_rate: 1.0000e-03\n",
            "Epoch 18/100\n",
            "1213/1213 - 39s - 33ms/step - act_output_loss: 1.7351 - loss: 8.5369 - time_output_loss: 6.8008 - val_act_output_loss: 1.2605 - val_loss: 6.2060 - val_time_output_loss: 4.9421 - learning_rate: 1.0000e-03\n",
            "Epoch 19/100\n",
            "1213/1213 - 41s - 34ms/step - act_output_loss: 1.7068 - loss: 8.5349 - time_output_loss: 6.8282 - val_act_output_loss: 1.8730 - val_loss: 6.6883 - val_time_output_loss: 4.8093 - learning_rate: 1.0000e-03\n",
            "Epoch 20/100\n",
            "1213/1213 - 41s - 34ms/step - act_output_loss: 1.8067 - loss: 8.7427 - time_output_loss: 6.9347 - val_act_output_loss: 1.3498 - val_loss: 6.1559 - val_time_output_loss: 4.8029 - learning_rate: 1.0000e-03\n",
            "Epoch 21/100\n",
            "1213/1213 - 43s - 36ms/step - act_output_loss: 1.4962 - loss: 8.1904 - time_output_loss: 6.6946 - val_act_output_loss: 4.3966 - val_loss: 9.2600 - val_time_output_loss: 4.8553 - learning_rate: 1.0000e-03\n",
            "Epoch 22/100\n",
            "1213/1213 - 79s - 65ms/step - act_output_loss: 1.5522 - loss: 8.2996 - time_output_loss: 6.7482 - val_act_output_loss: 3.1392 - val_loss: 8.5148 - val_time_output_loss: 5.3720 - learning_rate: 1.0000e-03\n",
            "Epoch 23/100\n",
            "1213/1213 - 40s - 33ms/step - act_output_loss: 1.5246 - loss: 8.1629 - time_output_loss: 6.6383 - val_act_output_loss: 3.3729 - val_loss: 8.1808 - val_time_output_loss: 4.7983 - learning_rate: 1.0000e-03\n",
            "Epoch 24/100\n",
            "1213/1213 - 40s - 33ms/step - act_output_loss: 1.4591 - loss: 8.0757 - time_output_loss: 6.6162 - val_act_output_loss: 3.7178 - val_loss: 8.8240 - val_time_output_loss: 5.0927 - learning_rate: 1.0000e-03\n",
            "Epoch 25/100\n",
            "1213/1213 - 42s - 35ms/step - act_output_loss: 1.5247 - loss: 8.1351 - time_output_loss: 6.6100 - val_act_output_loss: 5.7025 - val_loss: 10.4989 - val_time_output_loss: 4.7879 - learning_rate: 1.0000e-03\n",
            "Epoch 26/100\n",
            "1213/1213 - 39s - 32ms/step - act_output_loss: 1.3951 - loss: 8.0421 - time_output_loss: 6.6467 - val_act_output_loss: 8.8128 - val_loss: 13.7075 - val_time_output_loss: 4.8783 - learning_rate: 5.0000e-04\n",
            "Epoch 27/100\n",
            "1213/1213 - 41s - 33ms/step - act_output_loss: 1.4966 - loss: 8.1176 - time_output_loss: 6.6221 - val_act_output_loss: 6.3438 - val_loss: 11.4023 - val_time_output_loss: 5.0445 - learning_rate: 5.0000e-04\n",
            "Epoch 28/100\n",
            "1213/1213 - 42s - 35ms/step - act_output_loss: 1.4578 - loss: 7.9609 - time_output_loss: 6.5018 - val_act_output_loss: 3.9149 - val_loss: 8.9581 - val_time_output_loss: 5.0402 - learning_rate: 5.0000e-04\n",
            "Epoch 29/100\n",
            "1213/1213 - 80s - 66ms/step - act_output_loss: 1.5373 - loss: 8.0649 - time_output_loss: 6.5264 - val_act_output_loss: 7.9713 - val_loss: 12.7909 - val_time_output_loss: 4.8056 - learning_rate: 5.0000e-04\n",
            "Epoch 30/100\n",
            "1213/1213 - 41s - 34ms/step - act_output_loss: 1.5495 - loss: 8.0201 - time_output_loss: 6.4697 - val_act_output_loss: 3.5852 - val_loss: 8.3520 - val_time_output_loss: 4.7582 - learning_rate: 5.0000e-04\n",
            "Epoch 31/100\n",
            "1213/1213 - 40s - 33ms/step - act_output_loss: 1.4839 - loss: 7.9576 - time_output_loss: 6.4737 - val_act_output_loss: 3.6346 - val_loss: 8.4911 - val_time_output_loss: 4.8464 - learning_rate: 5.0000e-04\n",
            "Epoch 32/100\n",
            "1213/1213 - 41s - 33ms/step - act_output_loss: 1.6345 - loss: 8.3045 - time_output_loss: 6.6692 - val_act_output_loss: 4.2275 - val_loss: 8.9711 - val_time_output_loss: 4.7314 - learning_rate: 5.0000e-04\n",
            "Epoch 33/100\n",
            "1213/1213 - 40s - 33ms/step - act_output_loss: 1.7591 - loss: 8.2453 - time_output_loss: 6.4863 - val_act_output_loss: 9.3286 - val_loss: 14.5883 - val_time_output_loss: 5.2347 - learning_rate: 5.0000e-04\n",
            "Epoch 34/100\n",
            "1213/1213 - 43s - 35ms/step - act_output_loss: 1.9858 - loss: 8.6144 - time_output_loss: 6.6325 - val_act_output_loss: 6.9633 - val_loss: 12.3329 - val_time_output_loss: 5.3531 - learning_rate: 5.0000e-04\n",
            "Epoch 35/100\n",
            "1213/1213 - 78s - 65ms/step - act_output_loss: 1.4945 - loss: 7.9914 - time_output_loss: 6.4969 - val_act_output_loss: 11.2276 - val_loss: 20.0634 - val_time_output_loss: 8.8102 - learning_rate: 5.0000e-04\n",
            "Epoch 36/100\n",
            "1213/1213 - 42s - 34ms/step - act_output_loss: 1.5416 - loss: 8.0236 - time_output_loss: 6.4814 - val_act_output_loss: 13.8523 - val_loss: 19.6105 - val_time_output_loss: 5.7740 - learning_rate: 2.5000e-04\n",
            "Epoch 37/100\n",
            "1213/1213 - 80s - 66ms/step - act_output_loss: 1.5425 - loss: 8.0405 - time_output_loss: 6.4969 - val_act_output_loss: 15.3924 - val_loss: 24.4796 - val_time_output_loss: 9.0801 - learning_rate: 2.5000e-04\n",
            "Epoch 38/100\n",
            "1213/1213 - 40s - 33ms/step - act_output_loss: 1.5359 - loss: 7.9280 - time_output_loss: 6.3951 - val_act_output_loss: 9.5951 - val_loss: 14.6744 - val_time_output_loss: 5.0578 - learning_rate: 2.5000e-04\n",
            "Epoch 39/100\n",
            "1213/1213 - 41s - 34ms/step - act_output_loss: 1.7052 - loss: 8.2593 - time_output_loss: 6.5556 - val_act_output_loss: 9.4102 - val_loss: 14.9410 - val_time_output_loss: 5.5153 - learning_rate: 2.5000e-04\n",
            "Epoch 40/100\n",
            "1213/1213 - 40s - 33ms/step - act_output_loss: 1.5729 - loss: 8.0236 - time_output_loss: 6.4510 - val_act_output_loss: 6.0742 - val_loss: 11.3470 - val_time_output_loss: 5.2514 - learning_rate: 2.5000e-04\n",
            "Epoch 41/100\n",
            "1213/1213 - 39s - 33ms/step - act_output_loss: 1.5371 - loss: 8.0251 - time_output_loss: 6.4904 - val_act_output_loss: 8.8443 - val_loss: 15.8089 - val_time_output_loss: 6.9509 - learning_rate: 2.5000e-04\n",
            "Epoch 42/100\n",
            "1213/1213 - 41s - 34ms/step - act_output_loss: 1.6153 - loss: 8.0696 - time_output_loss: 6.4539 - val_act_output_loss: 13.4845 - val_loss: 20.0941 - val_time_output_loss: 6.6244 - learning_rate: 2.5000e-04\n",
            "Epoch 43/100\n",
            "1213/1213 - 40s - 33ms/step - act_output_loss: 1.5856 - loss: 8.0396 - time_output_loss: 6.4548 - val_act_output_loss: 7.1031 - val_loss: 13.1670 - val_time_output_loss: 6.0449 - learning_rate: 2.5000e-04\n",
            "Epoch 44/100\n",
            "1213/1213 - 42s - 34ms/step - act_output_loss: 1.4902 - loss: 7.9909 - time_output_loss: 6.5034 - val_act_output_loss: 9.9162 - val_loss: 15.5673 - val_time_output_loss: 5.6448 - learning_rate: 2.5000e-04\n",
            "Epoch 45/100\n",
            "1213/1213 - 40s - 33ms/step - act_output_loss: 1.6244 - loss: 8.0398 - time_output_loss: 6.4162 - val_act_output_loss: 9.3790 - val_loss: 15.0340 - val_time_output_loss: 5.6418 - learning_rate: 2.5000e-04\n",
            "Epoch 46/100\n",
            "1213/1213 - 40s - 33ms/step - act_output_loss: 1.5467 - loss: 8.1142 - time_output_loss: 6.5677 - val_act_output_loss: 8.7463 - val_loss: 14.8505 - val_time_output_loss: 6.0885 - learning_rate: 1.2500e-04\n",
            "Epoch 47/100\n",
            "1213/1213 - 41s - 34ms/step - act_output_loss: 1.4543 - loss: 7.8606 - time_output_loss: 6.4056 - val_act_output_loss: 9.5691 - val_loss: 17.1126 - val_time_output_loss: 7.5259 - learning_rate: 1.2500e-04\n"
          ]
        },
        {
          "output_type": "execute_result",
          "data": {
            "text/plain": [
              "<keras.src.callbacks.history.History at 0x7f54e9ff0750>"
            ]
          },
          "metadata": {},
          "execution_count": 176
        }
      ],
      "source": [
        "model.fit(X_sequences, {'act_output':y_act, 'time_output':y_time}, validation_split=0.2, verbose=2, callbacks=[early_stopping, lr_reducer], batch_size=max_len, epochs=100)"
      ]
    },
    {
      "cell_type": "code",
      "execution_count": null,
      "metadata": {
        "id": "J-43WGjCZ4X-",
        "colab": {
          "base_uri": "https://localhost:8080/"
        },
        "outputId": "2f1ba16d-42b0-4cfc-e70e-93a7a76f503d"
      },
      "outputs": [
        {
          "output_type": "stream",
          "name": "stderr",
          "text": [
            "/usr/local/lib/python3.11/dist-packages/keras/src/models/functional.py:237: UserWarning: The structure of `inputs` doesn't match the expected structure.\n",
            "Expected: ['main_input']\n",
            "Received: inputs=Tensor(shape=(32, 14, 15))\n",
            "  warnings.warn(msg)\n"
          ]
        },
        {
          "output_type": "stream",
          "name": "stdout",
          "text": [
            "\u001b[1m663/664\u001b[0m \u001b[32m━━━━━━━━━━━━━━━━━━━\u001b[0m\u001b[37m━\u001b[0m \u001b[1m0s\u001b[0m 12ms/step"
          ]
        },
        {
          "output_type": "stream",
          "name": "stderr",
          "text": [
            "/usr/local/lib/python3.11/dist-packages/keras/src/models/functional.py:237: UserWarning: The structure of `inputs` doesn't match the expected structure.\n",
            "Expected: ['main_input']\n",
            "Received: inputs=Tensor(shape=(None, 14, 15))\n",
            "  warnings.warn(msg)\n"
          ]
        },
        {
          "output_type": "stream",
          "name": "stdout",
          "text": [
            "\u001b[1m664/664\u001b[0m \u001b[32m━━━━━━━━━━━━━━━━━━━━\u001b[0m\u001b[37m\u001b[0m \u001b[1m10s\u001b[0m 14ms/step\n"
          ]
        }
      ],
      "source": [
        "with mlflow.start_run(run_name=\"Activity Prediction Model\"):\n",
        "  model_info = mlflow.sklearn.log_model(\n",
        "          sk_model=model,\n",
        "          artifact_path=\"Prediction Model\",\n",
        "          input_example=X_sequences,\n",
        "          registered_model_name=\"Prediction-Model\",\n",
        "      )"
      ]
    }
  ],
  "metadata": {
    "colab": {
      "provenance": [],
      "authorship_tag": "ABX9TyMyc+KBQDsw+qjogwsntLjz",
      "include_colab_link": true
    },
    "kernelspec": {
      "display_name": "Python 3",
      "name": "python3"
    },
    "language_info": {
      "name": "python"
    }
  },
  "nbformat": 4,
  "nbformat_minor": 0
}