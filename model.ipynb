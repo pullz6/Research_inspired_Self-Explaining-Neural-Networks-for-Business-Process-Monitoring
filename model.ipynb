{
  "nbformat": 4,
  "nbformat_minor": 0,
  "metadata": {
    "colab": {
      "provenance": [],
      "authorship_tag": "ABX9TyNmu4JK1TM2XX/jIY956lcp",
      "include_colab_link": true
    },
    "kernelspec": {
      "name": "python3",
      "display_name": "Python 3"
    },
    "language_info": {
      "name": "python"
    }
  },
  "cells": [
    {
      "cell_type": "markdown",
      "metadata": {
        "id": "view-in-github",
        "colab_type": "text"
      },
      "source": [
        "<a href=\"https://colab.research.google.com/github/pullz6/Research_inspired_Self-Explaining-Neural-Networks-for-Business-Process-Monitoring/blob/main/model.ipynb\" target=\"_parent\"><img src=\"https://colab.research.google.com/assets/colab-badge.svg\" alt=\"Open In Colab\"/></a>"
      ]
    },
    {
      "cell_type": "markdown",
      "source": [
        "Importing libraries"
      ],
      "metadata": {
        "id": "wYatBYQZwpuq"
      }
    },
    {
      "cell_type": "code",
      "execution_count": 5,
      "metadata": {
        "id": "-B8PcWK2oa7m"
      },
      "outputs": [],
      "source": [
        "#Importing libraries\n",
        "import pandas as pd\n",
        "import numpy as np\n",
        "from matplotlib import pyplot as plt\n",
        "import datetime\n",
        "from sklearn.preprocessing import MinMaxScaler"
      ]
    },
    {
      "cell_type": "code",
      "source": [
        "df = pd.read_csv(\"Helpdesk.csv\")"
      ],
      "metadata": {
        "id": "CV_9Vyi1g5LM"
      },
      "execution_count": 6,
      "outputs": []
    },
    {
      "cell_type": "code",
      "source": [
        "df.head()"
      ],
      "metadata": {
        "colab": {
          "base_uri": "https://localhost:8080/",
          "height": 348
        },
        "id": "AOrW9j5FQrAV",
        "outputId": "1d329ad5-f8ab-4e09-ba33-83390adc5889"
      },
      "execution_count": null,
      "outputs": [
        {
          "output_type": "execute_result",
          "data": {
            "text/plain": [
              "            concept:name lifecycle:transition org:resource  \\\n",
              "0     Assign seriousness             complete      Value 2   \n",
              "1  Take in charge ticket             complete      Value 2   \n",
              "2         Resolve ticket             complete      Value 2   \n",
              "3                 Closed             complete      Value 5   \n",
              "4                 Closed             complete      Value 5   \n",
              "\n",
              "              time:timestamp               Activity Resource  \\\n",
              "0  2010-01-13 08:40:25+02:00     Assign seriousness  Value 2   \n",
              "1  2010-01-29 08:52:27+02:00  Take in charge ticket  Value 2   \n",
              "2  2010-01-29 08:52:34+02:00         Resolve ticket  Value 2   \n",
              "3  2010-02-13 08:52:48+02:00                 Closed  Value 5   \n",
              "4  2010-02-13 08:52:48+02:00                 Closed  Value 5   \n",
              "\n",
              "  case:concept:name case:variant  case:variant-index    case:creator  \n",
              "0          Case3608   Variant 33                  33  Fluxicon Disco  \n",
              "1          Case3608   Variant 33                  33  Fluxicon Disco  \n",
              "2          Case3608   Variant 33                  33  Fluxicon Disco  \n",
              "3          Case3608   Variant 33                  33  Fluxicon Disco  \n",
              "4          Case3608   Variant 33                  33  Fluxicon Disco  "
            ],
            "text/html": [
              "\n",
              "  <div id=\"df-3a0dc7b4-95e5-4861-8b54-fbaa0f073d84\" class=\"colab-df-container\">\n",
              "    <div>\n",
              "<style scoped>\n",
              "    .dataframe tbody tr th:only-of-type {\n",
              "        vertical-align: middle;\n",
              "    }\n",
              "\n",
              "    .dataframe tbody tr th {\n",
              "        vertical-align: top;\n",
              "    }\n",
              "\n",
              "    .dataframe thead th {\n",
              "        text-align: right;\n",
              "    }\n",
              "</style>\n",
              "<table border=\"1\" class=\"dataframe\">\n",
              "  <thead>\n",
              "    <tr style=\"text-align: right;\">\n",
              "      <th></th>\n",
              "      <th>concept:name</th>\n",
              "      <th>lifecycle:transition</th>\n",
              "      <th>org:resource</th>\n",
              "      <th>time:timestamp</th>\n",
              "      <th>Activity</th>\n",
              "      <th>Resource</th>\n",
              "      <th>case:concept:name</th>\n",
              "      <th>case:variant</th>\n",
              "      <th>case:variant-index</th>\n",
              "      <th>case:creator</th>\n",
              "    </tr>\n",
              "  </thead>\n",
              "  <tbody>\n",
              "    <tr>\n",
              "      <th>0</th>\n",
              "      <td>Assign seriousness</td>\n",
              "      <td>complete</td>\n",
              "      <td>Value 2</td>\n",
              "      <td>2010-01-13 08:40:25+02:00</td>\n",
              "      <td>Assign seriousness</td>\n",
              "      <td>Value 2</td>\n",
              "      <td>Case3608</td>\n",
              "      <td>Variant 33</td>\n",
              "      <td>33</td>\n",
              "      <td>Fluxicon Disco</td>\n",
              "    </tr>\n",
              "    <tr>\n",
              "      <th>1</th>\n",
              "      <td>Take in charge ticket</td>\n",
              "      <td>complete</td>\n",
              "      <td>Value 2</td>\n",
              "      <td>2010-01-29 08:52:27+02:00</td>\n",
              "      <td>Take in charge ticket</td>\n",
              "      <td>Value 2</td>\n",
              "      <td>Case3608</td>\n",
              "      <td>Variant 33</td>\n",
              "      <td>33</td>\n",
              "      <td>Fluxicon Disco</td>\n",
              "    </tr>\n",
              "    <tr>\n",
              "      <th>2</th>\n",
              "      <td>Resolve ticket</td>\n",
              "      <td>complete</td>\n",
              "      <td>Value 2</td>\n",
              "      <td>2010-01-29 08:52:34+02:00</td>\n",
              "      <td>Resolve ticket</td>\n",
              "      <td>Value 2</td>\n",
              "      <td>Case3608</td>\n",
              "      <td>Variant 33</td>\n",
              "      <td>33</td>\n",
              "      <td>Fluxicon Disco</td>\n",
              "    </tr>\n",
              "    <tr>\n",
              "      <th>3</th>\n",
              "      <td>Closed</td>\n",
              "      <td>complete</td>\n",
              "      <td>Value 5</td>\n",
              "      <td>2010-02-13 08:52:48+02:00</td>\n",
              "      <td>Closed</td>\n",
              "      <td>Value 5</td>\n",
              "      <td>Case3608</td>\n",
              "      <td>Variant 33</td>\n",
              "      <td>33</td>\n",
              "      <td>Fluxicon Disco</td>\n",
              "    </tr>\n",
              "    <tr>\n",
              "      <th>4</th>\n",
              "      <td>Closed</td>\n",
              "      <td>complete</td>\n",
              "      <td>Value 5</td>\n",
              "      <td>2010-02-13 08:52:48+02:00</td>\n",
              "      <td>Closed</td>\n",
              "      <td>Value 5</td>\n",
              "      <td>Case3608</td>\n",
              "      <td>Variant 33</td>\n",
              "      <td>33</td>\n",
              "      <td>Fluxicon Disco</td>\n",
              "    </tr>\n",
              "  </tbody>\n",
              "</table>\n",
              "</div>\n",
              "    <div class=\"colab-df-buttons\">\n",
              "\n",
              "  <div class=\"colab-df-container\">\n",
              "    <button class=\"colab-df-convert\" onclick=\"convertToInteractive('df-3a0dc7b4-95e5-4861-8b54-fbaa0f073d84')\"\n",
              "            title=\"Convert this dataframe to an interactive table.\"\n",
              "            style=\"display:none;\">\n",
              "\n",
              "  <svg xmlns=\"http://www.w3.org/2000/svg\" height=\"24px\" viewBox=\"0 -960 960 960\">\n",
              "    <path d=\"M120-120v-720h720v720H120Zm60-500h600v-160H180v160Zm220 220h160v-160H400v160Zm0 220h160v-160H400v160ZM180-400h160v-160H180v160Zm440 0h160v-160H620v160ZM180-180h160v-160H180v160Zm440 0h160v-160H620v160Z\"/>\n",
              "  </svg>\n",
              "    </button>\n",
              "\n",
              "  <style>\n",
              "    .colab-df-container {\n",
              "      display:flex;\n",
              "      gap: 12px;\n",
              "    }\n",
              "\n",
              "    .colab-df-convert {\n",
              "      background-color: #E8F0FE;\n",
              "      border: none;\n",
              "      border-radius: 50%;\n",
              "      cursor: pointer;\n",
              "      display: none;\n",
              "      fill: #1967D2;\n",
              "      height: 32px;\n",
              "      padding: 0 0 0 0;\n",
              "      width: 32px;\n",
              "    }\n",
              "\n",
              "    .colab-df-convert:hover {\n",
              "      background-color: #E2EBFA;\n",
              "      box-shadow: 0px 1px 2px rgba(60, 64, 67, 0.3), 0px 1px 3px 1px rgba(60, 64, 67, 0.15);\n",
              "      fill: #174EA6;\n",
              "    }\n",
              "\n",
              "    .colab-df-buttons div {\n",
              "      margin-bottom: 4px;\n",
              "    }\n",
              "\n",
              "    [theme=dark] .colab-df-convert {\n",
              "      background-color: #3B4455;\n",
              "      fill: #D2E3FC;\n",
              "    }\n",
              "\n",
              "    [theme=dark] .colab-df-convert:hover {\n",
              "      background-color: #434B5C;\n",
              "      box-shadow: 0px 1px 3px 1px rgba(0, 0, 0, 0.15);\n",
              "      filter: drop-shadow(0px 1px 2px rgba(0, 0, 0, 0.3));\n",
              "      fill: #FFFFFF;\n",
              "    }\n",
              "  </style>\n",
              "\n",
              "    <script>\n",
              "      const buttonEl =\n",
              "        document.querySelector('#df-3a0dc7b4-95e5-4861-8b54-fbaa0f073d84 button.colab-df-convert');\n",
              "      buttonEl.style.display =\n",
              "        google.colab.kernel.accessAllowed ? 'block' : 'none';\n",
              "\n",
              "      async function convertToInteractive(key) {\n",
              "        const element = document.querySelector('#df-3a0dc7b4-95e5-4861-8b54-fbaa0f073d84');\n",
              "        const dataTable =\n",
              "          await google.colab.kernel.invokeFunction('convertToInteractive',\n",
              "                                                    [key], {});\n",
              "        if (!dataTable) return;\n",
              "\n",
              "        const docLinkHtml = 'Like what you see? Visit the ' +\n",
              "          '<a target=\"_blank\" href=https://colab.research.google.com/notebooks/data_table.ipynb>data table notebook</a>'\n",
              "          + ' to learn more about interactive tables.';\n",
              "        element.innerHTML = '';\n",
              "        dataTable['output_type'] = 'display_data';\n",
              "        await google.colab.output.renderOutput(dataTable, element);\n",
              "        const docLink = document.createElement('div');\n",
              "        docLink.innerHTML = docLinkHtml;\n",
              "        element.appendChild(docLink);\n",
              "      }\n",
              "    </script>\n",
              "  </div>\n",
              "\n",
              "\n",
              "<div id=\"df-ec901090-2e79-47ef-8480-4b010f180559\">\n",
              "  <button class=\"colab-df-quickchart\" onclick=\"quickchart('df-ec901090-2e79-47ef-8480-4b010f180559')\"\n",
              "            title=\"Suggest charts\"\n",
              "            style=\"display:none;\">\n",
              "\n",
              "<svg xmlns=\"http://www.w3.org/2000/svg\" height=\"24px\"viewBox=\"0 0 24 24\"\n",
              "     width=\"24px\">\n",
              "    <g>\n",
              "        <path d=\"M19 3H5c-1.1 0-2 .9-2 2v14c0 1.1.9 2 2 2h14c1.1 0 2-.9 2-2V5c0-1.1-.9-2-2-2zM9 17H7v-7h2v7zm4 0h-2V7h2v10zm4 0h-2v-4h2v4z\"/>\n",
              "    </g>\n",
              "</svg>\n",
              "  </button>\n",
              "\n",
              "<style>\n",
              "  .colab-df-quickchart {\n",
              "      --bg-color: #E8F0FE;\n",
              "      --fill-color: #1967D2;\n",
              "      --hover-bg-color: #E2EBFA;\n",
              "      --hover-fill-color: #174EA6;\n",
              "      --disabled-fill-color: #AAA;\n",
              "      --disabled-bg-color: #DDD;\n",
              "  }\n",
              "\n",
              "  [theme=dark] .colab-df-quickchart {\n",
              "      --bg-color: #3B4455;\n",
              "      --fill-color: #D2E3FC;\n",
              "      --hover-bg-color: #434B5C;\n",
              "      --hover-fill-color: #FFFFFF;\n",
              "      --disabled-bg-color: #3B4455;\n",
              "      --disabled-fill-color: #666;\n",
              "  }\n",
              "\n",
              "  .colab-df-quickchart {\n",
              "    background-color: var(--bg-color);\n",
              "    border: none;\n",
              "    border-radius: 50%;\n",
              "    cursor: pointer;\n",
              "    display: none;\n",
              "    fill: var(--fill-color);\n",
              "    height: 32px;\n",
              "    padding: 0;\n",
              "    width: 32px;\n",
              "  }\n",
              "\n",
              "  .colab-df-quickchart:hover {\n",
              "    background-color: var(--hover-bg-color);\n",
              "    box-shadow: 0 1px 2px rgba(60, 64, 67, 0.3), 0 1px 3px 1px rgba(60, 64, 67, 0.15);\n",
              "    fill: var(--button-hover-fill-color);\n",
              "  }\n",
              "\n",
              "  .colab-df-quickchart-complete:disabled,\n",
              "  .colab-df-quickchart-complete:disabled:hover {\n",
              "    background-color: var(--disabled-bg-color);\n",
              "    fill: var(--disabled-fill-color);\n",
              "    box-shadow: none;\n",
              "  }\n",
              "\n",
              "  .colab-df-spinner {\n",
              "    border: 2px solid var(--fill-color);\n",
              "    border-color: transparent;\n",
              "    border-bottom-color: var(--fill-color);\n",
              "    animation:\n",
              "      spin 1s steps(1) infinite;\n",
              "  }\n",
              "\n",
              "  @keyframes spin {\n",
              "    0% {\n",
              "      border-color: transparent;\n",
              "      border-bottom-color: var(--fill-color);\n",
              "      border-left-color: var(--fill-color);\n",
              "    }\n",
              "    20% {\n",
              "      border-color: transparent;\n",
              "      border-left-color: var(--fill-color);\n",
              "      border-top-color: var(--fill-color);\n",
              "    }\n",
              "    30% {\n",
              "      border-color: transparent;\n",
              "      border-left-color: var(--fill-color);\n",
              "      border-top-color: var(--fill-color);\n",
              "      border-right-color: var(--fill-color);\n",
              "    }\n",
              "    40% {\n",
              "      border-color: transparent;\n",
              "      border-right-color: var(--fill-color);\n",
              "      border-top-color: var(--fill-color);\n",
              "    }\n",
              "    60% {\n",
              "      border-color: transparent;\n",
              "      border-right-color: var(--fill-color);\n",
              "    }\n",
              "    80% {\n",
              "      border-color: transparent;\n",
              "      border-right-color: var(--fill-color);\n",
              "      border-bottom-color: var(--fill-color);\n",
              "    }\n",
              "    90% {\n",
              "      border-color: transparent;\n",
              "      border-bottom-color: var(--fill-color);\n",
              "    }\n",
              "  }\n",
              "</style>\n",
              "\n",
              "  <script>\n",
              "    async function quickchart(key) {\n",
              "      const quickchartButtonEl =\n",
              "        document.querySelector('#' + key + ' button');\n",
              "      quickchartButtonEl.disabled = true;  // To prevent multiple clicks.\n",
              "      quickchartButtonEl.classList.add('colab-df-spinner');\n",
              "      try {\n",
              "        const charts = await google.colab.kernel.invokeFunction(\n",
              "            'suggestCharts', [key], {});\n",
              "      } catch (error) {\n",
              "        console.error('Error during call to suggestCharts:', error);\n",
              "      }\n",
              "      quickchartButtonEl.classList.remove('colab-df-spinner');\n",
              "      quickchartButtonEl.classList.add('colab-df-quickchart-complete');\n",
              "    }\n",
              "    (() => {\n",
              "      let quickchartButtonEl =\n",
              "        document.querySelector('#df-ec901090-2e79-47ef-8480-4b010f180559 button');\n",
              "      quickchartButtonEl.style.display =\n",
              "        google.colab.kernel.accessAllowed ? 'block' : 'none';\n",
              "    })();\n",
              "  </script>\n",
              "</div>\n",
              "\n",
              "    </div>\n",
              "  </div>\n"
            ],
            "application/vnd.google.colaboratory.intrinsic+json": {
              "type": "dataframe",
              "variable_name": "df",
              "summary": "{\n  \"name\": \"df\",\n  \"rows\": 21348,\n  \"fields\": [\n    {\n      \"column\": \"concept:name\",\n      \"properties\": {\n        \"dtype\": \"category\",\n        \"num_unique_values\": 14,\n        \"samples\": [\n          \"INVALID\",\n          \"Resolve SW anomaly\",\n          \"Assign seriousness\"\n        ],\n        \"semantic_type\": \"\",\n        \"description\": \"\"\n      }\n    },\n    {\n      \"column\": \"lifecycle:transition\",\n      \"properties\": {\n        \"dtype\": \"category\",\n        \"num_unique_values\": 1,\n        \"samples\": [\n          \"complete\"\n        ],\n        \"semantic_type\": \"\",\n        \"description\": \"\"\n      }\n    },\n    {\n      \"column\": \"org:resource\",\n      \"properties\": {\n        \"dtype\": \"category\",\n        \"num_unique_values\": 22,\n        \"samples\": [\n          \"Value 2\"\n        ],\n        \"semantic_type\": \"\",\n        \"description\": \"\"\n      }\n    },\n    {\n      \"column\": \"time:timestamp\",\n      \"properties\": {\n        \"dtype\": \"object\",\n        \"num_unique_values\": 21157,\n        \"samples\": [\n          \"2012-03-05 13:29:12+02:00\"\n        ],\n        \"semantic_type\": \"\",\n        \"description\": \"\"\n      }\n    },\n    {\n      \"column\": \"Activity\",\n      \"properties\": {\n        \"dtype\": \"category\",\n        \"num_unique_values\": 14,\n        \"samples\": [\n          \"INVALID\"\n        ],\n        \"semantic_type\": \"\",\n        \"description\": \"\"\n      }\n    },\n    {\n      \"column\": \"Resource\",\n      \"properties\": {\n        \"dtype\": \"category\",\n        \"num_unique_values\": 22,\n        \"samples\": [\n          \"Value 2\"\n        ],\n        \"semantic_type\": \"\",\n        \"description\": \"\"\n      }\n    },\n    {\n      \"column\": \"case:concept:name\",\n      \"properties\": {\n        \"dtype\": \"category\",\n        \"num_unique_values\": 4580,\n        \"samples\": [\n          \"Case3315\"\n        ],\n        \"semantic_type\": \"\",\n        \"description\": \"\"\n      }\n    },\n    {\n      \"column\": \"case:variant\",\n      \"properties\": {\n        \"dtype\": \"category\",\n        \"num_unique_values\": 226,\n        \"samples\": [\n          \"Variant 19\"\n        ],\n        \"semantic_type\": \"\",\n        \"description\": \"\"\n      }\n    },\n    {\n      \"column\": \"case:variant-index\",\n      \"properties\": {\n        \"dtype\": \"number\",\n        \"std\": 36,\n        \"min\": 1,\n        \"max\": 226,\n        \"num_unique_values\": 226,\n        \"samples\": [\n          19\n        ],\n        \"semantic_type\": \"\",\n        \"description\": \"\"\n      }\n    },\n    {\n      \"column\": \"case:creator\",\n      \"properties\": {\n        \"dtype\": \"category\",\n        \"num_unique_values\": 1,\n        \"samples\": [\n          \"Fluxicon Disco\"\n        ],\n        \"semantic_type\": \"\",\n        \"description\": \"\"\n      }\n    }\n  ]\n}"
            }
          },
          "metadata": {},
          "execution_count": 242
        }
      ]
    },
    {
      "cell_type": "code",
      "source": [
        "df.info()"
      ],
      "metadata": {
        "colab": {
          "base_uri": "https://localhost:8080/"
        },
        "id": "0-Uz6zUfSdJs",
        "outputId": "e6021e74-f400-4ed9-dd80-3fe1cd050f5b"
      },
      "execution_count": null,
      "outputs": [
        {
          "output_type": "stream",
          "name": "stdout",
          "text": [
            "<class 'pandas.core.frame.DataFrame'>\n",
            "RangeIndex: 21348 entries, 0 to 21347\n",
            "Data columns (total 10 columns):\n",
            " #   Column                Non-Null Count  Dtype \n",
            "---  ------                --------------  ----- \n",
            " 0   concept:name          21348 non-null  object\n",
            " 1   lifecycle:transition  21348 non-null  object\n",
            " 2   org:resource          21348 non-null  object\n",
            " 3   time:timestamp        21348 non-null  object\n",
            " 4   Activity              21348 non-null  object\n",
            " 5   Resource              21348 non-null  object\n",
            " 6   case:concept:name     21348 non-null  object\n",
            " 7   case:variant          21348 non-null  object\n",
            " 8   case:variant-index    21348 non-null  int64 \n",
            " 9   case:creator          21348 non-null  object\n",
            "dtypes: int64(1), object(9)\n",
            "memory usage: 1.6+ MB\n"
          ]
        }
      ]
    },
    {
      "cell_type": "code",
      "source": [
        "df.drop_duplicates(inplace=True)"
      ],
      "metadata": {
        "id": "JbkK2HkF4Hib"
      },
      "execution_count": null,
      "outputs": []
    },
    {
      "cell_type": "code",
      "source": [
        "df['time:timestamp'] = pd.to_datetime(df['time:timestamp'], format='ISO8601')"
      ],
      "metadata": {
        "colab": {
          "base_uri": "https://localhost:8080/"
        },
        "id": "4JFawb9qj5Zg",
        "outputId": "91981b74-6ec4-4c1c-d7d5-dc280dafbf4d"
      },
      "execution_count": null,
      "outputs": [
        {
          "output_type": "stream",
          "name": "stderr",
          "text": [
            "<ipython-input-245-97bac535b9d0>:1: FutureWarning: In a future version of pandas, parsing datetimes with mixed time zones will raise an error unless `utc=True`. Please specify `utc=True` to opt in to the new behaviour and silence this warning. To create a `Series` with mixed offsets and `object` dtype, please use `apply` and `datetime.datetime.strptime`\n",
            "  df['time:timestamp'] = pd.to_datetime(df['time:timestamp'], format='ISO8601')\n"
          ]
        }
      ]
    },
    {
      "cell_type": "code",
      "source": [
        "df.info()"
      ],
      "metadata": {
        "colab": {
          "base_uri": "https://localhost:8080/"
        },
        "id": "Hg62JTLhkEU9",
        "outputId": "3f7fded8-4583-46cc-c378-0fa03c0e68fe"
      },
      "execution_count": null,
      "outputs": [
        {
          "output_type": "stream",
          "name": "stdout",
          "text": [
            "<class 'pandas.core.frame.DataFrame'>\n",
            "Index: 21221 entries, 0 to 21347\n",
            "Data columns (total 10 columns):\n",
            " #   Column                Non-Null Count  Dtype \n",
            "---  ------                --------------  ----- \n",
            " 0   concept:name          21221 non-null  object\n",
            " 1   lifecycle:transition  21221 non-null  object\n",
            " 2   org:resource          21221 non-null  object\n",
            " 3   time:timestamp        21221 non-null  object\n",
            " 4   Activity              21221 non-null  object\n",
            " 5   Resource              21221 non-null  object\n",
            " 6   case:concept:name     21221 non-null  object\n",
            " 7   case:variant          21221 non-null  object\n",
            " 8   case:variant-index    21221 non-null  int64 \n",
            " 9   case:creator          21221 non-null  object\n",
            "dtypes: int64(1), object(9)\n",
            "memory usage: 1.8+ MB\n"
          ]
        }
      ]
    },
    {
      "cell_type": "code",
      "source": [
        "df['new_date'] = [d.date() for d in df['time:timestamp']]\n",
        "df['new_time'] = [d.time() for d in df['time:timestamp']]"
      ],
      "metadata": {
        "id": "Zm55sepqmRgb"
      },
      "execution_count": null,
      "outputs": []
    },
    {
      "cell_type": "code",
      "source": [
        "df['time_lapsed'] = df.groupby('case:concept:name')['time:timestamp'].transform('min')"
      ],
      "metadata": {
        "id": "VUrCL5Rw1FMU"
      },
      "execution_count": null,
      "outputs": []
    },
    {
      "cell_type": "code",
      "source": [
        "df['time_lapsed'] = df['time:timestamp'] - df['time_lapsed']"
      ],
      "metadata": {
        "id": "AuF-HQZ_1wJF"
      },
      "execution_count": null,
      "outputs": []
    },
    {
      "cell_type": "code",
      "source": [
        "df['concept:name'].unique()"
      ],
      "metadata": {
        "colab": {
          "base_uri": "https://localhost:8080/"
        },
        "id": "lHGFvfTCSpvo",
        "outputId": "f97e382e-d85b-4c32-d9ff-4849f9e22c01"
      },
      "execution_count": null,
      "outputs": [
        {
          "output_type": "execute_result",
          "data": {
            "text/plain": [
              "array(['Assign seriousness', 'Take in charge ticket', 'Resolve ticket',\n",
              "       'Closed', 'Wait', 'Create SW anomaly', 'Insert ticket',\n",
              "       'Schedule intervention', 'RESOLVED', 'INVALID', 'VERIFIED',\n",
              "       'Resolve SW anomaly', 'Require upgrade', 'DUPLICATE'], dtype=object)"
            ]
          },
          "metadata": {},
          "execution_count": 250
        }
      ]
    },
    {
      "cell_type": "code",
      "source": [
        "#Checking if we can concept:name and activity is the same as well as the org:resource and the resource, so that we can delete this feild.\n",
        "df['Checker_1'] = (df['concept:name'] == df['Activity'])\n",
        "df['Checker_2'] = (df['org:resource'] == df['Resource'])"
      ],
      "metadata": {
        "id": "Z2psnS59vJmd"
      },
      "execution_count": null,
      "outputs": []
    },
    {
      "cell_type": "code",
      "source": [
        "#Let's see if it all the same, if True.\n",
        "df['Checker_2'].unique()"
      ],
      "metadata": {
        "colab": {
          "base_uri": "https://localhost:8080/"
        },
        "id": "TGBxcA7gvasP",
        "outputId": "3d8aa5b4-60cf-43b2-9696-21967a185c51"
      },
      "execution_count": null,
      "outputs": [
        {
          "output_type": "execute_result",
          "data": {
            "text/plain": [
              "array([ True])"
            ]
          },
          "metadata": {},
          "execution_count": 252
        }
      ]
    },
    {
      "cell_type": "code",
      "source": [
        "#Lets drop it since it is the same\n",
        "df.drop(['concept:name','org:resource','Checker_1','Checker_2','case:creator','time:timestamp','lifecycle:transition'],axis=1, inplace=True)"
      ],
      "metadata": {
        "id": "zV9knXrMvzBh"
      },
      "execution_count": null,
      "outputs": []
    },
    {
      "cell_type": "code",
      "source": [
        "#Lets create a stage number for each activity stage of the help desk, this will help us easily identify where the case is in terms of the process\n",
        "\n",
        "#This is also to immulate the label encoder\n",
        "#First create a dataframe with stage numbers and the stage names\n",
        "stage = pd.DataFrame()\n",
        "stage['Stage_no'] = [1,2,3,4,5,6,7,8,9,9.1,9.2,10]\n",
        "stage['Activity'] = ['Insert ticket','Assign seriousness','Take in charge ticket','Wait','Require upgrade','Schedule intervention','Resolve ticket','VERIFIED','RESOLVED','INVALID', 'DUPLICATE','Closed']"
      ],
      "metadata": {
        "id": "13H7KSE_0aCp"
      },
      "execution_count": null,
      "outputs": []
    },
    {
      "cell_type": "code",
      "source": [
        "df=pd.merge(df,stage,on='Activity', how='left')"
      ],
      "metadata": {
        "id": "GvJlYuK_1bFG"
      },
      "execution_count": null,
      "outputs": []
    },
    {
      "cell_type": "code",
      "source": [
        "df.info()"
      ],
      "metadata": {
        "colab": {
          "base_uri": "https://localhost:8080/"
        },
        "id": "mDQ-t3nr1xhh",
        "outputId": "c9766231-afbd-49db-cbc2-56277292c93b"
      },
      "execution_count": null,
      "outputs": [
        {
          "output_type": "stream",
          "name": "stdout",
          "text": [
            "<class 'pandas.core.frame.DataFrame'>\n",
            "RangeIndex: 21221 entries, 0 to 21220\n",
            "Data columns (total 9 columns):\n",
            " #   Column              Non-Null Count  Dtype  \n",
            "---  ------              --------------  -----  \n",
            " 0   Activity            21221 non-null  object \n",
            " 1   Resource            21221 non-null  object \n",
            " 2   case:concept:name   21221 non-null  object \n",
            " 3   case:variant        21221 non-null  object \n",
            " 4   case:variant-index  21221 non-null  int64  \n",
            " 5   new_date            21221 non-null  object \n",
            " 6   new_time            21221 non-null  object \n",
            " 7   time_lapsed         21221 non-null  object \n",
            " 8   Stage_no            21142 non-null  float64\n",
            "dtypes: float64(1), int64(1), object(7)\n",
            "memory usage: 1.5+ MB\n"
          ]
        }
      ]
    },
    {
      "cell_type": "code",
      "source": [
        "df.head()"
      ],
      "metadata": {
        "colab": {
          "base_uri": "https://localhost:8080/",
          "height": 348
        },
        "id": "grdJOf-kwBg4",
        "outputId": "2953446d-3058-42de-b077-0a982d34b075"
      },
      "execution_count": null,
      "outputs": [
        {
          "output_type": "execute_result",
          "data": {
            "text/plain": [
              "                Activity Resource case:concept:name case:variant  \\\n",
              "0     Assign seriousness  Value 2          Case3608   Variant 33   \n",
              "1  Take in charge ticket  Value 2          Case3608   Variant 33   \n",
              "2         Resolve ticket  Value 2          Case3608   Variant 33   \n",
              "3                 Closed  Value 5          Case3608   Variant 33   \n",
              "4     Assign seriousness  Value 2          Case2748    Variant 1   \n",
              "\n",
              "   case:variant-index    new_date  new_time       time_lapsed  Stage_no  \n",
              "0                  33  2010-01-13  08:40:25   0 days 00:00:00       2.0  \n",
              "1                  33  2010-01-29  08:52:27  16 days 00:12:02       3.0  \n",
              "2                  33  2010-01-29  08:52:34  16 days 00:12:09       7.0  \n",
              "3                  33  2010-02-13  08:52:48  31 days 00:12:23      10.0  \n",
              "4                   1  2010-01-13  12:26:04   0 days 00:00:00       2.0  "
            ],
            "text/html": [
              "\n",
              "  <div id=\"df-fb763b35-e2aa-4a8f-aeb1-c234df21e773\" class=\"colab-df-container\">\n",
              "    <div>\n",
              "<style scoped>\n",
              "    .dataframe tbody tr th:only-of-type {\n",
              "        vertical-align: middle;\n",
              "    }\n",
              "\n",
              "    .dataframe tbody tr th {\n",
              "        vertical-align: top;\n",
              "    }\n",
              "\n",
              "    .dataframe thead th {\n",
              "        text-align: right;\n",
              "    }\n",
              "</style>\n",
              "<table border=\"1\" class=\"dataframe\">\n",
              "  <thead>\n",
              "    <tr style=\"text-align: right;\">\n",
              "      <th></th>\n",
              "      <th>Activity</th>\n",
              "      <th>Resource</th>\n",
              "      <th>case:concept:name</th>\n",
              "      <th>case:variant</th>\n",
              "      <th>case:variant-index</th>\n",
              "      <th>new_date</th>\n",
              "      <th>new_time</th>\n",
              "      <th>time_lapsed</th>\n",
              "      <th>Stage_no</th>\n",
              "    </tr>\n",
              "  </thead>\n",
              "  <tbody>\n",
              "    <tr>\n",
              "      <th>0</th>\n",
              "      <td>Assign seriousness</td>\n",
              "      <td>Value 2</td>\n",
              "      <td>Case3608</td>\n",
              "      <td>Variant 33</td>\n",
              "      <td>33</td>\n",
              "      <td>2010-01-13</td>\n",
              "      <td>08:40:25</td>\n",
              "      <td>0 days 00:00:00</td>\n",
              "      <td>2.0</td>\n",
              "    </tr>\n",
              "    <tr>\n",
              "      <th>1</th>\n",
              "      <td>Take in charge ticket</td>\n",
              "      <td>Value 2</td>\n",
              "      <td>Case3608</td>\n",
              "      <td>Variant 33</td>\n",
              "      <td>33</td>\n",
              "      <td>2010-01-29</td>\n",
              "      <td>08:52:27</td>\n",
              "      <td>16 days 00:12:02</td>\n",
              "      <td>3.0</td>\n",
              "    </tr>\n",
              "    <tr>\n",
              "      <th>2</th>\n",
              "      <td>Resolve ticket</td>\n",
              "      <td>Value 2</td>\n",
              "      <td>Case3608</td>\n",
              "      <td>Variant 33</td>\n",
              "      <td>33</td>\n",
              "      <td>2010-01-29</td>\n",
              "      <td>08:52:34</td>\n",
              "      <td>16 days 00:12:09</td>\n",
              "      <td>7.0</td>\n",
              "    </tr>\n",
              "    <tr>\n",
              "      <th>3</th>\n",
              "      <td>Closed</td>\n",
              "      <td>Value 5</td>\n",
              "      <td>Case3608</td>\n",
              "      <td>Variant 33</td>\n",
              "      <td>33</td>\n",
              "      <td>2010-02-13</td>\n",
              "      <td>08:52:48</td>\n",
              "      <td>31 days 00:12:23</td>\n",
              "      <td>10.0</td>\n",
              "    </tr>\n",
              "    <tr>\n",
              "      <th>4</th>\n",
              "      <td>Assign seriousness</td>\n",
              "      <td>Value 2</td>\n",
              "      <td>Case2748</td>\n",
              "      <td>Variant 1</td>\n",
              "      <td>1</td>\n",
              "      <td>2010-01-13</td>\n",
              "      <td>12:26:04</td>\n",
              "      <td>0 days 00:00:00</td>\n",
              "      <td>2.0</td>\n",
              "    </tr>\n",
              "  </tbody>\n",
              "</table>\n",
              "</div>\n",
              "    <div class=\"colab-df-buttons\">\n",
              "\n",
              "  <div class=\"colab-df-container\">\n",
              "    <button class=\"colab-df-convert\" onclick=\"convertToInteractive('df-fb763b35-e2aa-4a8f-aeb1-c234df21e773')\"\n",
              "            title=\"Convert this dataframe to an interactive table.\"\n",
              "            style=\"display:none;\">\n",
              "\n",
              "  <svg xmlns=\"http://www.w3.org/2000/svg\" height=\"24px\" viewBox=\"0 -960 960 960\">\n",
              "    <path d=\"M120-120v-720h720v720H120Zm60-500h600v-160H180v160Zm220 220h160v-160H400v160Zm0 220h160v-160H400v160ZM180-400h160v-160H180v160Zm440 0h160v-160H620v160ZM180-180h160v-160H180v160Zm440 0h160v-160H620v160Z\"/>\n",
              "  </svg>\n",
              "    </button>\n",
              "\n",
              "  <style>\n",
              "    .colab-df-container {\n",
              "      display:flex;\n",
              "      gap: 12px;\n",
              "    }\n",
              "\n",
              "    .colab-df-convert {\n",
              "      background-color: #E8F0FE;\n",
              "      border: none;\n",
              "      border-radius: 50%;\n",
              "      cursor: pointer;\n",
              "      display: none;\n",
              "      fill: #1967D2;\n",
              "      height: 32px;\n",
              "      padding: 0 0 0 0;\n",
              "      width: 32px;\n",
              "    }\n",
              "\n",
              "    .colab-df-convert:hover {\n",
              "      background-color: #E2EBFA;\n",
              "      box-shadow: 0px 1px 2px rgba(60, 64, 67, 0.3), 0px 1px 3px 1px rgba(60, 64, 67, 0.15);\n",
              "      fill: #174EA6;\n",
              "    }\n",
              "\n",
              "    .colab-df-buttons div {\n",
              "      margin-bottom: 4px;\n",
              "    }\n",
              "\n",
              "    [theme=dark] .colab-df-convert {\n",
              "      background-color: #3B4455;\n",
              "      fill: #D2E3FC;\n",
              "    }\n",
              "\n",
              "    [theme=dark] .colab-df-convert:hover {\n",
              "      background-color: #434B5C;\n",
              "      box-shadow: 0px 1px 3px 1px rgba(0, 0, 0, 0.15);\n",
              "      filter: drop-shadow(0px 1px 2px rgba(0, 0, 0, 0.3));\n",
              "      fill: #FFFFFF;\n",
              "    }\n",
              "  </style>\n",
              "\n",
              "    <script>\n",
              "      const buttonEl =\n",
              "        document.querySelector('#df-fb763b35-e2aa-4a8f-aeb1-c234df21e773 button.colab-df-convert');\n",
              "      buttonEl.style.display =\n",
              "        google.colab.kernel.accessAllowed ? 'block' : 'none';\n",
              "\n",
              "      async function convertToInteractive(key) {\n",
              "        const element = document.querySelector('#df-fb763b35-e2aa-4a8f-aeb1-c234df21e773');\n",
              "        const dataTable =\n",
              "          await google.colab.kernel.invokeFunction('convertToInteractive',\n",
              "                                                    [key], {});\n",
              "        if (!dataTable) return;\n",
              "\n",
              "        const docLinkHtml = 'Like what you see? Visit the ' +\n",
              "          '<a target=\"_blank\" href=https://colab.research.google.com/notebooks/data_table.ipynb>data table notebook</a>'\n",
              "          + ' to learn more about interactive tables.';\n",
              "        element.innerHTML = '';\n",
              "        dataTable['output_type'] = 'display_data';\n",
              "        await google.colab.output.renderOutput(dataTable, element);\n",
              "        const docLink = document.createElement('div');\n",
              "        docLink.innerHTML = docLinkHtml;\n",
              "        element.appendChild(docLink);\n",
              "      }\n",
              "    </script>\n",
              "  </div>\n",
              "\n",
              "\n",
              "<div id=\"df-493ab756-7f0c-45a3-bca1-6a422820bc90\">\n",
              "  <button class=\"colab-df-quickchart\" onclick=\"quickchart('df-493ab756-7f0c-45a3-bca1-6a422820bc90')\"\n",
              "            title=\"Suggest charts\"\n",
              "            style=\"display:none;\">\n",
              "\n",
              "<svg xmlns=\"http://www.w3.org/2000/svg\" height=\"24px\"viewBox=\"0 0 24 24\"\n",
              "     width=\"24px\">\n",
              "    <g>\n",
              "        <path d=\"M19 3H5c-1.1 0-2 .9-2 2v14c0 1.1.9 2 2 2h14c1.1 0 2-.9 2-2V5c0-1.1-.9-2-2-2zM9 17H7v-7h2v7zm4 0h-2V7h2v10zm4 0h-2v-4h2v4z\"/>\n",
              "    </g>\n",
              "</svg>\n",
              "  </button>\n",
              "\n",
              "<style>\n",
              "  .colab-df-quickchart {\n",
              "      --bg-color: #E8F0FE;\n",
              "      --fill-color: #1967D2;\n",
              "      --hover-bg-color: #E2EBFA;\n",
              "      --hover-fill-color: #174EA6;\n",
              "      --disabled-fill-color: #AAA;\n",
              "      --disabled-bg-color: #DDD;\n",
              "  }\n",
              "\n",
              "  [theme=dark] .colab-df-quickchart {\n",
              "      --bg-color: #3B4455;\n",
              "      --fill-color: #D2E3FC;\n",
              "      --hover-bg-color: #434B5C;\n",
              "      --hover-fill-color: #FFFFFF;\n",
              "      --disabled-bg-color: #3B4455;\n",
              "      --disabled-fill-color: #666;\n",
              "  }\n",
              "\n",
              "  .colab-df-quickchart {\n",
              "    background-color: var(--bg-color);\n",
              "    border: none;\n",
              "    border-radius: 50%;\n",
              "    cursor: pointer;\n",
              "    display: none;\n",
              "    fill: var(--fill-color);\n",
              "    height: 32px;\n",
              "    padding: 0;\n",
              "    width: 32px;\n",
              "  }\n",
              "\n",
              "  .colab-df-quickchart:hover {\n",
              "    background-color: var(--hover-bg-color);\n",
              "    box-shadow: 0 1px 2px rgba(60, 64, 67, 0.3), 0 1px 3px 1px rgba(60, 64, 67, 0.15);\n",
              "    fill: var(--button-hover-fill-color);\n",
              "  }\n",
              "\n",
              "  .colab-df-quickchart-complete:disabled,\n",
              "  .colab-df-quickchart-complete:disabled:hover {\n",
              "    background-color: var(--disabled-bg-color);\n",
              "    fill: var(--disabled-fill-color);\n",
              "    box-shadow: none;\n",
              "  }\n",
              "\n",
              "  .colab-df-spinner {\n",
              "    border: 2px solid var(--fill-color);\n",
              "    border-color: transparent;\n",
              "    border-bottom-color: var(--fill-color);\n",
              "    animation:\n",
              "      spin 1s steps(1) infinite;\n",
              "  }\n",
              "\n",
              "  @keyframes spin {\n",
              "    0% {\n",
              "      border-color: transparent;\n",
              "      border-bottom-color: var(--fill-color);\n",
              "      border-left-color: var(--fill-color);\n",
              "    }\n",
              "    20% {\n",
              "      border-color: transparent;\n",
              "      border-left-color: var(--fill-color);\n",
              "      border-top-color: var(--fill-color);\n",
              "    }\n",
              "    30% {\n",
              "      border-color: transparent;\n",
              "      border-left-color: var(--fill-color);\n",
              "      border-top-color: var(--fill-color);\n",
              "      border-right-color: var(--fill-color);\n",
              "    }\n",
              "    40% {\n",
              "      border-color: transparent;\n",
              "      border-right-color: var(--fill-color);\n",
              "      border-top-color: var(--fill-color);\n",
              "    }\n",
              "    60% {\n",
              "      border-color: transparent;\n",
              "      border-right-color: var(--fill-color);\n",
              "    }\n",
              "    80% {\n",
              "      border-color: transparent;\n",
              "      border-right-color: var(--fill-color);\n",
              "      border-bottom-color: var(--fill-color);\n",
              "    }\n",
              "    90% {\n",
              "      border-color: transparent;\n",
              "      border-bottom-color: var(--fill-color);\n",
              "    }\n",
              "  }\n",
              "</style>\n",
              "\n",
              "  <script>\n",
              "    async function quickchart(key) {\n",
              "      const quickchartButtonEl =\n",
              "        document.querySelector('#' + key + ' button');\n",
              "      quickchartButtonEl.disabled = true;  // To prevent multiple clicks.\n",
              "      quickchartButtonEl.classList.add('colab-df-spinner');\n",
              "      try {\n",
              "        const charts = await google.colab.kernel.invokeFunction(\n",
              "            'suggestCharts', [key], {});\n",
              "      } catch (error) {\n",
              "        console.error('Error during call to suggestCharts:', error);\n",
              "      }\n",
              "      quickchartButtonEl.classList.remove('colab-df-spinner');\n",
              "      quickchartButtonEl.classList.add('colab-df-quickchart-complete');\n",
              "    }\n",
              "    (() => {\n",
              "      let quickchartButtonEl =\n",
              "        document.querySelector('#df-493ab756-7f0c-45a3-bca1-6a422820bc90 button');\n",
              "      quickchartButtonEl.style.display =\n",
              "        google.colab.kernel.accessAllowed ? 'block' : 'none';\n",
              "    })();\n",
              "  </script>\n",
              "</div>\n",
              "\n",
              "    </div>\n",
              "  </div>\n"
            ],
            "application/vnd.google.colaboratory.intrinsic+json": {
              "type": "dataframe",
              "variable_name": "df",
              "summary": "{\n  \"name\": \"df\",\n  \"rows\": 21221,\n  \"fields\": [\n    {\n      \"column\": \"Activity\",\n      \"properties\": {\n        \"dtype\": \"category\",\n        \"num_unique_values\": 14,\n        \"samples\": [\n          \"INVALID\",\n          \"Resolve SW anomaly\",\n          \"Assign seriousness\"\n        ],\n        \"semantic_type\": \"\",\n        \"description\": \"\"\n      }\n    },\n    {\n      \"column\": \"Resource\",\n      \"properties\": {\n        \"dtype\": \"category\",\n        \"num_unique_values\": 22,\n        \"samples\": [\n          \"Value 2\",\n          \"Value 17\",\n          \"Value 6\"\n        ],\n        \"semantic_type\": \"\",\n        \"description\": \"\"\n      }\n    },\n    {\n      \"column\": \"case:concept:name\",\n      \"properties\": {\n        \"dtype\": \"category\",\n        \"num_unique_values\": 4580,\n        \"samples\": [\n          \"Case3315\",\n          \"Case2176\",\n          \"Case1968\"\n        ],\n        \"semantic_type\": \"\",\n        \"description\": \"\"\n      }\n    },\n    {\n      \"column\": \"case:variant\",\n      \"properties\": {\n        \"dtype\": \"category\",\n        \"num_unique_values\": 226,\n        \"samples\": [\n          \"Variant 19\",\n          \"Variant 211\",\n          \"Variant 44\"\n        ],\n        \"semantic_type\": \"\",\n        \"description\": \"\"\n      }\n    },\n    {\n      \"column\": \"case:variant-index\",\n      \"properties\": {\n        \"dtype\": \"number\",\n        \"std\": 35,\n        \"min\": 1,\n        \"max\": 226,\n        \"num_unique_values\": 226,\n        \"samples\": [\n          19,\n          211,\n          44\n        ],\n        \"semantic_type\": \"\",\n        \"description\": \"\"\n      }\n    },\n    {\n      \"column\": \"new_date\",\n      \"properties\": {\n        \"dtype\": \"date\",\n        \"min\": \"2010-01-13\",\n        \"max\": \"2014-01-03\",\n        \"num_unique_values\": 1305,\n        \"samples\": [\n          \"2013-07-29\",\n          \"2011-07-30\",\n          \"2012-07-09\"\n        ],\n        \"semantic_type\": \"\",\n        \"description\": \"\"\n      }\n    },\n    {\n      \"column\": \"new_time\",\n      \"properties\": {\n        \"dtype\": \"string\",\n        \"num_unique_values\": 15421,\n        \"samples\": [\n          \"07:55:50\",\n          \"10:44:55\",\n          \"13:40:40\"\n        ],\n        \"semantic_type\": \"\",\n        \"description\": \"\"\n      }\n    },\n    {\n      \"column\": \"time_lapsed\",\n      \"properties\": {\n        \"dtype\": \"string\",\n        \"num_unique_values\": 14707,\n        \"samples\": [\n          \"7 days 22:38:51\",\n          \"6 days 23:50:13\",\n          \"43 days 06:39:27\"\n        ],\n        \"semantic_type\": \"\",\n        \"description\": \"\"\n      }\n    },\n    {\n      \"column\": \"Stage_no\",\n      \"properties\": {\n        \"dtype\": \"number\",\n        \"std\": 3.076202154238278,\n        \"min\": 1.0,\n        \"max\": 10.0,\n        \"num_unique_values\": 12,\n        \"samples\": [\n          5.0,\n          8.0,\n          2.0\n        ],\n        \"semantic_type\": \"\",\n        \"description\": \"\"\n      }\n    }\n  ]\n}"
            }
          },
          "metadata": {},
          "execution_count": 257
        }
      ]
    },
    {
      "cell_type": "markdown",
      "source": [
        "One-hot-Encoding and Preprocessing"
      ],
      "metadata": {
        "id": "yx5I6nBFsY-5"
      }
    },
    {
      "cell_type": "code",
      "source": [
        "from sklearn.preprocessing import OneHotEncoder\n",
        "from sklearn.model_selection import TimeSeriesSplit\n",
        "from tensorflow.keras.preprocessing.sequence import pad_sequences"
      ],
      "metadata": {
        "id": "urkXiEVRsMBT"
      },
      "execution_count": null,
      "outputs": []
    },
    {
      "cell_type": "code",
      "source": [
        "encoder = OneHotEncoder(sparse_output=False)"
      ],
      "metadata": {
        "id": "R-bXYqgcsNI-"
      },
      "execution_count": null,
      "outputs": []
    },
    {
      "cell_type": "code",
      "source": [
        "activities = df[['Activity']]\n",
        "one_hot_encoded = encoder.fit_transform(activities)"
      ],
      "metadata": {
        "id": "5sqHO6nHsd-b"
      },
      "execution_count": null,
      "outputs": []
    },
    {
      "cell_type": "code",
      "source": [
        "encoded_df = pd.DataFrame(\n",
        "    one_hot_encoded,\n",
        "    columns=encoder.get_feature_names_out(['Activity'])\n",
        ")"
      ],
      "metadata": {
        "id": "Z-f7DpOWy9EZ"
      },
      "execution_count": null,
      "outputs": []
    },
    {
      "cell_type": "code",
      "source": [
        "df = pd.concat([df.drop('Activity', axis=1), encoded_df], axis=1)"
      ],
      "metadata": {
        "id": "4FJYaGOgzAR9"
      },
      "execution_count": null,
      "outputs": []
    },
    {
      "cell_type": "code",
      "source": [
        "df.head()"
      ],
      "metadata": {
        "colab": {
          "base_uri": "https://localhost:8080/",
          "height": 377
        },
        "id": "R32E1HArzCnc",
        "outputId": "f4f0fcd7-2c30-4001-fe48-6a497cbb24bc"
      },
      "execution_count": null,
      "outputs": [
        {
          "output_type": "execute_result",
          "data": {
            "text/plain": [
              "  Resource case:concept:name case:variant  case:variant-index    new_date  \\\n",
              "0  Value 2          Case3608   Variant 33                  33  2010-01-13   \n",
              "1  Value 2          Case3608   Variant 33                  33  2010-01-29   \n",
              "2  Value 2          Case3608   Variant 33                  33  2010-01-29   \n",
              "3  Value 5          Case3608   Variant 33                  33  2010-02-13   \n",
              "4  Value 2          Case2748    Variant 1                   1  2010-01-13   \n",
              "\n",
              "   new_time       time_lapsed  Stage_no  Activity_Assign seriousness  \\\n",
              "0  08:40:25   0 days 00:00:00       2.0                          1.0   \n",
              "1  08:52:27  16 days 00:12:02       3.0                          0.0   \n",
              "2  08:52:34  16 days 00:12:09       7.0                          0.0   \n",
              "3  08:52:48  31 days 00:12:23      10.0                          0.0   \n",
              "4  12:26:04   0 days 00:00:00       2.0                          1.0   \n",
              "\n",
              "   Activity_Closed  ...  Activity_INVALID  Activity_Insert ticket  \\\n",
              "0              0.0  ...               0.0                     0.0   \n",
              "1              0.0  ...               0.0                     0.0   \n",
              "2              0.0  ...               0.0                     0.0   \n",
              "3              1.0  ...               0.0                     0.0   \n",
              "4              0.0  ...               0.0                     0.0   \n",
              "\n",
              "   Activity_RESOLVED  Activity_Require upgrade  Activity_Resolve SW anomaly  \\\n",
              "0                0.0                       0.0                          0.0   \n",
              "1                0.0                       0.0                          0.0   \n",
              "2                0.0                       0.0                          0.0   \n",
              "3                0.0                       0.0                          0.0   \n",
              "4                0.0                       0.0                          0.0   \n",
              "\n",
              "   Activity_Resolve ticket  Activity_Schedule intervention  \\\n",
              "0                      0.0                             0.0   \n",
              "1                      0.0                             0.0   \n",
              "2                      1.0                             0.0   \n",
              "3                      0.0                             0.0   \n",
              "4                      0.0                             0.0   \n",
              "\n",
              "   Activity_Take in charge ticket  Activity_VERIFIED  Activity_Wait  \n",
              "0                             0.0                0.0            0.0  \n",
              "1                             1.0                0.0            0.0  \n",
              "2                             0.0                0.0            0.0  \n",
              "3                             0.0                0.0            0.0  \n",
              "4                             0.0                0.0            0.0  \n",
              "\n",
              "[5 rows x 22 columns]"
            ],
            "text/html": [
              "\n",
              "  <div id=\"df-90c340be-690f-4b19-aaa0-86ef349de74f\" class=\"colab-df-container\">\n",
              "    <div>\n",
              "<style scoped>\n",
              "    .dataframe tbody tr th:only-of-type {\n",
              "        vertical-align: middle;\n",
              "    }\n",
              "\n",
              "    .dataframe tbody tr th {\n",
              "        vertical-align: top;\n",
              "    }\n",
              "\n",
              "    .dataframe thead th {\n",
              "        text-align: right;\n",
              "    }\n",
              "</style>\n",
              "<table border=\"1\" class=\"dataframe\">\n",
              "  <thead>\n",
              "    <tr style=\"text-align: right;\">\n",
              "      <th></th>\n",
              "      <th>Resource</th>\n",
              "      <th>case:concept:name</th>\n",
              "      <th>case:variant</th>\n",
              "      <th>case:variant-index</th>\n",
              "      <th>new_date</th>\n",
              "      <th>new_time</th>\n",
              "      <th>time_lapsed</th>\n",
              "      <th>Stage_no</th>\n",
              "      <th>Activity_Assign seriousness</th>\n",
              "      <th>Activity_Closed</th>\n",
              "      <th>...</th>\n",
              "      <th>Activity_INVALID</th>\n",
              "      <th>Activity_Insert ticket</th>\n",
              "      <th>Activity_RESOLVED</th>\n",
              "      <th>Activity_Require upgrade</th>\n",
              "      <th>Activity_Resolve SW anomaly</th>\n",
              "      <th>Activity_Resolve ticket</th>\n",
              "      <th>Activity_Schedule intervention</th>\n",
              "      <th>Activity_Take in charge ticket</th>\n",
              "      <th>Activity_VERIFIED</th>\n",
              "      <th>Activity_Wait</th>\n",
              "    </tr>\n",
              "  </thead>\n",
              "  <tbody>\n",
              "    <tr>\n",
              "      <th>0</th>\n",
              "      <td>Value 2</td>\n",
              "      <td>Case3608</td>\n",
              "      <td>Variant 33</td>\n",
              "      <td>33</td>\n",
              "      <td>2010-01-13</td>\n",
              "      <td>08:40:25</td>\n",
              "      <td>0 days 00:00:00</td>\n",
              "      <td>2.0</td>\n",
              "      <td>1.0</td>\n",
              "      <td>0.0</td>\n",
              "      <td>...</td>\n",
              "      <td>0.0</td>\n",
              "      <td>0.0</td>\n",
              "      <td>0.0</td>\n",
              "      <td>0.0</td>\n",
              "      <td>0.0</td>\n",
              "      <td>0.0</td>\n",
              "      <td>0.0</td>\n",
              "      <td>0.0</td>\n",
              "      <td>0.0</td>\n",
              "      <td>0.0</td>\n",
              "    </tr>\n",
              "    <tr>\n",
              "      <th>1</th>\n",
              "      <td>Value 2</td>\n",
              "      <td>Case3608</td>\n",
              "      <td>Variant 33</td>\n",
              "      <td>33</td>\n",
              "      <td>2010-01-29</td>\n",
              "      <td>08:52:27</td>\n",
              "      <td>16 days 00:12:02</td>\n",
              "      <td>3.0</td>\n",
              "      <td>0.0</td>\n",
              "      <td>0.0</td>\n",
              "      <td>...</td>\n",
              "      <td>0.0</td>\n",
              "      <td>0.0</td>\n",
              "      <td>0.0</td>\n",
              "      <td>0.0</td>\n",
              "      <td>0.0</td>\n",
              "      <td>0.0</td>\n",
              "      <td>0.0</td>\n",
              "      <td>1.0</td>\n",
              "      <td>0.0</td>\n",
              "      <td>0.0</td>\n",
              "    </tr>\n",
              "    <tr>\n",
              "      <th>2</th>\n",
              "      <td>Value 2</td>\n",
              "      <td>Case3608</td>\n",
              "      <td>Variant 33</td>\n",
              "      <td>33</td>\n",
              "      <td>2010-01-29</td>\n",
              "      <td>08:52:34</td>\n",
              "      <td>16 days 00:12:09</td>\n",
              "      <td>7.0</td>\n",
              "      <td>0.0</td>\n",
              "      <td>0.0</td>\n",
              "      <td>...</td>\n",
              "      <td>0.0</td>\n",
              "      <td>0.0</td>\n",
              "      <td>0.0</td>\n",
              "      <td>0.0</td>\n",
              "      <td>0.0</td>\n",
              "      <td>1.0</td>\n",
              "      <td>0.0</td>\n",
              "      <td>0.0</td>\n",
              "      <td>0.0</td>\n",
              "      <td>0.0</td>\n",
              "    </tr>\n",
              "    <tr>\n",
              "      <th>3</th>\n",
              "      <td>Value 5</td>\n",
              "      <td>Case3608</td>\n",
              "      <td>Variant 33</td>\n",
              "      <td>33</td>\n",
              "      <td>2010-02-13</td>\n",
              "      <td>08:52:48</td>\n",
              "      <td>31 days 00:12:23</td>\n",
              "      <td>10.0</td>\n",
              "      <td>0.0</td>\n",
              "      <td>1.0</td>\n",
              "      <td>...</td>\n",
              "      <td>0.0</td>\n",
              "      <td>0.0</td>\n",
              "      <td>0.0</td>\n",
              "      <td>0.0</td>\n",
              "      <td>0.0</td>\n",
              "      <td>0.0</td>\n",
              "      <td>0.0</td>\n",
              "      <td>0.0</td>\n",
              "      <td>0.0</td>\n",
              "      <td>0.0</td>\n",
              "    </tr>\n",
              "    <tr>\n",
              "      <th>4</th>\n",
              "      <td>Value 2</td>\n",
              "      <td>Case2748</td>\n",
              "      <td>Variant 1</td>\n",
              "      <td>1</td>\n",
              "      <td>2010-01-13</td>\n",
              "      <td>12:26:04</td>\n",
              "      <td>0 days 00:00:00</td>\n",
              "      <td>2.0</td>\n",
              "      <td>1.0</td>\n",
              "      <td>0.0</td>\n",
              "      <td>...</td>\n",
              "      <td>0.0</td>\n",
              "      <td>0.0</td>\n",
              "      <td>0.0</td>\n",
              "      <td>0.0</td>\n",
              "      <td>0.0</td>\n",
              "      <td>0.0</td>\n",
              "      <td>0.0</td>\n",
              "      <td>0.0</td>\n",
              "      <td>0.0</td>\n",
              "      <td>0.0</td>\n",
              "    </tr>\n",
              "  </tbody>\n",
              "</table>\n",
              "<p>5 rows × 22 columns</p>\n",
              "</div>\n",
              "    <div class=\"colab-df-buttons\">\n",
              "\n",
              "  <div class=\"colab-df-container\">\n",
              "    <button class=\"colab-df-convert\" onclick=\"convertToInteractive('df-90c340be-690f-4b19-aaa0-86ef349de74f')\"\n",
              "            title=\"Convert this dataframe to an interactive table.\"\n",
              "            style=\"display:none;\">\n",
              "\n",
              "  <svg xmlns=\"http://www.w3.org/2000/svg\" height=\"24px\" viewBox=\"0 -960 960 960\">\n",
              "    <path d=\"M120-120v-720h720v720H120Zm60-500h600v-160H180v160Zm220 220h160v-160H400v160Zm0 220h160v-160H400v160ZM180-400h160v-160H180v160Zm440 0h160v-160H620v160ZM180-180h160v-160H180v160Zm440 0h160v-160H620v160Z\"/>\n",
              "  </svg>\n",
              "    </button>\n",
              "\n",
              "  <style>\n",
              "    .colab-df-container {\n",
              "      display:flex;\n",
              "      gap: 12px;\n",
              "    }\n",
              "\n",
              "    .colab-df-convert {\n",
              "      background-color: #E8F0FE;\n",
              "      border: none;\n",
              "      border-radius: 50%;\n",
              "      cursor: pointer;\n",
              "      display: none;\n",
              "      fill: #1967D2;\n",
              "      height: 32px;\n",
              "      padding: 0 0 0 0;\n",
              "      width: 32px;\n",
              "    }\n",
              "\n",
              "    .colab-df-convert:hover {\n",
              "      background-color: #E2EBFA;\n",
              "      box-shadow: 0px 1px 2px rgba(60, 64, 67, 0.3), 0px 1px 3px 1px rgba(60, 64, 67, 0.15);\n",
              "      fill: #174EA6;\n",
              "    }\n",
              "\n",
              "    .colab-df-buttons div {\n",
              "      margin-bottom: 4px;\n",
              "    }\n",
              "\n",
              "    [theme=dark] .colab-df-convert {\n",
              "      background-color: #3B4455;\n",
              "      fill: #D2E3FC;\n",
              "    }\n",
              "\n",
              "    [theme=dark] .colab-df-convert:hover {\n",
              "      background-color: #434B5C;\n",
              "      box-shadow: 0px 1px 3px 1px rgba(0, 0, 0, 0.15);\n",
              "      filter: drop-shadow(0px 1px 2px rgba(0, 0, 0, 0.3));\n",
              "      fill: #FFFFFF;\n",
              "    }\n",
              "  </style>\n",
              "\n",
              "    <script>\n",
              "      const buttonEl =\n",
              "        document.querySelector('#df-90c340be-690f-4b19-aaa0-86ef349de74f button.colab-df-convert');\n",
              "      buttonEl.style.display =\n",
              "        google.colab.kernel.accessAllowed ? 'block' : 'none';\n",
              "\n",
              "      async function convertToInteractive(key) {\n",
              "        const element = document.querySelector('#df-90c340be-690f-4b19-aaa0-86ef349de74f');\n",
              "        const dataTable =\n",
              "          await google.colab.kernel.invokeFunction('convertToInteractive',\n",
              "                                                    [key], {});\n",
              "        if (!dataTable) return;\n",
              "\n",
              "        const docLinkHtml = 'Like what you see? Visit the ' +\n",
              "          '<a target=\"_blank\" href=https://colab.research.google.com/notebooks/data_table.ipynb>data table notebook</a>'\n",
              "          + ' to learn more about interactive tables.';\n",
              "        element.innerHTML = '';\n",
              "        dataTable['output_type'] = 'display_data';\n",
              "        await google.colab.output.renderOutput(dataTable, element);\n",
              "        const docLink = document.createElement('div');\n",
              "        docLink.innerHTML = docLinkHtml;\n",
              "        element.appendChild(docLink);\n",
              "      }\n",
              "    </script>\n",
              "  </div>\n",
              "\n",
              "\n",
              "<div id=\"df-6b886c8c-bcb0-4b63-8a00-3e84405b0b44\">\n",
              "  <button class=\"colab-df-quickchart\" onclick=\"quickchart('df-6b886c8c-bcb0-4b63-8a00-3e84405b0b44')\"\n",
              "            title=\"Suggest charts\"\n",
              "            style=\"display:none;\">\n",
              "\n",
              "<svg xmlns=\"http://www.w3.org/2000/svg\" height=\"24px\"viewBox=\"0 0 24 24\"\n",
              "     width=\"24px\">\n",
              "    <g>\n",
              "        <path d=\"M19 3H5c-1.1 0-2 .9-2 2v14c0 1.1.9 2 2 2h14c1.1 0 2-.9 2-2V5c0-1.1-.9-2-2-2zM9 17H7v-7h2v7zm4 0h-2V7h2v10zm4 0h-2v-4h2v4z\"/>\n",
              "    </g>\n",
              "</svg>\n",
              "  </button>\n",
              "\n",
              "<style>\n",
              "  .colab-df-quickchart {\n",
              "      --bg-color: #E8F0FE;\n",
              "      --fill-color: #1967D2;\n",
              "      --hover-bg-color: #E2EBFA;\n",
              "      --hover-fill-color: #174EA6;\n",
              "      --disabled-fill-color: #AAA;\n",
              "      --disabled-bg-color: #DDD;\n",
              "  }\n",
              "\n",
              "  [theme=dark] .colab-df-quickchart {\n",
              "      --bg-color: #3B4455;\n",
              "      --fill-color: #D2E3FC;\n",
              "      --hover-bg-color: #434B5C;\n",
              "      --hover-fill-color: #FFFFFF;\n",
              "      --disabled-bg-color: #3B4455;\n",
              "      --disabled-fill-color: #666;\n",
              "  }\n",
              "\n",
              "  .colab-df-quickchart {\n",
              "    background-color: var(--bg-color);\n",
              "    border: none;\n",
              "    border-radius: 50%;\n",
              "    cursor: pointer;\n",
              "    display: none;\n",
              "    fill: var(--fill-color);\n",
              "    height: 32px;\n",
              "    padding: 0;\n",
              "    width: 32px;\n",
              "  }\n",
              "\n",
              "  .colab-df-quickchart:hover {\n",
              "    background-color: var(--hover-bg-color);\n",
              "    box-shadow: 0 1px 2px rgba(60, 64, 67, 0.3), 0 1px 3px 1px rgba(60, 64, 67, 0.15);\n",
              "    fill: var(--button-hover-fill-color);\n",
              "  }\n",
              "\n",
              "  .colab-df-quickchart-complete:disabled,\n",
              "  .colab-df-quickchart-complete:disabled:hover {\n",
              "    background-color: var(--disabled-bg-color);\n",
              "    fill: var(--disabled-fill-color);\n",
              "    box-shadow: none;\n",
              "  }\n",
              "\n",
              "  .colab-df-spinner {\n",
              "    border: 2px solid var(--fill-color);\n",
              "    border-color: transparent;\n",
              "    border-bottom-color: var(--fill-color);\n",
              "    animation:\n",
              "      spin 1s steps(1) infinite;\n",
              "  }\n",
              "\n",
              "  @keyframes spin {\n",
              "    0% {\n",
              "      border-color: transparent;\n",
              "      border-bottom-color: var(--fill-color);\n",
              "      border-left-color: var(--fill-color);\n",
              "    }\n",
              "    20% {\n",
              "      border-color: transparent;\n",
              "      border-left-color: var(--fill-color);\n",
              "      border-top-color: var(--fill-color);\n",
              "    }\n",
              "    30% {\n",
              "      border-color: transparent;\n",
              "      border-left-color: var(--fill-color);\n",
              "      border-top-color: var(--fill-color);\n",
              "      border-right-color: var(--fill-color);\n",
              "    }\n",
              "    40% {\n",
              "      border-color: transparent;\n",
              "      border-right-color: var(--fill-color);\n",
              "      border-top-color: var(--fill-color);\n",
              "    }\n",
              "    60% {\n",
              "      border-color: transparent;\n",
              "      border-right-color: var(--fill-color);\n",
              "    }\n",
              "    80% {\n",
              "      border-color: transparent;\n",
              "      border-right-color: var(--fill-color);\n",
              "      border-bottom-color: var(--fill-color);\n",
              "    }\n",
              "    90% {\n",
              "      border-color: transparent;\n",
              "      border-bottom-color: var(--fill-color);\n",
              "    }\n",
              "  }\n",
              "</style>\n",
              "\n",
              "  <script>\n",
              "    async function quickchart(key) {\n",
              "      const quickchartButtonEl =\n",
              "        document.querySelector('#' + key + ' button');\n",
              "      quickchartButtonEl.disabled = true;  // To prevent multiple clicks.\n",
              "      quickchartButtonEl.classList.add('colab-df-spinner');\n",
              "      try {\n",
              "        const charts = await google.colab.kernel.invokeFunction(\n",
              "            'suggestCharts', [key], {});\n",
              "      } catch (error) {\n",
              "        console.error('Error during call to suggestCharts:', error);\n",
              "      }\n",
              "      quickchartButtonEl.classList.remove('colab-df-spinner');\n",
              "      quickchartButtonEl.classList.add('colab-df-quickchart-complete');\n",
              "    }\n",
              "    (() => {\n",
              "      let quickchartButtonEl =\n",
              "        document.querySelector('#df-6b886c8c-bcb0-4b63-8a00-3e84405b0b44 button');\n",
              "      quickchartButtonEl.style.display =\n",
              "        google.colab.kernel.accessAllowed ? 'block' : 'none';\n",
              "    })();\n",
              "  </script>\n",
              "</div>\n",
              "\n",
              "    </div>\n",
              "  </div>\n"
            ],
            "application/vnd.google.colaboratory.intrinsic+json": {
              "type": "dataframe",
              "variable_name": "df"
            }
          },
          "metadata": {},
          "execution_count": 263
        }
      ]
    },
    {
      "cell_type": "code",
      "source": [
        "df.columns"
      ],
      "metadata": {
        "colab": {
          "base_uri": "https://localhost:8080/"
        },
        "id": "my3su8VHzQVG",
        "outputId": "1d4fea85-da35-4c01-ff2b-b33a89f11be6"
      },
      "execution_count": null,
      "outputs": [
        {
          "output_type": "execute_result",
          "data": {
            "text/plain": [
              "Index(['Resource', 'case:concept:name', 'case:variant', 'case:variant-index',\n",
              "       'new_date', 'new_time', 'time_lapsed', 'Stage_no',\n",
              "       'Activity_Assign seriousness', 'Activity_Closed',\n",
              "       'Activity_Create SW anomaly', 'Activity_DUPLICATE', 'Activity_INVALID',\n",
              "       'Activity_Insert ticket', 'Activity_RESOLVED',\n",
              "       'Activity_Require upgrade', 'Activity_Resolve SW anomaly',\n",
              "       'Activity_Resolve ticket', 'Activity_Schedule intervention',\n",
              "       'Activity_Take in charge ticket', 'Activity_VERIFIED', 'Activity_Wait'],\n",
              "      dtype='object')"
            ]
          },
          "metadata": {},
          "execution_count": 264
        }
      ]
    },
    {
      "cell_type": "code",
      "source": [
        "activities = [\n",
        "    'Activity_Assign seriousness', 'Activity_Closed',\n",
        "    'Activity_Create SW anomaly', 'Activity_DUPLICATE',\n",
        "    'Activity_INVALID', 'Activity_Insert ticket',\n",
        "    'Activity_RESOLVED', 'Activity_Require upgrade',\n",
        "    'Activity_Resolve SW anomaly', 'Activity_Resolve ticket',\n",
        "    'Activity_Schedule intervention',\n",
        "    'Activity_Take in charge ticket',\n",
        "    'Activity_VERIFIED', 'Activity_Wait'\n",
        "]"
      ],
      "metadata": {
        "id": "llAeYFFCwLZL"
      },
      "execution_count": null,
      "outputs": []
    },
    {
      "cell_type": "code",
      "source": [
        "X_activities = df[activities].values"
      ],
      "metadata": {
        "id": "_vDbiLugwRfP"
      },
      "execution_count": null,
      "outputs": []
    },
    {
      "cell_type": "code",
      "source": [
        "df[\"time_lapsed\"] = df[\"time_lapsed\"].dt.seconds\n",
        "df[\"time_lapsed_seconds\"] = df[\"time_lapsed\"].dt.total_seconds()\n",
        "time_lapsed = df[\"time_lapsed_seconds\"].values.reshape(-1, 1)\n",
        "scaler = MinMaxScaler()\n",
        "time_lapsed_scaled = scaler.fit_transform(time_lapsed)"
      ],
      "metadata": {
        "id": "Kn9_Ygx9wU12",
        "colab": {
          "base_uri": "https://localhost:8080/",
          "height": 329
        },
        "outputId": "eab8aed2-a032-49e8-ed21-f797dddaef98"
      },
      "execution_count": null,
      "outputs": [
        {
          "output_type": "error",
          "ename": "AttributeError",
          "evalue": "Can only use .dt accessor with datetimelike values",
          "traceback": [
            "\u001b[0;31m---------------------------------------------------------------------------\u001b[0m",
            "\u001b[0;31mAttributeError\u001b[0m                            Traceback (most recent call last)",
            "\u001b[0;32m<ipython-input-267-cc3804b45587>\u001b[0m in \u001b[0;36m<cell line: 0>\u001b[0;34m()\u001b[0m\n\u001b[0;32m----> 1\u001b[0;31m \u001b[0mdf\u001b[0m\u001b[0;34m[\u001b[0m\u001b[0;34m\"time_lapsed\"\u001b[0m\u001b[0;34m]\u001b[0m \u001b[0;34m=\u001b[0m \u001b[0mdf\u001b[0m\u001b[0;34m[\u001b[0m\u001b[0;34m\"time_lapsed\"\u001b[0m\u001b[0;34m]\u001b[0m\u001b[0;34m.\u001b[0m\u001b[0mdt\u001b[0m\u001b[0;34m.\u001b[0m\u001b[0mseconds\u001b[0m\u001b[0;34m\u001b[0m\u001b[0;34m\u001b[0m\u001b[0m\n\u001b[0m\u001b[1;32m      2\u001b[0m \u001b[0mdf\u001b[0m\u001b[0;34m[\u001b[0m\u001b[0;34m\"time_lapsed_seconds\"\u001b[0m\u001b[0;34m]\u001b[0m \u001b[0;34m=\u001b[0m \u001b[0mdf\u001b[0m\u001b[0;34m[\u001b[0m\u001b[0;34m\"time_lapsed\"\u001b[0m\u001b[0;34m]\u001b[0m\u001b[0;34m.\u001b[0m\u001b[0mdt\u001b[0m\u001b[0;34m.\u001b[0m\u001b[0mtotal_seconds\u001b[0m\u001b[0;34m(\u001b[0m\u001b[0;34m)\u001b[0m\u001b[0;34m\u001b[0m\u001b[0;34m\u001b[0m\u001b[0m\n\u001b[1;32m      3\u001b[0m \u001b[0mtime_lapsed\u001b[0m \u001b[0;34m=\u001b[0m \u001b[0mdf\u001b[0m\u001b[0;34m[\u001b[0m\u001b[0;34m\"time_lapsed_seconds\"\u001b[0m\u001b[0;34m]\u001b[0m\u001b[0;34m.\u001b[0m\u001b[0mvalues\u001b[0m\u001b[0;34m.\u001b[0m\u001b[0mreshape\u001b[0m\u001b[0;34m(\u001b[0m\u001b[0;34m-\u001b[0m\u001b[0;36m1\u001b[0m\u001b[0;34m,\u001b[0m \u001b[0;36m1\u001b[0m\u001b[0;34m)\u001b[0m\u001b[0;34m\u001b[0m\u001b[0;34m\u001b[0m\u001b[0m\n\u001b[1;32m      4\u001b[0m \u001b[0mscaler\u001b[0m \u001b[0;34m=\u001b[0m \u001b[0mMinMaxScaler\u001b[0m\u001b[0;34m(\u001b[0m\u001b[0;34m)\u001b[0m\u001b[0;34m\u001b[0m\u001b[0;34m\u001b[0m\u001b[0m\n\u001b[1;32m      5\u001b[0m \u001b[0mtime_lapsed_scaled\u001b[0m \u001b[0;34m=\u001b[0m \u001b[0mscaler\u001b[0m\u001b[0;34m.\u001b[0m\u001b[0mfit_transform\u001b[0m\u001b[0;34m(\u001b[0m\u001b[0mtime_lapsed\u001b[0m\u001b[0;34m)\u001b[0m\u001b[0;34m\u001b[0m\u001b[0;34m\u001b[0m\u001b[0m\n",
            "\u001b[0;32m/usr/local/lib/python3.11/dist-packages/pandas/core/generic.py\u001b[0m in \u001b[0;36m__getattr__\u001b[0;34m(self, name)\u001b[0m\n\u001b[1;32m   6297\u001b[0m         ):\n\u001b[1;32m   6298\u001b[0m             \u001b[0;32mreturn\u001b[0m \u001b[0mself\u001b[0m\u001b[0;34m[\u001b[0m\u001b[0mname\u001b[0m\u001b[0;34m]\u001b[0m\u001b[0;34m\u001b[0m\u001b[0;34m\u001b[0m\u001b[0m\n\u001b[0;32m-> 6299\u001b[0;31m         \u001b[0;32mreturn\u001b[0m \u001b[0mobject\u001b[0m\u001b[0;34m.\u001b[0m\u001b[0m__getattribute__\u001b[0m\u001b[0;34m(\u001b[0m\u001b[0mself\u001b[0m\u001b[0;34m,\u001b[0m \u001b[0mname\u001b[0m\u001b[0;34m)\u001b[0m\u001b[0;34m\u001b[0m\u001b[0;34m\u001b[0m\u001b[0m\n\u001b[0m\u001b[1;32m   6300\u001b[0m \u001b[0;34m\u001b[0m\u001b[0m\n\u001b[1;32m   6301\u001b[0m     \u001b[0;34m@\u001b[0m\u001b[0mfinal\u001b[0m\u001b[0;34m\u001b[0m\u001b[0;34m\u001b[0m\u001b[0m\n",
            "\u001b[0;32m/usr/local/lib/python3.11/dist-packages/pandas/core/accessor.py\u001b[0m in \u001b[0;36m__get__\u001b[0;34m(self, obj, cls)\u001b[0m\n\u001b[1;32m    222\u001b[0m             \u001b[0;31m# we're accessing the attribute of the class, i.e., Dataset.geo\u001b[0m\u001b[0;34m\u001b[0m\u001b[0;34m\u001b[0m\u001b[0m\n\u001b[1;32m    223\u001b[0m             \u001b[0;32mreturn\u001b[0m \u001b[0mself\u001b[0m\u001b[0;34m.\u001b[0m\u001b[0m_accessor\u001b[0m\u001b[0;34m\u001b[0m\u001b[0;34m\u001b[0m\u001b[0m\n\u001b[0;32m--> 224\u001b[0;31m         \u001b[0maccessor_obj\u001b[0m \u001b[0;34m=\u001b[0m \u001b[0mself\u001b[0m\u001b[0;34m.\u001b[0m\u001b[0m_accessor\u001b[0m\u001b[0;34m(\u001b[0m\u001b[0mobj\u001b[0m\u001b[0;34m)\u001b[0m\u001b[0;34m\u001b[0m\u001b[0;34m\u001b[0m\u001b[0m\n\u001b[0m\u001b[1;32m    225\u001b[0m         \u001b[0;31m# Replace the property with the accessor object. Inspired by:\u001b[0m\u001b[0;34m\u001b[0m\u001b[0;34m\u001b[0m\u001b[0m\n\u001b[1;32m    226\u001b[0m         \u001b[0;31m# https://www.pydanny.com/cached-property.html\u001b[0m\u001b[0;34m\u001b[0m\u001b[0;34m\u001b[0m\u001b[0m\n",
            "\u001b[0;32m/usr/local/lib/python3.11/dist-packages/pandas/core/indexes/accessors.py\u001b[0m in \u001b[0;36m__new__\u001b[0;34m(cls, data)\u001b[0m\n\u001b[1;32m    641\u001b[0m             \u001b[0;32mreturn\u001b[0m \u001b[0mPeriodProperties\u001b[0m\u001b[0;34m(\u001b[0m\u001b[0mdata\u001b[0m\u001b[0;34m,\u001b[0m \u001b[0morig\u001b[0m\u001b[0;34m)\u001b[0m\u001b[0;34m\u001b[0m\u001b[0;34m\u001b[0m\u001b[0m\n\u001b[1;32m    642\u001b[0m \u001b[0;34m\u001b[0m\u001b[0m\n\u001b[0;32m--> 643\u001b[0;31m         \u001b[0;32mraise\u001b[0m \u001b[0mAttributeError\u001b[0m\u001b[0;34m(\u001b[0m\u001b[0;34m\"Can only use .dt accessor with datetimelike values\"\u001b[0m\u001b[0;34m)\u001b[0m\u001b[0;34m\u001b[0m\u001b[0;34m\u001b[0m\u001b[0m\n\u001b[0m",
            "\u001b[0;31mAttributeError\u001b[0m: Can only use .dt accessor with datetimelike values"
          ]
        }
      ]
    },
    {
      "cell_type": "code",
      "source": [
        "timestamps = pd.to_datetime(\n",
        "    df[\"new_date\"].astype(str) + \" \" + df[\"new_time\"].astype(str)\n",
        ")\n",
        "day_of_week = timestamps.dt.dayofweek.values / 6  # Normalized (0-1)\n",
        "hour_of_day = timestamps.dt.hour.values / 23      # Normalized (0-1)"
      ],
      "metadata": {
        "id": "xAUWIsUxMSwK"
      },
      "execution_count": null,
      "outputs": []
    },
    {
      "cell_type": "code",
      "source": [
        "activity_vectors = df[activities].values"
      ],
      "metadata": {
        "id": "ozVbIp6bRF87"
      },
      "execution_count": null,
      "outputs": []
    },
    {
      "cell_type": "code",
      "source": [
        "num_features = len(activities) + 3  # Activities + time_lapsed + day + hour\n",
        "X = np.zeros((len(df), num_features))\n",
        "X[:, :len(activities)] = activity_vectors\n",
        "X[:, len(activities)] = time_lapsed_scaled.flatten()\n",
        "X[:, len(activities)+1] = day_of_week\n",
        "X[:, len(activities)+2] = hour_of_day"
      ],
      "metadata": {
        "id": "ByrLpVLnQzRZ"
      },
      "execution_count": null,
      "outputs": []
    },
    {
      "cell_type": "code",
      "source": [
        "divisor = df[\"time_lapsed_seconds\"].max()\n",
        "y_a = df[activities].shift(-1).fillna(0).values\n",
        "y_t = df[\"time_lapsed\"].shift(-1).fillna(0).values / divisor"
      ],
      "metadata": {
        "id": "X6T3_7cbRHTv"
      },
      "execution_count": null,
      "outputs": []
    },
    {
      "cell_type": "code",
      "source": [
        "tscv = TimeSeriesSplit(n_splits=5)\n",
        "\n",
        "for fold, (train_idx, val_idx) in enumerate(tscv.split(X)):\n",
        "    # 3. Get data for this fold (no manual initialization needed)\n",
        "    X_train, X_val = X[train_idx], X[val_idx]\n",
        "    y_a_train, y_a_val = y_a[train_idx], y_a[val_idx]\n",
        "    y_t_train, y_t_val = y_t[train_idx], y_t[val_idx]\n",
        "\n",
        "    # 4. Pad sequences (if sequences have variable lengths)\n",
        "    maxlen = max(len(seq) for seq in X_train)\n",
        "    X_train = pad_sequences(X_train, maxlen=maxlen, dtype='float32', padding='post')\n",
        "    X_val = pad_sequences(X_val, maxlen=maxlen, dtype='float32', padding='post')\n",
        "    print(f\"\\nFold {fold+1}:\")\n",
        "    print(f\"  Training indices: {train_idx[:5]}...{train_idx[-5:]}\")\n",
        "    print(f\"  Validation indices: {val_idx[:5]}...{val_idx[-5:]}\")\n",
        "    print(f\"  X_train shape: {X_train.shape}, X_val shape: {X_val.shape}\")"
      ],
      "metadata": {
        "colab": {
          "base_uri": "https://localhost:8080/"
        },
        "id": "36qPAZymsmKo",
        "outputId": "3d2975bd-a7e8-4638-d9a2-3711218b878b"
      },
      "execution_count": null,
      "outputs": [
        {
          "output_type": "stream",
          "name": "stdout",
          "text": [
            "\n",
            "Fold 1:\n",
            "  Training indices: [0 1 2 3 4]...[3536 3537 3538 3539 3540]\n",
            "  Validation indices: [3541 3542 3543 3544 3545]...[7072 7073 7074 7075 7076]\n",
            "  X_train shape: (3541, 17), X_val shape: (3536, 17)\n",
            "\n",
            "Fold 2:\n",
            "  Training indices: [0 1 2 3 4]...[7072 7073 7074 7075 7076]\n",
            "  Validation indices: [7077 7078 7079 7080 7081]...[10608 10609 10610 10611 10612]\n",
            "  X_train shape: (7077, 17), X_val shape: (3536, 17)\n",
            "\n",
            "Fold 3:\n",
            "  Training indices: [0 1 2 3 4]...[10608 10609 10610 10611 10612]\n",
            "  Validation indices: [10613 10614 10615 10616 10617]...[14144 14145 14146 14147 14148]\n",
            "  X_train shape: (10613, 17), X_val shape: (3536, 17)\n",
            "\n",
            "Fold 4:\n",
            "  Training indices: [0 1 2 3 4]...[14144 14145 14146 14147 14148]\n",
            "  Validation indices: [14149 14150 14151 14152 14153]...[17680 17681 17682 17683 17684]\n",
            "  X_train shape: (14149, 17), X_val shape: (3536, 17)\n",
            "\n",
            "Fold 5:\n",
            "  Training indices: [0 1 2 3 4]...[17680 17681 17682 17683 17684]\n",
            "  Validation indices: [17685 17686 17687 17688 17689]...[21216 21217 21218 21219 21220]\n",
            "  X_train shape: (17685, 17), X_val shape: (3536, 17)\n"
          ]
        }
      ]
    },
    {
      "cell_type": "code",
      "source": [],
      "metadata": {
        "id": "ib1u00MUBw8z"
      },
      "execution_count": null,
      "outputs": []
    },
    {
      "cell_type": "markdown",
      "source": [
        "Model building"
      ],
      "metadata": {
        "id": "hqQR0oakscOe"
      }
    },
    {
      "cell_type": "code",
      "source": [
        "!pip install keras"
      ],
      "metadata": {
        "colab": {
          "base_uri": "https://localhost:8080/"
        },
        "id": "zcj0SyY2NkzL",
        "outputId": "6fa3de39-dfab-4ca4-d8b7-18af18dff98d"
      },
      "execution_count": null,
      "outputs": [
        {
          "output_type": "stream",
          "name": "stdout",
          "text": [
            "Requirement already satisfied: keras in /usr/local/lib/python3.11/dist-packages (3.8.0)\n",
            "Requirement already satisfied: absl-py in /usr/local/lib/python3.11/dist-packages (from keras) (1.4.0)\n",
            "Requirement already satisfied: numpy in /usr/local/lib/python3.11/dist-packages (from keras) (2.0.2)\n",
            "Requirement already satisfied: rich in /usr/local/lib/python3.11/dist-packages (from keras) (13.9.4)\n",
            "Requirement already satisfied: namex in /usr/local/lib/python3.11/dist-packages (from keras) (0.0.9)\n",
            "Requirement already satisfied: h5py in /usr/local/lib/python3.11/dist-packages (from keras) (3.13.0)\n",
            "Requirement already satisfied: optree in /usr/local/lib/python3.11/dist-packages (from keras) (0.15.0)\n",
            "Requirement already satisfied: ml-dtypes in /usr/local/lib/python3.11/dist-packages (from keras) (0.4.1)\n",
            "Requirement already satisfied: packaging in /usr/local/lib/python3.11/dist-packages (from keras) (24.2)\n",
            "Requirement already satisfied: typing-extensions>=4.5.0 in /usr/local/lib/python3.11/dist-packages (from optree->keras) (4.13.2)\n",
            "Requirement already satisfied: markdown-it-py>=2.2.0 in /usr/local/lib/python3.11/dist-packages (from rich->keras) (3.0.0)\n",
            "Requirement already satisfied: pygments<3.0.0,>=2.13.0 in /usr/local/lib/python3.11/dist-packages (from rich->keras) (2.18.0)\n",
            "Requirement already satisfied: mdurl~=0.1 in /usr/local/lib/python3.11/dist-packages (from markdown-it-py>=2.2.0->rich->keras) (0.1.2)\n"
          ]
        }
      ]
    },
    {
      "cell_type": "code",
      "source": [
        "#Creating the model architecture"
      ],
      "metadata": {
        "id": "WLYkDfucL_HZ"
      },
      "execution_count": null,
      "outputs": []
    },
    {
      "cell_type": "code",
      "source": [
        "#Importing the required libriares since the LSTM model will be done with Pytorch\n",
        "import torch\n",
        "import torch.nn as nn\n",
        "import numpy as np\n",
        "import matplotlib.pyplot as plt\n",
        "from keras.models import Sequential, Model\n",
        "from keras.layers import Dense\n",
        "from keras.layers import LSTM, GRU, SimpleRNN\n",
        "from keras.layers import Input\n",
        "from keras.utils import get_file\n",
        "from keras.optimizers import Nadam\n",
        "from keras.callbacks import EarlyStopping, ModelCheckpoint, ReduceLROnPlateau\n",
        "from keras.layers import BatchNormalization"
      ],
      "metadata": {
        "id": "nZqFT696MEYz"
      },
      "execution_count": null,
      "outputs": []
    },
    {
      "cell_type": "code",
      "source": [
        "temp = df.groupby('case:concept:name')\n",
        "max_len = 0\n",
        "for name, groups in temp:\n",
        "  max_len = max(max_len, len(groups.index))\n",
        "print(max_len)"
      ],
      "metadata": {
        "colab": {
          "base_uri": "https://localhost:8080/"
        },
        "id": "5yGkyjZDt4iZ",
        "outputId": "e010c9ed-ab30-4b44-f587-d704a42e3fe4"
      },
      "execution_count": null,
      "outputs": [
        {
          "output_type": "stream",
          "name": "stdout",
          "text": [
            "15\n"
          ]
        }
      ]
    },
    {
      "cell_type": "code",
      "source": [
        "num_features = len(df['Stage_no'].unique()) + 13\n",
        "main_input = Input(shape=(max_len, num_features), name='main_input')"
      ],
      "metadata": {
        "id": "QUWB2WRUtD6i"
      },
      "execution_count": null,
      "outputs": []
    },
    {
      "cell_type": "code",
      "source": [
        "input_data = df[['new_date','new_time','time_lapsed','Activity_Assign seriousness', 'Activity_Closed',\n",
        "       'Activity_Create SW anomaly', 'Activity_DUPLICATE', 'Activity_INVALID',\n",
        "       'Activity_Insert ticket', 'Activity_RESOLVED',\n",
        "       'Activity_Require upgrade', 'Activity_Resolve SW anomaly',\n",
        "       'Activity_Resolve ticket', 'Activity_Schedule intervention',\n",
        "       'Activity_Take in charge ticket', 'Activity_VERIFIED', 'Activity_Wait']]"
      ],
      "metadata": {
        "id": "itvwj11-y1kh"
      },
      "execution_count": null,
      "outputs": []
    },
    {
      "cell_type": "code",
      "source": [
        "#Create the training split"
      ],
      "metadata": {
        "id": "amNpY12a0Hq7"
      },
      "execution_count": null,
      "outputs": []
    },
    {
      "cell_type": "code",
      "source": [
        "l1 = LSTM(100, implementation=2, kernel_initializer='glorot_uniform', return_sequences=True, dropout=0.2)(main_input) # the shared layer\n",
        "b1 = BatchNormalization()(l1)\n",
        "l2_1 = LSTM(100, implementation=2, kernel_initializer='glorot_uniform', return_sequences=False, dropout=0.2)(b1) # the layer specialized in activity prediction\n",
        "b2_1 = BatchNormalization()(l2_1)\n",
        "l2_2 = LSTM(100, implementation=2, kernel_initializer='glorot_uniform', return_sequences=False, dropout=0.2)(b1) # the layer specialized in time prediction\n",
        "b2_2 = BatchNormalization()(l2_2)\n",
        "act_output = Dense(len(df['Stage_no'].unique()), activation='softmax', kernel_initializer='glorot_uniform', name='act_output')(b2_1)\n",
        "time_output = Dense(1, kernel_initializer='glorot_uniform', name='time_output')(b2_2)"
      ],
      "metadata": {
        "id": "clGTMHjMnfvx"
      },
      "execution_count": null,
      "outputs": []
    },
    {
      "cell_type": "code",
      "source": [
        "model = Model(inputs=[main_input], outputs=[act_output, time_output])\n",
        "\n",
        "opt = Nadam(learning_rate=0.002, beta_1=0.9, beta_2=0.999, epsilon=1e-08, weight_decay=0.004, clipvalue=3)\n",
        "\n",
        "model.compile(loss={'act_output':'categorical_crossentropy', 'time_output':'mae'}, optimizer=opt)\n",
        "early_stopping = EarlyStopping(monitor='val_loss', patience=42)\n",
        "model_checkpoint = ModelCheckpoint('output_files/models/model_{epoch:02d}-{val_loss:.2f}.h5', monitor='val_loss', verbose=0, save_best_only=True, save_weights_only=False, mode='auto')\n",
        "lr_reducer = ReduceLROnPlateau(monitor='val_loss', factor=0.5, patience=10, verbose=0, mode='auto', min_delta=0.0001, cooldown=0, min_lr=0)"
      ],
      "metadata": {
        "id": "sBiYSKgQS95p"
      },
      "execution_count": null,
      "outputs": []
    },
    {
      "cell_type": "code",
      "source": [
        "print(\"X_train dtype:\", X_train.dtype)\n",
        "print(\"y_a_train dtype:\", y_a_train.dtype)\n",
        "print(\"y_t_train dtype:\", y_t_train.dtype)"
      ],
      "metadata": {
        "colab": {
          "base_uri": "https://localhost:8080/"
        },
        "id": "IylvWELQfhvS",
        "outputId": "efea14fa-fb89-40af-f035-273772ae9627"
      },
      "execution_count": null,
      "outputs": [
        {
          "output_type": "stream",
          "name": "stdout",
          "text": [
            "X_train dtype: float32\n",
            "y_a_train dtype: float64\n",
            "y_t_train dtype: object\n"
          ]
        }
      ]
    },
    {
      "cell_type": "code",
      "source": [
        "y_t_train"
      ],
      "metadata": {
        "colab": {
          "base_uri": "https://localhost:8080/"
        },
        "id": "ZnXODSwbfmP-",
        "outputId": "89048b69-ab4f-4fcb-e3ae-ae4884d176ec"
      },
      "execution_count": null,
      "outputs": [
        {
          "output_type": "execute_result",
          "data": {
            "text/plain": [
              "array([Timedelta('0 days 00:00:00.266828331'),\n",
              "       Timedelta('0 days 00:00:00.266829681'),\n",
              "       Timedelta('0 days 00:00:00.516853362'), ...,\n",
              "       Timedelta('0 days 00:00:00.234010569'),\n",
              "       Timedelta('0 days 00:00:00.278901103'),\n",
              "       Timedelta('0 days 00:00:00.528924977')], dtype=object)"
            ]
          },
          "metadata": {},
          "execution_count": 122
        }
      ]
    },
    {
      "cell_type": "code",
      "source": [
        "model.fit(X_train, {'act_output':y_a_train, 'time_output':y_t_train}, validation_split=0.2, verbose=2, callbacks=[early_stopping, model_checkpoint, lr_reducer], batch_size=maxlen, epochs=500)"
      ],
      "metadata": {
        "id": "UZznyDiRoTCa",
        "colab": {
          "base_uri": "https://localhost:8080/",
          "height": 329
        },
        "outputId": "7a6e18e0-a878-4836-ffdd-bddcb08f30fb"
      },
      "execution_count": null,
      "outputs": [
        {
          "output_type": "error",
          "ename": "ValueError",
          "evalue": "Invalid dtype: object",
          "traceback": [
            "\u001b[0;31m---------------------------------------------------------------------------\u001b[0m",
            "\u001b[0;31mValueError\u001b[0m                                Traceback (most recent call last)",
            "\u001b[0;32m<ipython-input-72-c18fbfd2d583>\u001b[0m in \u001b[0;36m<cell line: 0>\u001b[0;34m()\u001b[0m\n\u001b[0;32m----> 1\u001b[0;31m \u001b[0mmodel\u001b[0m\u001b[0;34m.\u001b[0m\u001b[0mfit\u001b[0m\u001b[0;34m(\u001b[0m\u001b[0mX_train\u001b[0m\u001b[0;34m,\u001b[0m \u001b[0;34m{\u001b[0m\u001b[0;34m'act_output'\u001b[0m\u001b[0;34m:\u001b[0m\u001b[0my_a_train\u001b[0m\u001b[0;34m,\u001b[0m \u001b[0;34m'time_output'\u001b[0m\u001b[0;34m:\u001b[0m\u001b[0my_t_train\u001b[0m\u001b[0;34m}\u001b[0m\u001b[0;34m,\u001b[0m \u001b[0mvalidation_split\u001b[0m\u001b[0;34m=\u001b[0m\u001b[0;36m0.2\u001b[0m\u001b[0;34m,\u001b[0m \u001b[0mverbose\u001b[0m\u001b[0;34m=\u001b[0m\u001b[0;36m2\u001b[0m\u001b[0;34m,\u001b[0m \u001b[0mcallbacks\u001b[0m\u001b[0;34m=\u001b[0m\u001b[0;34m[\u001b[0m\u001b[0mearly_stopping\u001b[0m\u001b[0;34m,\u001b[0m \u001b[0mmodel_checkpoint\u001b[0m\u001b[0;34m,\u001b[0m \u001b[0mlr_reducer\u001b[0m\u001b[0;34m]\u001b[0m\u001b[0;34m,\u001b[0m \u001b[0mbatch_size\u001b[0m\u001b[0;34m=\u001b[0m\u001b[0mmaxlen\u001b[0m\u001b[0;34m,\u001b[0m \u001b[0mepochs\u001b[0m\u001b[0;34m=\u001b[0m\u001b[0;36m500\u001b[0m\u001b[0;34m)\u001b[0m\u001b[0;34m\u001b[0m\u001b[0;34m\u001b[0m\u001b[0m\n\u001b[0m",
            "\u001b[0;32m/usr/local/lib/python3.11/dist-packages/keras/src/utils/traceback_utils.py\u001b[0m in \u001b[0;36merror_handler\u001b[0;34m(*args, **kwargs)\u001b[0m\n\u001b[1;32m    120\u001b[0m             \u001b[0;31m# To get the full stack trace, call:\u001b[0m\u001b[0;34m\u001b[0m\u001b[0;34m\u001b[0m\u001b[0m\n\u001b[1;32m    121\u001b[0m             \u001b[0;31m# `keras.config.disable_traceback_filtering()`\u001b[0m\u001b[0;34m\u001b[0m\u001b[0;34m\u001b[0m\u001b[0m\n\u001b[0;32m--> 122\u001b[0;31m             \u001b[0;32mraise\u001b[0m \u001b[0me\u001b[0m\u001b[0;34m.\u001b[0m\u001b[0mwith_traceback\u001b[0m\u001b[0;34m(\u001b[0m\u001b[0mfiltered_tb\u001b[0m\u001b[0;34m)\u001b[0m \u001b[0;32mfrom\u001b[0m \u001b[0;32mNone\u001b[0m\u001b[0;34m\u001b[0m\u001b[0;34m\u001b[0m\u001b[0m\n\u001b[0m\u001b[1;32m    123\u001b[0m         \u001b[0;32mfinally\u001b[0m\u001b[0;34m:\u001b[0m\u001b[0;34m\u001b[0m\u001b[0;34m\u001b[0m\u001b[0m\n\u001b[1;32m    124\u001b[0m             \u001b[0;32mdel\u001b[0m \u001b[0mfiltered_tb\u001b[0m\u001b[0;34m\u001b[0m\u001b[0;34m\u001b[0m\u001b[0m\n",
            "\u001b[0;32m/usr/local/lib/python3.11/dist-packages/optree/ops.py\u001b[0m in \u001b[0;36mtree_map\u001b[0;34m(func, tree, is_leaf, none_is_leaf, namespace, *rests)\u001b[0m\n\u001b[1;32m    764\u001b[0m     \u001b[0mleaves\u001b[0m\u001b[0;34m,\u001b[0m \u001b[0mtreespec\u001b[0m \u001b[0;34m=\u001b[0m \u001b[0m_C\u001b[0m\u001b[0;34m.\u001b[0m\u001b[0mflatten\u001b[0m\u001b[0;34m(\u001b[0m\u001b[0mtree\u001b[0m\u001b[0;34m,\u001b[0m \u001b[0mis_leaf\u001b[0m\u001b[0;34m,\u001b[0m \u001b[0mnone_is_leaf\u001b[0m\u001b[0;34m,\u001b[0m \u001b[0mnamespace\u001b[0m\u001b[0;34m)\u001b[0m\u001b[0;34m\u001b[0m\u001b[0;34m\u001b[0m\u001b[0m\n\u001b[1;32m    765\u001b[0m     \u001b[0mflat_args\u001b[0m \u001b[0;34m=\u001b[0m \u001b[0;34m[\u001b[0m\u001b[0mleaves\u001b[0m\u001b[0;34m]\u001b[0m \u001b[0;34m+\u001b[0m \u001b[0;34m[\u001b[0m\u001b[0mtreespec\u001b[0m\u001b[0;34m.\u001b[0m\u001b[0mflatten_up_to\u001b[0m\u001b[0;34m(\u001b[0m\u001b[0mr\u001b[0m\u001b[0;34m)\u001b[0m \u001b[0;32mfor\u001b[0m \u001b[0mr\u001b[0m \u001b[0;32min\u001b[0m \u001b[0mrests\u001b[0m\u001b[0;34m]\u001b[0m\u001b[0;34m\u001b[0m\u001b[0;34m\u001b[0m\u001b[0m\n\u001b[0;32m--> 766\u001b[0;31m     \u001b[0;32mreturn\u001b[0m \u001b[0mtreespec\u001b[0m\u001b[0;34m.\u001b[0m\u001b[0munflatten\u001b[0m\u001b[0;34m(\u001b[0m\u001b[0mmap\u001b[0m\u001b[0;34m(\u001b[0m\u001b[0mfunc\u001b[0m\u001b[0;34m,\u001b[0m \u001b[0;34m*\u001b[0m\u001b[0mflat_args\u001b[0m\u001b[0;34m)\u001b[0m\u001b[0;34m)\u001b[0m\u001b[0;34m\u001b[0m\u001b[0;34m\u001b[0m\u001b[0m\n\u001b[0m\u001b[1;32m    767\u001b[0m \u001b[0;34m\u001b[0m\u001b[0m\n\u001b[1;32m    768\u001b[0m \u001b[0;34m\u001b[0m\u001b[0m\n",
            "\u001b[0;31mValueError\u001b[0m: Invalid dtype: object"
          ]
        }
      ]
    }
  ]
}