{
  "nbformat": 4,
  "nbformat_minor": 0,
  "metadata": {
    "colab": {
      "provenance": [],
      "authorship_tag": "ABX9TyM0g8HMb6nHvRfGqXH4qlax",
      "include_colab_link": true
    },
    "kernelspec": {
      "name": "python3",
      "display_name": "Python 3"
    },
    "language_info": {
      "name": "python"
    }
  },
  "cells": [
    {
      "cell_type": "markdown",
      "metadata": {
        "id": "view-in-github",
        "colab_type": "text"
      },
      "source": [
        "<a href=\"https://colab.research.google.com/github/pullz6/Research_inspired_Self-Explaining-Neural-Networks-for-Business-Process-Monitoring/blob/main/Data_preprocessing_Model_development.ipynb\" target=\"_parent\"><img src=\"https://colab.research.google.com/assets/colab-badge.svg\" alt=\"Open In Colab\"/></a>"
      ]
    },
    {
      "cell_type": "code",
      "source": [
        "!pip install pyspark"
      ],
      "metadata": {
        "colab": {
          "base_uri": "https://localhost:8080/"
        },
        "id": "eJvChJPXegor",
        "outputId": "24ad86f8-2f0d-4357-860d-12fc8b003bc6"
      },
      "execution_count": 1,
      "outputs": [
        {
          "output_type": "stream",
          "name": "stdout",
          "text": [
            "Requirement already satisfied: pyspark in /usr/local/lib/python3.11/dist-packages (3.5.1)\n",
            "Requirement already satisfied: py4j==0.10.9.7 in /usr/local/lib/python3.11/dist-packages (from pyspark) (0.10.9.7)\n"
          ]
        }
      ]
    },
    {
      "cell_type": "code",
      "source": [
        "!pip install faker"
      ],
      "metadata": {
        "colab": {
          "base_uri": "https://localhost:8080/"
        },
        "id": "RADSC8LehQRI",
        "outputId": "3d920c53-85ed-4ce7-ae8f-ef5c8e45444d"
      },
      "execution_count": 2,
      "outputs": [
        {
          "output_type": "stream",
          "name": "stdout",
          "text": [
            "Collecting faker\n",
            "  Downloading faker-37.3.0-py3-none-any.whl.metadata (15 kB)\n",
            "Requirement already satisfied: tzdata in /usr/local/lib/python3.11/dist-packages (from faker) (2025.2)\n",
            "Downloading faker-37.3.0-py3-none-any.whl (1.9 MB)\n",
            "\u001b[2K   \u001b[90m━━━━━━━━━━━━━━━━━━━━━━━━━━━━━━━━━━━━━━━━\u001b[0m \u001b[32m1.9/1.9 MB\u001b[0m \u001b[31m19.7 MB/s\u001b[0m eta \u001b[36m0:00:00\u001b[0m\n",
            "\u001b[?25hInstalling collected packages: faker\n",
            "Successfully installed faker-37.3.0\n"
          ]
        }
      ]
    },
    {
      "cell_type": "code",
      "source": [
        "!pip install -q kaggle"
      ],
      "metadata": {
        "id": "Cz1mY3ly7s0m"
      },
      "execution_count": 3,
      "outputs": []
    },
    {
      "cell_type": "code",
      "execution_count": 5,
      "metadata": {
        "id": "Eh8AIw4kd6od"
      },
      "outputs": [],
      "source": [
        "import pandas as pd\n",
        "import numpy as np\n",
        "import matplotlib.pyplot as plt\n",
        "import seaborn as sns\n",
        "from faker import Faker\n",
        "import pyspark\n",
        "import os\n",
        "from google.colab import drive\n",
        "from kaggle.api.kaggle_api_extended import KaggleApi\n",
        "import json"
      ]
    },
    {
      "cell_type": "code",
      "source": [
        "#Read creds\n",
        "drive.mount('/content/drive')\n",
        "\n",
        "#loading all the required datasets\n",
        "creds_path = ('/content/drive/MyDrive/Projects/Creds/kaggle.json')"
      ],
      "metadata": {
        "colab": {
          "base_uri": "https://localhost:8080/"
        },
        "id": "4shXlt9bzbgf",
        "outputId": "a60fba26-019d-47f8-c1fb-4409ddef7129"
      },
      "execution_count": 7,
      "outputs": [
        {
          "output_type": "stream",
          "name": "stdout",
          "text": [
            "Mounted at /content/drive\n"
          ]
        }
      ]
    },
    {
      "cell_type": "code",
      "source": [
        "with open(creds_path, 'r') as f:\n",
        "    creds = json.load(f)"
      ],
      "metadata": {
        "id": "y5PNpr914nFV"
      },
      "execution_count": 8,
      "outputs": []
    },
    {
      "cell_type": "code",
      "source": [
        "!mkdir -p ~/.kaggle"
      ],
      "metadata": {
        "id": "aX28oize-_bg"
      },
      "execution_count": 9,
      "outputs": []
    },
    {
      "cell_type": "code",
      "source": [
        "with open('/root/.kaggle/kaggle.json', 'w') as f:\n",
        "    json.dump(creds, f)"
      ],
      "metadata": {
        "id": "r8mt-79o_AQi"
      },
      "execution_count": 10,
      "outputs": []
    },
    {
      "cell_type": "code",
      "source": [
        "# Set permissions\n",
        "!chmod 600 ~/.kaggle/kaggle.json\n",
        "\n",
        "# Verify setup\n",
        "!kaggle datasets list -s \"ieee fraud\"\n",
        "\n",
        "# STEP 2: DOWNLOAD DATASET\n",
        "# Download the dataset (this is a known mirror of the original competition data)\n",
        "!kaggle datasets download -d kartik2112/fraud-detection\n",
        "\n",
        "# Unzip the files (creates a 'fraud-detection' folder)\n",
        "!unzip fraud-detection.zip -d fraud-detection"
      ],
      "metadata": {
        "colab": {
          "base_uri": "https://localhost:8080/"
        },
        "id": "zKHmMkB__NY5",
        "outputId": "e7102f5a-7ce5-4c0a-d888-14a5f9db3bc0"
      },
      "execution_count": 11,
      "outputs": [
        {
          "output_type": "stream",
          "name": "stdout",
          "text": [
            "ref                                                        title                                                    size  lastUpdated                 downloadCount  voteCount  usabilityRating  \n",
            "---------------------------------------------------------  -------------------------------------------------  ----------  --------------------------  -------------  ---------  ---------------  \n",
            "mlg-ulb/creditcardfraud                                    Credit Card Fraud Detection                          69155672  2018-03-23 01:17:27.913000         897888      12222  0.85294116       \n",
            "muhakabartay/yourallmodelsdata                             IEEE-CIS Fraud Detection Models Data                 29768007  2019-09-18 07:57:04.473000            682         17  1.0              \n",
            "whenamancodes/fraud-detection                              Fraud Detection                                      69155672  2022-09-12 11:54:40.550000          10576        117  1.0              \n",
            "kyakovlev/ieee-submissions-and-uids                        IEEE - submissions and uids                          78639550  2019-10-05 11:11:13.207000            538         15  0.64705884       \n",
            "joebeachcapital/credit-card-fraud                          Credit Card Fraud                                   223011632  2023-08-07 02:16:37.627000           3987         69  1.0              \n",
            "arslanali4343/credit-card-cheating-detection-cccd          Credit Card Cheating Detection (CCCD)                45560306  2020-10-07 20:24:31.160000           1546         98  1.0              \n",
            "niangmohamed/ieeecis-fraud-detection                       ieeecis-fraud-detection                             123856947  2020-03-03 20:22:18.440000            366          6  0.5294118        \n",
            "adhyanmaji31/credit-card-fraud-detection                   Credit_Card_Fraud_Detection                           3455419  2020-11-04 18:21:42.243000           1207         12  0.6764706        \n",
            "lnasiri007/ieeecis-fraud-detection                         IEEE-CIS FRAUD DETECTION                            123856947  2022-08-11 05:52:08.610000            454          2  0.29411766       \n",
            "fatiherik/ieeefraudfinaldata                               ieee-fraud-final-data                               168656759  2020-08-22 18:34:07.473000             40          1  0.29411766       \n",
            "manojahi/ieee-fraud-detection-preprocessed-traintest-data  IEEE Fraud Detection Preprocessed Train/Test data   215942428  2019-09-15 04:05:02.337000            101          3  0.23529412       \n",
            "sonalisna/ieeefrauddetection                               ieee-fraud-detection                                123856947  2021-11-02 09:47:35.013000             44          1  0.23529412       \n",
            "artmatician/users-ids                                      Users IDs                                             5724215  2019-10-06 21:53:39.203000             55          3  0.29411766       \n",
            "gbecon/ieeecis-fraud-detection-compressed                  IEEE-CIS Fraud Detection compressed                 133377634  2022-03-15 08:08:00.893000             90          1  0.29411766       \n",
            "zakirbhuiyan/ieee-fraud-detection-submission-v3            ieee-fraud-detection-submission-v3                  123856947  2024-07-26 23:00:35.757000              4          0  0.4117647        \n",
            "shreyauniyal19/ieee-cis-fraud-detection                    IEEE_CIS_Fraud_Detection                            123856947  2020-10-11 06:26:13.003000            187          2  0.1764706        \n",
            "nguynlvithong/ieee-fraud-detection1                        IEEE-Fraud-Detection1                               123857154  2024-11-15 15:28:18.220000              9          0  0.3529412        \n",
            "nguynlvithong/ieee-fraud-detectionn1                       ieee-fraud-detectionn1                              123857157  2024-11-08 08:09:19.427000              0          0  0.3529412        \n",
            "nguynlvithong/ieee-fraud-detectionn2                       ieee-fraud-detectionn2                              123857157  2024-11-08 08:38:59.873000              4          0  0.3529412        \n",
            "zakirbhuiyan/ieee-fraud-detection-submission-v4            ieee-fraud-detection-submission-v4                  123856947  2024-08-20 23:55:04.053000              7          0  0.4117647        \n",
            "Dataset URL: https://www.kaggle.com/datasets/kartik2112/fraud-detection\n",
            "License(s): CC0-1.0\n",
            "Downloading fraud-detection.zip to /content\n",
            " 53% 108M/202M [00:00<00:00, 1.13GB/s]\n",
            "100% 202M/202M [00:00<00:00, 549MB/s] \n",
            "Archive:  fraud-detection.zip\n",
            "  inflating: fraud-detection/fraudTest.csv  \n",
            "  inflating: fraud-detection/fraudTrain.csv  \n"
          ]
        }
      ]
    },
    {
      "cell_type": "code",
      "source": [
        "# List downloaded files\n",
        "!ls -la fraud-detection/"
      ],
      "metadata": {
        "colab": {
          "base_uri": "https://localhost:8080/"
        },
        "id": "8q5c_4iT_Ugi",
        "outputId": "43ab74a5-ea51-420c-a0b3-e5d538906fef"
      },
      "execution_count": 12,
      "outputs": [
        {
          "output_type": "stream",
          "name": "stdout",
          "text": [
            "total 489852\n",
            "drwxr-xr-x 2 root root      4096 Jun  9 13:55 .\n",
            "drwxr-xr-x 1 root root      4096 Jun  9 13:55 ..\n",
            "-rw-r--r-- 1 root root 150354339 Aug  5  2020 fraudTest.csv\n",
            "-rw-r--r-- 1 root root 351238196 Aug  5  2020 fraudTrain.csv\n"
          ]
        }
      ]
    },
    {
      "cell_type": "code",
      "source": [
        "from pyspark.sql import SparkSession"
      ],
      "metadata": {
        "id": "6rHXt8dgJoUJ"
      },
      "execution_count": 13,
      "outputs": []
    },
    {
      "cell_type": "code",
      "source": [
        "spark = SparkSession.builder.appName(\"IEEE_Fraud_Detection\").config(\"spark.driver.memory\", \"8g\").config(\"spark.executor.memory\", \"8g\").getOrCreate()"
      ],
      "metadata": {
        "id": "ZWZLOTjIJzmn"
      },
      "execution_count": 14,
      "outputs": []
    },
    {
      "cell_type": "code",
      "source": [
        "# Load the training and testing data\n",
        "test = spark.read.csv(\n",
        "    f\"fraud-detection/fraudTest.csv\",\n",
        "    header=True,\n",
        "    inferSchema=True\n",
        ")\n",
        "\n",
        "train = spark.read.csv(\n",
        "    f\"fraud-detection/fraudTrain.csv\",\n",
        "    header=True,\n",
        "    inferSchema=True\n",
        ")"
      ],
      "metadata": {
        "id": "aeutCduYKGyl"
      },
      "execution_count": 15,
      "outputs": []
    },
    {
      "cell_type": "code",
      "source": [
        "# DataFrame approach\n",
        "print(f\"Training transactions: {train.count():,} rows\")\n",
        "train.printSchema()\n",
        "\n",
        "# Show some statistics\n",
        "train.describe().show()"
      ],
      "metadata": {
        "colab": {
          "base_uri": "https://localhost:8080/"
        },
        "id": "Uxm9hDaAKjDB",
        "outputId": "4316629e-c67b-4a24-f9e4-b35cc0d5ff02"
      },
      "execution_count": 16,
      "outputs": [
        {
          "output_type": "stream",
          "name": "stdout",
          "text": [
            "Training transactions: 1,296,675 rows\n",
            "root\n",
            " |-- _c0: integer (nullable = true)\n",
            " |-- trans_date_trans_time: timestamp (nullable = true)\n",
            " |-- cc_num: long (nullable = true)\n",
            " |-- merchant: string (nullable = true)\n",
            " |-- category: string (nullable = true)\n",
            " |-- amt: double (nullable = true)\n",
            " |-- first: string (nullable = true)\n",
            " |-- last: string (nullable = true)\n",
            " |-- gender: string (nullable = true)\n",
            " |-- street: string (nullable = true)\n",
            " |-- city: string (nullable = true)\n",
            " |-- state: string (nullable = true)\n",
            " |-- zip: integer (nullable = true)\n",
            " |-- lat: double (nullable = true)\n",
            " |-- long: double (nullable = true)\n",
            " |-- city_pop: integer (nullable = true)\n",
            " |-- job: string (nullable = true)\n",
            " |-- dob: date (nullable = true)\n",
            " |-- trans_num: string (nullable = true)\n",
            " |-- unix_time: integer (nullable = true)\n",
            " |-- merch_lat: double (nullable = true)\n",
            " |-- merch_long: double (nullable = true)\n",
            " |-- is_fraud: integer (nullable = true)\n",
            "\n",
            "+-------+-----------------+--------------------+-------------------+-------------+------------------+-------+-------+-------+--------------------+-------+-------+------------------+------------------+------------------+-----------------+------------------+--------------------+--------------------+-----------------+------------------+--------------------+\n",
            "|summary|              _c0|              cc_num|           merchant|     category|               amt|  first|   last| gender|              street|   city|  state|               zip|               lat|              long|         city_pop|               job|           trans_num|           unix_time|        merch_lat|        merch_long|            is_fraud|\n",
            "+-------+-----------------+--------------------+-------------------+-------------+------------------+-------+-------+-------+--------------------+-------+-------+------------------+------------------+------------------+-----------------+------------------+--------------------+--------------------+-----------------+------------------+--------------------+\n",
            "|  count|          1296675|             1296675|            1296675|      1296675|           1296675|1296675|1296675|1296675|             1296675|1296675|1296675|           1296675|           1296675|           1296675|          1296675|           1296675|             1296675|             1296675|          1296675|           1296675|             1296675|\n",
            "|   mean|         648337.0|4.171920420797164...|               NULL|         NULL| 70.35103545607072|   NULL|   NULL|   NULL|                NULL|   NULL|   NULL| 48800.67109722945|38.537621614892025|-90.22633537861584|88824.44056297839|              NULL|            Infinity|1.3492436367261226E9|38.53733804469868| -90.2264647989727|0.005788651743883394|\n",
            "| stddev|374317.9744882685|1.308806447000237...|               NULL|         NULL|160.31603857152723|   NULL|   NULL|   NULL|                NULL|   NULL|   NULL|26893.222476486044| 5.075808438803933|  13.7590769464863|301956.3606887522|              NULL|                 NaN|1.2841278423351506E7|5.109788369679173|13.771090564792438| 0.07586268973125167|\n",
            "|    min|                0|         60416207185|fraud_Abbott-Rogahn|entertainment|               1.0|  Aaron| Abbott|      F|  000 Jennifer Mills|Achille|     AK|              1257|           20.0271|         -165.6723|               23|Academic librarian|00000ecad06b03d3a...|          1325376018|        19.027785|       -166.671242|                   0|\n",
            "|    max|          1296674| 4992346398065154184|   fraud_Zulauf LLC|       travel|           28948.9|Zachary| Zuniga|      M|99736 Rose Shoals...|Zavalla|     WY|             99783|           66.6933|          -67.9503|          2906700|            Writer|ffffef9d89e7d02d8...|          1371816817|        67.510267|        -66.950902|                   1|\n",
            "+-------+-----------------+--------------------+-------------------+-------------+------------------+-------+-------+-------+--------------------+-------+-------+------------------+------------------+------------------+-----------------+------------------+--------------------+--------------------+-----------------+------------------+--------------------+\n",
            "\n"
          ]
        }
      ]
    },
    {
      "cell_type": "code",
      "source": [
        "test.describe().show()"
      ],
      "metadata": {
        "colab": {
          "base_uri": "https://localhost:8080/"
        },
        "id": "MPcQ3b6FXd1s",
        "outputId": "e813772b-6a31-4f05-86b1-68fb0686fb2e"
      },
      "execution_count": 17,
      "outputs": [
        {
          "output_type": "stream",
          "name": "stdout",
          "text": [
            "+-------+-----------------+--------------------+-------------------+-------------+-----------------+-------+------+------+--------------------+-------+------+------------------+-----------------+------------------+------------------+------------------+--------------------+--------------------+-----------------+------------------+--------------------+\n",
            "|summary|              _c0|              cc_num|           merchant|     category|              amt|  first|  last|gender|              street|   city| state|               zip|              lat|              long|          city_pop|               job|           trans_num|           unix_time|        merch_lat|        merch_long|            is_fraud|\n",
            "+-------+-----------------+--------------------+-------------------+-------------+-----------------+-------+------+------+--------------------+-------+------+------------------+-----------------+------------------+------------------+------------------+--------------------+--------------------+-----------------+------------------+--------------------+\n",
            "|  count|           555719|              555719|             555719|       555719|           555719| 555719|555719|555719|              555719| 555719|555719|            555719|           555719|            555719|            555719|            555719|              555719|              555719|           555719|            555719|              555719|\n",
            "|   mean|         277859.0|4.178386955287419...|               NULL|         NULL|69.39281023322941|   NULL|  NULL|  NULL|                NULL|   NULL|  NULL| 48842.62801523792|38.54325282130182|-90.23132507833415| 88221.88791817447|              NULL|            Infinity|1.3806788651667802E9|38.54279777803996|-90.23138049244781|0.003859864427885...|\n",
            "| stddev|160422.4014593972|1.309836622980619...|               NULL|         NULL|156.7459413553154|   NULL|  NULL|  NULL|                NULL|   NULL|  NULL|26855.283327564237| 5.06133621110735|13.721779747818573|300390.89206099225|              NULL|                 NaN|   5201104.065894846|5.095829265179988|13.733070748105092| 0.06200784461178418|\n",
            "|    min|                0|         60416207185|fraud_Abbott-Rogahn|entertainment|              1.0|  Aaron|Abbott|     F|  000 Jennifer Mills|Achille|    AK|              1257|          20.0271|         -165.6723|                23|Academic librarian|00005fc67bb45d987...|          1371816865|        19.027422|       -166.671575|                   0|\n",
            "|    max|           555718| 4992346398065154184|   fraud_Zulauf LLC|       travel|         22768.11|Zachary|Zuniga|     M|99736 Rose Shoals...|Zavalla|    WY|             99921|          65.6899|          -67.9503|           2906700|            Writer|ffffc1df97a828ae4...|          1388534374|66.67929699999999|        -66.952026|                   1|\n",
            "+-------+-----------------+--------------------+-------------------+-------------+-----------------+-------+------+------+--------------------+-------+------+------------------+-----------------+------------------+------------------+------------------+--------------------+--------------------+-----------------+------------------+--------------------+\n",
            "\n"
          ]
        }
      ]
    }
  ]
}